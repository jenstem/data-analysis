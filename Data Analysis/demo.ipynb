{
 "cells": [
  {
   "cell_type": "code",
   "execution_count": 2,
   "id": "249a8bab-8eea-4999-b694-07d63aa63941",
   "metadata": {},
   "outputs": [
    {
     "data": {
      "text/plain": [
       "array([1, 2, 3, 4, 5])"
      ]
     },
     "execution_count": 2,
     "metadata": {},
     "output_type": "execute_result"
    }
   ],
   "source": [
    "# import numpy\n",
    "import numpy as np\n",
    "# numpy array - need to pass in python list\n",
    "arr = np.array([1,2,3,4,5])\n",
    "# display output\n",
    "arr"
   ]
  },
  {
   "cell_type": "code",
   "execution_count": 3,
   "id": "2ff79401-6298-4602-b597-d1dce97fbe87",
   "metadata": {},
   "outputs": [
    {
     "data": {
      "text/plain": [
       "array([10, 20, 30, 40])"
      ]
     },
     "execution_count": 3,
     "metadata": {},
     "output_type": "execute_result"
    }
   ],
   "source": [
    "prices = [10,20,30,40]\n",
    "prices_array = np.array(prices)\n",
    "prices_array"
   ]
  },
  {
   "cell_type": "code",
   "execution_count": 4,
   "id": "ffa2708b-345a-4182-aec2-8d22fd73d0d3",
   "metadata": {},
   "outputs": [
    {
     "data": {
      "text/plain": [
       "array(['John', 'Matt', 'Rob'], dtype='<U4')"
      ]
     },
     "execution_count": 4,
     "metadata": {},
     "output_type": "execute_result"
    }
   ],
   "source": [
    "names = ['John', 'Matt', 'Rob']\n",
    "names_array = np.array(names)\n",
    "names_array"
   ]
  },
  {
   "cell_type": "code",
   "execution_count": 5,
   "id": "2224ffff-1ce7-4919-a11c-f920dba464a2",
   "metadata": {},
   "outputs": [
    {
     "data": {
      "text/plain": [
       "'John'"
      ]
     },
     "execution_count": 5,
     "metadata": {},
     "output_type": "execute_result"
    }
   ],
   "source": [
    "names_array[0]"
   ]
  },
  {
   "cell_type": "code",
   "execution_count": 6,
   "id": "70416611-4d80-406d-8f06-08c2a644a0cb",
   "metadata": {},
   "outputs": [
    {
     "data": {
      "text/plain": [
       "array([[1, 2, 3],\n",
       "       [4, 5, 6]])"
      ]
     },
     "execution_count": 6,
     "metadata": {},
     "output_type": "execute_result"
    }
   ],
   "source": [
    "multi_array = np.array([[1,2,3],[4,5,6]])\n",
    "multi_array"
   ]
  },
  {
   "cell_type": "code",
   "execution_count": 9,
   "id": "850e9408-406c-4783-8552-3316592e3cc9",
   "metadata": {},
   "outputs": [
    {
     "data": {
      "text/plain": [
       "6"
      ]
     },
     "execution_count": 9,
     "metadata": {},
     "output_type": "execute_result"
    }
   ],
   "source": [
    "multi_array[1][2]"
   ]
  },
  {
   "cell_type": "code",
   "execution_count": 10,
   "id": "50b18a56-987f-4fbb-b7b5-f2ee3132b669",
   "metadata": {},
   "outputs": [
    {
     "data": {
      "text/plain": [
       "2"
      ]
     },
     "execution_count": 10,
     "metadata": {},
     "output_type": "execute_result"
    }
   ],
   "source": [
    "multi_array.ndim"
   ]
  },
  {
   "cell_type": "code",
   "execution_count": 11,
   "id": "839f73c3-73f1-4c3d-92d9-26625b738aed",
   "metadata": {},
   "outputs": [
    {
     "data": {
      "text/plain": [
       "1"
      ]
     },
     "execution_count": 11,
     "metadata": {},
     "output_type": "execute_result"
    }
   ],
   "source": [
    "names_array.ndim"
   ]
  },
  {
   "cell_type": "code",
   "execution_count": 13,
   "id": "6c37f68c-8f1e-4f2f-8342-0dc9814e7cc5",
   "metadata": {},
   "outputs": [
    {
     "data": {
      "text/plain": [
       "dtype('<U4')"
      ]
     },
     "execution_count": 13,
     "metadata": {},
     "output_type": "execute_result"
    }
   ],
   "source": [
    "names_array.dtype"
   ]
  },
  {
   "cell_type": "code",
   "execution_count": 1,
   "id": "918295c5-d1d1-48d4-b93a-7b68f3b12a19",
   "metadata": {},
   "outputs": [
    {
     "ename": "NameError",
     "evalue": "name 'np' is not defined",
     "output_type": "error",
     "traceback": [
      "\u001b[0;31m---------------------------------------------------------------------------\u001b[0m",
      "\u001b[0;31mNameError\u001b[0m                                 Traceback (most recent call last)",
      "Cell \u001b[0;32mIn[1], line 1\u001b[0m\n\u001b[0;32m----> 1\u001b[0m auto_array \u001b[38;5;241m=\u001b[39m \u001b[43mnp\u001b[49m\u001b[38;5;241m.\u001b[39mzeros(\u001b[38;5;241m10\u001b[39m)\n\u001b[1;32m      2\u001b[0m auto_array\n",
      "\u001b[0;31mNameError\u001b[0m: name 'np' is not defined"
     ]
    }
   ],
   "source": [
    "auto_array = np.zeros(10)\n",
    "auto_array"
   ]
  },
  {
   "cell_type": "code",
   "execution_count": 2,
   "id": "13f74aed-ea2f-4d41-93df-0cb6a296d604",
   "metadata": {},
   "outputs": [
    {
     "data": {
      "text/plain": [
       "array([0., 0., 0., 0., 0., 0., 0., 0., 0., 0.])"
      ]
     },
     "execution_count": 2,
     "metadata": {},
     "output_type": "execute_result"
    }
   ],
   "source": [
    "import numpy as np\n",
    "auto_array = np.zeros(10)\n",
    "auto_array"
   ]
  },
  {
   "cell_type": "code",
   "execution_count": 3,
   "id": "275b7143-00c5-419c-995a-2f9f8678373d",
   "metadata": {},
   "outputs": [
    {
     "data": {
      "text/plain": [
       "dtype('float64')"
      ]
     },
     "execution_count": 3,
     "metadata": {},
     "output_type": "execute_result"
    }
   ],
   "source": [
    "auto_array.dtype"
   ]
  },
  {
   "cell_type": "code",
   "execution_count": 4,
   "id": "67d5db75-1bbd-47d5-bddf-92cb480cbeec",
   "metadata": {},
   "outputs": [
    {
     "data": {
      "text/plain": [
       "array([0, 0, 0, 0, 0, 0, 0, 0, 0, 0])"
      ]
     },
     "execution_count": 4,
     "metadata": {},
     "output_type": "execute_result"
    }
   ],
   "source": [
    "auto_array.astype(np.int64)"
   ]
  },
  {
   "cell_type": "code",
   "execution_count": 6,
   "id": "9cad3085-9e8a-49ec-a1fe-7128364116cd",
   "metadata": {},
   "outputs": [],
   "source": [
    "auto_array = auto_array.astype(np.int64)"
   ]
  },
  {
   "cell_type": "code",
   "execution_count": 7,
   "id": "38443997-c1ea-4860-a364-56cb3882394c",
   "metadata": {},
   "outputs": [
    {
     "data": {
      "text/plain": [
       "array([0, 0, 0, 0, 0, 0, 0, 0, 0, 0])"
      ]
     },
     "execution_count": 7,
     "metadata": {},
     "output_type": "execute_result"
    }
   ],
   "source": [
    "auto_array = auto_array.astype(np.int64)\n",
    "auto_array"
   ]
  },
  {
   "cell_type": "code",
   "execution_count": 8,
   "id": "c2f78c09-6b38-4d7b-9510-ef4fb8638478",
   "metadata": {},
   "outputs": [
    {
     "data": {
      "text/plain": [
       "array([1., 2., 3., 4.])"
      ]
     },
     "execution_count": 8,
     "metadata": {},
     "output_type": "execute_result"
    }
   ],
   "source": [
    "array = np.array([1,2,3,4], dtype=np.float64)\n",
    "array"
   ]
  },
  {
   "cell_type": "code",
   "execution_count": 9,
   "id": "adc121df-7638-46d1-9db1-e6545ba6847a",
   "metadata": {},
   "outputs": [
    {
     "data": {
      "text/plain": [
       "array([1, 2, 3, 4], dtype=int32)"
      ]
     },
     "execution_count": 9,
     "metadata": {},
     "output_type": "execute_result"
    }
   ],
   "source": [
    "array = np.array([1,2,3,4], dtype='i')\n",
    "array"
   ]
  },
  {
   "cell_type": "code",
   "execution_count": 10,
   "id": "fddb9673-3c81-4188-b3ce-ae7eddf20ed3",
   "metadata": {},
   "outputs": [
    {
     "data": {
      "text/plain": [
       "dtype('int32')"
      ]
     },
     "execution_count": 10,
     "metadata": {},
     "output_type": "execute_result"
    }
   ],
   "source": [
    "array.dtype"
   ]
  },
  {
   "cell_type": "code",
   "execution_count": 11,
   "id": "7f817125-c968-4fff-90dd-9132885c003b",
   "metadata": {},
   "outputs": [
    {
     "data": {
      "text/plain": [
       "dtype('int8')"
      ]
     },
     "execution_count": 11,
     "metadata": {},
     "output_type": "execute_result"
    }
   ],
   "source": [
    "array = np.array([1,2,3,4], dtype='b')\n",
    "array\n",
    "array.dtype"
   ]
  },
  {
   "cell_type": "code",
   "execution_count": 12,
   "id": "402b72b8-4bd9-4a5e-8659-bfb81a281e6d",
   "metadata": {},
   "outputs": [
    {
     "ename": "TypeError",
     "evalue": "data type 'u' not understood",
     "output_type": "error",
     "traceback": [
      "\u001b[0;31m---------------------------------------------------------------------------\u001b[0m",
      "\u001b[0;31mTypeError\u001b[0m                                 Traceback (most recent call last)",
      "Cell \u001b[0;32mIn[12], line 1\u001b[0m\n\u001b[0;32m----> 1\u001b[0m array \u001b[38;5;241m=\u001b[39m \u001b[43mnp\u001b[49m\u001b[38;5;241;43m.\u001b[39;49m\u001b[43marray\u001b[49m\u001b[43m(\u001b[49m\u001b[43m[\u001b[49m\u001b[38;5;241;43m1\u001b[39;49m\u001b[43m,\u001b[49m\u001b[38;5;241;43m2\u001b[39;49m\u001b[43m,\u001b[49m\u001b[38;5;241;43m3\u001b[39;49m\u001b[43m,\u001b[49m\u001b[38;5;241;43m4\u001b[39;49m\u001b[43m]\u001b[49m\u001b[43m,\u001b[49m\u001b[43m \u001b[49m\u001b[43mdtype\u001b[49m\u001b[38;5;241;43m=\u001b[39;49m\u001b[38;5;124;43m'\u001b[39;49m\u001b[38;5;124;43mu\u001b[39;49m\u001b[38;5;124;43m'\u001b[39;49m\u001b[43m)\u001b[49m\n\u001b[1;32m      2\u001b[0m array\n\u001b[1;32m      3\u001b[0m array\u001b[38;5;241m.\u001b[39mdtype\n",
      "\u001b[0;31mTypeError\u001b[0m: data type 'u' not understood"
     ]
    }
   ],
   "source": [
    "array = np.array([1,2,3,4], dtype='u')\n",
    "array\n",
    "array.dtype"
   ]
  },
  {
   "cell_type": "code",
   "execution_count": 13,
   "id": "f6b50b29-7702-4a0e-ab42-5ac4d7fdabd8",
   "metadata": {},
   "outputs": [
    {
     "data": {
      "text/plain": [
       "dtype('float32')"
      ]
     },
     "execution_count": 13,
     "metadata": {},
     "output_type": "execute_result"
    }
   ],
   "source": [
    "array = np.array([1,2,3,4], dtype='f')\n",
    "array\n",
    "array.dtype"
   ]
  },
  {
   "cell_type": "code",
   "execution_count": 14,
   "id": "10aaa719-be59-4c54-9d1b-32b18488b88b",
   "metadata": {},
   "outputs": [
    {
     "data": {
      "text/plain": [
       "dtype('S1')"
      ]
     },
     "execution_count": 14,
     "metadata": {},
     "output_type": "execute_result"
    }
   ],
   "source": [
    "array = np.array([1,2,3,4], dtype='c')\n",
    "array\n",
    "array.dtype"
   ]
  },
  {
   "cell_type": "code",
   "execution_count": 15,
   "id": "e7fa6d3b-1551-483f-a422-88b973612c05",
   "metadata": {},
   "outputs": [
    {
     "data": {
      "text/plain": [
       "dtype('<m8')"
      ]
     },
     "execution_count": 15,
     "metadata": {},
     "output_type": "execute_result"
    }
   ],
   "source": [
    "array = np.array([1,2,3,4], dtype='m')\n",
    "array\n",
    "array.dtype"
   ]
  },
  {
   "cell_type": "code",
   "execution_count": 16,
   "id": "8873fd0a-0ab5-4609-87f3-6ae59db3002a",
   "metadata": {},
   "outputs": [
    {
     "ename": "ValueError",
     "evalue": "Converting an integer to a NumPy datetime requires a specified unit",
     "output_type": "error",
     "traceback": [
      "\u001b[0;31m---------------------------------------------------------------------------\u001b[0m",
      "\u001b[0;31mValueError\u001b[0m                                Traceback (most recent call last)",
      "Cell \u001b[0;32mIn[16], line 1\u001b[0m\n\u001b[0;32m----> 1\u001b[0m array \u001b[38;5;241m=\u001b[39m \u001b[43mnp\u001b[49m\u001b[38;5;241;43m.\u001b[39;49m\u001b[43marray\u001b[49m\u001b[43m(\u001b[49m\u001b[43m[\u001b[49m\u001b[38;5;241;43m1\u001b[39;49m\u001b[43m,\u001b[49m\u001b[38;5;241;43m2\u001b[39;49m\u001b[43m,\u001b[49m\u001b[38;5;241;43m3\u001b[39;49m\u001b[43m,\u001b[49m\u001b[38;5;241;43m4\u001b[39;49m\u001b[43m]\u001b[49m\u001b[43m,\u001b[49m\u001b[43m \u001b[49m\u001b[43mdtype\u001b[49m\u001b[38;5;241;43m=\u001b[39;49m\u001b[38;5;124;43m'\u001b[39;49m\u001b[38;5;124;43mM\u001b[39;49m\u001b[38;5;124;43m'\u001b[39;49m\u001b[43m)\u001b[49m\n\u001b[1;32m      2\u001b[0m array\n\u001b[1;32m      3\u001b[0m array\u001b[38;5;241m.\u001b[39mdtype\n",
      "\u001b[0;31mValueError\u001b[0m: Converting an integer to a NumPy datetime requires a specified unit"
     ]
    }
   ],
   "source": [
    "array = np.array([1,2,3,4], dtype='M')\n",
    "array\n",
    "array.dtype"
   ]
  },
  {
   "cell_type": "code",
   "execution_count": 17,
   "id": "65d7ae81-1689-48c8-abc0-e9f0460c0fb5",
   "metadata": {},
   "outputs": [
    {
     "data": {
      "text/plain": [
       "dtype('O')"
      ]
     },
     "execution_count": 17,
     "metadata": {},
     "output_type": "execute_result"
    }
   ],
   "source": [
    "array = np.array([1,2,3,4], dtype='O')\n",
    "array\n",
    "array.dtype"
   ]
  },
  {
   "cell_type": "code",
   "execution_count": 18,
   "id": "372a437b-02a7-4b92-983e-f35692b3297b",
   "metadata": {},
   "outputs": [
    {
     "data": {
      "text/plain": [
       "dtype('S1')"
      ]
     },
     "execution_count": 18,
     "metadata": {},
     "output_type": "execute_result"
    }
   ],
   "source": [
    "array = np.array([1,2,3,4], dtype='S')\n",
    "array\n",
    "array.dtype"
   ]
  },
  {
   "cell_type": "code",
   "execution_count": 19,
   "id": "5f434a6f-b4b5-4c1b-b791-875b611fe0f5",
   "metadata": {},
   "outputs": [
    {
     "data": {
      "text/plain": [
       "dtype('<U1')"
      ]
     },
     "execution_count": 19,
     "metadata": {},
     "output_type": "execute_result"
    }
   ],
   "source": [
    "array = np.array([1,2,3,4], dtype='U')\n",
    "array\n",
    "array.dtype"
   ]
  },
  {
   "cell_type": "code",
   "execution_count": 20,
   "id": "a4381eb9-762c-439a-a7a6-8dd2248355f3",
   "metadata": {},
   "outputs": [
    {
     "ename": "TypeError",
     "evalue": "A bytes-like object is required, not 'int'",
     "output_type": "error",
     "traceback": [
      "\u001b[0;31m---------------------------------------------------------------------------\u001b[0m",
      "\u001b[0;31mTypeError\u001b[0m                                 Traceback (most recent call last)",
      "Cell \u001b[0;32mIn[20], line 1\u001b[0m\n\u001b[0;32m----> 1\u001b[0m array \u001b[38;5;241m=\u001b[39m \u001b[43mnp\u001b[49m\u001b[38;5;241;43m.\u001b[39;49m\u001b[43marray\u001b[49m\u001b[43m(\u001b[49m\u001b[43m[\u001b[49m\u001b[38;5;241;43m1\u001b[39;49m\u001b[43m,\u001b[49m\u001b[38;5;241;43m2\u001b[39;49m\u001b[43m,\u001b[49m\u001b[38;5;241;43m3\u001b[39;49m\u001b[43m,\u001b[49m\u001b[38;5;241;43m4\u001b[39;49m\u001b[43m]\u001b[49m\u001b[43m,\u001b[49m\u001b[43m \u001b[49m\u001b[43mdtype\u001b[49m\u001b[38;5;241;43m=\u001b[39;49m\u001b[38;5;124;43m'\u001b[39;49m\u001b[38;5;124;43mV\u001b[39;49m\u001b[38;5;124;43m'\u001b[39;49m\u001b[43m)\u001b[49m\n\u001b[1;32m      2\u001b[0m array\n\u001b[1;32m      3\u001b[0m array\u001b[38;5;241m.\u001b[39mdtype\n",
      "\u001b[0;31mTypeError\u001b[0m: A bytes-like object is required, not 'int'"
     ]
    }
   ],
   "source": [
    "array = np.array([1,2,3,4], dtype='V')\n",
    "array\n",
    "array.dtype"
   ]
  },
  {
   "cell_type": "code",
   "execution_count": 21,
   "id": "e61cc97a-b1d7-4d56-87d8-44ba8fbf17de",
   "metadata": {},
   "outputs": [
    {
     "data": {
      "text/plain": [
       "array([b'1', b'2', b'3', b'4'], dtype='|S1')"
      ]
     },
     "execution_count": 21,
     "metadata": {},
     "output_type": "execute_result"
    }
   ],
   "source": [
    "array = np.array([1,2,3,4], dtype='S')\n",
    "array"
   ]
  },
  {
   "cell_type": "code",
   "execution_count": 22,
   "id": "02ee1091-59e4-4e7e-8e18-668670452baa",
   "metadata": {},
   "outputs": [
    {
     "data": {
      "text/plain": [
       "dtype('float64')"
      ]
     },
     "execution_count": 22,
     "metadata": {},
     "output_type": "execute_result"
    }
   ],
   "source": [
    "array = np.array([1,2,3,4], dtype=np.float64)\n",
    "array\n",
    "array.dtype"
   ]
  },
  {
   "cell_type": "code",
   "execution_count": 23,
   "id": "fc295a9d-e26e-4535-bd63-f6ef300c229e",
   "metadata": {},
   "outputs": [
    {
     "data": {
      "text/plain": [
       "array([[1, 2, 3],\n",
       "       [4, 5, 6]])"
      ]
     },
     "execution_count": 23,
     "metadata": {},
     "output_type": "execute_result"
    }
   ],
   "source": [
    "listA = [[1,2,3], [4,5,6]]\n",
    "listB = [[7,8,9], [10,11,12]]\n",
    "arrayA = np.array(listA)\n",
    "arrayB = np.array(listB)\n",
    "arrayA"
   ]
  },
  {
   "cell_type": "code",
   "execution_count": 24,
   "id": "e4804cd0-d163-449d-9124-3371d019975a",
   "metadata": {},
   "outputs": [
    {
     "data": {
      "text/plain": [
       "array([[ 7,  8,  9],\n",
       "       [10, 11, 12]])"
      ]
     },
     "execution_count": 24,
     "metadata": {},
     "output_type": "execute_result"
    }
   ],
   "source": [
    "arrayB"
   ]
  },
  {
   "cell_type": "code",
   "execution_count": 25,
   "id": "4a13bee3-ba44-4991-8ae2-671d862a140d",
   "metadata": {},
   "outputs": [
    {
     "data": {
      "text/plain": [
       "array([[ 8, 10, 12],\n",
       "       [14, 16, 18]])"
      ]
     },
     "execution_count": 25,
     "metadata": {},
     "output_type": "execute_result"
    }
   ],
   "source": [
    "arrayA + arrayB"
   ]
  },
  {
   "cell_type": "code",
   "execution_count": 26,
   "id": "1e297a03-f0c2-48d9-8f5d-b4a6a7fb2551",
   "metadata": {},
   "outputs": [
    {
     "data": {
      "text/plain": [
       "array([[6, 6, 6],\n",
       "       [6, 6, 6]])"
      ]
     },
     "execution_count": 26,
     "metadata": {},
     "output_type": "execute_result"
    }
   ],
   "source": [
    "arrayB - arrayA"
   ]
  },
  {
   "cell_type": "code",
   "execution_count": 27,
   "id": "c23115a4-3855-419e-9c35-fbd9bfe1daae",
   "metadata": {},
   "outputs": [
    {
     "data": {
      "text/plain": [
       "array([[ 2,  4,  6],\n",
       "       [ 8, 10, 12]])"
      ]
     },
     "execution_count": 27,
     "metadata": {},
     "output_type": "execute_result"
    }
   ],
   "source": [
    "arrayA * 2"
   ]
  },
  {
   "cell_type": "code",
   "execution_count": 28,
   "id": "b332fc06-e9a8-44d4-ae77-4bea5773a232",
   "metadata": {},
   "outputs": [
    {
     "data": {
      "text/plain": [
       "array([[0.7, 0.8, 0.9],\n",
       "       [1. , 1.1, 1.2]])"
      ]
     },
     "execution_count": 28,
     "metadata": {},
     "output_type": "execute_result"
    }
   ],
   "source": [
    "arrayB / 10"
   ]
  },
  {
   "cell_type": "code",
   "execution_count": 29,
   "id": "e7fbf64d-81b6-4136-bc70-be53d9d5df44",
   "metadata": {},
   "outputs": [
    {
     "data": {
      "text/plain": [
       "array([[ 7, 16, 27],\n",
       "       [40, 55, 72]])"
      ]
     },
     "execution_count": 29,
     "metadata": {},
     "output_type": "execute_result"
    }
   ],
   "source": [
    "arrayA * arrayB"
   ]
  },
  {
   "cell_type": "code",
   "execution_count": 30,
   "id": "f4ac774a-7430-45e1-9a2a-9622aa3f898c",
   "metadata": {},
   "outputs": [
    {
     "data": {
      "text/plain": [
       "array([[7. , 4. , 3. ],\n",
       "       [2.5, 2.2, 2. ]])"
      ]
     },
     "execution_count": 30,
     "metadata": {},
     "output_type": "execute_result"
    }
   ],
   "source": [
    "arrayB / arrayA"
   ]
  },
  {
   "cell_type": "code",
   "execution_count": 31,
   "id": "266cfdcf-1f4c-4348-b5db-027572dc1c76",
   "metadata": {},
   "outputs": [
    {
     "data": {
      "text/plain": [
       "array([[ 49,  64,  81],\n",
       "       [100, 121, 144]])"
      ]
     },
     "execution_count": 31,
     "metadata": {},
     "output_type": "execute_result"
    }
   ],
   "source": [
    "arrayB ** 2"
   ]
  },
  {
   "cell_type": "code",
   "execution_count": 32,
   "id": "b9b9f8a6-f2fa-4e59-9f5a-4b69aca7d9d7",
   "metadata": {},
   "outputs": [
    {
     "data": {
      "text/plain": [
       "array([[False, False, False],\n",
       "       [False, False, False]])"
      ]
     },
     "execution_count": 32,
     "metadata": {},
     "output_type": "execute_result"
    }
   ],
   "source": [
    "arrayA > arrayB"
   ]
  },
  {
   "cell_type": "code",
   "execution_count": 33,
   "id": "70b396f8-d7cb-4c0b-9974-016cc5bc487f",
   "metadata": {},
   "outputs": [
    {
     "data": {
      "text/plain": [
       "array([[ True,  True,  True],\n",
       "       [ True,  True,  True]])"
      ]
     },
     "execution_count": 33,
     "metadata": {},
     "output_type": "execute_result"
    }
   ],
   "source": [
    "arrayA < arrayB"
   ]
  },
  {
   "cell_type": "code",
   "execution_count": 34,
   "id": "8092736e-42d4-4b18-a7f1-60a2f7fe3784",
   "metadata": {},
   "outputs": [
    {
     "data": {
      "text/plain": [
       "array([10, 20, 30, 40, 50])"
      ]
     },
     "execution_count": 34,
     "metadata": {},
     "output_type": "execute_result"
    }
   ],
   "source": [
    "import numpy as np\n",
    "arr = np.array([10,20,30,40,50])\n",
    "arr"
   ]
  },
  {
   "cell_type": "code",
   "execution_count": 35,
   "id": "0e87c7a5-bb97-4d3d-959e-a1c9e8d5d89b",
   "metadata": {},
   "outputs": [
    {
     "data": {
      "text/plain": [
       "10"
      ]
     },
     "execution_count": 35,
     "metadata": {},
     "output_type": "execute_result"
    }
   ],
   "source": [
    "arr[0]"
   ]
  },
  {
   "cell_type": "code",
   "execution_count": 36,
   "id": "cd97918f-895d-42ce-83ee-672061055647",
   "metadata": {},
   "outputs": [
    {
     "data": {
      "text/plain": [
       "40"
      ]
     },
     "execution_count": 36,
     "metadata": {},
     "output_type": "execute_result"
    }
   ],
   "source": [
    "arr[3]"
   ]
  },
  {
   "cell_type": "code",
   "execution_count": 37,
   "id": "c3119a1a-dc82-410a-979c-01683efc76e2",
   "metadata": {},
   "outputs": [
    {
     "ename": "TypeError",
     "evalue": "Field elements must be 2- or 3-tuples, got '4'",
     "output_type": "error",
     "traceback": [
      "\u001b[0;31m---------------------------------------------------------------------------\u001b[0m",
      "\u001b[0;31mTypeError\u001b[0m                                 Traceback (most recent call last)",
      "Cell \u001b[0;32mIn[37], line 1\u001b[0m\n\u001b[0;32m----> 1\u001b[0m arr \u001b[38;5;241m=\u001b[39m \u001b[43mnp\u001b[49m\u001b[38;5;241;43m.\u001b[39;49m\u001b[43marray\u001b[49m\u001b[43m(\u001b[49m\u001b[43m[\u001b[49m\u001b[38;5;241;43m1\u001b[39;49m\u001b[43m,\u001b[49m\u001b[38;5;241;43m2\u001b[39;49m\u001b[43m,\u001b[49m\u001b[38;5;241;43m3\u001b[39;49m\u001b[43m]\u001b[49m\u001b[43m,\u001b[49m\u001b[43m[\u001b[49m\u001b[38;5;241;43m4\u001b[39;49m\u001b[43m,\u001b[49m\u001b[38;5;241;43m5\u001b[39;49m\u001b[43m,\u001b[49m\u001b[38;5;241;43m6\u001b[39;49m\u001b[43m]\u001b[49m\u001b[43m)\u001b[49m\n\u001b[1;32m      2\u001b[0m arr\n",
      "\u001b[0;31mTypeError\u001b[0m: Field elements must be 2- or 3-tuples, got '4'"
     ]
    }
   ],
   "source": [
    "arr = np.array([1,2,3],[4,5,6])\n",
    "arr"
   ]
  },
  {
   "cell_type": "code",
   "execution_count": 38,
   "id": "c3be09bb-bebd-45d3-8638-bdc3016a00ec",
   "metadata": {},
   "outputs": [
    {
     "data": {
      "text/plain": [
       "array([[1, 2, 3],\n",
       "       [4, 5, 6]])"
      ]
     },
     "execution_count": 38,
     "metadata": {},
     "output_type": "execute_result"
    }
   ],
   "source": [
    "arr = np.array([[1,2,3],[4,5,6]])\n",
    "arr"
   ]
  },
  {
   "cell_type": "code",
   "execution_count": 39,
   "id": "d78d5e00-485a-462e-a2a7-658af001e057",
   "metadata": {},
   "outputs": [
    {
     "data": {
      "text/plain": [
       "6"
      ]
     },
     "execution_count": 39,
     "metadata": {},
     "output_type": "execute_result"
    }
   ],
   "source": [
    "arr[1][2]"
   ]
  },
  {
   "cell_type": "code",
   "execution_count": 40,
   "id": "f6400fc4-cc37-4bec-a18d-efbcd6a70d58",
   "metadata": {},
   "outputs": [
    {
     "data": {
      "text/plain": [
       "6"
      ]
     },
     "execution_count": 40,
     "metadata": {},
     "output_type": "execute_result"
    }
   ],
   "source": [
    "arr[1,2]"
   ]
  },
  {
   "cell_type": "code",
   "execution_count": 41,
   "id": "dc5dce11-5fa0-4aa9-a510-170493160663",
   "metadata": {},
   "outputs": [
    {
     "data": {
      "text/plain": [
       "array([10, 20, 30, 40, 50, 60, 70])"
      ]
     },
     "execution_count": 41,
     "metadata": {},
     "output_type": "execute_result"
    }
   ],
   "source": [
    "arr = np.array([10,20,30,40,50,60,70])\n",
    "arr"
   ]
  },
  {
   "cell_type": "code",
   "execution_count": 42,
   "id": "ac05a877-4031-4a1b-a11d-1317ad703bc7",
   "metadata": {},
   "outputs": [
    {
     "data": {
      "text/plain": [
       "array([20, 30, 40, 50])"
      ]
     },
     "execution_count": 42,
     "metadata": {},
     "output_type": "execute_result"
    }
   ],
   "source": [
    "arr[1:5]"
   ]
  },
  {
   "cell_type": "code",
   "execution_count": 44,
   "id": "5c1c7863-171c-4b78-b5ef-103a3a3c4f4c",
   "metadata": {},
   "outputs": [
    {
     "data": {
      "text/plain": [
       "array([[1, 2, 3],\n",
       "       [4, 5, 6],\n",
       "       [7, 8, 9]])"
      ]
     },
     "execution_count": 44,
     "metadata": {},
     "output_type": "execute_result"
    }
   ],
   "source": [
    "arrayM = np.array([[1,2,3],[4,5,6],[7,8,9]])\n",
    "arrayM"
   ]
  },
  {
   "cell_type": "code",
   "execution_count": 45,
   "id": "61177f2c-2fe6-445e-9bf9-92ddbdbba151",
   "metadata": {},
   "outputs": [
    {
     "data": {
      "text/plain": [
       "array([[4, 5, 6]])"
      ]
     },
     "execution_count": 45,
     "metadata": {},
     "output_type": "execute_result"
    }
   ],
   "source": [
    "arrayM[1:2]"
   ]
  },
  {
   "cell_type": "code",
   "execution_count": 46,
   "id": "c9f45cf1-fdff-4f59-83d6-19f3e0db60f4",
   "metadata": {},
   "outputs": [
    {
     "data": {
      "text/plain": [
       "array([[4, 5, 6],\n",
       "       [7, 8, 9]])"
      ]
     },
     "execution_count": 46,
     "metadata": {},
     "output_type": "execute_result"
    }
   ],
   "source": [
    "arrayM[1:3]"
   ]
  },
  {
   "cell_type": "code",
   "execution_count": 47,
   "id": "41045a9e-6e83-4a37-8589-f8c8a8dbfa13",
   "metadata": {},
   "outputs": [
    {
     "data": {
      "text/plain": [
       "array([[5, 6],\n",
       "       [8, 9]])"
      ]
     },
     "execution_count": 47,
     "metadata": {},
     "output_type": "execute_result"
    }
   ],
   "source": [
    "arrayM[1:3, 1:3]"
   ]
  },
  {
   "cell_type": "code",
   "execution_count": 48,
   "id": "b8f487ad-9a6f-4a12-96e6-f0c6102dc0c4",
   "metadata": {},
   "outputs": [
    {
     "data": {
      "text/plain": [
       "array([[1, 2],\n",
       "       [4, 5]])"
      ]
     },
     "execution_count": 48,
     "metadata": {},
     "output_type": "execute_result"
    }
   ],
   "source": [
    "arrayM[0:2, 0:2]"
   ]
  },
  {
   "cell_type": "code",
   "execution_count": 49,
   "id": "4bc6199d-8d94-4323-a272-651bf7e921c8",
   "metadata": {},
   "outputs": [
    {
     "data": {
      "text/plain": [
       "array([[1, 2],\n",
       "       [4, 5]])"
      ]
     },
     "execution_count": 49,
     "metadata": {},
     "output_type": "execute_result"
    }
   ],
   "source": [
    "arrayM[:2, :2]"
   ]
  },
  {
   "cell_type": "code",
   "execution_count": 50,
   "id": "a4c1a3a4-3c78-4db8-9192-0e23ec63fc3d",
   "metadata": {},
   "outputs": [
    {
     "data": {
      "text/plain": [
       "array([[1, 2, 3],\n",
       "       [4, 5, 6],\n",
       "       [7, 8, 9]])"
      ]
     },
     "execution_count": 50,
     "metadata": {},
     "output_type": "execute_result"
    }
   ],
   "source": [
    "arrayM = np.array([[1,2,3],[4,5,6],[7,8,9]])\n",
    "arrayM"
   ]
  },
  {
   "cell_type": "code",
   "execution_count": 51,
   "id": "db520855-eda3-49b2-b7e0-c0eb3a8d372c",
   "metadata": {},
   "outputs": [
    {
     "data": {
      "text/plain": [
       "array([1, 3, 7, 9])"
      ]
     },
     "execution_count": 51,
     "metadata": {},
     "output_type": "execute_result"
    }
   ],
   "source": [
    "arrayM[[0, 0, 2, 2],[0, 2, 0, 2]]"
   ]
  },
  {
   "cell_type": "code",
   "execution_count": 52,
   "id": "81e5e679-bf0d-4331-aefd-093b2b522070",
   "metadata": {},
   "outputs": [
    {
     "data": {
      "text/plain": [
       "array([[1, 2, 3],\n",
       "       [4, 5, 6],\n",
       "       [7, 8, 9]])"
      ]
     },
     "execution_count": 52,
     "metadata": {},
     "output_type": "execute_result"
    }
   ],
   "source": [
    "arrayM"
   ]
  },
  {
   "cell_type": "code",
   "execution_count": 53,
   "id": "e1b07362-c5b3-4999-bc8d-256b71abf6ee",
   "metadata": {},
   "outputs": [
    {
     "data": {
      "text/plain": [
       "array([6, 7, 8, 9])"
      ]
     },
     "execution_count": 53,
     "metadata": {},
     "output_type": "execute_result"
    }
   ],
   "source": [
    "arrayM[arrayM>5]"
   ]
  },
  {
   "cell_type": "code",
   "execution_count": 54,
   "id": "b9ced13c-18ff-4e72-8520-854ed5a3891f",
   "metadata": {},
   "outputs": [
    {
     "data": {
      "text/plain": [
       "array([1, 2, 3, 4, 5, 6])"
      ]
     },
     "execution_count": 54,
     "metadata": {},
     "output_type": "execute_result"
    }
   ],
   "source": [
    "arrayM[arrayM < 7]"
   ]
  },
  {
   "cell_type": "code",
   "execution_count": 1,
   "id": "0c306d52-f098-4824-920c-e0bb5c84d941",
   "metadata": {},
   "outputs": [],
   "source": [
    "import numpy as np"
   ]
  },
  {
   "cell_type": "code",
   "execution_count": 2,
   "id": "92a8d97b-fe2f-462d-85c9-1eaefcbfa26e",
   "metadata": {},
   "outputs": [
    {
     "data": {
      "text/plain": [
       "array([1, 2, 3])"
      ]
     },
     "execution_count": 2,
     "metadata": {},
     "output_type": "execute_result"
    }
   ],
   "source": [
    "arrayA = np.array([[1,2,3],[4,5,6],[7,8,9]])\n",
    "arrayB = np.array([1,2,3])\n",
    "arrayA\n",
    "arrayB"
   ]
  },
  {
   "cell_type": "code",
   "execution_count": 3,
   "id": "08ecff8a-3551-4df5-b0f7-1e4b683eb1f3",
   "metadata": {},
   "outputs": [
    {
     "data": {
      "text/plain": [
       "array([[1, 2, 3],\n",
       "       [4, 5, 6],\n",
       "       [7, 8, 9]])"
      ]
     },
     "execution_count": 3,
     "metadata": {},
     "output_type": "execute_result"
    }
   ],
   "source": [
    "arrayA"
   ]
  },
  {
   "cell_type": "code",
   "execution_count": 4,
   "id": "61e31b68-2732-4a95-a78b-971a4b3f14e3",
   "metadata": {},
   "outputs": [
    {
     "data": {
      "text/plain": [
       "array([[ 2,  4,  6],\n",
       "       [ 5,  7,  9],\n",
       "       [ 8, 10, 12]])"
      ]
     },
     "execution_count": 4,
     "metadata": {},
     "output_type": "execute_result"
    }
   ],
   "source": [
    "arrayA + arrayB"
   ]
  },
  {
   "cell_type": "code",
   "execution_count": 6,
   "id": "d0e6fc0c-aa60-4e4c-9b03-da02542747af",
   "metadata": {},
   "outputs": [
    {
     "data": {
      "text/plain": [
       "0    1\n",
       "1    3\n",
       "2    5\n",
       "3    7\n",
       "4    9\n",
       "dtype: int64"
      ]
     },
     "execution_count": 6,
     "metadata": {},
     "output_type": "execute_result"
    }
   ],
   "source": [
    "from pandas import Series\n",
    "s = Series([1,3,5,7,9])\n",
    "s"
   ]
  },
  {
   "cell_type": "code",
   "execution_count": 7,
   "id": "32ea8a23-991f-4450-9259-37c862c11c41",
   "metadata": {},
   "outputs": [
    {
     "data": {
      "text/plain": [
       "7"
      ]
     },
     "execution_count": 7,
     "metadata": {},
     "output_type": "execute_result"
    }
   ],
   "source": [
    "s[3]"
   ]
  },
  {
   "cell_type": "code",
   "execution_count": 8,
   "id": "6419042a-ea31-43f6-aef2-b95bcf8bb7b9",
   "metadata": {},
   "outputs": [
    {
     "data": {
      "text/plain": [
       "array([1, 3, 5, 7, 9])"
      ]
     },
     "execution_count": 8,
     "metadata": {},
     "output_type": "execute_result"
    }
   ],
   "source": [
    "s.values"
   ]
  },
  {
   "cell_type": "code",
   "execution_count": 9,
   "id": "a22053fd-4037-4120-9320-efb5ba706cee",
   "metadata": {},
   "outputs": [
    {
     "data": {
      "text/plain": [
       "RangeIndex(start=0, stop=5, step=1)"
      ]
     },
     "execution_count": 9,
     "metadata": {},
     "output_type": "execute_result"
    }
   ],
   "source": [
    "s.index"
   ]
  },
  {
   "cell_type": "code",
   "execution_count": 11,
   "id": "c8f5a453-8260-4d65-a78e-491c269ca246",
   "metadata": {},
   "outputs": [
    {
     "data": {
      "text/plain": [
       "5    100\n",
       "2    200\n",
       "3    300\n",
       "dtype: int64"
      ]
     },
     "execution_count": 11,
     "metadata": {},
     "output_type": "execute_result"
    }
   ],
   "source": [
    "s = Series([100,200,300], index=[5,2,3])\n",
    "s"
   ]
  },
  {
   "cell_type": "code",
   "execution_count": 12,
   "id": "4d7ff044-534b-46bb-b7b8-b0415bb7e768",
   "metadata": {},
   "outputs": [
    {
     "data": {
      "text/plain": [
       "a    100\n",
       "b    200\n",
       "c    300\n",
       "dtype: int64"
      ]
     },
     "execution_count": 12,
     "metadata": {},
     "output_type": "execute_result"
    }
   ],
   "source": [
    "s = Series([100,200,300], index=['a','b','c'])\n",
    "s"
   ]
  },
  {
   "cell_type": "code",
   "execution_count": 13,
   "id": "723e661f-767a-4d3a-967f-5aedae0d1084",
   "metadata": {},
   "outputs": [
    {
     "data": {
      "text/plain": [
       "300"
      ]
     },
     "execution_count": 13,
     "metadata": {},
     "output_type": "execute_result"
    }
   ],
   "source": [
    "s['c']"
   ]
  },
  {
   "cell_type": "code",
   "execution_count": 14,
   "id": "c161f5e7-56d0-40f6-b4b6-cdf0c1ac4c5c",
   "metadata": {},
   "outputs": [
    {
     "data": {
      "text/plain": [
       "a     100\n",
       "b     700\n",
       "c    1400\n",
       "dtype: int64"
      ]
     },
     "execution_count": 14,
     "metadata": {},
     "output_type": "execute_result"
    }
   ],
   "source": [
    "s = Series({'a':100, 'b':700, 'c':1400})\n",
    "s"
   ]
  },
  {
   "cell_type": "code",
   "execution_count": 1,
   "id": "bcb68329-d804-4d73-8cd5-b3618b5306e6",
   "metadata": {},
   "outputs": [],
   "source": [
    "import numpy as np\n"
   ]
  },
  {
   "cell_type": "code",
   "execution_count": 3,
   "id": "0252723d-b5bc-4b56-83da-fdbc5b4fc54a",
   "metadata": {},
   "outputs": [
    {
     "data": {
      "text/html": [
       "<div>\n",
       "<style scoped>\n",
       "    .dataframe tbody tr th:only-of-type {\n",
       "        vertical-align: middle;\n",
       "    }\n",
       "\n",
       "    .dataframe tbody tr th {\n",
       "        vertical-align: top;\n",
       "    }\n",
       "\n",
       "    .dataframe thead th {\n",
       "        text-align: right;\n",
       "    }\n",
       "</style>\n",
       "<table border=\"1\" class=\"dataframe\">\n",
       "  <thead>\n",
       "    <tr style=\"text-align: right;\">\n",
       "      <th></th>\n",
       "      <th>name</th>\n",
       "      <th>location</th>\n",
       "      <th>age</th>\n",
       "    </tr>\n",
       "  </thead>\n",
       "  <tbody>\n",
       "    <tr>\n",
       "      <th>0</th>\n",
       "      <td>Jim</td>\n",
       "      <td>US</td>\n",
       "      <td>22</td>\n",
       "    </tr>\n",
       "    <tr>\n",
       "      <th>1</th>\n",
       "      <td>Rob</td>\n",
       "      <td>UK</td>\n",
       "      <td>44</td>\n",
       "    </tr>\n",
       "    <tr>\n",
       "      <th>2</th>\n",
       "      <td>Tom</td>\n",
       "      <td>AUS</td>\n",
       "      <td>55</td>\n",
       "    </tr>\n",
       "  </tbody>\n",
       "</table>\n",
       "</div>"
      ],
      "text/plain": [
       "  name location  age\n",
       "0  Jim       US   22\n",
       "1  Rob       UK   44\n",
       "2  Tom      AUS   55"
      ]
     },
     "execution_count": 3,
     "metadata": {},
     "output_type": "execute_result"
    }
   ],
   "source": [
    "from pandas import DataFrame\n",
    "people = {'name':['Jim', 'Rob', 'Tom'], 'age':[22,44,55], 'location':['US', 'UK', 'AUS']}\n",
    "frame = DataFrame(people, columns=['name', 'location', 'age'])\n",
    "frame"
   ]
  },
  {
   "cell_type": "code",
   "execution_count": 4,
   "id": "a3d86dc0-990a-4632-85c6-d601aba59314",
   "metadata": {},
   "outputs": [
    {
     "data": {
      "text/plain": [
       "0     US\n",
       "1     UK\n",
       "2    AUS\n",
       "Name: location, dtype: object"
      ]
     },
     "execution_count": 4,
     "metadata": {},
     "output_type": "execute_result"
    }
   ],
   "source": [
    "frame['location']"
   ]
  },
  {
   "cell_type": "code",
   "execution_count": 5,
   "id": "30b14524-db00-4e3c-9e7a-1af583d078e2",
   "metadata": {},
   "outputs": [
    {
     "data": {
      "text/plain": [
       "0     US\n",
       "1     UK\n",
       "2    AUS\n",
       "Name: location, dtype: object"
      ]
     },
     "execution_count": 5,
     "metadata": {},
     "output_type": "execute_result"
    }
   ],
   "source": [
    "frame.location"
   ]
  },
  {
   "cell_type": "code",
   "execution_count": 6,
   "id": "fa2cbb29-9ce7-42fa-9210-329e07916c32",
   "metadata": {},
   "outputs": [
    {
     "data": {
      "text/plain": [
       "name        Rob\n",
       "location     UK\n",
       "age          44\n",
       "Name: 1, dtype: object"
      ]
     },
     "execution_count": 6,
     "metadata": {},
     "output_type": "execute_result"
    }
   ],
   "source": [
    "frame.loc[1]"
   ]
  },
  {
   "cell_type": "code",
   "execution_count": 7,
   "id": "89d20db9-1a11-4886-80b0-966d5bcb6dc7",
   "metadata": {},
   "outputs": [
    {
     "data": {
      "text/html": [
       "<div>\n",
       "<style scoped>\n",
       "    .dataframe tbody tr th:only-of-type {\n",
       "        vertical-align: middle;\n",
       "    }\n",
       "\n",
       "    .dataframe tbody tr th {\n",
       "        vertical-align: top;\n",
       "    }\n",
       "\n",
       "    .dataframe thead th {\n",
       "        text-align: right;\n",
       "    }\n",
       "</style>\n",
       "<table border=\"1\" class=\"dataframe\">\n",
       "  <thead>\n",
       "    <tr style=\"text-align: right;\">\n",
       "      <th></th>\n",
       "      <th>name</th>\n",
       "      <th>location</th>\n",
       "      <th>age</th>\n",
       "    </tr>\n",
       "  </thead>\n",
       "  <tbody>\n",
       "    <tr>\n",
       "      <th>0</th>\n",
       "      <td>Jim</td>\n",
       "      <td>US</td>\n",
       "      <td>22</td>\n",
       "    </tr>\n",
       "    <tr>\n",
       "      <th>1</th>\n",
       "      <td>Rob</td>\n",
       "      <td>UK</td>\n",
       "      <td>44</td>\n",
       "    </tr>\n",
       "    <tr>\n",
       "      <th>2</th>\n",
       "      <td>Tom</td>\n",
       "      <td>AUS</td>\n",
       "      <td>55</td>\n",
       "    </tr>\n",
       "  </tbody>\n",
       "</table>\n",
       "</div>"
      ],
      "text/plain": [
       "  name location  age\n",
       "0  Jim       US   22\n",
       "1  Rob       UK   44\n",
       "2  Tom      AUS   55"
      ]
     },
     "execution_count": 7,
     "metadata": {},
     "output_type": "execute_result"
    }
   ],
   "source": [
    "frame"
   ]
  },
  {
   "cell_type": "code",
   "execution_count": null,
   "id": "1c99a7a5-222e-4a6c-b815-1736a2ae3f94",
   "metadata": {},
   "outputs": [],
   "source": []
  },
  {
   "cell_type": "raw",
   "id": "42be3845-29d6-4538-9fd1-8606b2464d38",
   "metadata": {},
   "source": [
    "frame.salary = 5000\n",
    "frame"
   ]
  },
  {
   "cell_type": "code",
   "execution_count": 9,
   "id": "a309cb8d-b17e-4755-a605-f5f160700740",
   "metadata": {},
   "outputs": [
    {
     "data": {
      "text/html": [
       "<div>\n",
       "<style scoped>\n",
       "    .dataframe tbody tr th:only-of-type {\n",
       "        vertical-align: middle;\n",
       "    }\n",
       "\n",
       "    .dataframe tbody tr th {\n",
       "        vertical-align: top;\n",
       "    }\n",
       "\n",
       "    .dataframe thead th {\n",
       "        text-align: right;\n",
       "    }\n",
       "</style>\n",
       "<table border=\"1\" class=\"dataframe\">\n",
       "  <thead>\n",
       "    <tr style=\"text-align: right;\">\n",
       "      <th></th>\n",
       "      <th>name</th>\n",
       "      <th>location</th>\n",
       "      <th>age</th>\n",
       "    </tr>\n",
       "  </thead>\n",
       "  <tbody>\n",
       "    <tr>\n",
       "      <th>0</th>\n",
       "      <td>Jim</td>\n",
       "      <td>US</td>\n",
       "      <td>22</td>\n",
       "    </tr>\n",
       "    <tr>\n",
       "      <th>1</th>\n",
       "      <td>Rob</td>\n",
       "      <td>UK</td>\n",
       "      <td>44</td>\n",
       "    </tr>\n",
       "    <tr>\n",
       "      <th>2</th>\n",
       "      <td>Tom</td>\n",
       "      <td>AUS</td>\n",
       "      <td>55</td>\n",
       "    </tr>\n",
       "  </tbody>\n",
       "</table>\n",
       "</div>"
      ],
      "text/plain": [
       "  name location  age\n",
       "0  Jim       US   22\n",
       "1  Rob       UK   44\n",
       "2  Tom      AUS   55"
      ]
     },
     "execution_count": 9,
     "metadata": {},
     "output_type": "execute_result"
    }
   ],
   "source": [
    "frame"
   ]
  },
  {
   "cell_type": "code",
   "execution_count": 10,
   "id": "e300c974-db1b-4ec7-81bd-a649788fbfaa",
   "metadata": {},
   "outputs": [
    {
     "data": {
      "text/html": [
       "<div>\n",
       "<style scoped>\n",
       "    .dataframe tbody tr th:only-of-type {\n",
       "        vertical-align: middle;\n",
       "    }\n",
       "\n",
       "    .dataframe tbody tr th {\n",
       "        vertical-align: top;\n",
       "    }\n",
       "\n",
       "    .dataframe thead th {\n",
       "        text-align: right;\n",
       "    }\n",
       "</style>\n",
       "<table border=\"1\" class=\"dataframe\">\n",
       "  <thead>\n",
       "    <tr style=\"text-align: right;\">\n",
       "      <th></th>\n",
       "      <th>name</th>\n",
       "      <th>location</th>\n",
       "      <th>age</th>\n",
       "      <th>salary</th>\n",
       "    </tr>\n",
       "  </thead>\n",
       "  <tbody>\n",
       "    <tr>\n",
       "      <th>0</th>\n",
       "      <td>Jim</td>\n",
       "      <td>US</td>\n",
       "      <td>22</td>\n",
       "      <td>NaN</td>\n",
       "    </tr>\n",
       "    <tr>\n",
       "      <th>1</th>\n",
       "      <td>Rob</td>\n",
       "      <td>UK</td>\n",
       "      <td>44</td>\n",
       "      <td>NaN</td>\n",
       "    </tr>\n",
       "    <tr>\n",
       "      <th>2</th>\n",
       "      <td>Tom</td>\n",
       "      <td>AUS</td>\n",
       "      <td>55</td>\n",
       "      <td>NaN</td>\n",
       "    </tr>\n",
       "  </tbody>\n",
       "</table>\n",
       "</div>"
      ],
      "text/plain": [
       "  name location  age salary\n",
       "0  Jim       US   22    NaN\n",
       "1  Rob       UK   44    NaN\n",
       "2  Tom      AUS   55    NaN"
      ]
     },
     "execution_count": 10,
     "metadata": {},
     "output_type": "execute_result"
    }
   ],
   "source": [
    "from pandas import DataFrame\n",
    "people = {'name':['Jim', 'Rob', 'Tom'], 'age':[22,44,55], 'location':['US', 'UK', 'AUS']}\n",
    "frame = DataFrame(people, columns=['name', 'location', 'age', 'salary'])\n",
    "frame"
   ]
  },
  {
   "cell_type": "code",
   "execution_count": 11,
   "id": "7c9363e0-267e-4579-a5f0-03ed688a6d42",
   "metadata": {},
   "outputs": [
    {
     "data": {
      "text/html": [
       "<div>\n",
       "<style scoped>\n",
       "    .dataframe tbody tr th:only-of-type {\n",
       "        vertical-align: middle;\n",
       "    }\n",
       "\n",
       "    .dataframe tbody tr th {\n",
       "        vertical-align: top;\n",
       "    }\n",
       "\n",
       "    .dataframe thead th {\n",
       "        text-align: right;\n",
       "    }\n",
       "</style>\n",
       "<table border=\"1\" class=\"dataframe\">\n",
       "  <thead>\n",
       "    <tr style=\"text-align: right;\">\n",
       "      <th></th>\n",
       "      <th>name</th>\n",
       "      <th>location</th>\n",
       "      <th>age</th>\n",
       "      <th>salary</th>\n",
       "    </tr>\n",
       "  </thead>\n",
       "  <tbody>\n",
       "    <tr>\n",
       "      <th>0</th>\n",
       "      <td>Jim</td>\n",
       "      <td>US</td>\n",
       "      <td>22</td>\n",
       "      <td>5000</td>\n",
       "    </tr>\n",
       "    <tr>\n",
       "      <th>1</th>\n",
       "      <td>Rob</td>\n",
       "      <td>UK</td>\n",
       "      <td>44</td>\n",
       "      <td>5000</td>\n",
       "    </tr>\n",
       "    <tr>\n",
       "      <th>2</th>\n",
       "      <td>Tom</td>\n",
       "      <td>AUS</td>\n",
       "      <td>55</td>\n",
       "      <td>5000</td>\n",
       "    </tr>\n",
       "  </tbody>\n",
       "</table>\n",
       "</div>"
      ],
      "text/plain": [
       "  name location  age  salary\n",
       "0  Jim       US   22    5000\n",
       "1  Rob       UK   44    5000\n",
       "2  Tom      AUS   55    5000"
      ]
     },
     "execution_count": 11,
     "metadata": {},
     "output_type": "execute_result"
    }
   ],
   "source": [
    "frame.salary = 5000\n",
    "frame"
   ]
  },
  {
   "cell_type": "code",
   "execution_count": 15,
   "id": "820b0ae3-70e9-4c3b-974d-fb64fd224e86",
   "metadata": {},
   "outputs": [],
   "source": [
    "from pandas import Series\n",
    "salaries = Series([1000,2000,3000])\n",
    "frame.salary = salaries"
   ]
  },
  {
   "cell_type": "code",
   "execution_count": null,
   "id": "aa6e9b24-62cc-452b-bdf6-47d2878dff23",
   "metadata": {},
   "outputs": [],
   "source": []
  },
  {
   "cell_type": "code",
   "execution_count": 16,
   "id": "544b9a84-a787-436f-aa9b-04ff9ffae026",
   "metadata": {},
   "outputs": [
    {
     "data": {
      "text/html": [
       "<div>\n",
       "<style scoped>\n",
       "    .dataframe tbody tr th:only-of-type {\n",
       "        vertical-align: middle;\n",
       "    }\n",
       "\n",
       "    .dataframe tbody tr th {\n",
       "        vertical-align: top;\n",
       "    }\n",
       "\n",
       "    .dataframe thead th {\n",
       "        text-align: right;\n",
       "    }\n",
       "</style>\n",
       "<table border=\"1\" class=\"dataframe\">\n",
       "  <thead>\n",
       "    <tr style=\"text-align: right;\">\n",
       "      <th></th>\n",
       "      <th>name</th>\n",
       "      <th>location</th>\n",
       "      <th>age</th>\n",
       "      <th>salary</th>\n",
       "    </tr>\n",
       "  </thead>\n",
       "  <tbody>\n",
       "    <tr>\n",
       "      <th>0</th>\n",
       "      <td>Jim</td>\n",
       "      <td>US</td>\n",
       "      <td>22</td>\n",
       "      <td>1000</td>\n",
       "    </tr>\n",
       "    <tr>\n",
       "      <th>1</th>\n",
       "      <td>Rob</td>\n",
       "      <td>UK</td>\n",
       "      <td>44</td>\n",
       "      <td>2000</td>\n",
       "    </tr>\n",
       "    <tr>\n",
       "      <th>2</th>\n",
       "      <td>Tom</td>\n",
       "      <td>AUS</td>\n",
       "      <td>55</td>\n",
       "      <td>3000</td>\n",
       "    </tr>\n",
       "  </tbody>\n",
       "</table>\n",
       "</div>"
      ],
      "text/plain": [
       "  name location  age  salary\n",
       "0  Jim       US   22    1000\n",
       "1  Rob       UK   44    2000\n",
       "2  Tom      AUS   55    3000"
      ]
     },
     "execution_count": 16,
     "metadata": {},
     "output_type": "execute_result"
    }
   ],
   "source": [
    "from pandas import DataFrame\n",
    "from pandas import Series\n",
    "people = {'name':['Jim', 'Rob', 'Tom'], 'age':[22,44,55], 'location':['US', 'UK', 'AUS']}\n",
    "frame = DataFrame(people, columns=['name', 'location', 'age', 'salary'])\n",
    "salaries = Series([1000,2000,3000])\n",
    "frame.salary = salaries\n",
    "frame"
   ]
  },
  {
   "cell_type": "code",
   "execution_count": 17,
   "id": "d1e50454-223e-47ae-ad8e-96f1652cf56a",
   "metadata": {},
   "outputs": [],
   "source": [
    "del frame['salary']"
   ]
  },
  {
   "cell_type": "code",
   "execution_count": 18,
   "id": "9b7a672a-3be2-4696-a6a5-e96cdd5207ff",
   "metadata": {},
   "outputs": [
    {
     "data": {
      "text/html": [
       "<div>\n",
       "<style scoped>\n",
       "    .dataframe tbody tr th:only-of-type {\n",
       "        vertical-align: middle;\n",
       "    }\n",
       "\n",
       "    .dataframe tbody tr th {\n",
       "        vertical-align: top;\n",
       "    }\n",
       "\n",
       "    .dataframe thead th {\n",
       "        text-align: right;\n",
       "    }\n",
       "</style>\n",
       "<table border=\"1\" class=\"dataframe\">\n",
       "  <thead>\n",
       "    <tr style=\"text-align: right;\">\n",
       "      <th></th>\n",
       "      <th>name</th>\n",
       "      <th>location</th>\n",
       "      <th>age</th>\n",
       "    </tr>\n",
       "  </thead>\n",
       "  <tbody>\n",
       "    <tr>\n",
       "      <th>0</th>\n",
       "      <td>Jim</td>\n",
       "      <td>US</td>\n",
       "      <td>22</td>\n",
       "    </tr>\n",
       "    <tr>\n",
       "      <th>1</th>\n",
       "      <td>Rob</td>\n",
       "      <td>UK</td>\n",
       "      <td>44</td>\n",
       "    </tr>\n",
       "    <tr>\n",
       "      <th>2</th>\n",
       "      <td>Tom</td>\n",
       "      <td>AUS</td>\n",
       "      <td>55</td>\n",
       "    </tr>\n",
       "  </tbody>\n",
       "</table>\n",
       "</div>"
      ],
      "text/plain": [
       "  name location  age\n",
       "0  Jim       US   22\n",
       "1  Rob       UK   44\n",
       "2  Tom      AUS   55"
      ]
     },
     "execution_count": 18,
     "metadata": {},
     "output_type": "execute_result"
    }
   ],
   "source": [
    "frame"
   ]
  },
  {
   "cell_type": "code",
   "execution_count": 1,
   "id": "1d8b3480-ab1b-4b39-819f-7a5d11d1e1ad",
   "metadata": {},
   "outputs": [],
   "source": [
    "import numpy as np\n",
    "from pandas import DataFrame\n",
    "from pandas import Series"
   ]
  },
  {
   "cell_type": "code",
   "execution_count": 2,
   "id": "c06ee1a8-d31e-491d-801b-7783403a88db",
   "metadata": {},
   "outputs": [],
   "source": [
    "s = Series([10,20,30,40,50], index=['c','a','d','b','e'])"
   ]
  },
  {
   "cell_type": "code",
   "execution_count": 3,
   "id": "a56c663f-ad4e-477b-a835-31d53990c10d",
   "metadata": {},
   "outputs": [
    {
     "data": {
      "text/plain": [
       "c    10\n",
       "a    20\n",
       "d    30\n",
       "b    40\n",
       "e    50\n",
       "dtype: int64"
      ]
     },
     "execution_count": 3,
     "metadata": {},
     "output_type": "execute_result"
    }
   ],
   "source": [
    "s"
   ]
  },
  {
   "cell_type": "code",
   "execution_count": 4,
   "id": "d93373cb-87e2-428f-a7a7-a57fb8eb493f",
   "metadata": {},
   "outputs": [
    {
     "data": {
      "text/plain": [
       "a    20\n",
       "b    40\n",
       "c    10\n",
       "d    30\n",
       "e    50\n",
       "dtype: int64"
      ]
     },
     "execution_count": 4,
     "metadata": {},
     "output_type": "execute_result"
    }
   ],
   "source": [
    "s = s.reindex(['a','b','c','d','e'])\n",
    "s"
   ]
  },
  {
   "cell_type": "code",
   "execution_count": 8,
   "id": "c597d289-fe12-441d-9f91-db714b6104b7",
   "metadata": {},
   "outputs": [
    {
     "data": {
      "text/html": [
       "<div>\n",
       "<style scoped>\n",
       "    .dataframe tbody tr th:only-of-type {\n",
       "        vertical-align: middle;\n",
       "    }\n",
       "\n",
       "    .dataframe tbody tr th {\n",
       "        vertical-align: top;\n",
       "    }\n",
       "\n",
       "    .dataframe thead th {\n",
       "        text-align: right;\n",
       "    }\n",
       "</style>\n",
       "<table border=\"1\" class=\"dataframe\">\n",
       "  <thead>\n",
       "    <tr style=\"text-align: right;\">\n",
       "      <th></th>\n",
       "      <th>apple</th>\n",
       "      <th>mango</th>\n",
       "      <th>banana</th>\n",
       "    </tr>\n",
       "  </thead>\n",
       "  <tbody>\n",
       "    <tr>\n",
       "      <th>c</th>\n",
       "      <td>0</td>\n",
       "      <td>1</td>\n",
       "      <td>2</td>\n",
       "    </tr>\n",
       "    <tr>\n",
       "      <th>a</th>\n",
       "      <td>3</td>\n",
       "      <td>4</td>\n",
       "      <td>5</td>\n",
       "    </tr>\n",
       "    <tr>\n",
       "      <th>b</th>\n",
       "      <td>6</td>\n",
       "      <td>7</td>\n",
       "      <td>8</td>\n",
       "    </tr>\n",
       "  </tbody>\n",
       "</table>\n",
       "</div>"
      ],
      "text/plain": [
       "   apple  mango  banana\n",
       "c      0      1       2\n",
       "a      3      4       5\n",
       "b      6      7       8"
      ]
     },
     "execution_count": 8,
     "metadata": {},
     "output_type": "execute_result"
    }
   ],
   "source": [
    "d = DataFrame(np.arange(9).reshape((3,3)), index=['c','a','b'], columns=['apple','mango','banana'])\n",
    "d"
   ]
  },
  {
   "cell_type": "code",
   "execution_count": 9,
   "id": "10dd7a65-2daa-4b41-a0da-420e46759438",
   "metadata": {},
   "outputs": [
    {
     "data": {
      "text/html": [
       "<div>\n",
       "<style scoped>\n",
       "    .dataframe tbody tr th:only-of-type {\n",
       "        vertical-align: middle;\n",
       "    }\n",
       "\n",
       "    .dataframe tbody tr th {\n",
       "        vertical-align: top;\n",
       "    }\n",
       "\n",
       "    .dataframe thead th {\n",
       "        text-align: right;\n",
       "    }\n",
       "</style>\n",
       "<table border=\"1\" class=\"dataframe\">\n",
       "  <thead>\n",
       "    <tr style=\"text-align: right;\">\n",
       "      <th></th>\n",
       "      <th>apple</th>\n",
       "      <th>mango</th>\n",
       "      <th>banana</th>\n",
       "    </tr>\n",
       "  </thead>\n",
       "  <tbody>\n",
       "    <tr>\n",
       "      <th>a</th>\n",
       "      <td>3</td>\n",
       "      <td>4</td>\n",
       "      <td>5</td>\n",
       "    </tr>\n",
       "    <tr>\n",
       "      <th>b</th>\n",
       "      <td>6</td>\n",
       "      <td>7</td>\n",
       "      <td>8</td>\n",
       "    </tr>\n",
       "    <tr>\n",
       "      <th>c</th>\n",
       "      <td>0</td>\n",
       "      <td>1</td>\n",
       "      <td>2</td>\n",
       "    </tr>\n",
       "  </tbody>\n",
       "</table>\n",
       "</div>"
      ],
      "text/plain": [
       "   apple  mango  banana\n",
       "a      3      4       5\n",
       "b      6      7       8\n",
       "c      0      1       2"
      ]
     },
     "execution_count": 9,
     "metadata": {},
     "output_type": "execute_result"
    }
   ],
   "source": [
    "d.reindex(['a','b','c'])"
   ]
  },
  {
   "cell_type": "code",
   "execution_count": 15,
   "id": "90c7972c-4a72-4a38-a06e-81e47bfd1cdf",
   "metadata": {},
   "outputs": [
    {
     "data": {
      "text/html": [
       "<div>\n",
       "<style scoped>\n",
       "    .dataframe tbody tr th:only-of-type {\n",
       "        vertical-align: middle;\n",
       "    }\n",
       "\n",
       "    .dataframe tbody tr th {\n",
       "        vertical-align: top;\n",
       "    }\n",
       "\n",
       "    .dataframe thead th {\n",
       "        text-align: right;\n",
       "    }\n",
       "</style>\n",
       "<table border=\"1\" class=\"dataframe\">\n",
       "  <thead>\n",
       "    <tr style=\"text-align: right;\">\n",
       "      <th></th>\n",
       "      <th>apple</th>\n",
       "      <th>mango</th>\n",
       "      <th>banana</th>\n",
       "    </tr>\n",
       "  </thead>\n",
       "  <tbody>\n",
       "    <tr>\n",
       "      <th>a</th>\n",
       "      <td>3</td>\n",
       "      <td>4</td>\n",
       "      <td>5</td>\n",
       "    </tr>\n",
       "    <tr>\n",
       "      <th>b</th>\n",
       "      <td>6</td>\n",
       "      <td>7</td>\n",
       "      <td>8</td>\n",
       "    </tr>\n",
       "    <tr>\n",
       "      <th>c</th>\n",
       "      <td>0</td>\n",
       "      <td>1</td>\n",
       "      <td>2</td>\n",
       "    </tr>\n",
       "  </tbody>\n",
       "</table>\n",
       "</div>"
      ],
      "text/plain": [
       "   apple  mango  banana\n",
       "a      3      4       5\n",
       "b      6      7       8\n",
       "c      0      1       2"
      ]
     },
     "execution_count": 15,
     "metadata": {},
     "output_type": "execute_result"
    }
   ],
   "source": [
    "d = d.reindex(['a','b','c'])\n",
    "d.reindex(columns=['mango','banana','apple'])\n",
    "d"
   ]
  },
  {
   "cell_type": "code",
   "execution_count": 16,
   "id": "29fcc4d5-60bd-4271-82b6-c8be00fa76af",
   "metadata": {},
   "outputs": [
    {
     "data": {
      "text/plain": [
       "a    1\n",
       "b    2\n",
       "c    3\n",
       "d    4\n",
       "e    5\n",
       "dtype: int64"
      ]
     },
     "execution_count": 16,
     "metadata": {},
     "output_type": "execute_result"
    }
   ],
   "source": [
    "s1 = Series([1,2,3,4,5], index=['a','b','c','d','e'])\n",
    "s2 = Series([1,2,3,4,5,6,7], index=['a','b','c','d','e','f','g'])\n",
    "s1"
   ]
  },
  {
   "cell_type": "code",
   "execution_count": 17,
   "id": "138320b5-d1a1-4f1b-b291-95413e6a870b",
   "metadata": {},
   "outputs": [
    {
     "data": {
      "text/plain": [
       "a    1\n",
       "b    2\n",
       "c    3\n",
       "d    4\n",
       "e    5\n",
       "f    6\n",
       "g    7\n",
       "dtype: int64"
      ]
     },
     "execution_count": 17,
     "metadata": {},
     "output_type": "execute_result"
    }
   ],
   "source": [
    "s2"
   ]
  },
  {
   "cell_type": "code",
   "execution_count": 18,
   "id": "31272b45-4e24-4707-8240-74eee5c7dc0d",
   "metadata": {},
   "outputs": [
    {
     "data": {
      "text/plain": [
       "a     2.0\n",
       "b     4.0\n",
       "c     6.0\n",
       "d     8.0\n",
       "e    10.0\n",
       "f     NaN\n",
       "g     NaN\n",
       "dtype: float64"
      ]
     },
     "execution_count": 18,
     "metadata": {},
     "output_type": "execute_result"
    }
   ],
   "source": [
    "s1 + s2"
   ]
  },
  {
   "cell_type": "code",
   "execution_count": 20,
   "id": "932ecc37-bdf5-4dd4-bf67-3cd78d276a51",
   "metadata": {},
   "outputs": [
    {
     "data": {
      "text/plain": [
       "a     2.0\n",
       "b     4.0\n",
       "c     6.0\n",
       "d     8.0\n",
       "e    10.0\n",
       "f     6.0\n",
       "g     7.0\n",
       "dtype: float64"
      ]
     },
     "execution_count": 20,
     "metadata": {},
     "output_type": "execute_result"
    }
   ],
   "source": [
    "s1.add(s2,fill_value=0)"
   ]
  },
  {
   "cell_type": "code",
   "execution_count": 21,
   "id": "4d2784ed-7a47-4993-bde2-84406d10a1ee",
   "metadata": {},
   "outputs": [
    {
     "data": {
      "text/html": [
       "<div>\n",
       "<style scoped>\n",
       "    .dataframe tbody tr th:only-of-type {\n",
       "        vertical-align: middle;\n",
       "    }\n",
       "\n",
       "    .dataframe tbody tr th {\n",
       "        vertical-align: top;\n",
       "    }\n",
       "\n",
       "    .dataframe thead th {\n",
       "        text-align: right;\n",
       "    }\n",
       "</style>\n",
       "<table border=\"1\" class=\"dataframe\">\n",
       "  <thead>\n",
       "    <tr style=\"text-align: right;\">\n",
       "      <th></th>\n",
       "      <th>a</th>\n",
       "      <th>b</th>\n",
       "      <th>c</th>\n",
       "      <th>d</th>\n",
       "    </tr>\n",
       "  </thead>\n",
       "  <tbody>\n",
       "    <tr>\n",
       "      <th>0</th>\n",
       "      <td>0</td>\n",
       "      <td>1</td>\n",
       "      <td>2</td>\n",
       "      <td>3</td>\n",
       "    </tr>\n",
       "    <tr>\n",
       "      <th>1</th>\n",
       "      <td>4</td>\n",
       "      <td>5</td>\n",
       "      <td>6</td>\n",
       "      <td>7</td>\n",
       "    </tr>\n",
       "    <tr>\n",
       "      <th>2</th>\n",
       "      <td>8</td>\n",
       "      <td>9</td>\n",
       "      <td>10</td>\n",
       "      <td>11</td>\n",
       "    </tr>\n",
       "  </tbody>\n",
       "</table>\n",
       "</div>"
      ],
      "text/plain": [
       "   a  b   c   d\n",
       "0  0  1   2   3\n",
       "1  4  5   6   7\n",
       "2  8  9  10  11"
      ]
     },
     "execution_count": 21,
     "metadata": {},
     "output_type": "execute_result"
    }
   ],
   "source": [
    "d1 = DataFrame(np.arange(12).reshape(3,4),columns=['a','b','c','d'])\n",
    "d2 = DataFrame(np.arange(16).reshape(4,4),columns=['a','b','c','d'])\n",
    "d1"
   ]
  },
  {
   "cell_type": "code",
   "execution_count": 22,
   "id": "c4efff11-b0ea-4768-875c-8d64dbd8da94",
   "metadata": {},
   "outputs": [
    {
     "data": {
      "text/html": [
       "<div>\n",
       "<style scoped>\n",
       "    .dataframe tbody tr th:only-of-type {\n",
       "        vertical-align: middle;\n",
       "    }\n",
       "\n",
       "    .dataframe tbody tr th {\n",
       "        vertical-align: top;\n",
       "    }\n",
       "\n",
       "    .dataframe thead th {\n",
       "        text-align: right;\n",
       "    }\n",
       "</style>\n",
       "<table border=\"1\" class=\"dataframe\">\n",
       "  <thead>\n",
       "    <tr style=\"text-align: right;\">\n",
       "      <th></th>\n",
       "      <th>a</th>\n",
       "      <th>b</th>\n",
       "      <th>c</th>\n",
       "      <th>d</th>\n",
       "    </tr>\n",
       "  </thead>\n",
       "  <tbody>\n",
       "    <tr>\n",
       "      <th>0</th>\n",
       "      <td>0</td>\n",
       "      <td>1</td>\n",
       "      <td>2</td>\n",
       "      <td>3</td>\n",
       "    </tr>\n",
       "    <tr>\n",
       "      <th>1</th>\n",
       "      <td>4</td>\n",
       "      <td>5</td>\n",
       "      <td>6</td>\n",
       "      <td>7</td>\n",
       "    </tr>\n",
       "    <tr>\n",
       "      <th>2</th>\n",
       "      <td>8</td>\n",
       "      <td>9</td>\n",
       "      <td>10</td>\n",
       "      <td>11</td>\n",
       "    </tr>\n",
       "    <tr>\n",
       "      <th>3</th>\n",
       "      <td>12</td>\n",
       "      <td>13</td>\n",
       "      <td>14</td>\n",
       "      <td>15</td>\n",
       "    </tr>\n",
       "  </tbody>\n",
       "</table>\n",
       "</div>"
      ],
      "text/plain": [
       "    a   b   c   d\n",
       "0   0   1   2   3\n",
       "1   4   5   6   7\n",
       "2   8   9  10  11\n",
       "3  12  13  14  15"
      ]
     },
     "execution_count": 22,
     "metadata": {},
     "output_type": "execute_result"
    }
   ],
   "source": [
    "d2"
   ]
  },
  {
   "cell_type": "code",
   "execution_count": 23,
   "id": "8bdbed3b-9d52-40f1-9507-819f6457ec9e",
   "metadata": {},
   "outputs": [
    {
     "data": {
      "text/html": [
       "<div>\n",
       "<style scoped>\n",
       "    .dataframe tbody tr th:only-of-type {\n",
       "        vertical-align: middle;\n",
       "    }\n",
       "\n",
       "    .dataframe tbody tr th {\n",
       "        vertical-align: top;\n",
       "    }\n",
       "\n",
       "    .dataframe thead th {\n",
       "        text-align: right;\n",
       "    }\n",
       "</style>\n",
       "<table border=\"1\" class=\"dataframe\">\n",
       "  <thead>\n",
       "    <tr style=\"text-align: right;\">\n",
       "      <th></th>\n",
       "      <th>a</th>\n",
       "      <th>b</th>\n",
       "      <th>c</th>\n",
       "      <th>d</th>\n",
       "    </tr>\n",
       "  </thead>\n",
       "  <tbody>\n",
       "    <tr>\n",
       "      <th>0</th>\n",
       "      <td>0.0</td>\n",
       "      <td>2.0</td>\n",
       "      <td>4.0</td>\n",
       "      <td>6.0</td>\n",
       "    </tr>\n",
       "    <tr>\n",
       "      <th>1</th>\n",
       "      <td>8.0</td>\n",
       "      <td>10.0</td>\n",
       "      <td>12.0</td>\n",
       "      <td>14.0</td>\n",
       "    </tr>\n",
       "    <tr>\n",
       "      <th>2</th>\n",
       "      <td>16.0</td>\n",
       "      <td>18.0</td>\n",
       "      <td>20.0</td>\n",
       "      <td>22.0</td>\n",
       "    </tr>\n",
       "    <tr>\n",
       "      <th>3</th>\n",
       "      <td>12.0</td>\n",
       "      <td>13.0</td>\n",
       "      <td>14.0</td>\n",
       "      <td>15.0</td>\n",
       "    </tr>\n",
       "  </tbody>\n",
       "</table>\n",
       "</div>"
      ],
      "text/plain": [
       "      a     b     c     d\n",
       "0   0.0   2.0   4.0   6.0\n",
       "1   8.0  10.0  12.0  14.0\n",
       "2  16.0  18.0  20.0  22.0\n",
       "3  12.0  13.0  14.0  15.0"
      ]
     },
     "execution_count": 23,
     "metadata": {},
     "output_type": "execute_result"
    }
   ],
   "source": [
    "d1.add(d2,fill_value=0)"
   ]
  },
  {
   "cell_type": "code",
   "execution_count": 25,
   "id": "c0b47aa9-3714-4e20-af02-5e533553a35e",
   "metadata": {},
   "outputs": [
    {
     "data": {
      "text/plain": [
       "0    1\n",
       "1    2\n",
       "2    3\n",
       "3    4\n",
       "dtype: int64"
      ]
     },
     "execution_count": 25,
     "metadata": {},
     "output_type": "execute_result"
    }
   ],
   "source": [
    "s = Series([1,2,3,4])\n",
    "d = DataFrame(np.arange(8).reshape(2,4))\n",
    "s"
   ]
  },
  {
   "cell_type": "code",
   "execution_count": 26,
   "id": "9ae686e5-c5ce-4d2c-b275-f5ef47247516",
   "metadata": {},
   "outputs": [
    {
     "data": {
      "text/html": [
       "<div>\n",
       "<style scoped>\n",
       "    .dataframe tbody tr th:only-of-type {\n",
       "        vertical-align: middle;\n",
       "    }\n",
       "\n",
       "    .dataframe tbody tr th {\n",
       "        vertical-align: top;\n",
       "    }\n",
       "\n",
       "    .dataframe thead th {\n",
       "        text-align: right;\n",
       "    }\n",
       "</style>\n",
       "<table border=\"1\" class=\"dataframe\">\n",
       "  <thead>\n",
       "    <tr style=\"text-align: right;\">\n",
       "      <th></th>\n",
       "      <th>0</th>\n",
       "      <th>1</th>\n",
       "      <th>2</th>\n",
       "      <th>3</th>\n",
       "    </tr>\n",
       "  </thead>\n",
       "  <tbody>\n",
       "    <tr>\n",
       "      <th>0</th>\n",
       "      <td>0</td>\n",
       "      <td>1</td>\n",
       "      <td>2</td>\n",
       "      <td>3</td>\n",
       "    </tr>\n",
       "    <tr>\n",
       "      <th>1</th>\n",
       "      <td>4</td>\n",
       "      <td>5</td>\n",
       "      <td>6</td>\n",
       "      <td>7</td>\n",
       "    </tr>\n",
       "  </tbody>\n",
       "</table>\n",
       "</div>"
      ],
      "text/plain": [
       "   0  1  2  3\n",
       "0  0  1  2  3\n",
       "1  4  5  6  7"
      ]
     },
     "execution_count": 26,
     "metadata": {},
     "output_type": "execute_result"
    }
   ],
   "source": [
    "d"
   ]
  },
  {
   "cell_type": "code",
   "execution_count": 27,
   "id": "673af75e-6516-4c43-9250-ebdbb07215e8",
   "metadata": {},
   "outputs": [
    {
     "data": {
      "text/html": [
       "<div>\n",
       "<style scoped>\n",
       "    .dataframe tbody tr th:only-of-type {\n",
       "        vertical-align: middle;\n",
       "    }\n",
       "\n",
       "    .dataframe tbody tr th {\n",
       "        vertical-align: top;\n",
       "    }\n",
       "\n",
       "    .dataframe thead th {\n",
       "        text-align: right;\n",
       "    }\n",
       "</style>\n",
       "<table border=\"1\" class=\"dataframe\">\n",
       "  <thead>\n",
       "    <tr style=\"text-align: right;\">\n",
       "      <th></th>\n",
       "      <th>0</th>\n",
       "      <th>1</th>\n",
       "      <th>2</th>\n",
       "      <th>3</th>\n",
       "    </tr>\n",
       "  </thead>\n",
       "  <tbody>\n",
       "    <tr>\n",
       "      <th>0</th>\n",
       "      <td>1</td>\n",
       "      <td>3</td>\n",
       "      <td>5</td>\n",
       "      <td>7</td>\n",
       "    </tr>\n",
       "    <tr>\n",
       "      <th>1</th>\n",
       "      <td>5</td>\n",
       "      <td>7</td>\n",
       "      <td>9</td>\n",
       "      <td>11</td>\n",
       "    </tr>\n",
       "  </tbody>\n",
       "</table>\n",
       "</div>"
      ],
      "text/plain": [
       "   0  1  2   3\n",
       "0  1  3  5   7\n",
       "1  5  7  9  11"
      ]
     },
     "execution_count": 27,
     "metadata": {},
     "output_type": "execute_result"
    }
   ],
   "source": [
    "s+d"
   ]
  },
  {
   "cell_type": "code",
   "execution_count": 29,
   "id": "db4e20ab-82b0-4d9e-8061-29c3151133b8",
   "metadata": {},
   "outputs": [
    {
     "data": {
      "text/html": [
       "<div>\n",
       "<style scoped>\n",
       "    .dataframe tbody tr th:only-of-type {\n",
       "        vertical-align: middle;\n",
       "    }\n",
       "\n",
       "    .dataframe tbody tr th {\n",
       "        vertical-align: top;\n",
       "    }\n",
       "\n",
       "    .dataframe thead th {\n",
       "        text-align: right;\n",
       "    }\n",
       "</style>\n",
       "<table border=\"1\" class=\"dataframe\">\n",
       "  <thead>\n",
       "    <tr style=\"text-align: right;\">\n",
       "      <th></th>\n",
       "      <th>0</th>\n",
       "      <th>1</th>\n",
       "      <th>2</th>\n",
       "      <th>3</th>\n",
       "    </tr>\n",
       "  </thead>\n",
       "  <tbody>\n",
       "    <tr>\n",
       "      <th>0</th>\n",
       "      <td>0</td>\n",
       "      <td>1</td>\n",
       "      <td>2</td>\n",
       "      <td>3</td>\n",
       "    </tr>\n",
       "    <tr>\n",
       "      <th>1</th>\n",
       "      <td>4</td>\n",
       "      <td>5</td>\n",
       "      <td>6</td>\n",
       "      <td>7</td>\n",
       "    </tr>\n",
       "    <tr>\n",
       "      <th>2</th>\n",
       "      <td>8</td>\n",
       "      <td>9</td>\n",
       "      <td>10</td>\n",
       "      <td>11</td>\n",
       "    </tr>\n",
       "    <tr>\n",
       "      <th>3</th>\n",
       "      <td>12</td>\n",
       "      <td>13</td>\n",
       "      <td>14</td>\n",
       "      <td>15</td>\n",
       "    </tr>\n",
       "  </tbody>\n",
       "</table>\n",
       "</div>"
      ],
      "text/plain": [
       "    0   1   2   3\n",
       "0   0   1   2   3\n",
       "1   4   5   6   7\n",
       "2   8   9  10  11\n",
       "3  12  13  14  15"
      ]
     },
     "execution_count": 29,
     "metadata": {},
     "output_type": "execute_result"
    }
   ],
   "source": [
    "d = DataFrame(np.arange(16).reshape(4,4))\n",
    "d"
   ]
  },
  {
   "cell_type": "code",
   "execution_count": 30,
   "id": "9785bfc8-ed52-4fcd-ae0b-4c62141fd144",
   "metadata": {},
   "outputs": [
    {
     "data": {
      "text/html": [
       "<div>\n",
       "<style scoped>\n",
       "    .dataframe tbody tr th:only-of-type {\n",
       "        vertical-align: middle;\n",
       "    }\n",
       "\n",
       "    .dataframe tbody tr th {\n",
       "        vertical-align: top;\n",
       "    }\n",
       "\n",
       "    .dataframe thead th {\n",
       "        text-align: right;\n",
       "    }\n",
       "</style>\n",
       "<table border=\"1\" class=\"dataframe\">\n",
       "  <thead>\n",
       "    <tr style=\"text-align: right;\">\n",
       "      <th></th>\n",
       "      <th>0</th>\n",
       "      <th>1</th>\n",
       "      <th>2</th>\n",
       "      <th>3</th>\n",
       "    </tr>\n",
       "  </thead>\n",
       "  <tbody>\n",
       "    <tr>\n",
       "      <th>0</th>\n",
       "      <td>10</td>\n",
       "      <td>11</td>\n",
       "      <td>12</td>\n",
       "      <td>13</td>\n",
       "    </tr>\n",
       "    <tr>\n",
       "      <th>1</th>\n",
       "      <td>14</td>\n",
       "      <td>15</td>\n",
       "      <td>16</td>\n",
       "      <td>17</td>\n",
       "    </tr>\n",
       "    <tr>\n",
       "      <th>2</th>\n",
       "      <td>18</td>\n",
       "      <td>19</td>\n",
       "      <td>20</td>\n",
       "      <td>21</td>\n",
       "    </tr>\n",
       "    <tr>\n",
       "      <th>3</th>\n",
       "      <td>22</td>\n",
       "      <td>23</td>\n",
       "      <td>24</td>\n",
       "      <td>25</td>\n",
       "    </tr>\n",
       "  </tbody>\n",
       "</table>\n",
       "</div>"
      ],
      "text/plain": [
       "    0   1   2   3\n",
       "0  10  11  12  13\n",
       "1  14  15  16  17\n",
       "2  18  19  20  21\n",
       "3  22  23  24  25"
      ]
     },
     "execution_count": 30,
     "metadata": {},
     "output_type": "execute_result"
    }
   ],
   "source": [
    "f = lambda x: x+10\n",
    "d.apply(f)"
   ]
  },
  {
   "cell_type": "code",
   "execution_count": 31,
   "id": "1ccb31e8-34ab-4895-8303-a6bd2690f2d1",
   "metadata": {},
   "outputs": [
    {
     "data": {
      "text/html": [
       "<div>\n",
       "<style scoped>\n",
       "    .dataframe tbody tr th:only-of-type {\n",
       "        vertical-align: middle;\n",
       "    }\n",
       "\n",
       "    .dataframe tbody tr th {\n",
       "        vertical-align: top;\n",
       "    }\n",
       "\n",
       "    .dataframe thead th {\n",
       "        text-align: right;\n",
       "    }\n",
       "</style>\n",
       "<table border=\"1\" class=\"dataframe\">\n",
       "  <thead>\n",
       "    <tr style=\"text-align: right;\">\n",
       "      <th></th>\n",
       "      <th>0</th>\n",
       "      <th>1</th>\n",
       "      <th>2</th>\n",
       "      <th>3</th>\n",
       "    </tr>\n",
       "  </thead>\n",
       "  <tbody>\n",
       "    <tr>\n",
       "      <th>0</th>\n",
       "      <td>0</td>\n",
       "      <td>1</td>\n",
       "      <td>4</td>\n",
       "      <td>9</td>\n",
       "    </tr>\n",
       "    <tr>\n",
       "      <th>1</th>\n",
       "      <td>16</td>\n",
       "      <td>25</td>\n",
       "      <td>36</td>\n",
       "      <td>49</td>\n",
       "    </tr>\n",
       "    <tr>\n",
       "      <th>2</th>\n",
       "      <td>64</td>\n",
       "      <td>81</td>\n",
       "      <td>100</td>\n",
       "      <td>121</td>\n",
       "    </tr>\n",
       "    <tr>\n",
       "      <th>3</th>\n",
       "      <td>144</td>\n",
       "      <td>169</td>\n",
       "      <td>196</td>\n",
       "      <td>225</td>\n",
       "    </tr>\n",
       "  </tbody>\n",
       "</table>\n",
       "</div>"
      ],
      "text/plain": [
       "     0    1    2    3\n",
       "0    0    1    4    9\n",
       "1   16   25   36   49\n",
       "2   64   81  100  121\n",
       "3  144  169  196  225"
      ]
     },
     "execution_count": 31,
     "metadata": {},
     "output_type": "execute_result"
    }
   ],
   "source": [
    "f2 = lambda x: x*x\n",
    "d.apply(f2)"
   ]
  },
  {
   "cell_type": "code",
   "execution_count": 1,
   "id": "01d37947-6a3f-4df2-b451-47d6ed4b2208",
   "metadata": {},
   "outputs": [],
   "source": [
    "import numpy as np\n",
    "from pandas import DataFrame\n",
    "from pandas import Series"
   ]
  },
  {
   "cell_type": "code",
   "execution_count": 2,
   "id": "10b23420-7c54-4072-8f22-539da32039d4",
   "metadata": {},
   "outputs": [],
   "source": [
    "s = Series([1,2,3,4], index=['d','c','b','a'])"
   ]
  },
  {
   "cell_type": "code",
   "execution_count": 3,
   "id": "a0d62912-6c1a-4bf0-a263-45196c114c3d",
   "metadata": {},
   "outputs": [
    {
     "data": {
      "text/plain": [
       "d    1\n",
       "c    2\n",
       "b    3\n",
       "a    4\n",
       "dtype: int64"
      ]
     },
     "execution_count": 3,
     "metadata": {},
     "output_type": "execute_result"
    }
   ],
   "source": [
    "s"
   ]
  },
  {
   "cell_type": "code",
   "execution_count": 4,
   "id": "9b375768-6dd1-40b9-91dc-1453ffd1e4fa",
   "metadata": {},
   "outputs": [
    {
     "data": {
      "text/plain": [
       "a    4\n",
       "b    3\n",
       "c    2\n",
       "d    1\n",
       "dtype: int64"
      ]
     },
     "execution_count": 4,
     "metadata": {},
     "output_type": "execute_result"
    }
   ],
   "source": [
    "s.sort_index()"
   ]
  },
  {
   "cell_type": "code",
   "execution_count": 6,
   "id": "041fd419-723b-461f-9d3f-aefc21b2b6ec",
   "metadata": {},
   "outputs": [
    {
     "data": {
      "text/html": [
       "<div>\n",
       "<style scoped>\n",
       "    .dataframe tbody tr th:only-of-type {\n",
       "        vertical-align: middle;\n",
       "    }\n",
       "\n",
       "    .dataframe tbody tr th {\n",
       "        vertical-align: top;\n",
       "    }\n",
       "\n",
       "    .dataframe thead th {\n",
       "        text-align: right;\n",
       "    }\n",
       "</style>\n",
       "<table border=\"1\" class=\"dataframe\">\n",
       "  <thead>\n",
       "    <tr style=\"text-align: right;\">\n",
       "      <th></th>\n",
       "      <th>d</th>\n",
       "      <th>c</th>\n",
       "      <th>b</th>\n",
       "      <th>a</th>\n",
       "    </tr>\n",
       "  </thead>\n",
       "  <tbody>\n",
       "    <tr>\n",
       "      <th>3</th>\n",
       "      <td>0</td>\n",
       "      <td>1</td>\n",
       "      <td>2</td>\n",
       "      <td>3</td>\n",
       "    </tr>\n",
       "    <tr>\n",
       "      <th>1</th>\n",
       "      <td>4</td>\n",
       "      <td>5</td>\n",
       "      <td>6</td>\n",
       "      <td>7</td>\n",
       "    </tr>\n",
       "    <tr>\n",
       "      <th>4</th>\n",
       "      <td>8</td>\n",
       "      <td>9</td>\n",
       "      <td>10</td>\n",
       "      <td>11</td>\n",
       "    </tr>\n",
       "    <tr>\n",
       "      <th>2</th>\n",
       "      <td>12</td>\n",
       "      <td>13</td>\n",
       "      <td>14</td>\n",
       "      <td>15</td>\n",
       "    </tr>\n",
       "  </tbody>\n",
       "</table>\n",
       "</div>"
      ],
      "text/plain": [
       "    d   c   b   a\n",
       "3   0   1   2   3\n",
       "1   4   5   6   7\n",
       "4   8   9  10  11\n",
       "2  12  13  14  15"
      ]
     },
     "execution_count": 6,
     "metadata": {},
     "output_type": "execute_result"
    }
   ],
   "source": [
    "d = DataFrame(np.arange(16).reshape(4,4), index=[3,1,4,2], columns=['d','c','b','a'])\n",
    "d"
   ]
  },
  {
   "cell_type": "code",
   "execution_count": 9,
   "id": "49d6f635-9b8b-407d-a093-aedf992f00ae",
   "metadata": {},
   "outputs": [
    {
     "data": {
      "text/html": [
       "<div>\n",
       "<style scoped>\n",
       "    .dataframe tbody tr th:only-of-type {\n",
       "        vertical-align: middle;\n",
       "    }\n",
       "\n",
       "    .dataframe tbody tr th {\n",
       "        vertical-align: top;\n",
       "    }\n",
       "\n",
       "    .dataframe thead th {\n",
       "        text-align: right;\n",
       "    }\n",
       "</style>\n",
       "<table border=\"1\" class=\"dataframe\">\n",
       "  <thead>\n",
       "    <tr style=\"text-align: right;\">\n",
       "      <th></th>\n",
       "      <th>d</th>\n",
       "      <th>c</th>\n",
       "      <th>b</th>\n",
       "      <th>a</th>\n",
       "    </tr>\n",
       "  </thead>\n",
       "  <tbody>\n",
       "    <tr>\n",
       "      <th>3</th>\n",
       "      <td>0</td>\n",
       "      <td>1</td>\n",
       "      <td>2</td>\n",
       "      <td>3</td>\n",
       "    </tr>\n",
       "    <tr>\n",
       "      <th>1</th>\n",
       "      <td>4</td>\n",
       "      <td>5</td>\n",
       "      <td>6</td>\n",
       "      <td>7</td>\n",
       "    </tr>\n",
       "    <tr>\n",
       "      <th>4</th>\n",
       "      <td>8</td>\n",
       "      <td>9</td>\n",
       "      <td>10</td>\n",
       "      <td>11</td>\n",
       "    </tr>\n",
       "    <tr>\n",
       "      <th>2</th>\n",
       "      <td>12</td>\n",
       "      <td>13</td>\n",
       "      <td>14</td>\n",
       "      <td>15</td>\n",
       "    </tr>\n",
       "  </tbody>\n",
       "</table>\n",
       "</div>"
      ],
      "text/plain": [
       "    d   c   b   a\n",
       "3   0   1   2   3\n",
       "1   4   5   6   7\n",
       "4   8   9  10  11\n",
       "2  12  13  14  15"
      ]
     },
     "execution_count": 9,
     "metadata": {},
     "output_type": "execute_result"
    }
   ],
   "source": [
    "d.sort_index(axis=1, ascending=False)"
   ]
  },
  {
   "cell_type": "code",
   "execution_count": 10,
   "id": "86e9a183-8440-4bab-852a-53f2faf1ce3b",
   "metadata": {},
   "outputs": [
    {
     "data": {
      "text/plain": [
       "0    300\n",
       "1    200\n",
       "2    900\n",
       "3    500\n",
       "dtype: int64"
      ]
     },
     "execution_count": 10,
     "metadata": {},
     "output_type": "execute_result"
    }
   ],
   "source": [
    "prices = Series([300,200,900,500])\n",
    "prices"
   ]
  },
  {
   "cell_type": "code",
   "execution_count": 11,
   "id": "2c49248e-090a-4e65-8e74-450786fbc111",
   "metadata": {},
   "outputs": [
    {
     "data": {
      "text/plain": [
       "1    200\n",
       "0    300\n",
       "3    500\n",
       "2    900\n",
       "dtype: int64"
      ]
     },
     "execution_count": 11,
     "metadata": {},
     "output_type": "execute_result"
    }
   ],
   "source": [
    "prices.sort_values()"
   ]
  },
  {
   "cell_type": "code",
   "execution_count": 12,
   "id": "5e1b994f-55ea-45b0-8e43-5b2712c688e9",
   "metadata": {},
   "outputs": [
    {
     "data": {
      "text/html": [
       "<div>\n",
       "<style scoped>\n",
       "    .dataframe tbody tr th:only-of-type {\n",
       "        vertical-align: middle;\n",
       "    }\n",
       "\n",
       "    .dataframe tbody tr th {\n",
       "        vertical-align: top;\n",
       "    }\n",
       "\n",
       "    .dataframe thead th {\n",
       "        text-align: right;\n",
       "    }\n",
       "</style>\n",
       "<table border=\"1\" class=\"dataframe\">\n",
       "  <thead>\n",
       "    <tr style=\"text-align: right;\">\n",
       "      <th></th>\n",
       "      <th>name</th>\n",
       "      <th>price</th>\n",
       "    </tr>\n",
       "  </thead>\n",
       "  <tbody>\n",
       "    <tr>\n",
       "      <th>0</th>\n",
       "      <td>phone</td>\n",
       "      <td>200</td>\n",
       "    </tr>\n",
       "    <tr>\n",
       "      <th>1</th>\n",
       "      <td>laptop</td>\n",
       "      <td>300</td>\n",
       "    </tr>\n",
       "    <tr>\n",
       "      <th>2</th>\n",
       "      <td>tablet</td>\n",
       "      <td>100</td>\n",
       "    </tr>\n",
       "  </tbody>\n",
       "</table>\n",
       "</div>"
      ],
      "text/plain": [
       "     name  price\n",
       "0   phone    200\n",
       "1  laptop    300\n",
       "2  tablet    100"
      ]
     },
     "execution_count": 12,
     "metadata": {},
     "output_type": "execute_result"
    }
   ],
   "source": [
    "products = DataFrame({'name':['phone','laptop','tablet'],'price':[200,300, 100]})\n",
    "products"
   ]
  },
  {
   "cell_type": "code",
   "execution_count": 14,
   "id": "774549b5-8f9c-46cd-ab8a-ab57083f30e5",
   "metadata": {},
   "outputs": [
    {
     "data": {
      "text/html": [
       "<div>\n",
       "<style scoped>\n",
       "    .dataframe tbody tr th:only-of-type {\n",
       "        vertical-align: middle;\n",
       "    }\n",
       "\n",
       "    .dataframe tbody tr th {\n",
       "        vertical-align: top;\n",
       "    }\n",
       "\n",
       "    .dataframe thead th {\n",
       "        text-align: right;\n",
       "    }\n",
       "</style>\n",
       "<table border=\"1\" class=\"dataframe\">\n",
       "  <thead>\n",
       "    <tr style=\"text-align: right;\">\n",
       "      <th></th>\n",
       "      <th>name</th>\n",
       "      <th>price</th>\n",
       "    </tr>\n",
       "  </thead>\n",
       "  <tbody>\n",
       "    <tr>\n",
       "      <th>1</th>\n",
       "      <td>laptop</td>\n",
       "      <td>300</td>\n",
       "    </tr>\n",
       "    <tr>\n",
       "      <th>0</th>\n",
       "      <td>phone</td>\n",
       "      <td>200</td>\n",
       "    </tr>\n",
       "    <tr>\n",
       "      <th>2</th>\n",
       "      <td>tablet</td>\n",
       "      <td>100</td>\n",
       "    </tr>\n",
       "  </tbody>\n",
       "</table>\n",
       "</div>"
      ],
      "text/plain": [
       "     name  price\n",
       "1  laptop    300\n",
       "0   phone    200\n",
       "2  tablet    100"
      ]
     },
     "execution_count": 14,
     "metadata": {},
     "output_type": "execute_result"
    }
   ],
   "source": [
    "products.sort_values(by='price',ascending=False)"
   ]
  },
  {
   "cell_type": "code",
   "execution_count": 16,
   "id": "b92d9333-facd-4d80-9652-38e2a2d6813a",
   "metadata": {},
   "outputs": [
    {
     "data": {
      "text/plain": [
       "a    1\n",
       "b    2\n",
       "c    3\n",
       "d    4\n",
       "a    5\n",
       "dtype: int64"
      ]
     },
     "execution_count": 16,
     "metadata": {},
     "output_type": "execute_result"
    }
   ],
   "source": [
    "s = Series([1,2,3,4,5], index=['a','b','c','d','a'])\n",
    "s"
   ]
  },
  {
   "cell_type": "code",
   "execution_count": 17,
   "id": "7f278233-632f-4272-97b3-6393783b1979",
   "metadata": {},
   "outputs": [
    {
     "data": {
      "text/plain": [
       "False"
      ]
     },
     "execution_count": 17,
     "metadata": {},
     "output_type": "execute_result"
    }
   ],
   "source": [
    "s.index.is_unique"
   ]
  },
  {
   "cell_type": "code",
   "execution_count": 18,
   "id": "fff413c2-02fa-4ba5-8471-47d90976068a",
   "metadata": {},
   "outputs": [
    {
     "data": {
      "text/html": [
       "<div>\n",
       "<style scoped>\n",
       "    .dataframe tbody tr th:only-of-type {\n",
       "        vertical-align: middle;\n",
       "    }\n",
       "\n",
       "    .dataframe tbody tr th {\n",
       "        vertical-align: top;\n",
       "    }\n",
       "\n",
       "    .dataframe thead th {\n",
       "        text-align: right;\n",
       "    }\n",
       "</style>\n",
       "<table border=\"1\" class=\"dataframe\">\n",
       "  <thead>\n",
       "    <tr style=\"text-align: right;\">\n",
       "      <th></th>\n",
       "      <th>name</th>\n",
       "      <th>price</th>\n",
       "    </tr>\n",
       "  </thead>\n",
       "  <tbody>\n",
       "    <tr>\n",
       "      <th>0</th>\n",
       "      <td>phone</td>\n",
       "      <td>200</td>\n",
       "    </tr>\n",
       "    <tr>\n",
       "      <th>1</th>\n",
       "      <td>laptop</td>\n",
       "      <td>300</td>\n",
       "    </tr>\n",
       "    <tr>\n",
       "      <th>2</th>\n",
       "      <td>tablet</td>\n",
       "      <td>100</td>\n",
       "    </tr>\n",
       "  </tbody>\n",
       "</table>\n",
       "</div>"
      ],
      "text/plain": [
       "     name  price\n",
       "0   phone    200\n",
       "1  laptop    300\n",
       "2  tablet    100"
      ]
     },
     "execution_count": 18,
     "metadata": {},
     "output_type": "execute_result"
    }
   ],
   "source": [
    "products = DataFrame({'name':['phone','laptop','tablet'],'price':[200,300, 100]})\n",
    "products"
   ]
  },
  {
   "cell_type": "code",
   "execution_count": 19,
   "id": "57bbe889-5551-4312-b0a0-e23199c4016e",
   "metadata": {},
   "outputs": [
    {
     "data": {
      "text/plain": [
       "name     phonelaptoptablet\n",
       "price                  600\n",
       "dtype: object"
      ]
     },
     "execution_count": 19,
     "metadata": {},
     "output_type": "execute_result"
    }
   ],
   "source": [
    "products.sum()"
   ]
  },
  {
   "cell_type": "code",
   "execution_count": 20,
   "id": "bee9ff90-f28a-42b0-a31b-42dc5d6d8baf",
   "metadata": {},
   "outputs": [
    {
     "data": {
      "text/plain": [
       "name     3\n",
       "price    3\n",
       "dtype: int64"
      ]
     },
     "execution_count": 20,
     "metadata": {},
     "output_type": "execute_result"
    }
   ],
   "source": [
    "products.count()"
   ]
  },
  {
   "cell_type": "code",
   "execution_count": 21,
   "id": "6208b065-07e6-4874-ab18-d6b50e01beff",
   "metadata": {},
   "outputs": [
    {
     "data": {
      "text/html": [
       "<div>\n",
       "<style scoped>\n",
       "    .dataframe tbody tr th:only-of-type {\n",
       "        vertical-align: middle;\n",
       "    }\n",
       "\n",
       "    .dataframe tbody tr th {\n",
       "        vertical-align: top;\n",
       "    }\n",
       "\n",
       "    .dataframe thead th {\n",
       "        text-align: right;\n",
       "    }\n",
       "</style>\n",
       "<table border=\"1\" class=\"dataframe\">\n",
       "  <thead>\n",
       "    <tr style=\"text-align: right;\">\n",
       "      <th></th>\n",
       "      <th>price</th>\n",
       "    </tr>\n",
       "  </thead>\n",
       "  <tbody>\n",
       "    <tr>\n",
       "      <th>count</th>\n",
       "      <td>3.0</td>\n",
       "    </tr>\n",
       "    <tr>\n",
       "      <th>mean</th>\n",
       "      <td>200.0</td>\n",
       "    </tr>\n",
       "    <tr>\n",
       "      <th>std</th>\n",
       "      <td>100.0</td>\n",
       "    </tr>\n",
       "    <tr>\n",
       "      <th>min</th>\n",
       "      <td>100.0</td>\n",
       "    </tr>\n",
       "    <tr>\n",
       "      <th>25%</th>\n",
       "      <td>150.0</td>\n",
       "    </tr>\n",
       "    <tr>\n",
       "      <th>50%</th>\n",
       "      <td>200.0</td>\n",
       "    </tr>\n",
       "    <tr>\n",
       "      <th>75%</th>\n",
       "      <td>250.0</td>\n",
       "    </tr>\n",
       "    <tr>\n",
       "      <th>max</th>\n",
       "      <td>300.0</td>\n",
       "    </tr>\n",
       "  </tbody>\n",
       "</table>\n",
       "</div>"
      ],
      "text/plain": [
       "       price\n",
       "count    3.0\n",
       "mean   200.0\n",
       "std    100.0\n",
       "min    100.0\n",
       "25%    150.0\n",
       "50%    200.0\n",
       "75%    250.0\n",
       "max    300.0"
      ]
     },
     "execution_count": 21,
     "metadata": {},
     "output_type": "execute_result"
    }
   ],
   "source": [
    "products.describe()"
   ]
  },
  {
   "cell_type": "code",
   "execution_count": 22,
   "id": "d50082b8-82ae-49ba-b42c-c4883e51f9fc",
   "metadata": {},
   "outputs": [
    {
     "data": {
      "text/plain": [
       "0    1.0\n",
       "1    2.0\n",
       "2    3.0\n",
       "3    NaN\n",
       "4    NaN\n",
       "5    5.0\n",
       "dtype: float64"
      ]
     },
     "execution_count": 22,
     "metadata": {},
     "output_type": "execute_result"
    }
   ],
   "source": [
    "s = Series([1,2,3,np.nan,np.nan,5])\n",
    "s"
   ]
  },
  {
   "cell_type": "code",
   "execution_count": 23,
   "id": "37c6b4a8-cf5d-4112-8422-cad4ac6edbd5",
   "metadata": {},
   "outputs": [
    {
     "data": {
      "text/plain": [
       "0    1.0\n",
       "1    2.0\n",
       "2    3.0\n",
       "5    5.0\n",
       "dtype: float64"
      ]
     },
     "execution_count": 23,
     "metadata": {},
     "output_type": "execute_result"
    }
   ],
   "source": [
    "s.dropna()"
   ]
  },
  {
   "cell_type": "code",
   "execution_count": 24,
   "id": "46dc8e58-dc9d-437d-bc71-8baecac0dc63",
   "metadata": {},
   "outputs": [
    {
     "data": {
      "text/html": [
       "<div>\n",
       "<style scoped>\n",
       "    .dataframe tbody tr th:only-of-type {\n",
       "        vertical-align: middle;\n",
       "    }\n",
       "\n",
       "    .dataframe tbody tr th {\n",
       "        vertical-align: top;\n",
       "    }\n",
       "\n",
       "    .dataframe thead th {\n",
       "        text-align: right;\n",
       "    }\n",
       "</style>\n",
       "<table border=\"1\" class=\"dataframe\">\n",
       "  <thead>\n",
       "    <tr style=\"text-align: right;\">\n",
       "      <th></th>\n",
       "      <th>0</th>\n",
       "      <th>1</th>\n",
       "      <th>2</th>\n",
       "    </tr>\n",
       "  </thead>\n",
       "  <tbody>\n",
       "    <tr>\n",
       "      <th>0</th>\n",
       "      <td>1.0</td>\n",
       "      <td>2.0</td>\n",
       "      <td>3.0</td>\n",
       "    </tr>\n",
       "    <tr>\n",
       "      <th>1</th>\n",
       "      <td>NaN</td>\n",
       "      <td>NaN</td>\n",
       "      <td>NaN</td>\n",
       "    </tr>\n",
       "    <tr>\n",
       "      <th>2</th>\n",
       "      <td>2.0</td>\n",
       "      <td>NaN</td>\n",
       "      <td>4.0</td>\n",
       "    </tr>\n",
       "    <tr>\n",
       "      <th>3</th>\n",
       "      <td>NaN</td>\n",
       "      <td>3.0</td>\n",
       "      <td>NaN</td>\n",
       "    </tr>\n",
       "  </tbody>\n",
       "</table>\n",
       "</div>"
      ],
      "text/plain": [
       "     0    1    2\n",
       "0  1.0  2.0  3.0\n",
       "1  NaN  NaN  NaN\n",
       "2  2.0  NaN  4.0\n",
       "3  NaN  3.0  NaN"
      ]
     },
     "execution_count": 24,
     "metadata": {},
     "output_type": "execute_result"
    }
   ],
   "source": [
    "data = DataFrame([[1,2,3],[np.nan,np.nan,np.nan],[2,np.nan,4],[np.nan,3,np.nan]])\n",
    "data"
   ]
  },
  {
   "cell_type": "code",
   "execution_count": 28,
   "id": "1c8842c9-4256-4e9d-b5d1-631130a48a4d",
   "metadata": {},
   "outputs": [
    {
     "data": {
      "text/html": [
       "<div>\n",
       "<style scoped>\n",
       "    .dataframe tbody tr th:only-of-type {\n",
       "        vertical-align: middle;\n",
       "    }\n",
       "\n",
       "    .dataframe tbody tr th {\n",
       "        vertical-align: top;\n",
       "    }\n",
       "\n",
       "    .dataframe thead th {\n",
       "        text-align: right;\n",
       "    }\n",
       "</style>\n",
       "<table border=\"1\" class=\"dataframe\">\n",
       "  <thead>\n",
       "    <tr style=\"text-align: right;\">\n",
       "      <th></th>\n",
       "      <th>0</th>\n",
       "      <th>1</th>\n",
       "      <th>2</th>\n",
       "    </tr>\n",
       "  </thead>\n",
       "  <tbody>\n",
       "    <tr>\n",
       "      <th>0</th>\n",
       "      <td>1.0</td>\n",
       "      <td>2.0</td>\n",
       "      <td>3.0</td>\n",
       "    </tr>\n",
       "    <tr>\n",
       "      <th>1</th>\n",
       "      <td>NaN</td>\n",
       "      <td>NaN</td>\n",
       "      <td>NaN</td>\n",
       "    </tr>\n",
       "    <tr>\n",
       "      <th>2</th>\n",
       "      <td>2.0</td>\n",
       "      <td>NaN</td>\n",
       "      <td>4.0</td>\n",
       "    </tr>\n",
       "    <tr>\n",
       "      <th>3</th>\n",
       "      <td>NaN</td>\n",
       "      <td>3.0</td>\n",
       "      <td>NaN</td>\n",
       "    </tr>\n",
       "  </tbody>\n",
       "</table>\n",
       "</div>"
      ],
      "text/plain": [
       "     0    1    2\n",
       "0  1.0  2.0  3.0\n",
       "1  NaN  NaN  NaN\n",
       "2  2.0  NaN  4.0\n",
       "3  NaN  3.0  NaN"
      ]
     },
     "execution_count": 28,
     "metadata": {},
     "output_type": "execute_result"
    }
   ],
   "source": [
    "data.dropna(how='all',axis=1)"
   ]
  },
  {
   "cell_type": "code",
   "execution_count": 29,
   "id": "a3ffa80f-b139-4fb2-af1c-73703bf2622d",
   "metadata": {},
   "outputs": [],
   "source": [
    "data[3]=np.nan"
   ]
  },
  {
   "cell_type": "code",
   "execution_count": 30,
   "id": "6175fdbc-4330-402f-89de-babcb2620a81",
   "metadata": {},
   "outputs": [
    {
     "data": {
      "text/html": [
       "<div>\n",
       "<style scoped>\n",
       "    .dataframe tbody tr th:only-of-type {\n",
       "        vertical-align: middle;\n",
       "    }\n",
       "\n",
       "    .dataframe tbody tr th {\n",
       "        vertical-align: top;\n",
       "    }\n",
       "\n",
       "    .dataframe thead th {\n",
       "        text-align: right;\n",
       "    }\n",
       "</style>\n",
       "<table border=\"1\" class=\"dataframe\">\n",
       "  <thead>\n",
       "    <tr style=\"text-align: right;\">\n",
       "      <th></th>\n",
       "      <th>0</th>\n",
       "      <th>1</th>\n",
       "      <th>2</th>\n",
       "      <th>3</th>\n",
       "    </tr>\n",
       "  </thead>\n",
       "  <tbody>\n",
       "    <tr>\n",
       "      <th>0</th>\n",
       "      <td>1.0</td>\n",
       "      <td>2.0</td>\n",
       "      <td>3.0</td>\n",
       "      <td>NaN</td>\n",
       "    </tr>\n",
       "    <tr>\n",
       "      <th>1</th>\n",
       "      <td>NaN</td>\n",
       "      <td>NaN</td>\n",
       "      <td>NaN</td>\n",
       "      <td>NaN</td>\n",
       "    </tr>\n",
       "    <tr>\n",
       "      <th>2</th>\n",
       "      <td>2.0</td>\n",
       "      <td>NaN</td>\n",
       "      <td>4.0</td>\n",
       "      <td>NaN</td>\n",
       "    </tr>\n",
       "    <tr>\n",
       "      <th>3</th>\n",
       "      <td>NaN</td>\n",
       "      <td>3.0</td>\n",
       "      <td>NaN</td>\n",
       "      <td>NaN</td>\n",
       "    </tr>\n",
       "  </tbody>\n",
       "</table>\n",
       "</div>"
      ],
      "text/plain": [
       "     0    1    2   3\n",
       "0  1.0  2.0  3.0 NaN\n",
       "1  NaN  NaN  NaN NaN\n",
       "2  2.0  NaN  4.0 NaN\n",
       "3  NaN  3.0  NaN NaN"
      ]
     },
     "execution_count": 30,
     "metadata": {},
     "output_type": "execute_result"
    }
   ],
   "source": [
    "data"
   ]
  },
  {
   "cell_type": "code",
   "execution_count": 31,
   "id": "36c1af0a-cddd-4de1-9309-29cc7d41297b",
   "metadata": {},
   "outputs": [
    {
     "data": {
      "text/html": [
       "<div>\n",
       "<style scoped>\n",
       "    .dataframe tbody tr th:only-of-type {\n",
       "        vertical-align: middle;\n",
       "    }\n",
       "\n",
       "    .dataframe tbody tr th {\n",
       "        vertical-align: top;\n",
       "    }\n",
       "\n",
       "    .dataframe thead th {\n",
       "        text-align: right;\n",
       "    }\n",
       "</style>\n",
       "<table border=\"1\" class=\"dataframe\">\n",
       "  <thead>\n",
       "    <tr style=\"text-align: right;\">\n",
       "      <th></th>\n",
       "      <th>0</th>\n",
       "      <th>1</th>\n",
       "      <th>2</th>\n",
       "    </tr>\n",
       "  </thead>\n",
       "  <tbody>\n",
       "    <tr>\n",
       "      <th>0</th>\n",
       "      <td>1.0</td>\n",
       "      <td>2.0</td>\n",
       "      <td>3.0</td>\n",
       "    </tr>\n",
       "    <tr>\n",
       "      <th>1</th>\n",
       "      <td>NaN</td>\n",
       "      <td>NaN</td>\n",
       "      <td>NaN</td>\n",
       "    </tr>\n",
       "    <tr>\n",
       "      <th>2</th>\n",
       "      <td>2.0</td>\n",
       "      <td>NaN</td>\n",
       "      <td>4.0</td>\n",
       "    </tr>\n",
       "    <tr>\n",
       "      <th>3</th>\n",
       "      <td>NaN</td>\n",
       "      <td>3.0</td>\n",
       "      <td>NaN</td>\n",
       "    </tr>\n",
       "  </tbody>\n",
       "</table>\n",
       "</div>"
      ],
      "text/plain": [
       "     0    1    2\n",
       "0  1.0  2.0  3.0\n",
       "1  NaN  NaN  NaN\n",
       "2  2.0  NaN  4.0\n",
       "3  NaN  3.0  NaN"
      ]
     },
     "execution_count": 31,
     "metadata": {},
     "output_type": "execute_result"
    }
   ],
   "source": [
    "data.dropna(how='all',axis=1)"
   ]
  },
  {
   "cell_type": "code",
   "execution_count": 33,
   "id": "42b38d04-0687-41f5-bcad-fd7f03bcdb02",
   "metadata": {},
   "outputs": [
    {
     "data": {
      "text/html": [
       "<div>\n",
       "<style scoped>\n",
       "    .dataframe tbody tr th:only-of-type {\n",
       "        vertical-align: middle;\n",
       "    }\n",
       "\n",
       "    .dataframe tbody tr th {\n",
       "        vertical-align: top;\n",
       "    }\n",
       "\n",
       "    .dataframe thead th {\n",
       "        text-align: right;\n",
       "    }\n",
       "</style>\n",
       "<table border=\"1\" class=\"dataframe\">\n",
       "  <thead>\n",
       "    <tr style=\"text-align: right;\">\n",
       "      <th></th>\n",
       "      <th>0</th>\n",
       "      <th>1</th>\n",
       "      <th>2</th>\n",
       "      <th>3</th>\n",
       "    </tr>\n",
       "  </thead>\n",
       "  <tbody>\n",
       "    <tr>\n",
       "      <th>0</th>\n",
       "      <td>1.0</td>\n",
       "      <td>2.0</td>\n",
       "      <td>3.0</td>\n",
       "      <td>12.0</td>\n",
       "    </tr>\n",
       "    <tr>\n",
       "      <th>1</th>\n",
       "      <td>12.0</td>\n",
       "      <td>12.0</td>\n",
       "      <td>12.0</td>\n",
       "      <td>12.0</td>\n",
       "    </tr>\n",
       "    <tr>\n",
       "      <th>2</th>\n",
       "      <td>2.0</td>\n",
       "      <td>12.0</td>\n",
       "      <td>4.0</td>\n",
       "      <td>12.0</td>\n",
       "    </tr>\n",
       "    <tr>\n",
       "      <th>3</th>\n",
       "      <td>12.0</td>\n",
       "      <td>3.0</td>\n",
       "      <td>12.0</td>\n",
       "      <td>12.0</td>\n",
       "    </tr>\n",
       "  </tbody>\n",
       "</table>\n",
       "</div>"
      ],
      "text/plain": [
       "      0     1     2     3\n",
       "0   1.0   2.0   3.0  12.0\n",
       "1  12.0  12.0  12.0  12.0\n",
       "2   2.0  12.0   4.0  12.0\n",
       "3  12.0   3.0  12.0  12.0"
      ]
     },
     "execution_count": 33,
     "metadata": {},
     "output_type": "execute_result"
    }
   ],
   "source": [
    "data.fillna(12)"
   ]
  },
  {
   "cell_type": "code",
   "execution_count": 34,
   "id": "c0000cd1-9f21-43a2-97fe-63bcb052f820",
   "metadata": {},
   "outputs": [
    {
     "data": {
      "text/plain": [
       "0    10\n",
       "1    20\n",
       "2    30\n",
       "3    40\n",
       "dtype: int64"
      ]
     },
     "execution_count": 34,
     "metadata": {},
     "output_type": "execute_result"
    }
   ],
   "source": [
    "s = Series([10,20,30,40])\n",
    "s"
   ]
  },
  {
   "cell_type": "code",
   "execution_count": 35,
   "id": "94ea0133-4da0-4a94-9e8b-966ee8631ef9",
   "metadata": {},
   "outputs": [
    {
     "data": {
      "text/plain": [
       "a  1    0\n",
       "   2    1\n",
       "b  1    2\n",
       "   2    3\n",
       "   3    4\n",
       "c  1    5\n",
       "   2    6\n",
       "d  1    7\n",
       "e  1    8\n",
       "   2    9\n",
       "dtype: int64"
      ]
     },
     "execution_count": 35,
     "metadata": {},
     "output_type": "execute_result"
    }
   ],
   "source": [
    "s1 = Series(np.arange(10), index=[['a','a','b','b','b','c','c','d','e','e'],[1,2,1,2,3,1,2,1,1,2]])\n",
    "s1"
   ]
  },
  {
   "cell_type": "code",
   "execution_count": 36,
   "id": "d0d04731-2c95-4c2f-997f-99069fb0a5cc",
   "metadata": {},
   "outputs": [
    {
     "ename": "SyntaxError",
     "evalue": "invalid character '‘' (U+2018) (3196312590.py, line 1)",
     "output_type": "error",
     "traceback": [
      "\u001b[0;36m  Cell \u001b[0;32mIn[36], line 1\u001b[0;36m\u001b[0m\n\u001b[0;31m    s1[‘b’][3]\u001b[0m\n\u001b[0m       ^\u001b[0m\n\u001b[0;31mSyntaxError\u001b[0m\u001b[0;31m:\u001b[0m invalid character '‘' (U+2018)\n"
     ]
    }
   ],
   "source": [
    "s1[‘b’][3]"
   ]
  },
  {
   "cell_type": "code",
   "execution_count": 37,
   "id": "81f7ee82-3299-4fa7-8dbb-08e30d89babe",
   "metadata": {},
   "outputs": [
    {
     "data": {
      "text/plain": [
       "4"
      ]
     },
     "execution_count": 37,
     "metadata": {},
     "output_type": "execute_result"
    }
   ],
   "source": [
    "s1['b'][3]"
   ]
  },
  {
   "cell_type": "code",
   "execution_count": 38,
   "id": "a76f36f0-9f4c-40a4-b277-15048a0f681a",
   "metadata": {},
   "outputs": [
    {
     "data": {
      "text/plain": [
       "3"
      ]
     },
     "execution_count": 38,
     "metadata": {},
     "output_type": "execute_result"
    }
   ],
   "source": [
    "s1['b'][2]"
   ]
  },
  {
   "cell_type": "code",
   "execution_count": 39,
   "id": "08e9f4dc-23a5-4714-abe8-44f4c6334626",
   "metadata": {},
   "outputs": [
    {
     "data": {
      "text/plain": [
       "9"
      ]
     },
     "execution_count": 39,
     "metadata": {},
     "output_type": "execute_result"
    }
   ],
   "source": [
    "s1['e'][2]"
   ]
  },
  {
   "cell_type": "code",
   "execution_count": 40,
   "id": "54b8603d-a6cf-4e29-8332-37ff5d5309ee",
   "metadata": {},
   "outputs": [
    {
     "data": {
      "text/plain": [
       "MultiIndex([('a', 1),\n",
       "            ('a', 2),\n",
       "            ('b', 1),\n",
       "            ('b', 2),\n",
       "            ('b', 3),\n",
       "            ('c', 1),\n",
       "            ('c', 2),\n",
       "            ('d', 1),\n",
       "            ('e', 1),\n",
       "            ('e', 2)],\n",
       "           )"
      ]
     },
     "execution_count": 40,
     "metadata": {},
     "output_type": "execute_result"
    }
   ],
   "source": [
    "s1.index"
   ]
  },
  {
   "cell_type": "code",
   "execution_count": 41,
   "id": "4fd0ee54-f6d6-4d20-8bbd-b6a2ccb37c67",
   "metadata": {},
   "outputs": [
    {
     "data": {
      "text/plain": [
       "1    2\n",
       "2    3\n",
       "3    4\n",
       "dtype: int64"
      ]
     },
     "execution_count": 41,
     "metadata": {},
     "output_type": "execute_result"
    }
   ],
   "source": [
    "s1['b']"
   ]
  },
  {
   "cell_type": "code",
   "execution_count": 42,
   "id": "6b82b68c-249c-4bd2-a386-7e4b87fb51ff",
   "metadata": {},
   "outputs": [
    {
     "data": {
      "text/plain": [
       "a  1    0\n",
       "   2    1\n",
       "b  1    2\n",
       "   2    3\n",
       "   3    4\n",
       "dtype: int64"
      ]
     },
     "execution_count": 42,
     "metadata": {},
     "output_type": "execute_result"
    }
   ],
   "source": [
    "s1['a':'b']"
   ]
  },
  {
   "cell_type": "code",
   "execution_count": 43,
   "id": "734131e6-9d65-48aa-89b8-da9420f7ef99",
   "metadata": {},
   "outputs": [
    {
     "data": {
      "text/html": [
       "<div>\n",
       "<style scoped>\n",
       "    .dataframe tbody tr th:only-of-type {\n",
       "        vertical-align: middle;\n",
       "    }\n",
       "\n",
       "    .dataframe tbody tr th {\n",
       "        vertical-align: top;\n",
       "    }\n",
       "\n",
       "    .dataframe thead th {\n",
       "        text-align: right;\n",
       "    }\n",
       "</style>\n",
       "<table border=\"1\" class=\"dataframe\">\n",
       "  <thead>\n",
       "    <tr style=\"text-align: right;\">\n",
       "      <th></th>\n",
       "      <th>1</th>\n",
       "      <th>2</th>\n",
       "      <th>3</th>\n",
       "    </tr>\n",
       "  </thead>\n",
       "  <tbody>\n",
       "    <tr>\n",
       "      <th>a</th>\n",
       "      <td>0.0</td>\n",
       "      <td>1.0</td>\n",
       "      <td>NaN</td>\n",
       "    </tr>\n",
       "    <tr>\n",
       "      <th>b</th>\n",
       "      <td>2.0</td>\n",
       "      <td>3.0</td>\n",
       "      <td>4.0</td>\n",
       "    </tr>\n",
       "    <tr>\n",
       "      <th>c</th>\n",
       "      <td>5.0</td>\n",
       "      <td>6.0</td>\n",
       "      <td>NaN</td>\n",
       "    </tr>\n",
       "    <tr>\n",
       "      <th>d</th>\n",
       "      <td>7.0</td>\n",
       "      <td>NaN</td>\n",
       "      <td>NaN</td>\n",
       "    </tr>\n",
       "    <tr>\n",
       "      <th>e</th>\n",
       "      <td>8.0</td>\n",
       "      <td>9.0</td>\n",
       "      <td>NaN</td>\n",
       "    </tr>\n",
       "  </tbody>\n",
       "</table>\n",
       "</div>"
      ],
      "text/plain": [
       "     1    2    3\n",
       "a  0.0  1.0  NaN\n",
       "b  2.0  3.0  4.0\n",
       "c  5.0  6.0  NaN\n",
       "d  7.0  NaN  NaN\n",
       "e  8.0  9.0  NaN"
      ]
     },
     "execution_count": 43,
     "metadata": {},
     "output_type": "execute_result"
    }
   ],
   "source": [
    "s1.unstack()"
   ]
  },
  {
   "cell_type": "code",
   "execution_count": 44,
   "id": "0514d979-093c-46b0-8798-165c173d1776",
   "metadata": {},
   "outputs": [],
   "source": [
    "data_frame = DataFrame(np.arange(15).reshape(5,3),index=['a','b','c','d','e'])"
   ]
  },
  {
   "cell_type": "code",
   "execution_count": 45,
   "id": "93785af0-ef4f-4b3b-8bfc-d8f970b63b01",
   "metadata": {},
   "outputs": [
    {
     "data": {
      "text/html": [
       "<div>\n",
       "<style scoped>\n",
       "    .dataframe tbody tr th:only-of-type {\n",
       "        vertical-align: middle;\n",
       "    }\n",
       "\n",
       "    .dataframe tbody tr th {\n",
       "        vertical-align: top;\n",
       "    }\n",
       "\n",
       "    .dataframe thead th {\n",
       "        text-align: right;\n",
       "    }\n",
       "</style>\n",
       "<table border=\"1\" class=\"dataframe\">\n",
       "  <thead>\n",
       "    <tr style=\"text-align: right;\">\n",
       "      <th></th>\n",
       "      <th>0</th>\n",
       "      <th>1</th>\n",
       "      <th>2</th>\n",
       "    </tr>\n",
       "  </thead>\n",
       "  <tbody>\n",
       "    <tr>\n",
       "      <th>a</th>\n",
       "      <td>0</td>\n",
       "      <td>1</td>\n",
       "      <td>2</td>\n",
       "    </tr>\n",
       "    <tr>\n",
       "      <th>b</th>\n",
       "      <td>3</td>\n",
       "      <td>4</td>\n",
       "      <td>5</td>\n",
       "    </tr>\n",
       "    <tr>\n",
       "      <th>c</th>\n",
       "      <td>6</td>\n",
       "      <td>7</td>\n",
       "      <td>8</td>\n",
       "    </tr>\n",
       "    <tr>\n",
       "      <th>d</th>\n",
       "      <td>9</td>\n",
       "      <td>10</td>\n",
       "      <td>11</td>\n",
       "    </tr>\n",
       "    <tr>\n",
       "      <th>e</th>\n",
       "      <td>12</td>\n",
       "      <td>13</td>\n",
       "      <td>14</td>\n",
       "    </tr>\n",
       "  </tbody>\n",
       "</table>\n",
       "</div>"
      ],
      "text/plain": [
       "    0   1   2\n",
       "a   0   1   2\n",
       "b   3   4   5\n",
       "c   6   7   8\n",
       "d   9  10  11\n",
       "e  12  13  14"
      ]
     },
     "execution_count": 45,
     "metadata": {},
     "output_type": "execute_result"
    }
   ],
   "source": [
    "data_frame"
   ]
  },
  {
   "cell_type": "code",
   "execution_count": 46,
   "id": "be1c9bc9-8826-45e7-ae23-e0d459d0805d",
   "metadata": {},
   "outputs": [
    {
     "data": {
      "text/plain": [
       "a  0     0\n",
       "   1     1\n",
       "   2     2\n",
       "b  0     3\n",
       "   1     4\n",
       "   2     5\n",
       "c  0     6\n",
       "   1     7\n",
       "   2     8\n",
       "d  0     9\n",
       "   1    10\n",
       "   2    11\n",
       "e  0    12\n",
       "   1    13\n",
       "   2    14\n",
       "dtype: int64"
      ]
     },
     "execution_count": 46,
     "metadata": {},
     "output_type": "execute_result"
    }
   ],
   "source": [
    "data_frame.stack()"
   ]
  },
  {
   "cell_type": "code",
   "execution_count": 48,
   "id": "a552130a-4508-4ac0-b43a-d673f740d9c5",
   "metadata": {},
   "outputs": [
    {
     "data": {
      "text/plain": [
       "0      laptop\n",
       "1       phone\n",
       "2    computer\n",
       "3      tablet\n",
       "dtype: object"
      ]
     },
     "execution_count": 48,
     "metadata": {},
     "output_type": "execute_result"
    }
   ],
   "source": [
    "s = Series(data=['laptop','phone','computer','tablet'],index=[1,2,3,4])\n",
    "s"
   ]
  },
  {
   "cell_type": "code",
   "execution_count": 52,
   "id": "d4592b3d-54b2-4409-a018-dd81e4a02e64",
   "metadata": {},
   "outputs": [
    {
     "data": {
      "text/html": [
       "<div>\n",
       "<style scoped>\n",
       "    .dataframe tbody tr th:only-of-type {\n",
       "        vertical-align: middle;\n",
       "    }\n",
       "\n",
       "    .dataframe tbody tr th {\n",
       "        vertical-align: top;\n",
       "    }\n",
       "\n",
       "    .dataframe thead th {\n",
       "        text-align: right;\n",
       "    }\n",
       "</style>\n",
       "<table border=\"1\" class=\"dataframe\">\n",
       "  <thead>\n",
       "    <tr style=\"text-align: right;\">\n",
       "      <th></th>\n",
       "      <th>Fruit</th>\n",
       "      <th>RetailPrice</th>\n",
       "    </tr>\n",
       "  </thead>\n",
       "  <tbody>\n",
       "    <tr>\n",
       "      <th>0</th>\n",
       "      <td>Apples</td>\n",
       "      <td>1.5193</td>\n",
       "    </tr>\n",
       "    <tr>\n",
       "      <th>1</th>\n",
       "      <td>Apples, applesauce</td>\n",
       "      <td>1.0660</td>\n",
       "    </tr>\n",
       "    <tr>\n",
       "      <th>2</th>\n",
       "      <td>Apples, ready-to-drink</td>\n",
       "      <td>0.7804</td>\n",
       "    </tr>\n",
       "    <tr>\n",
       "      <th>3</th>\n",
       "      <td>Apples, frozen concentrate</td>\n",
       "      <td>0.5853</td>\n",
       "    </tr>\n",
       "    <tr>\n",
       "      <th>4</th>\n",
       "      <td>Apricots</td>\n",
       "      <td>2.9665</td>\n",
       "    </tr>\n",
       "    <tr>\n",
       "      <th>...</th>\n",
       "      <td>...</td>\n",
       "      <td>...</td>\n",
       "    </tr>\n",
       "    <tr>\n",
       "      <th>57</th>\n",
       "      <td>Raspberries</td>\n",
       "      <td>6.6391</td>\n",
       "    </tr>\n",
       "    <tr>\n",
       "      <th>58</th>\n",
       "      <td>Raspberries</td>\n",
       "      <td>4.1877</td>\n",
       "    </tr>\n",
       "    <tr>\n",
       "      <th>59</th>\n",
       "      <td>Strawberries</td>\n",
       "      <td>2.5800</td>\n",
       "    </tr>\n",
       "    <tr>\n",
       "      <th>60</th>\n",
       "      <td>Strawberries</td>\n",
       "      <td>2.8189</td>\n",
       "    </tr>\n",
       "    <tr>\n",
       "      <th>61</th>\n",
       "      <td>Watermelon</td>\n",
       "      <td>0.3604</td>\n",
       "    </tr>\n",
       "  </tbody>\n",
       "</table>\n",
       "<p>62 rows × 2 columns</p>\n",
       "</div>"
      ],
      "text/plain": [
       "                         Fruit  RetailPrice\n",
       "0                       Apples       1.5193\n",
       "1           Apples, applesauce       1.0660\n",
       "2       Apples, ready-to-drink       0.7804\n",
       "3   Apples, frozen concentrate       0.5853\n",
       "4                     Apricots       2.9665\n",
       "..                         ...          ...\n",
       "57                 Raspberries       6.6391\n",
       "58                 Raspberries       4.1877\n",
       "59                Strawberries       2.5800\n",
       "60                Strawberries       2.8189\n",
       "61                  Watermelon       0.3604\n",
       "\n",
       "[62 rows x 2 columns]"
      ]
     },
     "execution_count": 52,
     "metadata": {},
     "output_type": "execute_result"
    }
   ],
   "source": [
    "import pandas as pd\n",
    "fruit_prices = pd.read_csv('fruit_prices.csv',usecols=[1,2])\n",
    "fruit_prices"
   ]
  },
  {
   "cell_type": "code",
   "execution_count": 53,
   "id": "57c3d848-3732-4844-8e3c-ba2cd3b404da",
   "metadata": {},
   "outputs": [
    {
     "ename": "NameError",
     "evalue": "name 'dtype' is not defined",
     "output_type": "error",
     "traceback": [
      "\u001b[0;31m---------------------------------------------------------------------------\u001b[0m",
      "\u001b[0;31mNameError\u001b[0m                                 Traceback (most recent call last)",
      "Cell \u001b[0;32mIn[53], line 1\u001b[0m\n\u001b[0;32m----> 1\u001b[0m \u001b[43mdtype\u001b[49m(fruit_prices)\n",
      "\u001b[0;31mNameError\u001b[0m: name 'dtype' is not defined"
     ]
    }
   ],
   "source": [
    "dtype(fruit_prices)"
   ]
  },
  {
   "cell_type": "code",
   "execution_count": 54,
   "id": "d9f34621-1f17-4709-8cbb-b3a1bd19bcc3",
   "metadata": {},
   "outputs": [
    {
     "data": {
      "text/plain": [
       "pandas.core.frame.DataFrame"
      ]
     },
     "execution_count": 54,
     "metadata": {},
     "output_type": "execute_result"
    }
   ],
   "source": [
    "type(fruit_prices)"
   ]
  },
  {
   "cell_type": "code",
   "execution_count": 58,
   "id": "ffed7f05-2dfc-48c3-94ac-0ddde50b5dbf",
   "metadata": {},
   "outputs": [],
   "source": [
    "fruit_prices = pd.read_csv('fruit_prices.csv',usecols=['Fruit']).squeeze(\"columns\")"
   ]
  },
  {
   "cell_type": "code",
   "execution_count": 61,
   "id": "03a767f0-16e4-40ef-8084-97766d8543ba",
   "metadata": {},
   "outputs": [
    {
     "data": {
      "text/plain": [
       "0                         Apples\n",
       "1             Apples, applesauce\n",
       "2         Apples, ready-to-drink\n",
       "3     Apples, frozen concentrate\n",
       "4                       Apricots\n",
       "                 ...            \n",
       "57                   Raspberries\n",
       "58                   Raspberries\n",
       "59                  Strawberries\n",
       "60                  Strawberries\n",
       "61                    Watermelon\n",
       "Name: Fruit, Length: 62, dtype: object"
      ]
     },
     "execution_count": 61,
     "metadata": {},
     "output_type": "execute_result"
    }
   ],
   "source": [
    "fruit_prices"
   ]
  },
  {
   "cell_type": "code",
   "execution_count": 62,
   "id": "cfd6e616-3997-4b13-91cd-a1766c754f23",
   "metadata": {},
   "outputs": [
    {
     "data": {
      "text/plain": [
       "0     1.5193\n",
       "1     1.0660\n",
       "2     0.7804\n",
       "3     0.5853\n",
       "4     2.9665\n",
       "       ...  \n",
       "57    6.6391\n",
       "58    4.1877\n",
       "59    2.5800\n",
       "60    2.8189\n",
       "61    0.3604\n",
       "Name: RetailPrice, Length: 62, dtype: float64"
      ]
     },
     "execution_count": 62,
     "metadata": {},
     "output_type": "execute_result"
    }
   ],
   "source": [
    "fruit_retailprice = pd.read_csv('fruit_prices.csv',usecols=['RetailPrice']).squeeze(\"columns\")\n",
    "fruit_retailprice"
   ]
  },
  {
   "cell_type": "code",
   "execution_count": 1,
   "id": "5ac39009-959b-4f92-840a-607e0a31abb5",
   "metadata": {},
   "outputs": [],
   "source": [
    "import pandas as pd"
   ]
  },
  {
   "cell_type": "code",
   "execution_count": 2,
   "id": "ef54c743-5b1a-4155-b07e-576c73688768",
   "metadata": {},
   "outputs": [
    {
     "ename": "ImportError",
     "evalue": "cannot import name 'pd' from 'pandas' (/Users/administrator/.pyenv/versions/3.10.9/lib/python3.10/site-packages/pandas/__init__.py)",
     "output_type": "error",
     "traceback": [
      "\u001b[0;31m---------------------------------------------------------------------------\u001b[0m",
      "\u001b[0;31mImportError\u001b[0m                               Traceback (most recent call last)",
      "Cell \u001b[0;32mIn[2], line 2\u001b[0m\n\u001b[1;32m      1\u001b[0m \u001b[38;5;28;01mimport\u001b[39;00m \u001b[38;5;21;01mnumpy\u001b[39;00m \u001b[38;5;28;01mas\u001b[39;00m \u001b[38;5;21;01mnp\u001b[39;00m\n\u001b[0;32m----> 2\u001b[0m \u001b[38;5;28;01mfrom\u001b[39;00m \u001b[38;5;21;01mpandas\u001b[39;00m \u001b[38;5;28;01mimport\u001b[39;00m DataFrame, Series, pd\n",
      "\u001b[0;31mImportError\u001b[0m: cannot import name 'pd' from 'pandas' (/Users/administrator/.pyenv/versions/3.10.9/lib/python3.10/site-packages/pandas/__init__.py)"
     ]
    }
   ],
   "source": [
    "import numpy as np\n",
    "from pandas import DataFrame, Series, pd"
   ]
  },
  {
   "cell_type": "code",
   "execution_count": 3,
   "id": "c3650a4c-3023-43ea-a333-7237c8251b2b",
   "metadata": {},
   "outputs": [
    {
     "ename": "SyntaxError",
     "evalue": "invalid syntax (3314628997.py, line 3)",
     "output_type": "error",
     "traceback": [
      "\u001b[0;36m  Cell \u001b[0;32mIn[3], line 3\u001b[0;36m\u001b[0m\n\u001b[0;31m    Import pandas as pd\u001b[0m\n\u001b[0m           ^\u001b[0m\n\u001b[0;31mSyntaxError\u001b[0m\u001b[0;31m:\u001b[0m invalid syntax\n"
     ]
    }
   ],
   "source": [
    "import numpy as np\n",
    "from pandas import DataFrame, Series\n",
    "Import pandas as pd"
   ]
  },
  {
   "cell_type": "code",
   "execution_count": 4,
   "id": "2236391c-5ed8-4462-94ae-100bd0412f45",
   "metadata": {},
   "outputs": [],
   "source": [
    "import pandas as pd"
   ]
  },
  {
   "cell_type": "code",
   "execution_count": 5,
   "id": "18b532ab-5ecd-42aa-9fa0-b02383deb695",
   "metadata": {},
   "outputs": [],
   "source": [
    "import numpy as np\n",
    "from pandas import DataFrame, Series\n",
    "import pandas as pd"
   ]
  },
  {
   "cell_type": "code",
   "execution_count": 6,
   "id": "25268709-3a7c-479c-8c77-8a59239b7b8a",
   "metadata": {},
   "outputs": [
    {
     "ename": "NameError",
     "evalue": "name 'fruit_retailprice' is not defined",
     "output_type": "error",
     "traceback": [
      "\u001b[0;31m---------------------------------------------------------------------------\u001b[0m",
      "\u001b[0;31mNameError\u001b[0m                                 Traceback (most recent call last)",
      "Cell \u001b[0;32mIn[6], line 1\u001b[0m\n\u001b[0;32m----> 1\u001b[0m \u001b[38;5;28mlist\u001b[39m(\u001b[43mfruit_retailprice\u001b[49m)\n",
      "\u001b[0;31mNameError\u001b[0m: name 'fruit_retailprice' is not defined"
     ]
    }
   ],
   "source": [
    "list(fruit_retailprice)"
   ]
  },
  {
   "cell_type": "code",
   "execution_count": 7,
   "id": "f1c98d46-4b1e-49dc-afef-400dedb0fefb",
   "metadata": {},
   "outputs": [
    {
     "data": {
      "text/plain": [
       "0     1.5193\n",
       "1     1.0660\n",
       "2     0.7804\n",
       "3     0.5853\n",
       "4     2.9665\n",
       "       ...  \n",
       "57    6.6391\n",
       "58    4.1877\n",
       "59    2.5800\n",
       "60    2.8189\n",
       "61    0.3604\n",
       "Name: RetailPrice, Length: 62, dtype: float64"
      ]
     },
     "execution_count": 7,
     "metadata": {},
     "output_type": "execute_result"
    }
   ],
   "source": [
    "fruit_retailprice = pd.read_csv('fruit_prices.csv',usecols=['RetailPrice']).squeeze(\"columns\")\n",
    "fruit_retailprice"
   ]
  },
  {
   "cell_type": "code",
   "execution_count": 8,
   "id": "12d4c819-b589-4e09-9e1e-9a7602ea5e64",
   "metadata": {},
   "outputs": [
    {
     "data": {
      "text/plain": [
       "[1.5193,\n",
       " 1.066,\n",
       " 0.7804,\n",
       " 0.5853,\n",
       " 2.9665,\n",
       " 1.6905,\n",
       " 2.06,\n",
       " 6.6188,\n",
       " 0.5249,\n",
       " 3.5585,\n",
       " 6.0172,\n",
       " 3.6362,\n",
       " 4.1739,\n",
       " 3.3898,\n",
       " 0.5767,\n",
       " 3.4269,\n",
       " 4.5257,\n",
       " 1.3847,\n",
       " 4.6513,\n",
       " 5.5713,\n",
       " 6.8371,\n",
       " 1.7198,\n",
       " 1.5932,\n",
       " 1.1695,\n",
       " 1.0415,\n",
       " 1.8398,\n",
       " 3.7801,\n",
       " 0.9215,\n",
       " 0.7119,\n",
       " 0.9056,\n",
       " 2.1849,\n",
       " 1.1513,\n",
       " 10.5527,\n",
       " 1.9062,\n",
       " 1.2131,\n",
       " 0.9842,\n",
       " 0.769,\n",
       " 1.2904,\n",
       " 5.5089,\n",
       " 1.7167,\n",
       " 2.0237,\n",
       " 1.8117,\n",
       " 3.3867,\n",
       " 1.5865,\n",
       " 1.9546,\n",
       " 1.897,\n",
       " 0.5685,\n",
       " 1.4344,\n",
       " 1.4067,\n",
       " 6.6492,\n",
       " 1.0288,\n",
       " 0.6973,\n",
       " 2.0292,\n",
       " 5.7042,\n",
       " 1.5522,\n",
       " 2.235,\n",
       " 3.122,\n",
       " 6.6391,\n",
       " 4.1877,\n",
       " 2.58,\n",
       " 2.8189,\n",
       " 0.3604]"
      ]
     },
     "execution_count": 8,
     "metadata": {},
     "output_type": "execute_result"
    }
   ],
   "source": [
    "list(fruit_retailprice)"
   ]
  },
  {
   "cell_type": "code",
   "execution_count": 9,
   "id": "8212b4a6-58eb-4dc4-990b-b1944ddeca35",
   "metadata": {},
   "outputs": [
    {
     "data": {
      "text/plain": [
       "0                         Apples\n",
       "1             Apples, applesauce\n",
       "2         Apples, ready-to-drink\n",
       "3     Apples, frozen concentrate\n",
       "4                       Apricots\n",
       "                 ...            \n",
       "57                   Raspberries\n",
       "58                   Raspberries\n",
       "59                  Strawberries\n",
       "60                  Strawberries\n",
       "61                    Watermelon\n",
       "Name: Fruit, Length: 62, dtype: object"
      ]
     },
     "execution_count": 9,
     "metadata": {},
     "output_type": "execute_result"
    }
   ],
   "source": [
    "fruit_prices = pd.read_csv('fruit_prices.csv',usecols=['Fruit']).squeeze(\"columns\")\n",
    "fruit_prices"
   ]
  },
  {
   "cell_type": "code",
   "execution_count": 10,
   "id": "db08f9c2-07fd-431a-a8f2-da945ed9b804",
   "metadata": {},
   "outputs": [
    {
     "data": {
      "text/plain": [
       "['Apples',\n",
       " 'Apples, applesauce',\n",
       " 'Apples, ready-to-drink',\n",
       " 'Apples, frozen concentrate',\n",
       " 'Apricots',\n",
       " 'Apricots, packed in juice',\n",
       " 'Apricots, packed in syrup or water',\n",
       " 'Apricots',\n",
       " 'Bananas',\n",
       " 'Berries, mixed',\n",
       " 'Blackberries',\n",
       " 'Blackberries',\n",
       " 'Blueberries',\n",
       " 'Blueberries',\n",
       " 'Cantaloupe',\n",
       " 'Cherries',\n",
       " 'Cherries, packed in syrup or water',\n",
       " 'Clementines',\n",
       " 'Cranberries',\n",
       " 'Dates',\n",
       " 'Figs',\n",
       " 'Fruit cocktail, packed in juice',\n",
       " 'Fruit cocktail, packed in syrup or water',\n",
       " 'Grapefruit',\n",
       " 'Grapefruit, ready-to-drink',\n",
       " 'Grapes',\n",
       " 'Grapes (raisins)',\n",
       " 'Grapes, ready-to-drink',\n",
       " 'Grapes, frozen concentrate',\n",
       " 'Honeydew',\n",
       " 'Kiwi',\n",
       " 'Mangoes',\n",
       " 'Mangoes',\n",
       " 'Nectarines',\n",
       " 'Oranges',\n",
       " 'Oranges, ready-to-drink',\n",
       " 'Oranges, frozen concentrate',\n",
       " 'Papaya',\n",
       " 'Papaya',\n",
       " 'Peaches',\n",
       " 'Peaches, packed in juice',\n",
       " 'Peaches, packed in syrup or water',\n",
       " 'Peaches',\n",
       " 'Pears',\n",
       " 'Pears, packed in juice',\n",
       " 'Pears, packed in syrup or water',\n",
       " 'Pineapple',\n",
       " 'Pineapple, packed in juice',\n",
       " 'Pineapple, packed in syrup or water',\n",
       " 'Pineapple',\n",
       " 'Pineapple, ready-to-drink',\n",
       " 'Pineapple, frozen concentrate',\n",
       " 'Plum',\n",
       " 'Plum (prunes)',\n",
       " 'Plum (prune), ready-to-drink',\n",
       " 'Pomegranate',\n",
       " 'Pomegranate, ready-to-drink',\n",
       " 'Raspberries',\n",
       " 'Raspberries',\n",
       " 'Strawberries',\n",
       " 'Strawberries',\n",
       " 'Watermelon']"
      ]
     },
     "execution_count": 10,
     "metadata": {},
     "output_type": "execute_result"
    }
   ],
   "source": [
    "list(fruit_prices)"
   ]
  },
  {
   "cell_type": "code",
   "execution_count": 11,
   "id": "b9deb05b-43be-4ccf-8677-1631f51d3159",
   "metadata": {},
   "outputs": [],
   "source": [
    "fruit_list = list(fruit_prices)"
   ]
  },
  {
   "cell_type": "code",
   "execution_count": 12,
   "id": "1c36dec6-1986-4c5d-89c5-6961dd0c4d26",
   "metadata": {},
   "outputs": [
    {
     "name": "stdout",
     "output_type": "stream",
     "text": [
      "Apples\n",
      "Apples, applesauce\n",
      "Apples, ready-to-drink\n",
      "Apples, frozen concentrate\n",
      "Apricots\n",
      "Apricots, packed in juice\n",
      "Apricots, packed in syrup or water\n",
      "Apricots\n",
      "Bananas\n",
      "Berries, mixed\n",
      "Blackberries\n",
      "Blackberries\n",
      "Blueberries\n",
      "Blueberries\n",
      "Cantaloupe\n",
      "Cherries\n",
      "Cherries, packed in syrup or water\n",
      "Clementines\n",
      "Cranberries\n",
      "Dates\n",
      "Figs\n",
      "Fruit cocktail, packed in juice\n",
      "Fruit cocktail, packed in syrup or water\n",
      "Grapefruit\n",
      "Grapefruit, ready-to-drink\n",
      "Grapes\n",
      "Grapes (raisins)\n",
      "Grapes, ready-to-drink\n",
      "Grapes, frozen concentrate\n",
      "Honeydew\n",
      "Kiwi\n",
      "Mangoes\n",
      "Mangoes\n",
      "Nectarines\n",
      "Oranges\n",
      "Oranges, ready-to-drink\n",
      "Oranges, frozen concentrate\n",
      "Papaya\n",
      "Papaya\n",
      "Peaches\n",
      "Peaches, packed in juice\n",
      "Peaches, packed in syrup or water\n",
      "Peaches\n",
      "Pears\n",
      "Pears, packed in juice\n",
      "Pears, packed in syrup or water\n",
      "Pineapple\n",
      "Pineapple, packed in juice\n",
      "Pineapple, packed in syrup or water\n",
      "Pineapple\n",
      "Pineapple, ready-to-drink\n",
      "Pineapple, frozen concentrate\n",
      "Plum\n",
      "Plum (prunes)\n",
      "Plum (prune), ready-to-drink\n",
      "Pomegranate\n",
      "Pomegranate, ready-to-drink\n",
      "Raspberries\n",
      "Raspberries\n",
      "Strawberries\n",
      "Strawberries\n",
      "Watermelon\n"
     ]
    }
   ],
   "source": [
    "for fruit in fruit_list:\n",
    "    print(fruit)"
   ]
  },
  {
   "cell_type": "code",
   "execution_count": 13,
   "id": "9f8c67df-c9f2-4368-a8f8-81b58217b8e2",
   "metadata": {},
   "outputs": [
    {
     "ename": "NameError",
     "evalue": "name 'fruit_names' is not defined",
     "output_type": "error",
     "traceback": [
      "\u001b[0;31m---------------------------------------------------------------------------\u001b[0m",
      "\u001b[0;31mNameError\u001b[0m                                 Traceback (most recent call last)",
      "Cell \u001b[0;32mIn[13], line 1\u001b[0m\n\u001b[0;32m----> 1\u001b[0m \u001b[43mfruit_names\u001b[49m\n",
      "\u001b[0;31mNameError\u001b[0m: name 'fruit_names' is not defined"
     ]
    }
   ],
   "source": [
    "fruit_names"
   ]
  },
  {
   "cell_type": "code",
   "execution_count": 14,
   "id": "c607ddaa-bb21-4f34-9179-7740d2b56d0e",
   "metadata": {},
   "outputs": [
    {
     "data": {
      "text/plain": [
       "0                         Apples\n",
       "1             Apples, applesauce\n",
       "2         Apples, ready-to-drink\n",
       "3     Apples, frozen concentrate\n",
       "4                       Apricots\n",
       "                 ...            \n",
       "57                   Raspberries\n",
       "58                   Raspberries\n",
       "59                  Strawberries\n",
       "60                  Strawberries\n",
       "61                    Watermelon\n",
       "Name: Fruit, Length: 62, dtype: object"
      ]
     },
     "execution_count": 14,
     "metadata": {},
     "output_type": "execute_result"
    }
   ],
   "source": [
    "fruit_prices"
   ]
  },
  {
   "cell_type": "code",
   "execution_count": 15,
   "id": "da93eb23-1d41-4293-b061-c47950b7cd7a",
   "metadata": {},
   "outputs": [
    {
     "data": {
      "text/plain": [
       "{0: 'Apples',\n",
       " 1: 'Apples, applesauce',\n",
       " 2: 'Apples, ready-to-drink',\n",
       " 3: 'Apples, frozen concentrate',\n",
       " 4: 'Apricots',\n",
       " 5: 'Apricots, packed in juice',\n",
       " 6: 'Apricots, packed in syrup or water',\n",
       " 7: 'Apricots',\n",
       " 8: 'Bananas',\n",
       " 9: 'Berries, mixed',\n",
       " 10: 'Blackberries',\n",
       " 11: 'Blackberries',\n",
       " 12: 'Blueberries',\n",
       " 13: 'Blueberries',\n",
       " 14: 'Cantaloupe',\n",
       " 15: 'Cherries',\n",
       " 16: 'Cherries, packed in syrup or water',\n",
       " 17: 'Clementines',\n",
       " 18: 'Cranberries',\n",
       " 19: 'Dates',\n",
       " 20: 'Figs',\n",
       " 21: 'Fruit cocktail, packed in juice',\n",
       " 22: 'Fruit cocktail, packed in syrup or water',\n",
       " 23: 'Grapefruit',\n",
       " 24: 'Grapefruit, ready-to-drink',\n",
       " 25: 'Grapes',\n",
       " 26: 'Grapes (raisins)',\n",
       " 27: 'Grapes, ready-to-drink',\n",
       " 28: 'Grapes, frozen concentrate',\n",
       " 29: 'Honeydew',\n",
       " 30: 'Kiwi',\n",
       " 31: 'Mangoes',\n",
       " 32: 'Mangoes',\n",
       " 33: 'Nectarines',\n",
       " 34: 'Oranges',\n",
       " 35: 'Oranges, ready-to-drink',\n",
       " 36: 'Oranges, frozen concentrate',\n",
       " 37: 'Papaya',\n",
       " 38: 'Papaya',\n",
       " 39: 'Peaches',\n",
       " 40: 'Peaches, packed in juice',\n",
       " 41: 'Peaches, packed in syrup or water',\n",
       " 42: 'Peaches',\n",
       " 43: 'Pears',\n",
       " 44: 'Pears, packed in juice',\n",
       " 45: 'Pears, packed in syrup or water',\n",
       " 46: 'Pineapple',\n",
       " 47: 'Pineapple, packed in juice',\n",
       " 48: 'Pineapple, packed in syrup or water',\n",
       " 49: 'Pineapple',\n",
       " 50: 'Pineapple, ready-to-drink',\n",
       " 51: 'Pineapple, frozen concentrate',\n",
       " 52: 'Plum',\n",
       " 53: 'Plum (prunes)',\n",
       " 54: 'Plum (prune), ready-to-drink',\n",
       " 55: 'Pomegranate',\n",
       " 56: 'Pomegranate, ready-to-drink',\n",
       " 57: 'Raspberries',\n",
       " 58: 'Raspberries',\n",
       " 59: 'Strawberries',\n",
       " 60: 'Strawberries',\n",
       " 61: 'Watermelon'}"
      ]
     },
     "execution_count": 15,
     "metadata": {},
     "output_type": "execute_result"
    }
   ],
   "source": [
    "dict(fruit_prices)"
   ]
  },
  {
   "cell_type": "code",
   "execution_count": 16,
   "id": "9237ab79-1d67-4dda-9e49-24b719029100",
   "metadata": {},
   "outputs": [],
   "source": [
    "fruit_dictionary = dict(fruit_prices)"
   ]
  },
  {
   "cell_type": "code",
   "execution_count": 17,
   "id": "5175710a-a1b2-4147-a4b0-753a70c282c6",
   "metadata": {},
   "outputs": [
    {
     "data": {
      "text/plain": [
       "{0: 'Apples',\n",
       " 1: 'Apples, applesauce',\n",
       " 2: 'Apples, ready-to-drink',\n",
       " 3: 'Apples, frozen concentrate',\n",
       " 4: 'Apricots',\n",
       " 5: 'Apricots, packed in juice',\n",
       " 6: 'Apricots, packed in syrup or water',\n",
       " 7: 'Apricots',\n",
       " 8: 'Bananas',\n",
       " 9: 'Berries, mixed',\n",
       " 10: 'Blackberries',\n",
       " 11: 'Blackberries',\n",
       " 12: 'Blueberries',\n",
       " 13: 'Blueberries',\n",
       " 14: 'Cantaloupe',\n",
       " 15: 'Cherries',\n",
       " 16: 'Cherries, packed in syrup or water',\n",
       " 17: 'Clementines',\n",
       " 18: 'Cranberries',\n",
       " 19: 'Dates',\n",
       " 20: 'Figs',\n",
       " 21: 'Fruit cocktail, packed in juice',\n",
       " 22: 'Fruit cocktail, packed in syrup or water',\n",
       " 23: 'Grapefruit',\n",
       " 24: 'Grapefruit, ready-to-drink',\n",
       " 25: 'Grapes',\n",
       " 26: 'Grapes (raisins)',\n",
       " 27: 'Grapes, ready-to-drink',\n",
       " 28: 'Grapes, frozen concentrate',\n",
       " 29: 'Honeydew',\n",
       " 30: 'Kiwi',\n",
       " 31: 'Mangoes',\n",
       " 32: 'Mangoes',\n",
       " 33: 'Nectarines',\n",
       " 34: 'Oranges',\n",
       " 35: 'Oranges, ready-to-drink',\n",
       " 36: 'Oranges, frozen concentrate',\n",
       " 37: 'Papaya',\n",
       " 38: 'Papaya',\n",
       " 39: 'Peaches',\n",
       " 40: 'Peaches, packed in juice',\n",
       " 41: 'Peaches, packed in syrup or water',\n",
       " 42: 'Peaches',\n",
       " 43: 'Pears',\n",
       " 44: 'Pears, packed in juice',\n",
       " 45: 'Pears, packed in syrup or water',\n",
       " 46: 'Pineapple',\n",
       " 47: 'Pineapple, packed in juice',\n",
       " 48: 'Pineapple, packed in syrup or water',\n",
       " 49: 'Pineapple',\n",
       " 50: 'Pineapple, ready-to-drink',\n",
       " 51: 'Pineapple, frozen concentrate',\n",
       " 52: 'Plum',\n",
       " 53: 'Plum (prunes)',\n",
       " 54: 'Plum (prune), ready-to-drink',\n",
       " 55: 'Pomegranate',\n",
       " 56: 'Pomegranate, ready-to-drink',\n",
       " 57: 'Raspberries',\n",
       " 58: 'Raspberries',\n",
       " 59: 'Strawberries',\n",
       " 60: 'Strawberries',\n",
       " 61: 'Watermelon'}"
      ]
     },
     "execution_count": 17,
     "metadata": {},
     "output_type": "execute_result"
    }
   ],
   "source": [
    "fruit_dictionary"
   ]
  },
  {
   "cell_type": "code",
   "execution_count": 18,
   "id": "fa6a5012-af10-40fb-b366-b0fa9b7a6ae1",
   "metadata": {},
   "outputs": [
    {
     "data": {
      "text/plain": [
       "'Apricots, packed in juice'"
      ]
     },
     "execution_count": 18,
     "metadata": {},
     "output_type": "execute_result"
    }
   ],
   "source": [
    "fruit_dictionary[5]"
   ]
  },
  {
   "cell_type": "code",
   "execution_count": 19,
   "id": "f48eeb15-2142-4e5a-964f-326610cf34d9",
   "metadata": {},
   "outputs": [
    {
     "data": {
      "text/plain": [
       "pandas.core.series.Series"
      ]
     },
     "execution_count": 19,
     "metadata": {},
     "output_type": "execute_result"
    }
   ],
   "source": [
    "type(fruit_prices)"
   ]
  },
  {
   "cell_type": "code",
   "execution_count": 20,
   "id": "84e166af-5afb-41dc-8f86-107c460658c8",
   "metadata": {},
   "outputs": [
    {
     "data": {
      "text/plain": [
       "dict"
      ]
     },
     "execution_count": 20,
     "metadata": {},
     "output_type": "execute_result"
    }
   ],
   "source": [
    "type(fruit_dictionary)"
   ]
  },
  {
   "cell_type": "code",
   "execution_count": 21,
   "id": "b48689bb-ba91-4879-8896-675fb9a724df",
   "metadata": {},
   "outputs": [
    {
     "data": {
      "text/plain": [
       "['Apples',\n",
       " 'Apples, applesauce',\n",
       " 'Apples, frozen concentrate',\n",
       " 'Apples, ready-to-drink',\n",
       " 'Apricots',\n",
       " 'Apricots',\n",
       " 'Apricots, packed in juice',\n",
       " 'Apricots, packed in syrup or water',\n",
       " 'Bananas',\n",
       " 'Berries, mixed',\n",
       " 'Blackberries',\n",
       " 'Blackberries',\n",
       " 'Blueberries',\n",
       " 'Blueberries',\n",
       " 'Cantaloupe',\n",
       " 'Cherries',\n",
       " 'Cherries, packed in syrup or water',\n",
       " 'Clementines',\n",
       " 'Cranberries',\n",
       " 'Dates',\n",
       " 'Figs',\n",
       " 'Fruit cocktail, packed in juice',\n",
       " 'Fruit cocktail, packed in syrup or water',\n",
       " 'Grapefruit',\n",
       " 'Grapefruit, ready-to-drink',\n",
       " 'Grapes',\n",
       " 'Grapes (raisins)',\n",
       " 'Grapes, frozen concentrate',\n",
       " 'Grapes, ready-to-drink',\n",
       " 'Honeydew',\n",
       " 'Kiwi',\n",
       " 'Mangoes',\n",
       " 'Mangoes',\n",
       " 'Nectarines',\n",
       " 'Oranges',\n",
       " 'Oranges, frozen concentrate',\n",
       " 'Oranges, ready-to-drink',\n",
       " 'Papaya',\n",
       " 'Papaya',\n",
       " 'Peaches',\n",
       " 'Peaches',\n",
       " 'Peaches, packed in juice',\n",
       " 'Peaches, packed in syrup or water',\n",
       " 'Pears',\n",
       " 'Pears, packed in juice',\n",
       " 'Pears, packed in syrup or water',\n",
       " 'Pineapple',\n",
       " 'Pineapple',\n",
       " 'Pineapple, frozen concentrate',\n",
       " 'Pineapple, packed in juice',\n",
       " 'Pineapple, packed in syrup or water',\n",
       " 'Pineapple, ready-to-drink',\n",
       " 'Plum',\n",
       " 'Plum (prune), ready-to-drink',\n",
       " 'Plum (prunes)',\n",
       " 'Pomegranate',\n",
       " 'Pomegranate, ready-to-drink',\n",
       " 'Raspberries',\n",
       " 'Raspberries',\n",
       " 'Strawberries',\n",
       " 'Strawberries',\n",
       " 'Watermelon']"
      ]
     },
     "execution_count": 21,
     "metadata": {},
     "output_type": "execute_result"
    }
   ],
   "source": [
    "sorted(fruit_prices)"
   ]
  },
  {
   "cell_type": "code",
   "execution_count": 22,
   "id": "76e0de8f-2eaa-4709-9b39-cf8a7c8965a7",
   "metadata": {},
   "outputs": [
    {
     "data": {
      "text/plain": [
       "[0.3604,\n",
       " 0.5249,\n",
       " 0.5685,\n",
       " 0.5767,\n",
       " 0.5853,\n",
       " 0.6973,\n",
       " 0.7119,\n",
       " 0.769,\n",
       " 0.7804,\n",
       " 0.9056,\n",
       " 0.9215,\n",
       " 0.9842,\n",
       " 1.0288,\n",
       " 1.0415,\n",
       " 1.066,\n",
       " 1.1513,\n",
       " 1.1695,\n",
       " 1.2131,\n",
       " 1.2904,\n",
       " 1.3847,\n",
       " 1.4067,\n",
       " 1.4344,\n",
       " 1.5193,\n",
       " 1.5522,\n",
       " 1.5865,\n",
       " 1.5932,\n",
       " 1.6905,\n",
       " 1.7167,\n",
       " 1.7198,\n",
       " 1.8117,\n",
       " 1.8398,\n",
       " 1.897,\n",
       " 1.9062,\n",
       " 1.9546,\n",
       " 2.0237,\n",
       " 2.0292,\n",
       " 2.06,\n",
       " 2.1849,\n",
       " 2.235,\n",
       " 2.58,\n",
       " 2.8189,\n",
       " 2.9665,\n",
       " 3.122,\n",
       " 3.3867,\n",
       " 3.3898,\n",
       " 3.4269,\n",
       " 3.5585,\n",
       " 3.6362,\n",
       " 3.7801,\n",
       " 4.1739,\n",
       " 4.1877,\n",
       " 4.5257,\n",
       " 4.6513,\n",
       " 5.5089,\n",
       " 5.5713,\n",
       " 5.7042,\n",
       " 6.0172,\n",
       " 6.6188,\n",
       " 6.6391,\n",
       " 6.6492,\n",
       " 6.8371,\n",
       " 10.5527]"
      ]
     },
     "execution_count": 22,
     "metadata": {},
     "output_type": "execute_result"
    }
   ],
   "source": [
    "sorted(fruit_retailprice)"
   ]
  },
  {
   "cell_type": "code",
   "execution_count": 25,
   "id": "4a3be41c-e0bb-4129-82dd-6e5d8c191612",
   "metadata": {},
   "outputs": [
    {
     "data": {
      "text/plain": [
       "True"
      ]
     },
     "execution_count": 25,
     "metadata": {},
     "output_type": "execute_result"
    }
   ],
   "source": [
    "\"Apples\" in fruit_prices.values"
   ]
  },
  {
   "cell_type": "code",
   "execution_count": 26,
   "id": "29a75930-5d78-415e-b064-8b8de523c67c",
   "metadata": {},
   "outputs": [
    {
     "data": {
      "text/plain": [
       "a    10\n",
       "b    20\n",
       "c    30\n",
       "d    40\n",
       "dtype: int64"
      ]
     },
     "execution_count": 26,
     "metadata": {},
     "output_type": "execute_result"
    }
   ],
   "source": [
    "s = Series([10,20,30,40], index=['a','b','c','d'])\n",
    "s"
   ]
  },
  {
   "cell_type": "code",
   "execution_count": 27,
   "id": "4b82b291-6307-489d-b2d6-e4203fe48262",
   "metadata": {},
   "outputs": [
    {
     "data": {
      "text/plain": [
       "30"
      ]
     },
     "execution_count": 27,
     "metadata": {},
     "output_type": "execute_result"
    }
   ],
   "source": [
    "s['c']"
   ]
  },
  {
   "cell_type": "code",
   "execution_count": 28,
   "id": "bfe835f5-9398-4e81-9b08-d07cbcceb432",
   "metadata": {},
   "outputs": [
    {
     "data": {
      "text/plain": [
       "a    10\n",
       "b    20\n",
       "c    30\n",
       "dtype: int64"
      ]
     },
     "execution_count": 28,
     "metadata": {},
     "output_type": "execute_result"
    }
   ],
   "source": [
    "s['a':'c']"
   ]
  },
  {
   "cell_type": "code",
   "execution_count": 29,
   "id": "09423ec4-1c0c-44d0-839d-424d16877a98",
   "metadata": {},
   "outputs": [
    {
     "data": {
      "text/plain": [
       "a    10\n",
       "b    20\n",
       "c    30\n",
       "d    40\n",
       "dtype: int64"
      ]
     },
     "execution_count": 29,
     "metadata": {},
     "output_type": "execute_result"
    }
   ],
   "source": [
    "s"
   ]
  },
  {
   "cell_type": "code",
   "execution_count": 30,
   "id": "a1028c1c-b9ca-47cb-b79d-d630066c950e",
   "metadata": {},
   "outputs": [
    {
     "name": "stderr",
     "output_type": "stream",
     "text": [
      "/var/folders/bv/dtkgtzxx4654_5b6ys39vyrh0000gn/T/ipykernel_16898/2635755408.py:1: FutureWarning: Series.__getitem__ treating keys as positions is deprecated. In a future version, integer keys will always be treated as labels (consistent with DataFrame behavior). To access a value by position, use `ser.iloc[pos]`\n",
      "  s[2]\n"
     ]
    },
    {
     "data": {
      "text/plain": [
       "30"
      ]
     },
     "execution_count": 30,
     "metadata": {},
     "output_type": "execute_result"
    }
   ],
   "source": [
    "s[2]"
   ]
  },
  {
   "cell_type": "code",
   "execution_count": 31,
   "id": "3bfe57db-db85-4b9e-bf76-9e7e3c3fdd2d",
   "metadata": {},
   "outputs": [
    {
     "data": {
      "text/plain": [
       "30"
      ]
     },
     "execution_count": 31,
     "metadata": {},
     "output_type": "execute_result"
    }
   ],
   "source": [
    "s.iloc[2]"
   ]
  },
  {
   "cell_type": "code",
   "execution_count": 32,
   "id": "b07ff09c-1e2f-45aa-9242-24ea4e3e246a",
   "metadata": {},
   "outputs": [
    {
     "data": {
      "text/plain": [
       "a    10\n",
       "b    20\n",
       "c    30\n",
       "d    40\n",
       "dtype: int64"
      ]
     },
     "execution_count": 32,
     "metadata": {},
     "output_type": "execute_result"
    }
   ],
   "source": [
    "s"
   ]
  },
  {
   "cell_type": "code",
   "execution_count": 34,
   "id": "e2518f78-911f-43b6-b6f5-0994d350bdd2",
   "metadata": {},
   "outputs": [
    {
     "data": {
      "text/plain": [
       "a    10\n",
       "b    20\n",
       "c    30\n",
       "dtype: int64"
      ]
     },
     "execution_count": 34,
     "metadata": {},
     "output_type": "execute_result"
    }
   ],
   "source": [
    "s[0:3]"
   ]
  },
  {
   "cell_type": "code",
   "execution_count": 1,
   "id": "d042b5c7-6f16-4522-8080-fc6941ef28bc",
   "metadata": {},
   "outputs": [],
   "source": [
    "import numpy as np\n",
    "from pandas import DataFrame, Series\n",
    "import pandas as pd"
   ]
  },
  {
   "cell_type": "code",
   "execution_count": 2,
   "id": "b50cddf4-118d-4ede-b8db-5d1c87f9b8d1",
   "metadata": {},
   "outputs": [
    {
     "data": {
      "text/plain": [
       "a    10\n",
       "b    20\n",
       "c    30\n",
       "d    40\n",
       "dtype: int64"
      ]
     },
     "execution_count": 2,
     "metadata": {},
     "output_type": "execute_result"
    }
   ],
   "source": [
    "s = Series([10,20,30,40], index=['a','b','c','d'])\n",
    "s"
   ]
  },
  {
   "cell_type": "code",
   "execution_count": 3,
   "id": "da906c45-dd4c-40fe-83bd-8f4599568db6",
   "metadata": {},
   "outputs": [
    {
     "data": {
      "text/plain": [
       "a    10\n",
       "b    20\n",
       "c    30\n",
       "dtype: int64"
      ]
     },
     "execution_count": 3,
     "metadata": {},
     "output_type": "execute_result"
    }
   ],
   "source": [
    "s.iloc[0:3]"
   ]
  },
  {
   "cell_type": "code",
   "execution_count": 5,
   "id": "38c27353-8c12-42a7-8ba3-28e8534af8b8",
   "metadata": {},
   "outputs": [
    {
     "data": {
      "text/plain": [
       "a    10\n",
       "dtype: int64"
      ]
     },
     "execution_count": 5,
     "metadata": {},
     "output_type": "execute_result"
    }
   ],
   "source": [
    "s[s<20]"
   ]
  },
  {
   "cell_type": "code",
   "execution_count": 6,
   "id": "3c032e82-9564-4756-8e89-100d08f67a37",
   "metadata": {},
   "outputs": [
    {
     "data": {
      "text/plain": [
       "a    10\n",
       "b    20\n",
       "c    30\n",
       "d    40\n",
       "dtype: int64"
      ]
     },
     "execution_count": 6,
     "metadata": {},
     "output_type": "execute_result"
    }
   ],
   "source": [
    "s"
   ]
  },
  {
   "cell_type": "code",
   "execution_count": 7,
   "id": "9749eec1-61e9-4f56-af05-e0b9c06686f0",
   "metadata": {},
   "outputs": [
    {
     "data": {
      "text/plain": [
       "a    10\n",
       "c    30\n",
       "dtype: int64"
      ]
     },
     "execution_count": 7,
     "metadata": {},
     "output_type": "execute_result"
    }
   ],
   "source": [
    "s[['a','c']]"
   ]
  },
  {
   "cell_type": "code",
   "execution_count": 8,
   "id": "a2ec4fce-7bb8-4a52-970d-7fba41faafe8",
   "metadata": {},
   "outputs": [
    {
     "name": "stderr",
     "output_type": "stream",
     "text": [
      "/var/folders/bv/dtkgtzxx4654_5b6ys39vyrh0000gn/T/ipykernel_16226/3564952764.py:1: FutureWarning: Series.__getitem__ treating keys as positions is deprecated. In a future version, integer keys will always be treated as labels (consistent with DataFrame behavior). To access a value by position, use `ser.iloc[pos]`\n",
      "  s[[0,2,3]]\n"
     ]
    },
    {
     "data": {
      "text/plain": [
       "a    10\n",
       "c    30\n",
       "d    40\n",
       "dtype: int64"
      ]
     },
     "execution_count": 8,
     "metadata": {},
     "output_type": "execute_result"
    }
   ],
   "source": [
    "s[[0,2,3]]"
   ]
  },
  {
   "cell_type": "code",
   "execution_count": 9,
   "id": "b1f0cead-e99b-4547-aadb-8fd5326fd7ab",
   "metadata": {},
   "outputs": [
    {
     "data": {
      "text/plain": [
       "a    10\n",
       "c    30\n",
       "d    40\n",
       "dtype: int64"
      ]
     },
     "execution_count": 9,
     "metadata": {},
     "output_type": "execute_result"
    }
   ],
   "source": [
    "s.iloc[[0,2,3]]"
   ]
  },
  {
   "cell_type": "code",
   "execution_count": 10,
   "id": "cdd7f24e-f68d-424a-b1a1-a2c3ff97530c",
   "metadata": {},
   "outputs": [
    {
     "ename": "NameError",
     "evalue": "name 'fruit_prices' is not defined",
     "output_type": "error",
     "traceback": [
      "\u001b[0;31m---------------------------------------------------------------------------\u001b[0m",
      "\u001b[0;31mNameError\u001b[0m                                 Traceback (most recent call last)",
      "Cell \u001b[0;32mIn[10], line 1\u001b[0m\n\u001b[0;32m----> 1\u001b[0m \u001b[43mfruit_prices\u001b[49m\n",
      "\u001b[0;31mNameError\u001b[0m: name 'fruit_prices' is not defined"
     ]
    }
   ],
   "source": [
    "fruit_prices"
   ]
  },
  {
   "cell_type": "code",
   "execution_count": 11,
   "id": "14abec7b-1f06-4487-946d-dc43d92d823d",
   "metadata": {},
   "outputs": [
    {
     "data": {
      "text/plain": [
       "0                         Apples\n",
       "1             Apples, applesauce\n",
       "2         Apples, ready-to-drink\n",
       "3     Apples, frozen concentrate\n",
       "4                       Apricots\n",
       "                 ...            \n",
       "57                   Raspberries\n",
       "58                   Raspberries\n",
       "59                  Strawberries\n",
       "60                  Strawberries\n",
       "61                    Watermelon\n",
       "Name: Fruit, Length: 62, dtype: object"
      ]
     },
     "execution_count": 11,
     "metadata": {},
     "output_type": "execute_result"
    }
   ],
   "source": [
    "fruit_prices = pd.read_csv('fruit_prices.csv',usecols=['Fruit']).squeeze(\"columns\")\n",
    "fruit_prices"
   ]
  },
  {
   "cell_type": "code",
   "execution_count": 12,
   "id": "e61260ff-8b13-4252-86a9-ebb26737dc6b",
   "metadata": {},
   "outputs": [
    {
     "data": {
      "text/plain": [
       "{0: 'Apples',\n",
       " 1: 'Apples, applesauce',\n",
       " 2: 'Apples, ready-to-drink',\n",
       " 3: 'Apples, frozen concentrate',\n",
       " 4: 'Apricots',\n",
       " 5: 'Apricots, packed in juice',\n",
       " 6: 'Apricots, packed in syrup or water',\n",
       " 7: 'Apricots',\n",
       " 8: 'Bananas',\n",
       " 9: 'Berries, mixed',\n",
       " 10: 'Blackberries',\n",
       " 11: 'Blackberries',\n",
       " 12: 'Blueberries',\n",
       " 13: 'Blueberries',\n",
       " 14: 'Cantaloupe',\n",
       " 15: 'Cherries',\n",
       " 16: 'Cherries, packed in syrup or water',\n",
       " 17: 'Clementines',\n",
       " 18: 'Cranberries',\n",
       " 19: 'Dates',\n",
       " 20: 'Figs',\n",
       " 21: 'Fruit cocktail, packed in juice',\n",
       " 22: 'Fruit cocktail, packed in syrup or water',\n",
       " 23: 'Grapefruit',\n",
       " 24: 'Grapefruit, ready-to-drink',\n",
       " 25: 'Grapes',\n",
       " 26: 'Grapes (raisins)',\n",
       " 27: 'Grapes, ready-to-drink',\n",
       " 28: 'Grapes, frozen concentrate',\n",
       " 29: 'Honeydew',\n",
       " 30: 'Kiwi',\n",
       " 31: 'Mangoes',\n",
       " 32: 'Mangoes',\n",
       " 33: 'Nectarines',\n",
       " 34: 'Oranges',\n",
       " 35: 'Oranges, ready-to-drink',\n",
       " 36: 'Oranges, frozen concentrate',\n",
       " 37: 'Papaya',\n",
       " 38: 'Papaya',\n",
       " 39: 'Peaches',\n",
       " 40: 'Peaches, packed in juice',\n",
       " 41: 'Peaches, packed in syrup or water',\n",
       " 42: 'Peaches',\n",
       " 43: 'Pears',\n",
       " 44: 'Pears, packed in juice',\n",
       " 45: 'Pears, packed in syrup or water',\n",
       " 46: 'Pineapple',\n",
       " 47: 'Pineapple, packed in juice',\n",
       " 48: 'Pineapple, packed in syrup or water',\n",
       " 49: 'Pineapple',\n",
       " 50: 'Pineapple, ready-to-drink',\n",
       " 51: 'Pineapple, frozen concentrate',\n",
       " 52: 'Plum',\n",
       " 53: 'Plum (prunes)',\n",
       " 54: 'Plum (prune), ready-to-drink',\n",
       " 55: 'Pomegranate',\n",
       " 56: 'Pomegranate, ready-to-drink',\n",
       " 57: 'Raspberries',\n",
       " 58: 'Raspberries',\n",
       " 59: 'Strawberries',\n",
       " 60: 'Strawberries',\n",
       " 61: 'Watermelon'}"
      ]
     },
     "execution_count": 12,
     "metadata": {},
     "output_type": "execute_result"
    }
   ],
   "source": [
    "fruit_dictionary = dict(fruit_prices)\n",
    "fruit_dictionary"
   ]
  },
  {
   "cell_type": "code",
   "execution_count": 13,
   "id": "66a01584-607d-45e3-be2d-85f62b794aee",
   "metadata": {},
   "outputs": [
    {
     "data": {
      "text/plain": [
       "0     1.5193\n",
       "1     1.0660\n",
       "2     0.7804\n",
       "3     0.5853\n",
       "4     2.9665\n",
       "       ...  \n",
       "57    6.6391\n",
       "58    4.1877\n",
       "59    2.5800\n",
       "60    2.8189\n",
       "61    0.3604\n",
       "Name: RetailPrice, Length: 62, dtype: float64"
      ]
     },
     "execution_count": 13,
     "metadata": {},
     "output_type": "execute_result"
    }
   ],
   "source": [
    "fruit_retailprice = pd.read_csv('fruit_prices.csv',usecols=['RetailPrice']).squeeze(\"columns\")\n",
    "fruit_retailprice"
   ]
  },
  {
   "cell_type": "code",
   "execution_count": 14,
   "id": "303b6e8d-55bd-4110-bcb4-45218a1fb0a9",
   "metadata": {},
   "outputs": [
    {
     "data": {
      "text/plain": [
       "'Apricots'"
      ]
     },
     "execution_count": 14,
     "metadata": {},
     "output_type": "execute_result"
    }
   ],
   "source": [
    "fruit_prices[4]"
   ]
  },
  {
   "cell_type": "code",
   "execution_count": 15,
   "id": "499c26e8-8982-4d58-8a39-0c4992bd31f4",
   "metadata": {},
   "outputs": [
    {
     "data": {
      "text/plain": [
       "0                        Apples\n",
       "1            Apples, applesauce\n",
       "2        Apples, ready-to-drink\n",
       "3    Apples, frozen concentrate\n",
       "4                      Apricots\n",
       "Name: Fruit, dtype: object"
      ]
     },
     "execution_count": 15,
     "metadata": {},
     "output_type": "execute_result"
    }
   ],
   "source": [
    "fruit_prices[[0,1,2,3,4]]"
   ]
  },
  {
   "cell_type": "code",
   "execution_count": 16,
   "id": "9f1ff640-409d-422d-90b5-ba606a34d7c9",
   "metadata": {},
   "outputs": [
    {
     "ename": "SyntaxError",
     "evalue": "invalid syntax (1676399437.py, line 1)",
     "output_type": "error",
     "traceback": [
      "\u001b[0;36m  Cell \u001b[0;32mIn[16], line 1\u001b[0;36m\u001b[0m\n\u001b[0;31m    fruit_prices[[10:20]]\u001b[0m\n\u001b[0m                    ^\u001b[0m\n\u001b[0;31mSyntaxError\u001b[0m\u001b[0;31m:\u001b[0m invalid syntax\n"
     ]
    }
   ],
   "source": [
    "fruit_prices[[10:20]]"
   ]
  },
  {
   "cell_type": "code",
   "execution_count": 18,
   "id": "44c052da-384f-4aa0-8289-d09299bb4929",
   "metadata": {},
   "outputs": [
    {
     "data": {
      "text/plain": [
       "10                          Blackberries\n",
       "11                          Blackberries\n",
       "12                           Blueberries\n",
       "13                           Blueberries\n",
       "14                            Cantaloupe\n",
       "15                              Cherries\n",
       "16    Cherries, packed in syrup or water\n",
       "17                           Clementines\n",
       "18                           Cranberries\n",
       "19                                 Dates\n",
       "20                                  Figs\n",
       "Name: Fruit, dtype: object"
      ]
     },
     "execution_count": 18,
     "metadata": {},
     "output_type": "execute_result"
    }
   ],
   "source": [
    "fruit_prices[10:21]"
   ]
  },
  {
   "cell_type": "code",
   "execution_count": 19,
   "id": "b777c16a-d629-45b2-936a-84cfc1e66af5",
   "metadata": {},
   "outputs": [
    {
     "data": {
      "text/plain": [
       "'Apples'"
      ]
     },
     "execution_count": 19,
     "metadata": {},
     "output_type": "execute_result"
    }
   ],
   "source": [
    "fruit_prices[0]"
   ]
  },
  {
   "cell_type": "code",
   "execution_count": 20,
   "id": "7872cdcf-3388-46c7-85de-354d918b6b84",
   "metadata": {},
   "outputs": [
    {
     "data": {
      "text/plain": [
       "'Apples'"
      ]
     },
     "execution_count": 20,
     "metadata": {},
     "output_type": "execute_result"
    }
   ],
   "source": [
    "fruit_prices.iloc[0]"
   ]
  },
  {
   "cell_type": "code",
   "execution_count": 21,
   "id": "52e0d2fa-0f72-4c39-ae59-590a3c9fb4a8",
   "metadata": {},
   "outputs": [
    {
     "data": {
      "text/plain": [
       "1     Apple\n",
       "2     Mango\n",
       "3    Orange\n",
       "dtype: object"
      ]
     },
     "execution_count": 21,
     "metadata": {},
     "output_type": "execute_result"
    }
   ],
   "source": [
    "fruits = Series(['Apple', 'Mango', 'Orange'], index=[1,2,3])\n",
    "fruits"
   ]
  },
  {
   "cell_type": "code",
   "execution_count": 22,
   "id": "515f5b32-3b96-42b3-b9a6-58e1bfedc8a3",
   "metadata": {},
   "outputs": [
    {
     "data": {
      "text/plain": [
       "'Apple'"
      ]
     },
     "execution_count": 22,
     "metadata": {},
     "output_type": "execute_result"
    }
   ],
   "source": [
    "fruits[1]"
   ]
  },
  {
   "cell_type": "code",
   "execution_count": 23,
   "id": "be3c41aa-0b1b-4de1-8de4-b10db1c31188",
   "metadata": {},
   "outputs": [
    {
     "data": {
      "text/plain": [
       "'Mango'"
      ]
     },
     "execution_count": 23,
     "metadata": {},
     "output_type": "execute_result"
    }
   ],
   "source": [
    "fruits.iloc[1]"
   ]
  },
  {
   "cell_type": "code",
   "execution_count": 25,
   "id": "dd305494-b5d3-4402-9d63-0040718d7c9a",
   "metadata": {},
   "outputs": [
    {
     "data": {
      "text/plain": [
       "1            Apples, applesauce\n",
       "2        Apples, ready-to-drink\n",
       "3    Apples, frozen concentrate\n",
       "4                      Apricots\n",
       "Name: Fruit, dtype: object"
      ]
     },
     "execution_count": 25,
     "metadata": {},
     "output_type": "execute_result"
    }
   ],
   "source": [
    "fruit_prices.iloc[[1,2,3,4]]"
   ]
  },
  {
   "cell_type": "code",
   "execution_count": 27,
   "id": "1fe97a5b-fc95-4735-b946-f40296f514e5",
   "metadata": {},
   "outputs": [
    {
     "data": {
      "text/plain": [
       "0                                Apples\n",
       "1                    Apples, applesauce\n",
       "2                Apples, ready-to-drink\n",
       "3            Apples, frozen concentrate\n",
       "4                              Apricots\n",
       "5             Apricots, packed in juice\n",
       "6    Apricots, packed in syrup or water\n",
       "7                              Apricots\n",
       "8                               Bananas\n",
       "9                        Berries, mixed\n",
       "Name: Fruit, dtype: object"
      ]
     },
     "execution_count": 27,
     "metadata": {},
     "output_type": "execute_result"
    }
   ],
   "source": [
    "fruit_prices.iloc[:10]"
   ]
  },
  {
   "cell_type": "code",
   "execution_count": 28,
   "id": "7d1a9f3a-7f18-4de2-a6b1-cb22a4f163a9",
   "metadata": {},
   "outputs": [
    {
     "data": {
      "text/plain": [
       "'Blackberries'"
      ]
     },
     "execution_count": 28,
     "metadata": {},
     "output_type": "execute_result"
    }
   ],
   "source": [
    "fruit_prices.iloc[10]"
   ]
  },
  {
   "cell_type": "code",
   "execution_count": 29,
   "id": "9549ae47-aaa5-4500-b5ce-7123c329838b",
   "metadata": {},
   "outputs": [
    {
     "data": {
      "text/plain": [
       "0                         Apples\n",
       "1             Apples, applesauce\n",
       "2         Apples, ready-to-drink\n",
       "3     Apples, frozen concentrate\n",
       "4                       Apricots\n",
       "                 ...            \n",
       "57                   Raspberries\n",
       "58                   Raspberries\n",
       "59                  Strawberries\n",
       "60                  Strawberries\n",
       "61                    Watermelon\n",
       "Name: Fruit, Length: 62, dtype: object"
      ]
     },
     "execution_count": 29,
     "metadata": {},
     "output_type": "execute_result"
    }
   ],
   "source": [
    "fruit_prices"
   ]
  },
  {
   "cell_type": "code",
   "execution_count": 30,
   "id": "8d88c56c-92fb-4b9c-af4f-1d3fa56b79e0",
   "metadata": {},
   "outputs": [
    {
     "ename": "IndexError",
     "evalue": "single positional indexer is out-of-bounds",
     "output_type": "error",
     "traceback": [
      "\u001b[0;31m---------------------------------------------------------------------------\u001b[0m",
      "\u001b[0;31mIndexError\u001b[0m                                Traceback (most recent call last)",
      "Cell \u001b[0;32mIn[30], line 1\u001b[0m\n\u001b[0;32m----> 1\u001b[0m \u001b[43mfruit_prices\u001b[49m\u001b[38;5;241;43m.\u001b[39;49m\u001b[43miloc\u001b[49m\u001b[43m[\u001b[49m\u001b[38;5;241;43m100\u001b[39;49m\u001b[43m]\u001b[49m\n",
      "File \u001b[0;32m~/.pyenv/versions/3.10.9/lib/python3.10/site-packages/pandas/core/indexing.py:1191\u001b[0m, in \u001b[0;36m_LocationIndexer.__getitem__\u001b[0;34m(self, key)\u001b[0m\n\u001b[1;32m   1189\u001b[0m maybe_callable \u001b[38;5;241m=\u001b[39m com\u001b[38;5;241m.\u001b[39mapply_if_callable(key, \u001b[38;5;28mself\u001b[39m\u001b[38;5;241m.\u001b[39mobj)\n\u001b[1;32m   1190\u001b[0m maybe_callable \u001b[38;5;241m=\u001b[39m \u001b[38;5;28mself\u001b[39m\u001b[38;5;241m.\u001b[39m_check_deprecated_callable_usage(key, maybe_callable)\n\u001b[0;32m-> 1191\u001b[0m \u001b[38;5;28;01mreturn\u001b[39;00m \u001b[38;5;28;43mself\u001b[39;49m\u001b[38;5;241;43m.\u001b[39;49m\u001b[43m_getitem_axis\u001b[49m\u001b[43m(\u001b[49m\u001b[43mmaybe_callable\u001b[49m\u001b[43m,\u001b[49m\u001b[43m \u001b[49m\u001b[43maxis\u001b[49m\u001b[38;5;241;43m=\u001b[39;49m\u001b[43maxis\u001b[49m\u001b[43m)\u001b[49m\n",
      "File \u001b[0;32m~/.pyenv/versions/3.10.9/lib/python3.10/site-packages/pandas/core/indexing.py:1752\u001b[0m, in \u001b[0;36m_iLocIndexer._getitem_axis\u001b[0;34m(self, key, axis)\u001b[0m\n\u001b[1;32m   1749\u001b[0m     \u001b[38;5;28;01mraise\u001b[39;00m \u001b[38;5;167;01mTypeError\u001b[39;00m(\u001b[38;5;124m\"\u001b[39m\u001b[38;5;124mCannot index by location index with a non-integer key\u001b[39m\u001b[38;5;124m\"\u001b[39m)\n\u001b[1;32m   1751\u001b[0m \u001b[38;5;66;03m# validate the location\u001b[39;00m\n\u001b[0;32m-> 1752\u001b[0m \u001b[38;5;28;43mself\u001b[39;49m\u001b[38;5;241;43m.\u001b[39;49m\u001b[43m_validate_integer\u001b[49m\u001b[43m(\u001b[49m\u001b[43mkey\u001b[49m\u001b[43m,\u001b[49m\u001b[43m \u001b[49m\u001b[43maxis\u001b[49m\u001b[43m)\u001b[49m\n\u001b[1;32m   1754\u001b[0m \u001b[38;5;28;01mreturn\u001b[39;00m \u001b[38;5;28mself\u001b[39m\u001b[38;5;241m.\u001b[39mobj\u001b[38;5;241m.\u001b[39m_ixs(key, axis\u001b[38;5;241m=\u001b[39maxis)\n",
      "File \u001b[0;32m~/.pyenv/versions/3.10.9/lib/python3.10/site-packages/pandas/core/indexing.py:1685\u001b[0m, in \u001b[0;36m_iLocIndexer._validate_integer\u001b[0;34m(self, key, axis)\u001b[0m\n\u001b[1;32m   1683\u001b[0m len_axis \u001b[38;5;241m=\u001b[39m \u001b[38;5;28mlen\u001b[39m(\u001b[38;5;28mself\u001b[39m\u001b[38;5;241m.\u001b[39mobj\u001b[38;5;241m.\u001b[39m_get_axis(axis))\n\u001b[1;32m   1684\u001b[0m \u001b[38;5;28;01mif\u001b[39;00m key \u001b[38;5;241m>\u001b[39m\u001b[38;5;241m=\u001b[39m len_axis \u001b[38;5;129;01mor\u001b[39;00m key \u001b[38;5;241m<\u001b[39m \u001b[38;5;241m-\u001b[39mlen_axis:\n\u001b[0;32m-> 1685\u001b[0m     \u001b[38;5;28;01mraise\u001b[39;00m \u001b[38;5;167;01mIndexError\u001b[39;00m(\u001b[38;5;124m\"\u001b[39m\u001b[38;5;124msingle positional indexer is out-of-bounds\u001b[39m\u001b[38;5;124m\"\u001b[39m)\n",
      "\u001b[0;31mIndexError\u001b[0m: single positional indexer is out-of-bounds"
     ]
    }
   ],
   "source": [
    "fruit_prices.iloc[100]"
   ]
  },
  {
   "cell_type": "code",
   "execution_count": 31,
   "id": "94c5a7d6-0e02-4a89-ac9e-ef07ad3b9c73",
   "metadata": {},
   "outputs": [
    {
     "data": {
      "text/plain": [
       "'Blackberries'"
      ]
     },
     "execution_count": 31,
     "metadata": {},
     "output_type": "execute_result"
    }
   ],
   "source": [
    "fruit_prices.get(10)"
   ]
  },
  {
   "cell_type": "code",
   "execution_count": 32,
   "id": "49e6fd2c-192e-4d53-87d4-b6c57c01469a",
   "metadata": {},
   "outputs": [],
   "source": [
    "fruit_prices.get(100)"
   ]
  },
  {
   "cell_type": "code",
   "execution_count": 33,
   "id": "7fe9abb2-86b3-4287-aae5-6ef9b6a7f2b0",
   "metadata": {},
   "outputs": [
    {
     "data": {
      "text/plain": [
       "'Generic Fruit'"
      ]
     },
     "execution_count": 33,
     "metadata": {},
     "output_type": "execute_result"
    }
   ],
   "source": [
    "fruit_prices.get(100,\"Generic Fruit\")"
   ]
  },
  {
   "cell_type": "code",
   "execution_count": 1,
   "id": "d6f7599c-9725-408e-86f7-17525c494fa0",
   "metadata": {},
   "outputs": [],
   "source": [
    "import numpy as np\n",
    "from pandas import DataFrame, Series\n",
    "import pandas as pd"
   ]
  },
  {
   "cell_type": "code",
   "execution_count": 2,
   "id": "dfb1d986-ce20-4269-a13f-0f6feef0190a",
   "metadata": {},
   "outputs": [
    {
     "data": {
      "text/plain": [
       "0                         Apples\n",
       "1             Apples, applesauce\n",
       "2         Apples, ready-to-drink\n",
       "3     Apples, frozen concentrate\n",
       "4                       Apricots\n",
       "                 ...            \n",
       "57                   Raspberries\n",
       "58                   Raspberries\n",
       "59                  Strawberries\n",
       "60                  Strawberries\n",
       "61                    Watermelon\n",
       "Name: Fruit, Length: 62, dtype: object"
      ]
     },
     "execution_count": 2,
     "metadata": {},
     "output_type": "execute_result"
    }
   ],
   "source": [
    "fruit_prices = pd.read_csv('fruit_prices.csv',usecols=['Fruit']).squeeze(\"columns\")\n",
    "fruit_prices"
   ]
  },
  {
   "cell_type": "code",
   "execution_count": 3,
   "id": "b4e87fc8-92fa-4109-9869-559087f44f4a",
   "metadata": {},
   "outputs": [
    {
     "data": {
      "text/plain": [
       "0     1.5193\n",
       "1     1.0660\n",
       "2     0.7804\n",
       "3     0.5853\n",
       "4     2.9665\n",
       "       ...  \n",
       "57    6.6391\n",
       "58    4.1877\n",
       "59    2.5800\n",
       "60    2.8189\n",
       "61    0.3604\n",
       "Name: RetailPrice, Length: 62, dtype: float64"
      ]
     },
     "execution_count": 3,
     "metadata": {},
     "output_type": "execute_result"
    }
   ],
   "source": [
    "fruit_retailprice = pd.read_csv('fruit_prices.csv',usecols=['RetailPrice']).squeeze(\"columns\")\n",
    "fruit_retailprice"
   ]
  },
  {
   "cell_type": "code",
   "execution_count": 4,
   "id": "1f8fd6d2-603d-4c3e-93d7-3ea31e18dd71",
   "metadata": {},
   "outputs": [
    {
     "data": {
      "text/plain": [
       "{0: 'Apples',\n",
       " 1: 'Apples, applesauce',\n",
       " 2: 'Apples, ready-to-drink',\n",
       " 3: 'Apples, frozen concentrate',\n",
       " 4: 'Apricots',\n",
       " 5: 'Apricots, packed in juice',\n",
       " 6: 'Apricots, packed in syrup or water',\n",
       " 7: 'Apricots',\n",
       " 8: 'Bananas',\n",
       " 9: 'Berries, mixed',\n",
       " 10: 'Blackberries',\n",
       " 11: 'Blackberries',\n",
       " 12: 'Blueberries',\n",
       " 13: 'Blueberries',\n",
       " 14: 'Cantaloupe',\n",
       " 15: 'Cherries',\n",
       " 16: 'Cherries, packed in syrup or water',\n",
       " 17: 'Clementines',\n",
       " 18: 'Cranberries',\n",
       " 19: 'Dates',\n",
       " 20: 'Figs',\n",
       " 21: 'Fruit cocktail, packed in juice',\n",
       " 22: 'Fruit cocktail, packed in syrup or water',\n",
       " 23: 'Grapefruit',\n",
       " 24: 'Grapefruit, ready-to-drink',\n",
       " 25: 'Grapes',\n",
       " 26: 'Grapes (raisins)',\n",
       " 27: 'Grapes, ready-to-drink',\n",
       " 28: 'Grapes, frozen concentrate',\n",
       " 29: 'Honeydew',\n",
       " 30: 'Kiwi',\n",
       " 31: 'Mangoes',\n",
       " 32: 'Mangoes',\n",
       " 33: 'Nectarines',\n",
       " 34: 'Oranges',\n",
       " 35: 'Oranges, ready-to-drink',\n",
       " 36: 'Oranges, frozen concentrate',\n",
       " 37: 'Papaya',\n",
       " 38: 'Papaya',\n",
       " 39: 'Peaches',\n",
       " 40: 'Peaches, packed in juice',\n",
       " 41: 'Peaches, packed in syrup or water',\n",
       " 42: 'Peaches',\n",
       " 43: 'Pears',\n",
       " 44: 'Pears, packed in juice',\n",
       " 45: 'Pears, packed in syrup or water',\n",
       " 46: 'Pineapple',\n",
       " 47: 'Pineapple, packed in juice',\n",
       " 48: 'Pineapple, packed in syrup or water',\n",
       " 49: 'Pineapple',\n",
       " 50: 'Pineapple, ready-to-drink',\n",
       " 51: 'Pineapple, frozen concentrate',\n",
       " 52: 'Plum',\n",
       " 53: 'Plum (prunes)',\n",
       " 54: 'Plum (prune), ready-to-drink',\n",
       " 55: 'Pomegranate',\n",
       " 56: 'Pomegranate, ready-to-drink',\n",
       " 57: 'Raspberries',\n",
       " 58: 'Raspberries',\n",
       " 59: 'Strawberries',\n",
       " 60: 'Strawberries',\n",
       " 61: 'Watermelon'}"
      ]
     },
     "execution_count": 4,
     "metadata": {},
     "output_type": "execute_result"
    }
   ],
   "source": [
    "fruit_dictionary = dict(fruit_prices)\n",
    "fruit_dictionary"
   ]
  },
  {
   "cell_type": "code",
   "execution_count": 5,
   "id": "f4e54f2e-509b-4b78-b043-9b6e0cbc9b4b",
   "metadata": {},
   "outputs": [],
   "source": [
    "fruit_prices[0] = \"Oranges\""
   ]
  },
  {
   "cell_type": "code",
   "execution_count": 6,
   "id": "b19bd4b0-3c9f-4a9b-9682-379e6971131a",
   "metadata": {},
   "outputs": [
    {
     "data": {
      "text/plain": [
       "0                        Oranges\n",
       "1             Apples, applesauce\n",
       "2         Apples, ready-to-drink\n",
       "3     Apples, frozen concentrate\n",
       "4                       Apricots\n",
       "                 ...            \n",
       "57                   Raspberries\n",
       "58                   Raspberries\n",
       "59                  Strawberries\n",
       "60                  Strawberries\n",
       "61                    Watermelon\n",
       "Name: Fruit, Length: 62, dtype: object"
      ]
     },
     "execution_count": 6,
     "metadata": {},
     "output_type": "execute_result"
    }
   ],
   "source": [
    "fruit_prices"
   ]
  },
  {
   "cell_type": "code",
   "execution_count": 7,
   "id": "e1d712f0-c8e4-4a35-942a-4728adc0bb21",
   "metadata": {},
   "outputs": [],
   "source": [
    "fruit_prices[0] = \"Apples\""
   ]
  },
  {
   "cell_type": "code",
   "execution_count": 8,
   "id": "3e0e517f-385f-4b42-92b6-c434af21cc91",
   "metadata": {},
   "outputs": [
    {
     "data": {
      "text/plain": [
       "0                         Apples\n",
       "1             Apples, applesauce\n",
       "2         Apples, ready-to-drink\n",
       "3     Apples, frozen concentrate\n",
       "4                       Apricots\n",
       "                 ...            \n",
       "57                   Raspberries\n",
       "58                   Raspberries\n",
       "59                  Strawberries\n",
       "60                  Strawberries\n",
       "61                    Watermelon\n",
       "Name: Fruit, Length: 62, dtype: object"
      ]
     },
     "execution_count": 8,
     "metadata": {},
     "output_type": "execute_result"
    }
   ],
   "source": [
    "fruit_prices"
   ]
  },
  {
   "cell_type": "code",
   "execution_count": 9,
   "id": "304a7c10-6580-457c-8fde-1bfe7393c127",
   "metadata": {},
   "outputs": [
    {
     "data": {
      "text/plain": [
       "0                        Oranges\n",
       "1             Apples, applesauce\n",
       "2         Apples, ready-to-drink\n",
       "3     Apples, frozen concentrate\n",
       "4                       Apricots\n",
       "                 ...            \n",
       "57                   Raspberries\n",
       "58                   Raspberries\n",
       "59                  Strawberries\n",
       "60                  Strawberries\n",
       "61                    Watermelon\n",
       "Name: Fruit, Length: 62, dtype: object"
      ]
     },
     "execution_count": 9,
     "metadata": {},
     "output_type": "execute_result"
    }
   ],
   "source": [
    "fruit_prices.iloc[0] = \"Oranges\"\n",
    "fruit_prices"
   ]
  },
  {
   "cell_type": "code",
   "execution_count": 10,
   "id": "07b9cfd1-d11f-4355-82ca-c5d4470eb842",
   "metadata": {},
   "outputs": [
    {
     "data": {
      "text/plain": [
       "0          Oranges\n",
       "1          Peaches\n",
       "2       Pineapples\n",
       "3      Watermelons\n",
       "4         Apricots\n",
       "          ...     \n",
       "57     Raspberries\n",
       "58     Raspberries\n",
       "59    Strawberries\n",
       "60    Strawberries\n",
       "61      Watermelon\n",
       "Name: Fruit, Length: 62, dtype: object"
      ]
     },
     "execution_count": 10,
     "metadata": {},
     "output_type": "execute_result"
    }
   ],
   "source": [
    "fruit_prices.iloc[[1,2,3]] = [\"Peaches\",\"Pineapples\",\"Watermelons\"]\n",
    "fruit_prices"
   ]
  },
  {
   "cell_type": "code",
   "execution_count": 11,
   "id": "f9d3c7ad-3e70-46e6-bb9b-d06e820c405b",
   "metadata": {},
   "outputs": [
    {
     "data": {
      "text/plain": [
       "0                         Apples\n",
       "1             Apples, applesauce\n",
       "2         Apples, ready-to-drink\n",
       "3     Apples, frozen concentrate\n",
       "4                       Apricots\n",
       "                 ...            \n",
       "57                   Raspberries\n",
       "58                   Raspberries\n",
       "59                  Strawberries\n",
       "60                  Strawberries\n",
       "61                    Watermelon\n",
       "Name: Fruit, Length: 62, dtype: object"
      ]
     },
     "execution_count": 11,
     "metadata": {},
     "output_type": "execute_result"
    }
   ],
   "source": [
    "fruit_prices.iloc[[0,1,2,3]] = [\"Apples\",\"Apples, applesauce\",\"Apples, ready-to-drink\",\"Apples, frozen concentrate\"]\n",
    "fruit_prices"
   ]
  },
  {
   "cell_type": "code",
   "execution_count": 12,
   "id": "f7b8a888-3b32-460e-99b6-f0f17a923c1a",
   "metadata": {},
   "outputs": [
    {
     "data": {
      "text/plain": [
       "apple     10\n",
       "banana    20\n",
       "cherry    30\n",
       "date      40\n",
       "dtype: int64"
      ]
     },
     "execution_count": 12,
     "metadata": {},
     "output_type": "execute_result"
    }
   ],
   "source": [
    "s = pd.Series([10,20,30,40], index=['apple','banana','cherry','date'])\n",
    "s"
   ]
  },
  {
   "cell_type": "code",
   "execution_count": 14,
   "id": "b958089e-608c-4d33-a300-02e07aeddac4",
   "metadata": {},
   "outputs": [
    {
     "data": {
      "text/plain": [
       "apple      10\n",
       "banana    200\n",
       "cherry     30\n",
       "date       40\n",
       "dtype: int64"
      ]
     },
     "execution_count": 14,
     "metadata": {},
     "output_type": "execute_result"
    }
   ],
   "source": [
    "s.loc['banana'] = 200\n",
    "s"
   ]
  },
  {
   "cell_type": "code",
   "execution_count": 15,
   "id": "a693d9a6-7481-48e6-a1d7-23f31c174e87",
   "metadata": {},
   "outputs": [
    {
     "data": {
      "text/plain": [
       "apple       1\n",
       "banana    200\n",
       "cherry      3\n",
       "date       40\n",
       "dtype: int64"
      ]
     },
     "execution_count": 15,
     "metadata": {},
     "output_type": "execute_result"
    }
   ],
   "source": [
    "s.loc[['apple','cherry',]] = [1,3]\n",
    "s"
   ]
  },
  {
   "cell_type": "code",
   "execution_count": 16,
   "id": "c485769e-ec53-435f-8509-f7cd4a4bb768",
   "metadata": {},
   "outputs": [
    {
     "data": {
      "text/plain": [
       "apple       1\n",
       "banana    200\n",
       "cherry      3\n",
       "date       40\n",
       "dtype: int64"
      ]
     },
     "execution_count": 16,
     "metadata": {},
     "output_type": "execute_result"
    }
   ],
   "source": [
    "s"
   ]
  },
  {
   "cell_type": "code",
   "execution_count": 17,
   "id": "4b53b638-4104-4fc8-9d94-5b83f695840e",
   "metadata": {},
   "outputs": [
    {
     "data": {
      "text/plain": [
       "apple      1\n",
       "banana    25\n",
       "cherry    35\n",
       "date      45\n",
       "dtype: int64"
      ]
     },
     "execution_count": 17,
     "metadata": {},
     "output_type": "execute_result"
    }
   ],
   "source": [
    "s.loc['banana':'date'] = [25,35,45]\n",
    "s"
   ]
  },
  {
   "cell_type": "code",
   "execution_count": 1,
   "id": "e3b7b53e-3eb0-4a1e-bfd5-67038e2cedf9",
   "metadata": {},
   "outputs": [],
   "source": [
    "import numpy as np\n",
    "from pandas import DataFrame, Series\n",
    "import pandas as pd"
   ]
  },
  {
   "cell_type": "code",
   "execution_count": 2,
   "id": "51d280e5-930a-4cbd-a9cc-005c5a38ca3e",
   "metadata": {},
   "outputs": [
    {
     "data": {
      "text/plain": [
       "0                         Apples\n",
       "1             Apples, applesauce\n",
       "2         Apples, ready-to-drink\n",
       "3     Apples, frozen concentrate\n",
       "4                       Apricots\n",
       "                 ...            \n",
       "57                   Raspberries\n",
       "58                   Raspberries\n",
       "59                  Strawberries\n",
       "60                  Strawberries\n",
       "61                    Watermelon\n",
       "Name: Fruit, Length: 62, dtype: object"
      ]
     },
     "execution_count": 2,
     "metadata": {},
     "output_type": "execute_result"
    }
   ],
   "source": [
    "fruit_prices = pd.read_csv('fruit_prices.csv',usecols=['Fruit']).squeeze(\"columns\")\n",
    "fruit_prices"
   ]
  },
  {
   "cell_type": "code",
   "execution_count": 3,
   "id": "7b9f9c33-e5a0-4f21-8750-8222afaa0ff3",
   "metadata": {},
   "outputs": [
    {
     "data": {
      "text/plain": [
       "0     1.5193\n",
       "1     1.0660\n",
       "2     0.7804\n",
       "3     0.5853\n",
       "4     2.9665\n",
       "       ...  \n",
       "57    6.6391\n",
       "58    4.1877\n",
       "59    2.5800\n",
       "60    2.8189\n",
       "61    0.3604\n",
       "Name: RetailPrice, Length: 62, dtype: float64"
      ]
     },
     "execution_count": 3,
     "metadata": {},
     "output_type": "execute_result"
    }
   ],
   "source": [
    "fruit_retailprice = pd.read_csv('fruit_prices.csv',usecols=['RetailPrice']).squeeze(\"columns\")\n",
    "fruit_retailprice"
   ]
  },
  {
   "cell_type": "code",
   "execution_count": 4,
   "id": "6cc6c464-086a-4a5d-8932-21f9d8db1a4f",
   "metadata": {},
   "outputs": [
    {
     "data": {
      "text/plain": [
       "{0: 'Apples',\n",
       " 1: 'Apples, applesauce',\n",
       " 2: 'Apples, ready-to-drink',\n",
       " 3: 'Apples, frozen concentrate',\n",
       " 4: 'Apricots',\n",
       " 5: 'Apricots, packed in juice',\n",
       " 6: 'Apricots, packed in syrup or water',\n",
       " 7: 'Apricots',\n",
       " 8: 'Bananas',\n",
       " 9: 'Berries, mixed',\n",
       " 10: 'Blackberries',\n",
       " 11: 'Blackberries',\n",
       " 12: 'Blueberries',\n",
       " 13: 'Blueberries',\n",
       " 14: 'Cantaloupe',\n",
       " 15: 'Cherries',\n",
       " 16: 'Cherries, packed in syrup or water',\n",
       " 17: 'Clementines',\n",
       " 18: 'Cranberries',\n",
       " 19: 'Dates',\n",
       " 20: 'Figs',\n",
       " 21: 'Fruit cocktail, packed in juice',\n",
       " 22: 'Fruit cocktail, packed in syrup or water',\n",
       " 23: 'Grapefruit',\n",
       " 24: 'Grapefruit, ready-to-drink',\n",
       " 25: 'Grapes',\n",
       " 26: 'Grapes (raisins)',\n",
       " 27: 'Grapes, ready-to-drink',\n",
       " 28: 'Grapes, frozen concentrate',\n",
       " 29: 'Honeydew',\n",
       " 30: 'Kiwi',\n",
       " 31: 'Mangoes',\n",
       " 32: 'Mangoes',\n",
       " 33: 'Nectarines',\n",
       " 34: 'Oranges',\n",
       " 35: 'Oranges, ready-to-drink',\n",
       " 36: 'Oranges, frozen concentrate',\n",
       " 37: 'Papaya',\n",
       " 38: 'Papaya',\n",
       " 39: 'Peaches',\n",
       " 40: 'Peaches, packed in juice',\n",
       " 41: 'Peaches, packed in syrup or water',\n",
       " 42: 'Peaches',\n",
       " 43: 'Pears',\n",
       " 44: 'Pears, packed in juice',\n",
       " 45: 'Pears, packed in syrup or water',\n",
       " 46: 'Pineapple',\n",
       " 47: 'Pineapple, packed in juice',\n",
       " 48: 'Pineapple, packed in syrup or water',\n",
       " 49: 'Pineapple',\n",
       " 50: 'Pineapple, ready-to-drink',\n",
       " 51: 'Pineapple, frozen concentrate',\n",
       " 52: 'Plum',\n",
       " 53: 'Plum (prunes)',\n",
       " 54: 'Plum (prune), ready-to-drink',\n",
       " 55: 'Pomegranate',\n",
       " 56: 'Pomegranate, ready-to-drink',\n",
       " 57: 'Raspberries',\n",
       " 58: 'Raspberries',\n",
       " 59: 'Strawberries',\n",
       " 60: 'Strawberries',\n",
       " 61: 'Watermelon'}"
      ]
     },
     "execution_count": 4,
     "metadata": {},
     "output_type": "execute_result"
    }
   ],
   "source": [
    "fruit_dictionary = dict(fruit_prices)\n",
    "fruit_dictionary"
   ]
  },
  {
   "cell_type": "code",
   "execution_count": 5,
   "id": "00e0c763-e1dc-4f65-83ee-96fc68ec5c06",
   "metadata": {},
   "outputs": [
    {
     "data": {
      "text/plain": [
       "apple     10\n",
       "banana    20\n",
       "cherry    30\n",
       "date      40\n",
       "dtype: int64"
      ]
     },
     "execution_count": 5,
     "metadata": {},
     "output_type": "execute_result"
    }
   ],
   "source": [
    "s = pd.Series([10,20,30,40], index=['apple','banana','cherry','date'])\n",
    "s"
   ]
  },
  {
   "cell_type": "code",
   "execution_count": 6,
   "id": "f9e75a9e-5d29-429b-ae2f-286b0f91db3e",
   "metadata": {},
   "outputs": [
    {
     "data": {
      "text/plain": [
       "apple      10\n",
       "banana    200\n",
       "cherry     30\n",
       "date       40\n",
       "dtype: int64"
      ]
     },
     "execution_count": 6,
     "metadata": {},
     "output_type": "execute_result"
    }
   ],
   "source": [
    "s.loc['banana'] = 200\n",
    "s"
   ]
  },
  {
   "cell_type": "code",
   "execution_count": 7,
   "id": "37a143b7-d89d-4c6a-a181-389637684005",
   "metadata": {},
   "outputs": [
    {
     "data": {
      "text/plain": [
       "apple       1\n",
       "banana    200\n",
       "cherry      3\n",
       "date       40\n",
       "dtype: int64"
      ]
     },
     "execution_count": 7,
     "metadata": {},
     "output_type": "execute_result"
    }
   ],
   "source": [
    "s.loc[['apple','cherry',]] = [1,3]\n",
    "s"
   ]
  },
  {
   "cell_type": "code",
   "execution_count": 8,
   "id": "2308f20c-66b5-4ea2-80b5-d4b10a470ceb",
   "metadata": {},
   "outputs": [
    {
     "data": {
      "text/plain": [
       "apple      1\n",
       "banana    25\n",
       "cherry    35\n",
       "date      45\n",
       "dtype: int64"
      ]
     },
     "execution_count": 8,
     "metadata": {},
     "output_type": "execute_result"
    }
   ],
   "source": [
    "s.loc['banana':'date'] = [25,35,45]\n",
    "s"
   ]
  },
  {
   "cell_type": "code",
   "execution_count": 9,
   "id": "8283c512-a059-40a8-8b4a-5b742b5d5734",
   "metadata": {},
   "outputs": [
    {
     "data": {
      "text/plain": [
       "0                         Apples\n",
       "1             Apples, applesauce\n",
       "2         Apples, ready-to-drink\n",
       "3     Apples, frozen concentrate\n",
       "4                       Apricots\n",
       "                 ...            \n",
       "57                   Raspberries\n",
       "58                   Raspberries\n",
       "59                  Strawberries\n",
       "60                  Strawberries\n",
       "61                    Watermelon\n",
       "Name: Fruit, Length: 62, dtype: object"
      ]
     },
     "execution_count": 9,
     "metadata": {},
     "output_type": "execute_result"
    }
   ],
   "source": [
    "fruit_prices"
   ]
  },
  {
   "cell_type": "code",
   "execution_count": 10,
   "id": "6f15a3f9-00d6-46c1-880e-f7549cade7c0",
   "metadata": {},
   "outputs": [
    {
     "data": {
      "text/plain": [
       "Fruit\n",
       "Papaya                                      2\n",
       "Blackberries                                2\n",
       "Mangoes                                     2\n",
       "Peaches                                     2\n",
       "Blueberries                                 2\n",
       "Pineapple                                   2\n",
       "Apricots                                    2\n",
       "Raspberries                                 2\n",
       "Strawberries                                2\n",
       "Oranges, ready-to-drink                     1\n",
       "Oranges, frozen concentrate                 1\n",
       "Pears, packed in juice                      1\n",
       "Oranges                                     1\n",
       "Peaches, packed in juice                    1\n",
       "Peaches, packed in syrup or water           1\n",
       "Pears                                       1\n",
       "Apples                                      1\n",
       "Pineapple, packed in syrup or water         1\n",
       "Pears, packed in syrup or water             1\n",
       "Pineapple, packed in juice                  1\n",
       "Pineapple, ready-to-drink                   1\n",
       "Pineapple, frozen concentrate               1\n",
       "Plum                                        1\n",
       "Plum (prunes)                               1\n",
       "Plum (prune), ready-to-drink                1\n",
       "Pomegranate                                 1\n",
       "Pomegranate, ready-to-drink                 1\n",
       "Nectarines                                  1\n",
       "Honeydew                                    1\n",
       "Kiwi                                        1\n",
       "Apples, applesauce                          1\n",
       "Apples, ready-to-drink                      1\n",
       "Apples, frozen concentrate                  1\n",
       "Apricots, packed in juice                   1\n",
       "Apricots, packed in syrup or water          1\n",
       "Bananas                                     1\n",
       "Berries, mixed                              1\n",
       "Cantaloupe                                  1\n",
       "Cherries                                    1\n",
       "Cherries, packed in syrup or water          1\n",
       "Clementines                                 1\n",
       "Cranberries                                 1\n",
       "Dates                                       1\n",
       "Figs                                        1\n",
       "Fruit cocktail, packed in juice             1\n",
       "Fruit cocktail, packed in syrup or water    1\n",
       "Grapefruit                                  1\n",
       "Grapefruit, ready-to-drink                  1\n",
       "Grapes                                      1\n",
       "Grapes (raisins)                            1\n",
       "Grapes, ready-to-drink                      1\n",
       "Grapes, frozen concentrate                  1\n",
       "Watermelon                                  1\n",
       "Name: count, dtype: int64"
      ]
     },
     "execution_count": 10,
     "metadata": {},
     "output_type": "execute_result"
    }
   ],
   "source": [
    "fruit_prices.value_counts()"
   ]
  },
  {
   "cell_type": "code",
   "execution_count": 11,
   "id": "ef9c16b2-12c0-4240-b811-aed656de4b3a",
   "metadata": {},
   "outputs": [
    {
     "data": {
      "text/plain": [
       "Fruit\n",
       "Apples                                      1\n",
       "Apples, applesauce                          1\n",
       "Apples, ready-to-drink                      1\n",
       "Apples, frozen concentrate                  1\n",
       "Apricots                                    2\n",
       "Apricots, packed in juice                   1\n",
       "Apricots, packed in syrup or water          1\n",
       "Bananas                                     1\n",
       "Berries, mixed                              1\n",
       "Blackberries                                2\n",
       "Blueberries                                 2\n",
       "Cantaloupe                                  1\n",
       "Cherries                                    1\n",
       "Cherries, packed in syrup or water          1\n",
       "Clementines                                 1\n",
       "Cranberries                                 1\n",
       "Dates                                       1\n",
       "Figs                                        1\n",
       "Fruit cocktail, packed in juice             1\n",
       "Fruit cocktail, packed in syrup or water    1\n",
       "Grapefruit                                  1\n",
       "Grapefruit, ready-to-drink                  1\n",
       "Grapes                                      1\n",
       "Grapes (raisins)                            1\n",
       "Grapes, ready-to-drink                      1\n",
       "Grapes, frozen concentrate                  1\n",
       "Honeydew                                    1\n",
       "Kiwi                                        1\n",
       "Mangoes                                     2\n",
       "Nectarines                                  1\n",
       "Oranges                                     1\n",
       "Oranges, ready-to-drink                     1\n",
       "Oranges, frozen concentrate                 1\n",
       "Papaya                                      2\n",
       "Peaches                                     2\n",
       "Peaches, packed in juice                    1\n",
       "Peaches, packed in syrup or water           1\n",
       "Pears                                       1\n",
       "Pears, packed in juice                      1\n",
       "Pears, packed in syrup or water             1\n",
       "Pineapple                                   2\n",
       "Pineapple, packed in juice                  1\n",
       "Pineapple, packed in syrup or water         1\n",
       "Pineapple, ready-to-drink                   1\n",
       "Pineapple, frozen concentrate               1\n",
       "Plum                                        1\n",
       "Plum (prunes)                               1\n",
       "Plum (prune), ready-to-drink                1\n",
       "Pomegranate                                 1\n",
       "Pomegranate, ready-to-drink                 1\n",
       "Raspberries                                 2\n",
       "Strawberries                                2\n",
       "Watermelon                                  1\n",
       "Name: count, dtype: int64"
      ]
     },
     "execution_count": 11,
     "metadata": {},
     "output_type": "execute_result"
    }
   ],
   "source": [
    "fruit_prices.value_counts(sort=False)"
   ]
  },
  {
   "cell_type": "code",
   "execution_count": 12,
   "id": "a382c94f-f145-4005-ae8d-ca042508ea49",
   "metadata": {},
   "outputs": [
    {
     "data": {
      "text/plain": [
       "Fruit\n",
       "Apples                                      1\n",
       "Grapes, frozen concentrate                  1\n",
       "Kiwi                                        1\n",
       "Nectarines                                  1\n",
       "Oranges                                     1\n",
       "Oranges, ready-to-drink                     1\n",
       "Oranges, frozen concentrate                 1\n",
       "Peaches, packed in juice                    1\n",
       "Peaches, packed in syrup or water           1\n",
       "Pears                                       1\n",
       "Grapes, ready-to-drink                      1\n",
       "Pears, packed in juice                      1\n",
       "Pineapple, packed in juice                  1\n",
       "Pineapple, packed in syrup or water         1\n",
       "Pineapple, ready-to-drink                   1\n",
       "Pineapple, frozen concentrate               1\n",
       "Plum                                        1\n",
       "Plum (prunes)                               1\n",
       "Plum (prune), ready-to-drink                1\n",
       "Pomegranate                                 1\n",
       "Pomegranate, ready-to-drink                 1\n",
       "Pears, packed in syrup or water             1\n",
       "Grapes (raisins)                            1\n",
       "Honeydew                                    1\n",
       "Grapefruit, ready-to-drink                  1\n",
       "Apples, applesauce                          1\n",
       "Apples, ready-to-drink                      1\n",
       "Apples, frozen concentrate                  1\n",
       "Apricots, packed in juice                   1\n",
       "Apricots, packed in syrup or water          1\n",
       "Bananas                                     1\n",
       "Berries, mixed                              1\n",
       "Grapes                                      1\n",
       "Cherries                                    1\n",
       "Cherries, packed in syrup or water          1\n",
       "Cantaloupe                                  1\n",
       "Fruit cocktail, packed in juice             1\n",
       "Grapefruit                                  1\n",
       "Fruit cocktail, packed in syrup or water    1\n",
       "Clementines                                 1\n",
       "Figs                                        1\n",
       "Dates                                       1\n",
       "Watermelon                                  1\n",
       "Cranberries                                 1\n",
       "Pineapple                                   2\n",
       "Blueberries                                 2\n",
       "Mangoes                                     2\n",
       "Apricots                                    2\n",
       "Strawberries                                2\n",
       "Papaya                                      2\n",
       "Raspberries                                 2\n",
       "Blackberries                                2\n",
       "Peaches                                     2\n",
       "Name: count, dtype: int64"
      ]
     },
     "execution_count": 12,
     "metadata": {},
     "output_type": "execute_result"
    }
   ],
   "source": [
    "fruit_prices.value_counts(ascending=True)"
   ]
  },
  {
   "cell_type": "code",
   "execution_count": 13,
   "id": "bf83d6e8-795e-40e7-88c8-08549712d74e",
   "metadata": {},
   "outputs": [
    {
     "data": {
      "text/plain": [
       "Fruit\n",
       "Papaya                                      0.032258\n",
       "Blackberries                                0.032258\n",
       "Mangoes                                     0.032258\n",
       "Peaches                                     0.032258\n",
       "Blueberries                                 0.032258\n",
       "Pineapple                                   0.032258\n",
       "Apricots                                    0.032258\n",
       "Raspberries                                 0.032258\n",
       "Strawberries                                0.032258\n",
       "Oranges, ready-to-drink                     0.016129\n",
       "Oranges, frozen concentrate                 0.016129\n",
       "Pears, packed in juice                      0.016129\n",
       "Oranges                                     0.016129\n",
       "Peaches, packed in juice                    0.016129\n",
       "Peaches, packed in syrup or water           0.016129\n",
       "Pears                                       0.016129\n",
       "Apples                                      0.016129\n",
       "Pineapple, packed in syrup or water         0.016129\n",
       "Pears, packed in syrup or water             0.016129\n",
       "Pineapple, packed in juice                  0.016129\n",
       "Pineapple, ready-to-drink                   0.016129\n",
       "Pineapple, frozen concentrate               0.016129\n",
       "Plum                                        0.016129\n",
       "Plum (prunes)                               0.016129\n",
       "Plum (prune), ready-to-drink                0.016129\n",
       "Pomegranate                                 0.016129\n",
       "Pomegranate, ready-to-drink                 0.016129\n",
       "Nectarines                                  0.016129\n",
       "Honeydew                                    0.016129\n",
       "Kiwi                                        0.016129\n",
       "Apples, applesauce                          0.016129\n",
       "Apples, ready-to-drink                      0.016129\n",
       "Apples, frozen concentrate                  0.016129\n",
       "Apricots, packed in juice                   0.016129\n",
       "Apricots, packed in syrup or water          0.016129\n",
       "Bananas                                     0.016129\n",
       "Berries, mixed                              0.016129\n",
       "Cantaloupe                                  0.016129\n",
       "Cherries                                    0.016129\n",
       "Cherries, packed in syrup or water          0.016129\n",
       "Clementines                                 0.016129\n",
       "Cranberries                                 0.016129\n",
       "Dates                                       0.016129\n",
       "Figs                                        0.016129\n",
       "Fruit cocktail, packed in juice             0.016129\n",
       "Fruit cocktail, packed in syrup or water    0.016129\n",
       "Grapefruit                                  0.016129\n",
       "Grapefruit, ready-to-drink                  0.016129\n",
       "Grapes                                      0.016129\n",
       "Grapes (raisins)                            0.016129\n",
       "Grapes, ready-to-drink                      0.016129\n",
       "Grapes, frozen concentrate                  0.016129\n",
       "Watermelon                                  0.016129\n",
       "Name: proportion, dtype: float64"
      ]
     },
     "execution_count": 13,
     "metadata": {},
     "output_type": "execute_result"
    }
   ],
   "source": [
    "fruit_prices.value_counts(normalize=True)"
   ]
  },
  {
   "cell_type": "code",
   "execution_count": 1,
   "id": "1b70abca-3633-4057-9014-81469256ee16",
   "metadata": {},
   "outputs": [],
   "source": [
    "import numpy as np\n",
    "from pandas import DataFrame, Series\n",
    "import pandas as pd"
   ]
  },
  {
   "cell_type": "code",
   "execution_count": 2,
   "id": "b53e2a07-8949-4f6c-8d7d-1a66c41b408d",
   "metadata": {},
   "outputs": [
    {
     "data": {
      "text/plain": [
       "0                         Apples\n",
       "1             Apples, applesauce\n",
       "2         Apples, ready-to-drink\n",
       "3     Apples, frozen concentrate\n",
       "4                       Apricots\n",
       "                 ...            \n",
       "57                   Raspberries\n",
       "58                   Raspberries\n",
       "59                  Strawberries\n",
       "60                  Strawberries\n",
       "61                    Watermelon\n",
       "Name: Fruit, Length: 62, dtype: object"
      ]
     },
     "execution_count": 2,
     "metadata": {},
     "output_type": "execute_result"
    }
   ],
   "source": [
    "fruit_prices = pd.read_csv('fruit_prices.csv',usecols=['Fruit']).squeeze(\"columns\")\n",
    "fruit_prices"
   ]
  },
  {
   "cell_type": "code",
   "execution_count": 3,
   "id": "912b3db0-0e08-4565-be9e-40eeaeb55a91",
   "metadata": {},
   "outputs": [
    {
     "data": {
      "text/plain": [
       "0     1.5193\n",
       "1     1.0660\n",
       "2     0.7804\n",
       "3     0.5853\n",
       "4     2.9665\n",
       "       ...  \n",
       "57    6.6391\n",
       "58    4.1877\n",
       "59    2.5800\n",
       "60    2.8189\n",
       "61    0.3604\n",
       "Name: RetailPrice, Length: 62, dtype: float64"
      ]
     },
     "execution_count": 3,
     "metadata": {},
     "output_type": "execute_result"
    }
   ],
   "source": [
    "fruit_retailprice = pd.read_csv('fruit_prices.csv',usecols=['RetailPrice']).squeeze(\"columns\")\n",
    "fruit_retailprice"
   ]
  },
  {
   "cell_type": "code",
   "execution_count": 4,
   "id": "3e3fde52-799e-4ca1-98da-0ff8b12b6ca7",
   "metadata": {},
   "outputs": [
    {
     "data": {
      "text/plain": [
       "{0: 'Apples',\n",
       " 1: 'Apples, applesauce',\n",
       " 2: 'Apples, ready-to-drink',\n",
       " 3: 'Apples, frozen concentrate',\n",
       " 4: 'Apricots',\n",
       " 5: 'Apricots, packed in juice',\n",
       " 6: 'Apricots, packed in syrup or water',\n",
       " 7: 'Apricots',\n",
       " 8: 'Bananas',\n",
       " 9: 'Berries, mixed',\n",
       " 10: 'Blackberries',\n",
       " 11: 'Blackberries',\n",
       " 12: 'Blueberries',\n",
       " 13: 'Blueberries',\n",
       " 14: 'Cantaloupe',\n",
       " 15: 'Cherries',\n",
       " 16: 'Cherries, packed in syrup or water',\n",
       " 17: 'Clementines',\n",
       " 18: 'Cranberries',\n",
       " 19: 'Dates',\n",
       " 20: 'Figs',\n",
       " 21: 'Fruit cocktail, packed in juice',\n",
       " 22: 'Fruit cocktail, packed in syrup or water',\n",
       " 23: 'Grapefruit',\n",
       " 24: 'Grapefruit, ready-to-drink',\n",
       " 25: 'Grapes',\n",
       " 26: 'Grapes (raisins)',\n",
       " 27: 'Grapes, ready-to-drink',\n",
       " 28: 'Grapes, frozen concentrate',\n",
       " 29: 'Honeydew',\n",
       " 30: 'Kiwi',\n",
       " 31: 'Mangoes',\n",
       " 32: 'Mangoes',\n",
       " 33: 'Nectarines',\n",
       " 34: 'Oranges',\n",
       " 35: 'Oranges, ready-to-drink',\n",
       " 36: 'Oranges, frozen concentrate',\n",
       " 37: 'Papaya',\n",
       " 38: 'Papaya',\n",
       " 39: 'Peaches',\n",
       " 40: 'Peaches, packed in juice',\n",
       " 41: 'Peaches, packed in syrup or water',\n",
       " 42: 'Peaches',\n",
       " 43: 'Pears',\n",
       " 44: 'Pears, packed in juice',\n",
       " 45: 'Pears, packed in syrup or water',\n",
       " 46: 'Pineapple',\n",
       " 47: 'Pineapple, packed in juice',\n",
       " 48: 'Pineapple, packed in syrup or water',\n",
       " 49: 'Pineapple',\n",
       " 50: 'Pineapple, ready-to-drink',\n",
       " 51: 'Pineapple, frozen concentrate',\n",
       " 52: 'Plum',\n",
       " 53: 'Plum (prunes)',\n",
       " 54: 'Plum (prune), ready-to-drink',\n",
       " 55: 'Pomegranate',\n",
       " 56: 'Pomegranate, ready-to-drink',\n",
       " 57: 'Raspberries',\n",
       " 58: 'Raspberries',\n",
       " 59: 'Strawberries',\n",
       " 60: 'Strawberries',\n",
       " 61: 'Watermelon'}"
      ]
     },
     "execution_count": 4,
     "metadata": {},
     "output_type": "execute_result"
    }
   ],
   "source": [
    "fruit_dictionary = dict(fruit_prices)\n",
    "fruit_dictionary"
   ]
  },
  {
   "cell_type": "code",
   "execution_count": 5,
   "id": "9cdf386c-6eab-410a-ae77-1e5812129714",
   "metadata": {},
   "outputs": [
    {
     "data": {
      "text/plain": [
       "apple     10\n",
       "banana    20\n",
       "cherry    30\n",
       "date      40\n",
       "dtype: int64"
      ]
     },
     "execution_count": 5,
     "metadata": {},
     "output_type": "execute_result"
    }
   ],
   "source": [
    "s = pd.Series([10,20,30,40], index=['apple','banana','cherry','date'])\n",
    "s"
   ]
  },
  {
   "cell_type": "code",
   "execution_count": 6,
   "id": "5f4838eb-f4b8-4b00-9365-d59e6eaa7188",
   "metadata": {},
   "outputs": [],
   "source": [
    "prices = [100,200,300,400,500]\n",
    "prices_series = pd.Series(prices)"
   ]
  },
  {
   "cell_type": "code",
   "execution_count": 7,
   "id": "291c4970-b037-40f9-895a-0ddb70520f87",
   "metadata": {},
   "outputs": [
    {
     "data": {
      "text/plain": [
       "0    100\n",
       "1    200\n",
       "2    300\n",
       "3    400\n",
       "4    500\n",
       "dtype: int64"
      ]
     },
     "execution_count": 7,
     "metadata": {},
     "output_type": "execute_result"
    }
   ],
   "source": [
    "prices_series"
   ]
  },
  {
   "cell_type": "code",
   "execution_count": 8,
   "id": "7a31c958-65c9-4a3d-9e21-e19e45b53cbd",
   "metadata": {},
   "outputs": [],
   "source": [
    "def summer_discount(x):\n",
    "    return x - (x*0.1)    "
   ]
  },
  {
   "cell_type": "code",
   "execution_count": 9,
   "id": "d702aacb-291d-4765-879a-d089a78ef0e5",
   "metadata": {},
   "outputs": [
    {
     "data": {
      "text/plain": [
       "0     90.0\n",
       "1    180.0\n",
       "2    270.0\n",
       "3    360.0\n",
       "4    450.0\n",
       "dtype: float64"
      ]
     },
     "execution_count": 9,
     "metadata": {},
     "output_type": "execute_result"
    }
   ],
   "source": [
    "prices_series.apply(summer_discount)"
   ]
  },
  {
   "cell_type": "code",
   "execution_count": 13,
   "id": "437ce688-3b52-40f5-92be-70e3709157d5",
   "metadata": {},
   "outputs": [
    {
     "data": {
      "text/plain": [
       "0    You passed!\n",
       "1    You passed!\n",
       "2    You passed!\n",
       "3           Fail\n",
       "4    You passed!\n",
       "5           Fail\n",
       "6    You passed!\n",
       "7    You passed!\n",
       "dtype: object"
      ]
     },
     "execution_count": 13,
     "metadata": {},
     "output_type": "execute_result"
    }
   ],
   "source": [
    "scores = pd.Series([56,78,91,34,98,23,43,59])\n",
    "def pass_or_fail(num):\n",
    "    if num > 35:\n",
    "        return \"You passed!\"\n",
    "    else:\n",
    "        return \"Fail\"\n",
    "result = scores.apply(pass_or_fail)\n",
    "result"
   ]
  },
  {
   "cell_type": "code",
   "execution_count": 14,
   "id": "6ce23eaa-ed02-4be1-ad38-d4cec6aa1de7",
   "metadata": {},
   "outputs": [
    {
     "data": {
      "text/plain": [
       "You passed!    6\n",
       "Fail           2\n",
       "Name: count, dtype: int64"
      ]
     },
     "execution_count": 14,
     "metadata": {},
     "output_type": "execute_result"
    }
   ],
   "source": [
    "result.value_counts()"
   ]
  },
  {
   "cell_type": "code",
   "execution_count": 15,
   "id": "cb8185ad-68e2-4964-86f1-ace4bb6a7277",
   "metadata": {},
   "outputs": [
    {
     "data": {
      "text/plain": [
       "You passed!    0.75\n",
       "Fail           0.25\n",
       "Name: proportion, dtype: float64"
      ]
     },
     "execution_count": 15,
     "metadata": {},
     "output_type": "execute_result"
    }
   ],
   "source": [
    "result.value_counts(normalize=True)"
   ]
  },
  {
   "cell_type": "code",
   "execution_count": 16,
   "id": "fd7e8a1c-7e55-4eb9-8b87-68d05f2a929f",
   "metadata": {},
   "outputs": [
    {
     "data": {
      "text/plain": [
       "0                         Apples\n",
       "1             Apples, applesauce\n",
       "2         Apples, ready-to-drink\n",
       "3     Apples, frozen concentrate\n",
       "4                       Apricots\n",
       "                 ...            \n",
       "57                   Raspberries\n",
       "58                   Raspberries\n",
       "59                  Strawberries\n",
       "60                  Strawberries\n",
       "61                    Watermelon\n",
       "Name: Fruit, Length: 62, dtype: object"
      ]
     },
     "execution_count": 16,
     "metadata": {},
     "output_type": "execute_result"
    }
   ],
   "source": [
    "fruit_prices"
   ]
  },
  {
   "cell_type": "code",
   "execution_count": 17,
   "id": "3035944e-73a5-461f-9c79-b3ae88a3a98a",
   "metadata": {},
   "outputs": [
    {
     "data": {
      "text/plain": [
       "0      6\n",
       "1     18\n",
       "2     22\n",
       "3     26\n",
       "4      8\n",
       "      ..\n",
       "57    11\n",
       "58    11\n",
       "59    12\n",
       "60    12\n",
       "61    10\n",
       "Name: Fruit, Length: 62, dtype: int64"
      ]
     },
     "execution_count": 17,
     "metadata": {},
     "output_type": "execute_result"
    }
   ],
   "source": [
    "fruit_prices.apply(len)"
   ]
  },
  {
   "cell_type": "code",
   "execution_count": 1,
   "id": "fe67e57e-2204-477c-aa1f-77c128323af7",
   "metadata": {},
   "outputs": [],
   "source": [
    "import numpy as np\n",
    "from pandas import DataFrame, Series\n",
    "import pandas as pd"
   ]
  },
  {
   "cell_type": "code",
   "execution_count": 3,
   "id": "0b8eaa13-c9c8-4c5c-8575-7080dd7d7be3",
   "metadata": {},
   "outputs": [
    {
     "data": {
      "text/plain": [
       "0                         Apples\n",
       "1             Apples, applesauce\n",
       "2         Apples, ready-to-drink\n",
       "3     Apples, frozen concentrate\n",
       "4                       Apricots\n",
       "                 ...            \n",
       "57                   Raspberries\n",
       "58                   Raspberries\n",
       "59                  Strawberries\n",
       "60                  Strawberries\n",
       "61                    Watermelon\n",
       "Name: Fruit, Length: 62, dtype: object"
      ]
     },
     "execution_count": 3,
     "metadata": {},
     "output_type": "execute_result"
    }
   ],
   "source": [
    "fruit_names = pd.read_csv('fruit_prices.csv',usecols=['Fruit']).squeeze(\"columns\")\n",
    "fruit_names"
   ]
  },
  {
   "cell_type": "code",
   "execution_count": 4,
   "id": "484c9d19-10bb-43cd-8305-d607216fe8c6",
   "metadata": {},
   "outputs": [
    {
     "data": {
      "text/plain": [
       "0     1.5193\n",
       "1     1.0660\n",
       "2     0.7804\n",
       "3     0.5853\n",
       "4     2.9665\n",
       "       ...  \n",
       "57    6.6391\n",
       "58    4.1877\n",
       "59    2.5800\n",
       "60    2.8189\n",
       "61    0.3604\n",
       "Name: RetailPrice, Length: 62, dtype: float64"
      ]
     },
     "execution_count": 4,
     "metadata": {},
     "output_type": "execute_result"
    }
   ],
   "source": [
    "fruit_retailprice = pd.read_csv('fruit_prices.csv',usecols=['RetailPrice']).squeeze(\"columns\")\n",
    "fruit_retailprice"
   ]
  },
  {
   "cell_type": "code",
   "execution_count": 5,
   "id": "a928ae37-d25f-4bda-a173-7aed9e051601",
   "metadata": {},
   "outputs": [
    {
     "data": {
      "text/plain": [
       "0                         Apples\n",
       "1             Apples, applesauce\n",
       "2         Apples, ready-to-drink\n",
       "3     Apples, frozen concentrate\n",
       "4                       Apricots\n",
       "                 ...            \n",
       "57                   Raspberries\n",
       "58                   Raspberries\n",
       "59                  Strawberries\n",
       "60                  Strawberries\n",
       "61                    Watermelon\n",
       "Name: Fruit, Length: 62, dtype: object"
      ]
     },
     "execution_count": 5,
     "metadata": {},
     "output_type": "execute_result"
    }
   ],
   "source": [
    "fruit_prices = pd.read_csv('fruit_prices.csv',usecols=['Fruit']).squeeze(\"columns\")\n",
    "fruit_prices"
   ]
  },
  {
   "cell_type": "code",
   "execution_count": 6,
   "id": "a4a0cb68-373f-4412-b541-d01f8d23146a",
   "metadata": {},
   "outputs": [
    {
     "data": {
      "text/plain": [
       "{0: 'Apples',\n",
       " 1: 'Apples, applesauce',\n",
       " 2: 'Apples, ready-to-drink',\n",
       " 3: 'Apples, frozen concentrate',\n",
       " 4: 'Apricots',\n",
       " 5: 'Apricots, packed in juice',\n",
       " 6: 'Apricots, packed in syrup or water',\n",
       " 7: 'Apricots',\n",
       " 8: 'Bananas',\n",
       " 9: 'Berries, mixed',\n",
       " 10: 'Blackberries',\n",
       " 11: 'Blackberries',\n",
       " 12: 'Blueberries',\n",
       " 13: 'Blueberries',\n",
       " 14: 'Cantaloupe',\n",
       " 15: 'Cherries',\n",
       " 16: 'Cherries, packed in syrup or water',\n",
       " 17: 'Clementines',\n",
       " 18: 'Cranberries',\n",
       " 19: 'Dates',\n",
       " 20: 'Figs',\n",
       " 21: 'Fruit cocktail, packed in juice',\n",
       " 22: 'Fruit cocktail, packed in syrup or water',\n",
       " 23: 'Grapefruit',\n",
       " 24: 'Grapefruit, ready-to-drink',\n",
       " 25: 'Grapes',\n",
       " 26: 'Grapes (raisins)',\n",
       " 27: 'Grapes, ready-to-drink',\n",
       " 28: 'Grapes, frozen concentrate',\n",
       " 29: 'Honeydew',\n",
       " 30: 'Kiwi',\n",
       " 31: 'Mangoes',\n",
       " 32: 'Mangoes',\n",
       " 33: 'Nectarines',\n",
       " 34: 'Oranges',\n",
       " 35: 'Oranges, ready-to-drink',\n",
       " 36: 'Oranges, frozen concentrate',\n",
       " 37: 'Papaya',\n",
       " 38: 'Papaya',\n",
       " 39: 'Peaches',\n",
       " 40: 'Peaches, packed in juice',\n",
       " 41: 'Peaches, packed in syrup or water',\n",
       " 42: 'Peaches',\n",
       " 43: 'Pears',\n",
       " 44: 'Pears, packed in juice',\n",
       " 45: 'Pears, packed in syrup or water',\n",
       " 46: 'Pineapple',\n",
       " 47: 'Pineapple, packed in juice',\n",
       " 48: 'Pineapple, packed in syrup or water',\n",
       " 49: 'Pineapple',\n",
       " 50: 'Pineapple, ready-to-drink',\n",
       " 51: 'Pineapple, frozen concentrate',\n",
       " 52: 'Plum',\n",
       " 53: 'Plum (prunes)',\n",
       " 54: 'Plum (prune), ready-to-drink',\n",
       " 55: 'Pomegranate',\n",
       " 56: 'Pomegranate, ready-to-drink',\n",
       " 57: 'Raspberries',\n",
       " 58: 'Raspberries',\n",
       " 59: 'Strawberries',\n",
       " 60: 'Strawberries',\n",
       " 61: 'Watermelon'}"
      ]
     },
     "execution_count": 6,
     "metadata": {},
     "output_type": "execute_result"
    }
   ],
   "source": [
    "fruit_dictionary = dict(fruit_prices)\n",
    "fruit_dictionary"
   ]
  },
  {
   "cell_type": "code",
   "execution_count": 7,
   "id": "c8ee61cf-9ece-4f08-9615-bf6b20fa679b",
   "metadata": {},
   "outputs": [
    {
     "data": {
      "text/plain": [
       "apple     10\n",
       "banana    20\n",
       "cherry    30\n",
       "date      40\n",
       "dtype: int64"
      ]
     },
     "execution_count": 7,
     "metadata": {},
     "output_type": "execute_result"
    }
   ],
   "source": [
    "s = pd.Series([10,20,30,40], index=['apple','banana','cherry','date'])\n",
    "s"
   ]
  },
  {
   "cell_type": "code",
   "execution_count": 8,
   "id": "c683d921-5e48-4da6-987e-15475710123f",
   "metadata": {},
   "outputs": [],
   "source": [
    "import numpy as np\n",
    "from pandas import DataFrame, Series\n",
    "import pandas as pd"
   ]
  },
  {
   "cell_type": "code",
   "execution_count": 9,
   "id": "b76a5dd6-346e-4e81-afc7-366abf684c74",
   "metadata": {},
   "outputs": [
    {
     "data": {
      "text/plain": [
       "apple     10\n",
       "banana    20\n",
       "cherry    30\n",
       "date      40\n",
       "dtype: int64"
      ]
     },
     "execution_count": 9,
     "metadata": {},
     "output_type": "execute_result"
    }
   ],
   "source": [
    "s"
   ]
  },
  {
   "cell_type": "code",
   "execution_count": 10,
   "id": "450227f3-0fcf-424f-ad28-8e70977394fb",
   "metadata": {},
   "outputs": [
    {
     "data": {
      "text/plain": [
       "0    100\n",
       "1    200\n",
       "2    300\n",
       "3    400\n",
       "4    500\n",
       "dtype: int64"
      ]
     },
     "execution_count": 10,
     "metadata": {},
     "output_type": "execute_result"
    }
   ],
   "source": [
    "prices = [100,200,300,400,500]\n",
    "prices_series = pd.Series(prices)\n",
    "prices_series"
   ]
  },
  {
   "cell_type": "code",
   "execution_count": 12,
   "id": "aaffc33f-338b-4265-bf34-b03d11f06515",
   "metadata": {},
   "outputs": [
    {
     "data": {
      "text/plain": [
       "0     90.0\n",
       "1    180.0\n",
       "2    270.0\n",
       "3    360.0\n",
       "4    450.0\n",
       "dtype: float64"
      ]
     },
     "execution_count": 12,
     "metadata": {},
     "output_type": "execute_result"
    }
   ],
   "source": [
    "def summer_discount(x):\n",
    "    return x - (x*0.1)  \n",
    "prices_series.apply(summer_discount)"
   ]
  },
  {
   "cell_type": "code",
   "execution_count": 13,
   "id": "243cb1cc-2dae-4e2c-932b-f490f7505b40",
   "metadata": {},
   "outputs": [
    {
     "data": {
      "text/plain": [
       "0    You passed!\n",
       "1    You passed!\n",
       "2    You passed!\n",
       "3           Fail\n",
       "4    You passed!\n",
       "5           Fail\n",
       "6    You passed!\n",
       "7    You passed!\n",
       "dtype: object"
      ]
     },
     "execution_count": 13,
     "metadata": {},
     "output_type": "execute_result"
    }
   ],
   "source": [
    "scores = pd.Series([56,78,91,34,98,23,43,59])\n",
    "def pass_or_fail(num):\n",
    "    if num > 35:\n",
    "        return \"You passed!\"\n",
    "    else:\n",
    "        return \"Fail\"\n",
    "result = scores.apply(pass_or_fail)\n",
    "result"
   ]
  },
  {
   "cell_type": "code",
   "execution_count": 14,
   "id": "94b7a10c-c54b-4f25-8a95-4a09d826262c",
   "metadata": {},
   "outputs": [
    {
     "data": {
      "text/plain": [
       "0      6\n",
       "1     18\n",
       "2     22\n",
       "3     26\n",
       "4      8\n",
       "      ..\n",
       "57    11\n",
       "58    11\n",
       "59    12\n",
       "60    12\n",
       "61    10\n",
       "Name: Fruit, Length: 62, dtype: int64"
      ]
     },
     "execution_count": 14,
     "metadata": {},
     "output_type": "execute_result"
    }
   ],
   "source": [
    "fruit_prices.apply(len)"
   ]
  },
  {
   "cell_type": "code",
   "execution_count": 15,
   "id": "117d6e12-41c0-4ee2-bd85-2f16c31c9f7e",
   "metadata": {},
   "outputs": [
    {
     "data": {
      "text/plain": [
       "Acme Corp              ACMC\n",
       "Anton Computers         ANT\n",
       "Maximo Construction     MCX\n",
       "dtype: object"
      ]
     },
     "execution_count": 15,
     "metadata": {},
     "output_type": "execute_result"
    }
   ],
   "source": [
    "stock_symbols = {\"Acme Corp\":\"ACMC\",\"Anton Computers\":\"ANT\", \"Maximo Construction\":\"MCX\"}\n",
    "stock_prices = {\"ACMC\":29,\"MCX\":15,\"ANT\":48}\n",
    "symbol_series = Series(stock_symbols)\n",
    "prices_series = Series(stock_prices)\n",
    "symbol_series"
   ]
  },
  {
   "cell_type": "code",
   "execution_count": 16,
   "id": "bd636346-dc04-44cc-82f5-0c62fa4d9422",
   "metadata": {},
   "outputs": [
    {
     "data": {
      "text/plain": [
       "ACMC    29\n",
       "MCX     15\n",
       "ANT     48\n",
       "dtype: int64"
      ]
     },
     "execution_count": 16,
     "metadata": {},
     "output_type": "execute_result"
    }
   ],
   "source": [
    "prices_series"
   ]
  },
  {
   "cell_type": "code",
   "execution_count": 17,
   "id": "75e5afa2-de24-4698-bea5-6a9e8684177e",
   "metadata": {},
   "outputs": [
    {
     "data": {
      "text/plain": [
       "Acme Corp              29\n",
       "Anton Computers        48\n",
       "Maximo Construction    15\n",
       "dtype: int64"
      ]
     },
     "execution_count": 17,
     "metadata": {},
     "output_type": "execute_result"
    }
   ],
   "source": [
    "symbol_series.map(prices_series)"
   ]
  },
  {
   "cell_type": "code",
   "execution_count": 20,
   "id": "d6b1ae91-df91-4001-b80f-0f241b6defbe",
   "metadata": {},
   "outputs": [
    {
     "data": {
      "text/html": [
       "<div>\n",
       "<style scoped>\n",
       "    .dataframe tbody tr th:only-of-type {\n",
       "        vertical-align: middle;\n",
       "    }\n",
       "\n",
       "    .dataframe tbody tr th {\n",
       "        vertical-align: top;\n",
       "    }\n",
       "\n",
       "    .dataframe thead th {\n",
       "        text-align: right;\n",
       "    }\n",
       "</style>\n",
       "<table border=\"1\" class=\"dataframe\">\n",
       "  <thead>\n",
       "    <tr style=\"text-align: right;\">\n",
       "      <th></th>\n",
       "      <th>index</th>\n",
       "      <th>Job Title</th>\n",
       "      <th>Salary Estimate</th>\n",
       "      <th>Job Description</th>\n",
       "      <th>Rating</th>\n",
       "      <th>Company Name</th>\n",
       "      <th>Location</th>\n",
       "      <th>Headquarters</th>\n",
       "      <th>Size</th>\n",
       "      <th>Founded</th>\n",
       "      <th>...</th>\n",
       "      <th>tensor</th>\n",
       "      <th>hadoop</th>\n",
       "      <th>tableau</th>\n",
       "      <th>bi</th>\n",
       "      <th>flink</th>\n",
       "      <th>mongo</th>\n",
       "      <th>google_an</th>\n",
       "      <th>job_title_sim</th>\n",
       "      <th>seniority_by_title</th>\n",
       "      <th>Degree</th>\n",
       "    </tr>\n",
       "  </thead>\n",
       "  <tbody>\n",
       "    <tr>\n",
       "      <th>0</th>\n",
       "      <td>0</td>\n",
       "      <td>Data Scientist</td>\n",
       "      <td>$53K-$91K (Glassdoor est.)</td>\n",
       "      <td>Data Scientist\\nLocation: Albuquerque, NM\\nEdu...</td>\n",
       "      <td>3.8</td>\n",
       "      <td>Tecolote Research\\n3.8</td>\n",
       "      <td>Albuquerque, NM</td>\n",
       "      <td>Goleta, CA</td>\n",
       "      <td>501 - 1000</td>\n",
       "      <td>1973</td>\n",
       "      <td>...</td>\n",
       "      <td>0</td>\n",
       "      <td>0</td>\n",
       "      <td>1</td>\n",
       "      <td>1</td>\n",
       "      <td>0</td>\n",
       "      <td>0</td>\n",
       "      <td>0</td>\n",
       "      <td>data scientist</td>\n",
       "      <td>na</td>\n",
       "      <td>M</td>\n",
       "    </tr>\n",
       "    <tr>\n",
       "      <th>1</th>\n",
       "      <td>1</td>\n",
       "      <td>Healthcare Data Scientist</td>\n",
       "      <td>$63K-$112K (Glassdoor est.)</td>\n",
       "      <td>What You Will Do:\\n\\nI. General Summary\\n\\nThe...</td>\n",
       "      <td>3.4</td>\n",
       "      <td>University of Maryland Medical System\\n3.4</td>\n",
       "      <td>Linthicum, MD</td>\n",
       "      <td>Baltimore, MD</td>\n",
       "      <td>10000+</td>\n",
       "      <td>1984</td>\n",
       "      <td>...</td>\n",
       "      <td>0</td>\n",
       "      <td>0</td>\n",
       "      <td>0</td>\n",
       "      <td>0</td>\n",
       "      <td>0</td>\n",
       "      <td>0</td>\n",
       "      <td>0</td>\n",
       "      <td>data scientist</td>\n",
       "      <td>na</td>\n",
       "      <td>M</td>\n",
       "    </tr>\n",
       "    <tr>\n",
       "      <th>2</th>\n",
       "      <td>2</td>\n",
       "      <td>Data Scientist</td>\n",
       "      <td>$80K-$90K (Glassdoor est.)</td>\n",
       "      <td>KnowBe4, Inc. is a high growth information sec...</td>\n",
       "      <td>4.8</td>\n",
       "      <td>KnowBe4\\n4.8</td>\n",
       "      <td>Clearwater, FL</td>\n",
       "      <td>Clearwater, FL</td>\n",
       "      <td>501 - 1000</td>\n",
       "      <td>2010</td>\n",
       "      <td>...</td>\n",
       "      <td>0</td>\n",
       "      <td>0</td>\n",
       "      <td>0</td>\n",
       "      <td>0</td>\n",
       "      <td>0</td>\n",
       "      <td>0</td>\n",
       "      <td>0</td>\n",
       "      <td>data scientist</td>\n",
       "      <td>na</td>\n",
       "      <td>M</td>\n",
       "    </tr>\n",
       "    <tr>\n",
       "      <th>3</th>\n",
       "      <td>3</td>\n",
       "      <td>Data Scientist</td>\n",
       "      <td>$56K-$97K (Glassdoor est.)</td>\n",
       "      <td>*Organization and Job ID**\\nJob ID: 310709\\n\\n...</td>\n",
       "      <td>3.8</td>\n",
       "      <td>PNNL\\n3.8</td>\n",
       "      <td>Richland, WA</td>\n",
       "      <td>Richland, WA</td>\n",
       "      <td>1001 - 5000</td>\n",
       "      <td>1965</td>\n",
       "      <td>...</td>\n",
       "      <td>0</td>\n",
       "      <td>0</td>\n",
       "      <td>0</td>\n",
       "      <td>0</td>\n",
       "      <td>0</td>\n",
       "      <td>0</td>\n",
       "      <td>0</td>\n",
       "      <td>data scientist</td>\n",
       "      <td>na</td>\n",
       "      <td>na</td>\n",
       "    </tr>\n",
       "    <tr>\n",
       "      <th>4</th>\n",
       "      <td>4</td>\n",
       "      <td>Data Scientist</td>\n",
       "      <td>$86K-$143K (Glassdoor est.)</td>\n",
       "      <td>Data Scientist\\nAffinity Solutions / Marketing...</td>\n",
       "      <td>2.9</td>\n",
       "      <td>Affinity Solutions\\n2.9</td>\n",
       "      <td>New York, NY</td>\n",
       "      <td>New York, NY</td>\n",
       "      <td>51 - 200</td>\n",
       "      <td>1998</td>\n",
       "      <td>...</td>\n",
       "      <td>0</td>\n",
       "      <td>0</td>\n",
       "      <td>0</td>\n",
       "      <td>0</td>\n",
       "      <td>0</td>\n",
       "      <td>0</td>\n",
       "      <td>0</td>\n",
       "      <td>data scientist</td>\n",
       "      <td>na</td>\n",
       "      <td>na</td>\n",
       "    </tr>\n",
       "    <tr>\n",
       "      <th>...</th>\n",
       "      <td>...</td>\n",
       "      <td>...</td>\n",
       "      <td>...</td>\n",
       "      <td>...</td>\n",
       "      <td>...</td>\n",
       "      <td>...</td>\n",
       "      <td>...</td>\n",
       "      <td>...</td>\n",
       "      <td>...</td>\n",
       "      <td>...</td>\n",
       "      <td>...</td>\n",
       "      <td>...</td>\n",
       "      <td>...</td>\n",
       "      <td>...</td>\n",
       "      <td>...</td>\n",
       "      <td>...</td>\n",
       "      <td>...</td>\n",
       "      <td>...</td>\n",
       "      <td>...</td>\n",
       "      <td>...</td>\n",
       "      <td>...</td>\n",
       "    </tr>\n",
       "    <tr>\n",
       "      <th>737</th>\n",
       "      <td>950</td>\n",
       "      <td>Sr Scientist, Immuno-Oncology - Oncology</td>\n",
       "      <td>$58K-$111K (Glassdoor est.)</td>\n",
       "      <td>Site Name: USA - Massachusetts - Cambridge\\nPo...</td>\n",
       "      <td>3.9</td>\n",
       "      <td>GSK\\n3.9</td>\n",
       "      <td>Cambridge, MA</td>\n",
       "      <td>Brentford, United Kingdom</td>\n",
       "      <td>10000+</td>\n",
       "      <td>1830</td>\n",
       "      <td>...</td>\n",
       "      <td>0</td>\n",
       "      <td>0</td>\n",
       "      <td>0</td>\n",
       "      <td>0</td>\n",
       "      <td>0</td>\n",
       "      <td>0</td>\n",
       "      <td>0</td>\n",
       "      <td>other scientist</td>\n",
       "      <td>sr</td>\n",
       "      <td>M</td>\n",
       "    </tr>\n",
       "    <tr>\n",
       "      <th>738</th>\n",
       "      <td>951</td>\n",
       "      <td>Senior Data Engineer</td>\n",
       "      <td>$72K-$133K (Glassdoor est.)</td>\n",
       "      <td>THE CHALLENGE\\nEventbrite has a world-class da...</td>\n",
       "      <td>4.4</td>\n",
       "      <td>Eventbrite\\n4.4</td>\n",
       "      <td>Nashville, TN</td>\n",
       "      <td>San Francisco, CA</td>\n",
       "      <td>1001 - 5000</td>\n",
       "      <td>2006</td>\n",
       "      <td>...</td>\n",
       "      <td>0</td>\n",
       "      <td>1</td>\n",
       "      <td>0</td>\n",
       "      <td>0</td>\n",
       "      <td>0</td>\n",
       "      <td>0</td>\n",
       "      <td>0</td>\n",
       "      <td>data engineer</td>\n",
       "      <td>sr</td>\n",
       "      <td>na</td>\n",
       "    </tr>\n",
       "    <tr>\n",
       "      <th>739</th>\n",
       "      <td>952</td>\n",
       "      <td>Project Scientist - Auton Lab, Robotics Institute</td>\n",
       "      <td>$56K-$91K (Glassdoor est.)</td>\n",
       "      <td>The Auton Lab at Carnegie Mellon University is...</td>\n",
       "      <td>2.6</td>\n",
       "      <td>Software Engineering Institute\\n2.6</td>\n",
       "      <td>Pittsburgh, PA</td>\n",
       "      <td>Pittsburgh, PA</td>\n",
       "      <td>501 - 1000</td>\n",
       "      <td>1984</td>\n",
       "      <td>...</td>\n",
       "      <td>0</td>\n",
       "      <td>0</td>\n",
       "      <td>0</td>\n",
       "      <td>0</td>\n",
       "      <td>0</td>\n",
       "      <td>0</td>\n",
       "      <td>0</td>\n",
       "      <td>other scientist</td>\n",
       "      <td>na</td>\n",
       "      <td>P</td>\n",
       "    </tr>\n",
       "    <tr>\n",
       "      <th>740</th>\n",
       "      <td>953</td>\n",
       "      <td>Data Science Manager</td>\n",
       "      <td>$95K-$160K (Glassdoor est.)</td>\n",
       "      <td>Data Science ManagerResponsibilities:\\n\\nOvers...</td>\n",
       "      <td>3.2</td>\n",
       "      <td>Numeric, LLC\\n3.2</td>\n",
       "      <td>Allentown, PA</td>\n",
       "      <td>Chadds Ford, PA</td>\n",
       "      <td>1 - 50</td>\n",
       "      <td>-1</td>\n",
       "      <td>...</td>\n",
       "      <td>0</td>\n",
       "      <td>0</td>\n",
       "      <td>0</td>\n",
       "      <td>0</td>\n",
       "      <td>0</td>\n",
       "      <td>0</td>\n",
       "      <td>0</td>\n",
       "      <td>data scientist</td>\n",
       "      <td>na</td>\n",
       "      <td>na</td>\n",
       "    </tr>\n",
       "    <tr>\n",
       "      <th>741</th>\n",
       "      <td>955</td>\n",
       "      <td>Research Scientist – Security and Privacy</td>\n",
       "      <td>$61K-$126K (Glassdoor est.)</td>\n",
       "      <td>Returning Candidate? Log back in to the Career...</td>\n",
       "      <td>3.6</td>\n",
       "      <td>Riverside Research Institute\\n3.6</td>\n",
       "      <td>Beavercreek, OH</td>\n",
       "      <td>Arlington, VA</td>\n",
       "      <td>501 - 1000</td>\n",
       "      <td>1967</td>\n",
       "      <td>...</td>\n",
       "      <td>0</td>\n",
       "      <td>0</td>\n",
       "      <td>0</td>\n",
       "      <td>0</td>\n",
       "      <td>0</td>\n",
       "      <td>0</td>\n",
       "      <td>0</td>\n",
       "      <td>other scientist</td>\n",
       "      <td>na</td>\n",
       "      <td>M</td>\n",
       "    </tr>\n",
       "  </tbody>\n",
       "</table>\n",
       "<p>742 rows × 42 columns</p>\n",
       "</div>"
      ],
      "text/plain": [
       "     index                                          Job Title  \\\n",
       "0        0                                     Data Scientist   \n",
       "1        1                          Healthcare Data Scientist   \n",
       "2        2                                     Data Scientist   \n",
       "3        3                                     Data Scientist   \n",
       "4        4                                     Data Scientist   \n",
       "..     ...                                                ...   \n",
       "737    950           Sr Scientist, Immuno-Oncology - Oncology   \n",
       "738    951                               Senior Data Engineer   \n",
       "739    952  Project Scientist - Auton Lab, Robotics Institute   \n",
       "740    953                               Data Science Manager   \n",
       "741    955          Research Scientist – Security and Privacy   \n",
       "\n",
       "                 Salary Estimate  \\\n",
       "0     $53K-$91K (Glassdoor est.)   \n",
       "1    $63K-$112K (Glassdoor est.)   \n",
       "2     $80K-$90K (Glassdoor est.)   \n",
       "3     $56K-$97K (Glassdoor est.)   \n",
       "4    $86K-$143K (Glassdoor est.)   \n",
       "..                           ...   \n",
       "737  $58K-$111K (Glassdoor est.)   \n",
       "738  $72K-$133K (Glassdoor est.)   \n",
       "739   $56K-$91K (Glassdoor est.)   \n",
       "740  $95K-$160K (Glassdoor est.)   \n",
       "741  $61K-$126K (Glassdoor est.)   \n",
       "\n",
       "                                       Job Description  Rating  \\\n",
       "0    Data Scientist\\nLocation: Albuquerque, NM\\nEdu...     3.8   \n",
       "1    What You Will Do:\\n\\nI. General Summary\\n\\nThe...     3.4   \n",
       "2    KnowBe4, Inc. is a high growth information sec...     4.8   \n",
       "3    *Organization and Job ID**\\nJob ID: 310709\\n\\n...     3.8   \n",
       "4    Data Scientist\\nAffinity Solutions / Marketing...     2.9   \n",
       "..                                                 ...     ...   \n",
       "737  Site Name: USA - Massachusetts - Cambridge\\nPo...     3.9   \n",
       "738  THE CHALLENGE\\nEventbrite has a world-class da...     4.4   \n",
       "739  The Auton Lab at Carnegie Mellon University is...     2.6   \n",
       "740  Data Science ManagerResponsibilities:\\n\\nOvers...     3.2   \n",
       "741  Returning Candidate? Log back in to the Career...     3.6   \n",
       "\n",
       "                                   Company Name         Location  \\\n",
       "0                        Tecolote Research\\n3.8  Albuquerque, NM   \n",
       "1    University of Maryland Medical System\\n3.4    Linthicum, MD   \n",
       "2                                  KnowBe4\\n4.8   Clearwater, FL   \n",
       "3                                     PNNL\\n3.8     Richland, WA   \n",
       "4                       Affinity Solutions\\n2.9     New York, NY   \n",
       "..                                          ...              ...   \n",
       "737                                    GSK\\n3.9    Cambridge, MA   \n",
       "738                             Eventbrite\\n4.4    Nashville, TN   \n",
       "739         Software Engineering Institute\\n2.6   Pittsburgh, PA   \n",
       "740                           Numeric, LLC\\n3.2    Allentown, PA   \n",
       "741           Riverside Research Institute\\n3.6  Beavercreek, OH   \n",
       "\n",
       "                  Headquarters          Size  Founded  ... tensor hadoop  \\\n",
       "0                   Goleta, CA   501 - 1000      1973  ...      0      0   \n",
       "1                Baltimore, MD       10000+      1984  ...      0      0   \n",
       "2               Clearwater, FL   501 - 1000      2010  ...      0      0   \n",
       "3                 Richland, WA  1001 - 5000      1965  ...      0      0   \n",
       "4                 New York, NY     51 - 200      1998  ...      0      0   \n",
       "..                         ...           ...      ...  ...    ...    ...   \n",
       "737  Brentford, United Kingdom       10000+      1830  ...      0      0   \n",
       "738          San Francisco, CA  1001 - 5000      2006  ...      0      1   \n",
       "739             Pittsburgh, PA   501 - 1000      1984  ...      0      0   \n",
       "740            Chadds Ford, PA       1 - 50        -1  ...      0      0   \n",
       "741              Arlington, VA   501 - 1000      1967  ...      0      0   \n",
       "\n",
       "    tableau bi flink  mongo  google_an    job_title_sim  seniority_by_title  \\\n",
       "0         1  1     0      0          0   data scientist                  na   \n",
       "1         0  0     0      0          0   data scientist                  na   \n",
       "2         0  0     0      0          0   data scientist                  na   \n",
       "3         0  0     0      0          0   data scientist                  na   \n",
       "4         0  0     0      0          0   data scientist                  na   \n",
       "..      ... ..   ...    ...        ...              ...                 ...   \n",
       "737       0  0     0      0          0  other scientist                  sr   \n",
       "738       0  0     0      0          0    data engineer                  sr   \n",
       "739       0  0     0      0          0  other scientist                  na   \n",
       "740       0  0     0      0          0   data scientist                  na   \n",
       "741       0  0     0      0          0  other scientist                  na   \n",
       "\n",
       "     Degree  \n",
       "0         M  \n",
       "1         M  \n",
       "2         M  \n",
       "3        na  \n",
       "4        na  \n",
       "..      ...  \n",
       "737       M  \n",
       "738      na  \n",
       "739       P  \n",
       "740      na  \n",
       "741       M  \n",
       "\n",
       "[742 rows x 42 columns]"
      ]
     },
     "execution_count": 20,
     "metadata": {},
     "output_type": "execute_result"
    }
   ],
   "source": [
    "data = pd.read_csv('data_cleaned_2021.csv')\n",
    "data"
   ]
  },
  {
   "cell_type": "code",
   "execution_count": 23,
   "id": "f22324ad-7943-44db-b6a0-b475f4530811",
   "metadata": {},
   "outputs": [],
   "source": [
    "data = data.set_index('index')"
   ]
  },
  {
   "cell_type": "code",
   "execution_count": 24,
   "id": "3cc91df1-075a-46ef-90c5-36812f2a9cb1",
   "metadata": {},
   "outputs": [
    {
     "data": {
      "text/html": [
       "<div>\n",
       "<style scoped>\n",
       "    .dataframe tbody tr th:only-of-type {\n",
       "        vertical-align: middle;\n",
       "    }\n",
       "\n",
       "    .dataframe tbody tr th {\n",
       "        vertical-align: top;\n",
       "    }\n",
       "\n",
       "    .dataframe thead th {\n",
       "        text-align: right;\n",
       "    }\n",
       "</style>\n",
       "<table border=\"1\" class=\"dataframe\">\n",
       "  <thead>\n",
       "    <tr style=\"text-align: right;\">\n",
       "      <th></th>\n",
       "      <th>Job Title</th>\n",
       "      <th>Salary Estimate</th>\n",
       "      <th>Job Description</th>\n",
       "      <th>Rating</th>\n",
       "      <th>Company Name</th>\n",
       "      <th>Location</th>\n",
       "      <th>Headquarters</th>\n",
       "      <th>Size</th>\n",
       "      <th>Founded</th>\n",
       "      <th>Type of ownership</th>\n",
       "      <th>...</th>\n",
       "      <th>tensor</th>\n",
       "      <th>hadoop</th>\n",
       "      <th>tableau</th>\n",
       "      <th>bi</th>\n",
       "      <th>flink</th>\n",
       "      <th>mongo</th>\n",
       "      <th>google_an</th>\n",
       "      <th>job_title_sim</th>\n",
       "      <th>seniority_by_title</th>\n",
       "      <th>Degree</th>\n",
       "    </tr>\n",
       "    <tr>\n",
       "      <th>index</th>\n",
       "      <th></th>\n",
       "      <th></th>\n",
       "      <th></th>\n",
       "      <th></th>\n",
       "      <th></th>\n",
       "      <th></th>\n",
       "      <th></th>\n",
       "      <th></th>\n",
       "      <th></th>\n",
       "      <th></th>\n",
       "      <th></th>\n",
       "      <th></th>\n",
       "      <th></th>\n",
       "      <th></th>\n",
       "      <th></th>\n",
       "      <th></th>\n",
       "      <th></th>\n",
       "      <th></th>\n",
       "      <th></th>\n",
       "      <th></th>\n",
       "      <th></th>\n",
       "    </tr>\n",
       "  </thead>\n",
       "  <tbody>\n",
       "    <tr>\n",
       "      <th>0</th>\n",
       "      <td>Data Scientist</td>\n",
       "      <td>$53K-$91K (Glassdoor est.)</td>\n",
       "      <td>Data Scientist\\nLocation: Albuquerque, NM\\nEdu...</td>\n",
       "      <td>3.8</td>\n",
       "      <td>Tecolote Research\\n3.8</td>\n",
       "      <td>Albuquerque, NM</td>\n",
       "      <td>Goleta, CA</td>\n",
       "      <td>501 - 1000</td>\n",
       "      <td>1973</td>\n",
       "      <td>Company - Private</td>\n",
       "      <td>...</td>\n",
       "      <td>0</td>\n",
       "      <td>0</td>\n",
       "      <td>1</td>\n",
       "      <td>1</td>\n",
       "      <td>0</td>\n",
       "      <td>0</td>\n",
       "      <td>0</td>\n",
       "      <td>data scientist</td>\n",
       "      <td>na</td>\n",
       "      <td>M</td>\n",
       "    </tr>\n",
       "    <tr>\n",
       "      <th>1</th>\n",
       "      <td>Healthcare Data Scientist</td>\n",
       "      <td>$63K-$112K (Glassdoor est.)</td>\n",
       "      <td>What You Will Do:\\n\\nI. General Summary\\n\\nThe...</td>\n",
       "      <td>3.4</td>\n",
       "      <td>University of Maryland Medical System\\n3.4</td>\n",
       "      <td>Linthicum, MD</td>\n",
       "      <td>Baltimore, MD</td>\n",
       "      <td>10000+</td>\n",
       "      <td>1984</td>\n",
       "      <td>Other Organization</td>\n",
       "      <td>...</td>\n",
       "      <td>0</td>\n",
       "      <td>0</td>\n",
       "      <td>0</td>\n",
       "      <td>0</td>\n",
       "      <td>0</td>\n",
       "      <td>0</td>\n",
       "      <td>0</td>\n",
       "      <td>data scientist</td>\n",
       "      <td>na</td>\n",
       "      <td>M</td>\n",
       "    </tr>\n",
       "    <tr>\n",
       "      <th>2</th>\n",
       "      <td>Data Scientist</td>\n",
       "      <td>$80K-$90K (Glassdoor est.)</td>\n",
       "      <td>KnowBe4, Inc. is a high growth information sec...</td>\n",
       "      <td>4.8</td>\n",
       "      <td>KnowBe4\\n4.8</td>\n",
       "      <td>Clearwater, FL</td>\n",
       "      <td>Clearwater, FL</td>\n",
       "      <td>501 - 1000</td>\n",
       "      <td>2010</td>\n",
       "      <td>Company - Private</td>\n",
       "      <td>...</td>\n",
       "      <td>0</td>\n",
       "      <td>0</td>\n",
       "      <td>0</td>\n",
       "      <td>0</td>\n",
       "      <td>0</td>\n",
       "      <td>0</td>\n",
       "      <td>0</td>\n",
       "      <td>data scientist</td>\n",
       "      <td>na</td>\n",
       "      <td>M</td>\n",
       "    </tr>\n",
       "    <tr>\n",
       "      <th>3</th>\n",
       "      <td>Data Scientist</td>\n",
       "      <td>$56K-$97K (Glassdoor est.)</td>\n",
       "      <td>*Organization and Job ID**\\nJob ID: 310709\\n\\n...</td>\n",
       "      <td>3.8</td>\n",
       "      <td>PNNL\\n3.8</td>\n",
       "      <td>Richland, WA</td>\n",
       "      <td>Richland, WA</td>\n",
       "      <td>1001 - 5000</td>\n",
       "      <td>1965</td>\n",
       "      <td>Government</td>\n",
       "      <td>...</td>\n",
       "      <td>0</td>\n",
       "      <td>0</td>\n",
       "      <td>0</td>\n",
       "      <td>0</td>\n",
       "      <td>0</td>\n",
       "      <td>0</td>\n",
       "      <td>0</td>\n",
       "      <td>data scientist</td>\n",
       "      <td>na</td>\n",
       "      <td>na</td>\n",
       "    </tr>\n",
       "    <tr>\n",
       "      <th>4</th>\n",
       "      <td>Data Scientist</td>\n",
       "      <td>$86K-$143K (Glassdoor est.)</td>\n",
       "      <td>Data Scientist\\nAffinity Solutions / Marketing...</td>\n",
       "      <td>2.9</td>\n",
       "      <td>Affinity Solutions\\n2.9</td>\n",
       "      <td>New York, NY</td>\n",
       "      <td>New York, NY</td>\n",
       "      <td>51 - 200</td>\n",
       "      <td>1998</td>\n",
       "      <td>Company - Private</td>\n",
       "      <td>...</td>\n",
       "      <td>0</td>\n",
       "      <td>0</td>\n",
       "      <td>0</td>\n",
       "      <td>0</td>\n",
       "      <td>0</td>\n",
       "      <td>0</td>\n",
       "      <td>0</td>\n",
       "      <td>data scientist</td>\n",
       "      <td>na</td>\n",
       "      <td>na</td>\n",
       "    </tr>\n",
       "    <tr>\n",
       "      <th>...</th>\n",
       "      <td>...</td>\n",
       "      <td>...</td>\n",
       "      <td>...</td>\n",
       "      <td>...</td>\n",
       "      <td>...</td>\n",
       "      <td>...</td>\n",
       "      <td>...</td>\n",
       "      <td>...</td>\n",
       "      <td>...</td>\n",
       "      <td>...</td>\n",
       "      <td>...</td>\n",
       "      <td>...</td>\n",
       "      <td>...</td>\n",
       "      <td>...</td>\n",
       "      <td>...</td>\n",
       "      <td>...</td>\n",
       "      <td>...</td>\n",
       "      <td>...</td>\n",
       "      <td>...</td>\n",
       "      <td>...</td>\n",
       "      <td>...</td>\n",
       "    </tr>\n",
       "    <tr>\n",
       "      <th>950</th>\n",
       "      <td>Sr Scientist, Immuno-Oncology - Oncology</td>\n",
       "      <td>$58K-$111K (Glassdoor est.)</td>\n",
       "      <td>Site Name: USA - Massachusetts - Cambridge\\nPo...</td>\n",
       "      <td>3.9</td>\n",
       "      <td>GSK\\n3.9</td>\n",
       "      <td>Cambridge, MA</td>\n",
       "      <td>Brentford, United Kingdom</td>\n",
       "      <td>10000+</td>\n",
       "      <td>1830</td>\n",
       "      <td>Company - Public</td>\n",
       "      <td>...</td>\n",
       "      <td>0</td>\n",
       "      <td>0</td>\n",
       "      <td>0</td>\n",
       "      <td>0</td>\n",
       "      <td>0</td>\n",
       "      <td>0</td>\n",
       "      <td>0</td>\n",
       "      <td>other scientist</td>\n",
       "      <td>sr</td>\n",
       "      <td>M</td>\n",
       "    </tr>\n",
       "    <tr>\n",
       "      <th>951</th>\n",
       "      <td>Senior Data Engineer</td>\n",
       "      <td>$72K-$133K (Glassdoor est.)</td>\n",
       "      <td>THE CHALLENGE\\nEventbrite has a world-class da...</td>\n",
       "      <td>4.4</td>\n",
       "      <td>Eventbrite\\n4.4</td>\n",
       "      <td>Nashville, TN</td>\n",
       "      <td>San Francisco, CA</td>\n",
       "      <td>1001 - 5000</td>\n",
       "      <td>2006</td>\n",
       "      <td>Company - Public</td>\n",
       "      <td>...</td>\n",
       "      <td>0</td>\n",
       "      <td>1</td>\n",
       "      <td>0</td>\n",
       "      <td>0</td>\n",
       "      <td>0</td>\n",
       "      <td>0</td>\n",
       "      <td>0</td>\n",
       "      <td>data engineer</td>\n",
       "      <td>sr</td>\n",
       "      <td>na</td>\n",
       "    </tr>\n",
       "    <tr>\n",
       "      <th>952</th>\n",
       "      <td>Project Scientist - Auton Lab, Robotics Institute</td>\n",
       "      <td>$56K-$91K (Glassdoor est.)</td>\n",
       "      <td>The Auton Lab at Carnegie Mellon University is...</td>\n",
       "      <td>2.6</td>\n",
       "      <td>Software Engineering Institute\\n2.6</td>\n",
       "      <td>Pittsburgh, PA</td>\n",
       "      <td>Pittsburgh, PA</td>\n",
       "      <td>501 - 1000</td>\n",
       "      <td>1984</td>\n",
       "      <td>College / University</td>\n",
       "      <td>...</td>\n",
       "      <td>0</td>\n",
       "      <td>0</td>\n",
       "      <td>0</td>\n",
       "      <td>0</td>\n",
       "      <td>0</td>\n",
       "      <td>0</td>\n",
       "      <td>0</td>\n",
       "      <td>other scientist</td>\n",
       "      <td>na</td>\n",
       "      <td>P</td>\n",
       "    </tr>\n",
       "    <tr>\n",
       "      <th>953</th>\n",
       "      <td>Data Science Manager</td>\n",
       "      <td>$95K-$160K (Glassdoor est.)</td>\n",
       "      <td>Data Science ManagerResponsibilities:\\n\\nOvers...</td>\n",
       "      <td>3.2</td>\n",
       "      <td>Numeric, LLC\\n3.2</td>\n",
       "      <td>Allentown, PA</td>\n",
       "      <td>Chadds Ford, PA</td>\n",
       "      <td>1 - 50</td>\n",
       "      <td>-1</td>\n",
       "      <td>Company - Private</td>\n",
       "      <td>...</td>\n",
       "      <td>0</td>\n",
       "      <td>0</td>\n",
       "      <td>0</td>\n",
       "      <td>0</td>\n",
       "      <td>0</td>\n",
       "      <td>0</td>\n",
       "      <td>0</td>\n",
       "      <td>data scientist</td>\n",
       "      <td>na</td>\n",
       "      <td>na</td>\n",
       "    </tr>\n",
       "    <tr>\n",
       "      <th>955</th>\n",
       "      <td>Research Scientist – Security and Privacy</td>\n",
       "      <td>$61K-$126K (Glassdoor est.)</td>\n",
       "      <td>Returning Candidate? Log back in to the Career...</td>\n",
       "      <td>3.6</td>\n",
       "      <td>Riverside Research Institute\\n3.6</td>\n",
       "      <td>Beavercreek, OH</td>\n",
       "      <td>Arlington, VA</td>\n",
       "      <td>501 - 1000</td>\n",
       "      <td>1967</td>\n",
       "      <td>Nonprofit Organization</td>\n",
       "      <td>...</td>\n",
       "      <td>0</td>\n",
       "      <td>0</td>\n",
       "      <td>0</td>\n",
       "      <td>0</td>\n",
       "      <td>0</td>\n",
       "      <td>0</td>\n",
       "      <td>0</td>\n",
       "      <td>other scientist</td>\n",
       "      <td>na</td>\n",
       "      <td>M</td>\n",
       "    </tr>\n",
       "  </tbody>\n",
       "</table>\n",
       "<p>742 rows × 41 columns</p>\n",
       "</div>"
      ],
      "text/plain": [
       "                                               Job Title  \\\n",
       "index                                                      \n",
       "0                                         Data Scientist   \n",
       "1                              Healthcare Data Scientist   \n",
       "2                                         Data Scientist   \n",
       "3                                         Data Scientist   \n",
       "4                                         Data Scientist   \n",
       "...                                                  ...   \n",
       "950             Sr Scientist, Immuno-Oncology - Oncology   \n",
       "951                                 Senior Data Engineer   \n",
       "952    Project Scientist - Auton Lab, Robotics Institute   \n",
       "953                                 Data Science Manager   \n",
       "955            Research Scientist – Security and Privacy   \n",
       "\n",
       "                   Salary Estimate  \\\n",
       "index                                \n",
       "0       $53K-$91K (Glassdoor est.)   \n",
       "1      $63K-$112K (Glassdoor est.)   \n",
       "2       $80K-$90K (Glassdoor est.)   \n",
       "3       $56K-$97K (Glassdoor est.)   \n",
       "4      $86K-$143K (Glassdoor est.)   \n",
       "...                            ...   \n",
       "950    $58K-$111K (Glassdoor est.)   \n",
       "951    $72K-$133K (Glassdoor est.)   \n",
       "952     $56K-$91K (Glassdoor est.)   \n",
       "953    $95K-$160K (Glassdoor est.)   \n",
       "955    $61K-$126K (Glassdoor est.)   \n",
       "\n",
       "                                         Job Description  Rating  \\\n",
       "index                                                              \n",
       "0      Data Scientist\\nLocation: Albuquerque, NM\\nEdu...     3.8   \n",
       "1      What You Will Do:\\n\\nI. General Summary\\n\\nThe...     3.4   \n",
       "2      KnowBe4, Inc. is a high growth information sec...     4.8   \n",
       "3      *Organization and Job ID**\\nJob ID: 310709\\n\\n...     3.8   \n",
       "4      Data Scientist\\nAffinity Solutions / Marketing...     2.9   \n",
       "...                                                  ...     ...   \n",
       "950    Site Name: USA - Massachusetts - Cambridge\\nPo...     3.9   \n",
       "951    THE CHALLENGE\\nEventbrite has a world-class da...     4.4   \n",
       "952    The Auton Lab at Carnegie Mellon University is...     2.6   \n",
       "953    Data Science ManagerResponsibilities:\\n\\nOvers...     3.2   \n",
       "955    Returning Candidate? Log back in to the Career...     3.6   \n",
       "\n",
       "                                     Company Name         Location  \\\n",
       "index                                                                \n",
       "0                          Tecolote Research\\n3.8  Albuquerque, NM   \n",
       "1      University of Maryland Medical System\\n3.4    Linthicum, MD   \n",
       "2                                    KnowBe4\\n4.8   Clearwater, FL   \n",
       "3                                       PNNL\\n3.8     Richland, WA   \n",
       "4                         Affinity Solutions\\n2.9     New York, NY   \n",
       "...                                           ...              ...   \n",
       "950                                      GSK\\n3.9    Cambridge, MA   \n",
       "951                               Eventbrite\\n4.4    Nashville, TN   \n",
       "952           Software Engineering Institute\\n2.6   Pittsburgh, PA   \n",
       "953                             Numeric, LLC\\n3.2    Allentown, PA   \n",
       "955             Riverside Research Institute\\n3.6  Beavercreek, OH   \n",
       "\n",
       "                    Headquarters          Size  Founded  \\\n",
       "index                                                     \n",
       "0                     Goleta, CA   501 - 1000      1973   \n",
       "1                  Baltimore, MD       10000+      1984   \n",
       "2                 Clearwater, FL   501 - 1000      2010   \n",
       "3                   Richland, WA  1001 - 5000      1965   \n",
       "4                   New York, NY     51 - 200      1998   \n",
       "...                          ...           ...      ...   \n",
       "950    Brentford, United Kingdom       10000+      1830   \n",
       "951            San Francisco, CA  1001 - 5000      2006   \n",
       "952               Pittsburgh, PA   501 - 1000      1984   \n",
       "953              Chadds Ford, PA       1 - 50        -1   \n",
       "955                Arlington, VA   501 - 1000      1967   \n",
       "\n",
       "            Type of ownership  ... tensor hadoop tableau bi  flink  mongo  \\\n",
       "index                          ...                                          \n",
       "0           Company - Private  ...      0      0       1  1      0      0   \n",
       "1          Other Organization  ...      0      0       0  0      0      0   \n",
       "2           Company - Private  ...      0      0       0  0      0      0   \n",
       "3                  Government  ...      0      0       0  0      0      0   \n",
       "4           Company - Private  ...      0      0       0  0      0      0   \n",
       "...                       ...  ...    ...    ...     ... ..    ...    ...   \n",
       "950          Company - Public  ...      0      0       0  0      0      0   \n",
       "951          Company - Public  ...      0      1       0  0      0      0   \n",
       "952      College / University  ...      0      0       0  0      0      0   \n",
       "953         Company - Private  ...      0      0       0  0      0      0   \n",
       "955    Nonprofit Organization  ...      0      0       0  0      0      0   \n",
       "\n",
       "       google_an    job_title_sim  seniority_by_title Degree  \n",
       "index                                                         \n",
       "0              0   data scientist                  na      M  \n",
       "1              0   data scientist                  na      M  \n",
       "2              0   data scientist                  na      M  \n",
       "3              0   data scientist                  na     na  \n",
       "4              0   data scientist                  na     na  \n",
       "...          ...              ...                 ...    ...  \n",
       "950            0  other scientist                  sr      M  \n",
       "951            0    data engineer                  sr     na  \n",
       "952            0  other scientist                  na      P  \n",
       "953            0   data scientist                  na     na  \n",
       "955            0  other scientist                  na      M  \n",
       "\n",
       "[742 rows x 41 columns]"
      ]
     },
     "execution_count": 24,
     "metadata": {},
     "output_type": "execute_result"
    }
   ],
   "source": [
    "data"
   ]
  },
  {
   "cell_type": "code",
   "execution_count": 25,
   "id": "ee0a8205-27a2-4033-ba8f-58b3df123aa5",
   "metadata": {},
   "outputs": [],
   "source": [
    "data.index.name=\"Job ID\""
   ]
  },
  {
   "cell_type": "code",
   "execution_count": 26,
   "id": "c695e460-da6f-4711-aa79-b831603d5ba7",
   "metadata": {},
   "outputs": [
    {
     "data": {
      "text/html": [
       "<div>\n",
       "<style scoped>\n",
       "    .dataframe tbody tr th:only-of-type {\n",
       "        vertical-align: middle;\n",
       "    }\n",
       "\n",
       "    .dataframe tbody tr th {\n",
       "        vertical-align: top;\n",
       "    }\n",
       "\n",
       "    .dataframe thead th {\n",
       "        text-align: right;\n",
       "    }\n",
       "</style>\n",
       "<table border=\"1\" class=\"dataframe\">\n",
       "  <thead>\n",
       "    <tr style=\"text-align: right;\">\n",
       "      <th></th>\n",
       "      <th>Job Title</th>\n",
       "      <th>Salary Estimate</th>\n",
       "      <th>Job Description</th>\n",
       "      <th>Rating</th>\n",
       "      <th>Company Name</th>\n",
       "      <th>Location</th>\n",
       "      <th>Headquarters</th>\n",
       "      <th>Size</th>\n",
       "      <th>Founded</th>\n",
       "      <th>Type of ownership</th>\n",
       "      <th>...</th>\n",
       "      <th>tensor</th>\n",
       "      <th>hadoop</th>\n",
       "      <th>tableau</th>\n",
       "      <th>bi</th>\n",
       "      <th>flink</th>\n",
       "      <th>mongo</th>\n",
       "      <th>google_an</th>\n",
       "      <th>job_title_sim</th>\n",
       "      <th>seniority_by_title</th>\n",
       "      <th>Degree</th>\n",
       "    </tr>\n",
       "    <tr>\n",
       "      <th>Job ID</th>\n",
       "      <th></th>\n",
       "      <th></th>\n",
       "      <th></th>\n",
       "      <th></th>\n",
       "      <th></th>\n",
       "      <th></th>\n",
       "      <th></th>\n",
       "      <th></th>\n",
       "      <th></th>\n",
       "      <th></th>\n",
       "      <th></th>\n",
       "      <th></th>\n",
       "      <th></th>\n",
       "      <th></th>\n",
       "      <th></th>\n",
       "      <th></th>\n",
       "      <th></th>\n",
       "      <th></th>\n",
       "      <th></th>\n",
       "      <th></th>\n",
       "      <th></th>\n",
       "    </tr>\n",
       "  </thead>\n",
       "  <tbody>\n",
       "    <tr>\n",
       "      <th>0</th>\n",
       "      <td>Data Scientist</td>\n",
       "      <td>$53K-$91K (Glassdoor est.)</td>\n",
       "      <td>Data Scientist\\nLocation: Albuquerque, NM\\nEdu...</td>\n",
       "      <td>3.8</td>\n",
       "      <td>Tecolote Research\\n3.8</td>\n",
       "      <td>Albuquerque, NM</td>\n",
       "      <td>Goleta, CA</td>\n",
       "      <td>501 - 1000</td>\n",
       "      <td>1973</td>\n",
       "      <td>Company - Private</td>\n",
       "      <td>...</td>\n",
       "      <td>0</td>\n",
       "      <td>0</td>\n",
       "      <td>1</td>\n",
       "      <td>1</td>\n",
       "      <td>0</td>\n",
       "      <td>0</td>\n",
       "      <td>0</td>\n",
       "      <td>data scientist</td>\n",
       "      <td>na</td>\n",
       "      <td>M</td>\n",
       "    </tr>\n",
       "    <tr>\n",
       "      <th>1</th>\n",
       "      <td>Healthcare Data Scientist</td>\n",
       "      <td>$63K-$112K (Glassdoor est.)</td>\n",
       "      <td>What You Will Do:\\n\\nI. General Summary\\n\\nThe...</td>\n",
       "      <td>3.4</td>\n",
       "      <td>University of Maryland Medical System\\n3.4</td>\n",
       "      <td>Linthicum, MD</td>\n",
       "      <td>Baltimore, MD</td>\n",
       "      <td>10000+</td>\n",
       "      <td>1984</td>\n",
       "      <td>Other Organization</td>\n",
       "      <td>...</td>\n",
       "      <td>0</td>\n",
       "      <td>0</td>\n",
       "      <td>0</td>\n",
       "      <td>0</td>\n",
       "      <td>0</td>\n",
       "      <td>0</td>\n",
       "      <td>0</td>\n",
       "      <td>data scientist</td>\n",
       "      <td>na</td>\n",
       "      <td>M</td>\n",
       "    </tr>\n",
       "    <tr>\n",
       "      <th>2</th>\n",
       "      <td>Data Scientist</td>\n",
       "      <td>$80K-$90K (Glassdoor est.)</td>\n",
       "      <td>KnowBe4, Inc. is a high growth information sec...</td>\n",
       "      <td>4.8</td>\n",
       "      <td>KnowBe4\\n4.8</td>\n",
       "      <td>Clearwater, FL</td>\n",
       "      <td>Clearwater, FL</td>\n",
       "      <td>501 - 1000</td>\n",
       "      <td>2010</td>\n",
       "      <td>Company - Private</td>\n",
       "      <td>...</td>\n",
       "      <td>0</td>\n",
       "      <td>0</td>\n",
       "      <td>0</td>\n",
       "      <td>0</td>\n",
       "      <td>0</td>\n",
       "      <td>0</td>\n",
       "      <td>0</td>\n",
       "      <td>data scientist</td>\n",
       "      <td>na</td>\n",
       "      <td>M</td>\n",
       "    </tr>\n",
       "    <tr>\n",
       "      <th>3</th>\n",
       "      <td>Data Scientist</td>\n",
       "      <td>$56K-$97K (Glassdoor est.)</td>\n",
       "      <td>*Organization and Job ID**\\nJob ID: 310709\\n\\n...</td>\n",
       "      <td>3.8</td>\n",
       "      <td>PNNL\\n3.8</td>\n",
       "      <td>Richland, WA</td>\n",
       "      <td>Richland, WA</td>\n",
       "      <td>1001 - 5000</td>\n",
       "      <td>1965</td>\n",
       "      <td>Government</td>\n",
       "      <td>...</td>\n",
       "      <td>0</td>\n",
       "      <td>0</td>\n",
       "      <td>0</td>\n",
       "      <td>0</td>\n",
       "      <td>0</td>\n",
       "      <td>0</td>\n",
       "      <td>0</td>\n",
       "      <td>data scientist</td>\n",
       "      <td>na</td>\n",
       "      <td>na</td>\n",
       "    </tr>\n",
       "    <tr>\n",
       "      <th>4</th>\n",
       "      <td>Data Scientist</td>\n",
       "      <td>$86K-$143K (Glassdoor est.)</td>\n",
       "      <td>Data Scientist\\nAffinity Solutions / Marketing...</td>\n",
       "      <td>2.9</td>\n",
       "      <td>Affinity Solutions\\n2.9</td>\n",
       "      <td>New York, NY</td>\n",
       "      <td>New York, NY</td>\n",
       "      <td>51 - 200</td>\n",
       "      <td>1998</td>\n",
       "      <td>Company - Private</td>\n",
       "      <td>...</td>\n",
       "      <td>0</td>\n",
       "      <td>0</td>\n",
       "      <td>0</td>\n",
       "      <td>0</td>\n",
       "      <td>0</td>\n",
       "      <td>0</td>\n",
       "      <td>0</td>\n",
       "      <td>data scientist</td>\n",
       "      <td>na</td>\n",
       "      <td>na</td>\n",
       "    </tr>\n",
       "    <tr>\n",
       "      <th>...</th>\n",
       "      <td>...</td>\n",
       "      <td>...</td>\n",
       "      <td>...</td>\n",
       "      <td>...</td>\n",
       "      <td>...</td>\n",
       "      <td>...</td>\n",
       "      <td>...</td>\n",
       "      <td>...</td>\n",
       "      <td>...</td>\n",
       "      <td>...</td>\n",
       "      <td>...</td>\n",
       "      <td>...</td>\n",
       "      <td>...</td>\n",
       "      <td>...</td>\n",
       "      <td>...</td>\n",
       "      <td>...</td>\n",
       "      <td>...</td>\n",
       "      <td>...</td>\n",
       "      <td>...</td>\n",
       "      <td>...</td>\n",
       "      <td>...</td>\n",
       "    </tr>\n",
       "    <tr>\n",
       "      <th>950</th>\n",
       "      <td>Sr Scientist, Immuno-Oncology - Oncology</td>\n",
       "      <td>$58K-$111K (Glassdoor est.)</td>\n",
       "      <td>Site Name: USA - Massachusetts - Cambridge\\nPo...</td>\n",
       "      <td>3.9</td>\n",
       "      <td>GSK\\n3.9</td>\n",
       "      <td>Cambridge, MA</td>\n",
       "      <td>Brentford, United Kingdom</td>\n",
       "      <td>10000+</td>\n",
       "      <td>1830</td>\n",
       "      <td>Company - Public</td>\n",
       "      <td>...</td>\n",
       "      <td>0</td>\n",
       "      <td>0</td>\n",
       "      <td>0</td>\n",
       "      <td>0</td>\n",
       "      <td>0</td>\n",
       "      <td>0</td>\n",
       "      <td>0</td>\n",
       "      <td>other scientist</td>\n",
       "      <td>sr</td>\n",
       "      <td>M</td>\n",
       "    </tr>\n",
       "    <tr>\n",
       "      <th>951</th>\n",
       "      <td>Senior Data Engineer</td>\n",
       "      <td>$72K-$133K (Glassdoor est.)</td>\n",
       "      <td>THE CHALLENGE\\nEventbrite has a world-class da...</td>\n",
       "      <td>4.4</td>\n",
       "      <td>Eventbrite\\n4.4</td>\n",
       "      <td>Nashville, TN</td>\n",
       "      <td>San Francisco, CA</td>\n",
       "      <td>1001 - 5000</td>\n",
       "      <td>2006</td>\n",
       "      <td>Company - Public</td>\n",
       "      <td>...</td>\n",
       "      <td>0</td>\n",
       "      <td>1</td>\n",
       "      <td>0</td>\n",
       "      <td>0</td>\n",
       "      <td>0</td>\n",
       "      <td>0</td>\n",
       "      <td>0</td>\n",
       "      <td>data engineer</td>\n",
       "      <td>sr</td>\n",
       "      <td>na</td>\n",
       "    </tr>\n",
       "    <tr>\n",
       "      <th>952</th>\n",
       "      <td>Project Scientist - Auton Lab, Robotics Institute</td>\n",
       "      <td>$56K-$91K (Glassdoor est.)</td>\n",
       "      <td>The Auton Lab at Carnegie Mellon University is...</td>\n",
       "      <td>2.6</td>\n",
       "      <td>Software Engineering Institute\\n2.6</td>\n",
       "      <td>Pittsburgh, PA</td>\n",
       "      <td>Pittsburgh, PA</td>\n",
       "      <td>501 - 1000</td>\n",
       "      <td>1984</td>\n",
       "      <td>College / University</td>\n",
       "      <td>...</td>\n",
       "      <td>0</td>\n",
       "      <td>0</td>\n",
       "      <td>0</td>\n",
       "      <td>0</td>\n",
       "      <td>0</td>\n",
       "      <td>0</td>\n",
       "      <td>0</td>\n",
       "      <td>other scientist</td>\n",
       "      <td>na</td>\n",
       "      <td>P</td>\n",
       "    </tr>\n",
       "    <tr>\n",
       "      <th>953</th>\n",
       "      <td>Data Science Manager</td>\n",
       "      <td>$95K-$160K (Glassdoor est.)</td>\n",
       "      <td>Data Science ManagerResponsibilities:\\n\\nOvers...</td>\n",
       "      <td>3.2</td>\n",
       "      <td>Numeric, LLC\\n3.2</td>\n",
       "      <td>Allentown, PA</td>\n",
       "      <td>Chadds Ford, PA</td>\n",
       "      <td>1 - 50</td>\n",
       "      <td>-1</td>\n",
       "      <td>Company - Private</td>\n",
       "      <td>...</td>\n",
       "      <td>0</td>\n",
       "      <td>0</td>\n",
       "      <td>0</td>\n",
       "      <td>0</td>\n",
       "      <td>0</td>\n",
       "      <td>0</td>\n",
       "      <td>0</td>\n",
       "      <td>data scientist</td>\n",
       "      <td>na</td>\n",
       "      <td>na</td>\n",
       "    </tr>\n",
       "    <tr>\n",
       "      <th>955</th>\n",
       "      <td>Research Scientist – Security and Privacy</td>\n",
       "      <td>$61K-$126K (Glassdoor est.)</td>\n",
       "      <td>Returning Candidate? Log back in to the Career...</td>\n",
       "      <td>3.6</td>\n",
       "      <td>Riverside Research Institute\\n3.6</td>\n",
       "      <td>Beavercreek, OH</td>\n",
       "      <td>Arlington, VA</td>\n",
       "      <td>501 - 1000</td>\n",
       "      <td>1967</td>\n",
       "      <td>Nonprofit Organization</td>\n",
       "      <td>...</td>\n",
       "      <td>0</td>\n",
       "      <td>0</td>\n",
       "      <td>0</td>\n",
       "      <td>0</td>\n",
       "      <td>0</td>\n",
       "      <td>0</td>\n",
       "      <td>0</td>\n",
       "      <td>other scientist</td>\n",
       "      <td>na</td>\n",
       "      <td>M</td>\n",
       "    </tr>\n",
       "  </tbody>\n",
       "</table>\n",
       "<p>742 rows × 41 columns</p>\n",
       "</div>"
      ],
      "text/plain": [
       "                                                Job Title  \\\n",
       "Job ID                                                      \n",
       "0                                          Data Scientist   \n",
       "1                               Healthcare Data Scientist   \n",
       "2                                          Data Scientist   \n",
       "3                                          Data Scientist   \n",
       "4                                          Data Scientist   \n",
       "...                                                   ...   \n",
       "950              Sr Scientist, Immuno-Oncology - Oncology   \n",
       "951                                  Senior Data Engineer   \n",
       "952     Project Scientist - Auton Lab, Robotics Institute   \n",
       "953                                  Data Science Manager   \n",
       "955             Research Scientist – Security and Privacy   \n",
       "\n",
       "                    Salary Estimate  \\\n",
       "Job ID                                \n",
       "0        $53K-$91K (Glassdoor est.)   \n",
       "1       $63K-$112K (Glassdoor est.)   \n",
       "2        $80K-$90K (Glassdoor est.)   \n",
       "3        $56K-$97K (Glassdoor est.)   \n",
       "4       $86K-$143K (Glassdoor est.)   \n",
       "...                             ...   \n",
       "950     $58K-$111K (Glassdoor est.)   \n",
       "951     $72K-$133K (Glassdoor est.)   \n",
       "952      $56K-$91K (Glassdoor est.)   \n",
       "953     $95K-$160K (Glassdoor est.)   \n",
       "955     $61K-$126K (Glassdoor est.)   \n",
       "\n",
       "                                          Job Description  Rating  \\\n",
       "Job ID                                                              \n",
       "0       Data Scientist\\nLocation: Albuquerque, NM\\nEdu...     3.8   \n",
       "1       What You Will Do:\\n\\nI. General Summary\\n\\nThe...     3.4   \n",
       "2       KnowBe4, Inc. is a high growth information sec...     4.8   \n",
       "3       *Organization and Job ID**\\nJob ID: 310709\\n\\n...     3.8   \n",
       "4       Data Scientist\\nAffinity Solutions / Marketing...     2.9   \n",
       "...                                                   ...     ...   \n",
       "950     Site Name: USA - Massachusetts - Cambridge\\nPo...     3.9   \n",
       "951     THE CHALLENGE\\nEventbrite has a world-class da...     4.4   \n",
       "952     The Auton Lab at Carnegie Mellon University is...     2.6   \n",
       "953     Data Science ManagerResponsibilities:\\n\\nOvers...     3.2   \n",
       "955     Returning Candidate? Log back in to the Career...     3.6   \n",
       "\n",
       "                                      Company Name         Location  \\\n",
       "Job ID                                                                \n",
       "0                           Tecolote Research\\n3.8  Albuquerque, NM   \n",
       "1       University of Maryland Medical System\\n3.4    Linthicum, MD   \n",
       "2                                     KnowBe4\\n4.8   Clearwater, FL   \n",
       "3                                        PNNL\\n3.8     Richland, WA   \n",
       "4                          Affinity Solutions\\n2.9     New York, NY   \n",
       "...                                            ...              ...   \n",
       "950                                       GSK\\n3.9    Cambridge, MA   \n",
       "951                                Eventbrite\\n4.4    Nashville, TN   \n",
       "952            Software Engineering Institute\\n2.6   Pittsburgh, PA   \n",
       "953                              Numeric, LLC\\n3.2    Allentown, PA   \n",
       "955              Riverside Research Institute\\n3.6  Beavercreek, OH   \n",
       "\n",
       "                     Headquarters          Size  Founded  \\\n",
       "Job ID                                                     \n",
       "0                      Goleta, CA   501 - 1000      1973   \n",
       "1                   Baltimore, MD       10000+      1984   \n",
       "2                  Clearwater, FL   501 - 1000      2010   \n",
       "3                    Richland, WA  1001 - 5000      1965   \n",
       "4                    New York, NY     51 - 200      1998   \n",
       "...                           ...           ...      ...   \n",
       "950     Brentford, United Kingdom       10000+      1830   \n",
       "951             San Francisco, CA  1001 - 5000      2006   \n",
       "952                Pittsburgh, PA   501 - 1000      1984   \n",
       "953               Chadds Ford, PA       1 - 50        -1   \n",
       "955                 Arlington, VA   501 - 1000      1967   \n",
       "\n",
       "             Type of ownership  ... tensor hadoop tableau bi  flink  mongo  \\\n",
       "Job ID                          ...                                          \n",
       "0            Company - Private  ...      0      0       1  1      0      0   \n",
       "1           Other Organization  ...      0      0       0  0      0      0   \n",
       "2            Company - Private  ...      0      0       0  0      0      0   \n",
       "3                   Government  ...      0      0       0  0      0      0   \n",
       "4            Company - Private  ...      0      0       0  0      0      0   \n",
       "...                        ...  ...    ...    ...     ... ..    ...    ...   \n",
       "950           Company - Public  ...      0      0       0  0      0      0   \n",
       "951           Company - Public  ...      0      1       0  0      0      0   \n",
       "952       College / University  ...      0      0       0  0      0      0   \n",
       "953          Company - Private  ...      0      0       0  0      0      0   \n",
       "955     Nonprofit Organization  ...      0      0       0  0      0      0   \n",
       "\n",
       "        google_an    job_title_sim  seniority_by_title Degree  \n",
       "Job ID                                                         \n",
       "0               0   data scientist                  na      M  \n",
       "1               0   data scientist                  na      M  \n",
       "2               0   data scientist                  na      M  \n",
       "3               0   data scientist                  na     na  \n",
       "4               0   data scientist                  na     na  \n",
       "...           ...              ...                 ...    ...  \n",
       "950             0  other scientist                  sr      M  \n",
       "951             0    data engineer                  sr     na  \n",
       "952             0  other scientist                  na      P  \n",
       "953             0   data scientist                  na     na  \n",
       "955             0  other scientist                  na      M  \n",
       "\n",
       "[742 rows x 41 columns]"
      ]
     },
     "execution_count": 26,
     "metadata": {},
     "output_type": "execute_result"
    }
   ],
   "source": [
    "data"
   ]
  },
  {
   "cell_type": "code",
   "execution_count": 1,
   "id": "cfb3d675-13d1-4ce6-9ab5-9f7a9e5aae0f",
   "metadata": {},
   "outputs": [],
   "source": [
    "import numpy as np\n",
    "from pandas import DataFrame, Series\n",
    "import pandas as pd"
   ]
  },
  {
   "cell_type": "code",
   "execution_count": 2,
   "id": "851fe58c-ee81-47ad-a102-0884c6dfe353",
   "metadata": {},
   "outputs": [
    {
     "data": {
      "text/plain": [
       "Acme Corp              ACMC\n",
       "Anton Computers         ANT\n",
       "Maximo Construction     MCX\n",
       "dtype: object"
      ]
     },
     "execution_count": 2,
     "metadata": {},
     "output_type": "execute_result"
    }
   ],
   "source": [
    "stock_symbols = {\"Acme Corp\":\"ACMC\",\"Anton Computers\":\"ANT\", \"Maximo Construction\":\"MCX\"}\n",
    "stock_prices = {\"ACMC\":29,\"MCX\":15,\"ANT\":48}\n",
    "symbol_series = Series(stock_symbols)\n",
    "prices_series = Series(stock_prices)\n",
    "symbol_series"
   ]
  },
  {
   "cell_type": "code",
   "execution_count": 3,
   "id": "995ca7a7-cfdd-4f5d-b792-816b8749910a",
   "metadata": {},
   "outputs": [
    {
     "data": {
      "text/plain": [
       "Acme Corp              29\n",
       "Anton Computers        48\n",
       "Maximo Construction    15\n",
       "dtype: int64"
      ]
     },
     "execution_count": 3,
     "metadata": {},
     "output_type": "execute_result"
    }
   ],
   "source": [
    "symbol_series.map(prices_series)"
   ]
  },
  {
   "cell_type": "code",
   "execution_count": 4,
   "id": "55985e51-9545-4c33-8811-de20b59c1cfe",
   "metadata": {},
   "outputs": [
    {
     "data": {
      "text/html": [
       "<div>\n",
       "<style scoped>\n",
       "    .dataframe tbody tr th:only-of-type {\n",
       "        vertical-align: middle;\n",
       "    }\n",
       "\n",
       "    .dataframe tbody tr th {\n",
       "        vertical-align: top;\n",
       "    }\n",
       "\n",
       "    .dataframe thead th {\n",
       "        text-align: right;\n",
       "    }\n",
       "</style>\n",
       "<table border=\"1\" class=\"dataframe\">\n",
       "  <thead>\n",
       "    <tr style=\"text-align: right;\">\n",
       "      <th></th>\n",
       "      <th>index</th>\n",
       "      <th>Job Title</th>\n",
       "      <th>Salary Estimate</th>\n",
       "      <th>Job Description</th>\n",
       "      <th>Rating</th>\n",
       "      <th>Company Name</th>\n",
       "      <th>Location</th>\n",
       "      <th>Headquarters</th>\n",
       "      <th>Size</th>\n",
       "      <th>Founded</th>\n",
       "      <th>...</th>\n",
       "      <th>tensor</th>\n",
       "      <th>hadoop</th>\n",
       "      <th>tableau</th>\n",
       "      <th>bi</th>\n",
       "      <th>flink</th>\n",
       "      <th>mongo</th>\n",
       "      <th>google_an</th>\n",
       "      <th>job_title_sim</th>\n",
       "      <th>seniority_by_title</th>\n",
       "      <th>Degree</th>\n",
       "    </tr>\n",
       "  </thead>\n",
       "  <tbody>\n",
       "    <tr>\n",
       "      <th>0</th>\n",
       "      <td>0</td>\n",
       "      <td>Data Scientist</td>\n",
       "      <td>$53K-$91K (Glassdoor est.)</td>\n",
       "      <td>Data Scientist\\nLocation: Albuquerque, NM\\nEdu...</td>\n",
       "      <td>3.8</td>\n",
       "      <td>Tecolote Research\\n3.8</td>\n",
       "      <td>Albuquerque, NM</td>\n",
       "      <td>Goleta, CA</td>\n",
       "      <td>501 - 1000</td>\n",
       "      <td>1973</td>\n",
       "      <td>...</td>\n",
       "      <td>0</td>\n",
       "      <td>0</td>\n",
       "      <td>1</td>\n",
       "      <td>1</td>\n",
       "      <td>0</td>\n",
       "      <td>0</td>\n",
       "      <td>0</td>\n",
       "      <td>data scientist</td>\n",
       "      <td>na</td>\n",
       "      <td>M</td>\n",
       "    </tr>\n",
       "    <tr>\n",
       "      <th>1</th>\n",
       "      <td>1</td>\n",
       "      <td>Healthcare Data Scientist</td>\n",
       "      <td>$63K-$112K (Glassdoor est.)</td>\n",
       "      <td>What You Will Do:\\n\\nI. General Summary\\n\\nThe...</td>\n",
       "      <td>3.4</td>\n",
       "      <td>University of Maryland Medical System\\n3.4</td>\n",
       "      <td>Linthicum, MD</td>\n",
       "      <td>Baltimore, MD</td>\n",
       "      <td>10000+</td>\n",
       "      <td>1984</td>\n",
       "      <td>...</td>\n",
       "      <td>0</td>\n",
       "      <td>0</td>\n",
       "      <td>0</td>\n",
       "      <td>0</td>\n",
       "      <td>0</td>\n",
       "      <td>0</td>\n",
       "      <td>0</td>\n",
       "      <td>data scientist</td>\n",
       "      <td>na</td>\n",
       "      <td>M</td>\n",
       "    </tr>\n",
       "    <tr>\n",
       "      <th>2</th>\n",
       "      <td>2</td>\n",
       "      <td>Data Scientist</td>\n",
       "      <td>$80K-$90K (Glassdoor est.)</td>\n",
       "      <td>KnowBe4, Inc. is a high growth information sec...</td>\n",
       "      <td>4.8</td>\n",
       "      <td>KnowBe4\\n4.8</td>\n",
       "      <td>Clearwater, FL</td>\n",
       "      <td>Clearwater, FL</td>\n",
       "      <td>501 - 1000</td>\n",
       "      <td>2010</td>\n",
       "      <td>...</td>\n",
       "      <td>0</td>\n",
       "      <td>0</td>\n",
       "      <td>0</td>\n",
       "      <td>0</td>\n",
       "      <td>0</td>\n",
       "      <td>0</td>\n",
       "      <td>0</td>\n",
       "      <td>data scientist</td>\n",
       "      <td>na</td>\n",
       "      <td>M</td>\n",
       "    </tr>\n",
       "    <tr>\n",
       "      <th>3</th>\n",
       "      <td>3</td>\n",
       "      <td>Data Scientist</td>\n",
       "      <td>$56K-$97K (Glassdoor est.)</td>\n",
       "      <td>*Organization and Job ID**\\nJob ID: 310709\\n\\n...</td>\n",
       "      <td>3.8</td>\n",
       "      <td>PNNL\\n3.8</td>\n",
       "      <td>Richland, WA</td>\n",
       "      <td>Richland, WA</td>\n",
       "      <td>1001 - 5000</td>\n",
       "      <td>1965</td>\n",
       "      <td>...</td>\n",
       "      <td>0</td>\n",
       "      <td>0</td>\n",
       "      <td>0</td>\n",
       "      <td>0</td>\n",
       "      <td>0</td>\n",
       "      <td>0</td>\n",
       "      <td>0</td>\n",
       "      <td>data scientist</td>\n",
       "      <td>na</td>\n",
       "      <td>na</td>\n",
       "    </tr>\n",
       "    <tr>\n",
       "      <th>4</th>\n",
       "      <td>4</td>\n",
       "      <td>Data Scientist</td>\n",
       "      <td>$86K-$143K (Glassdoor est.)</td>\n",
       "      <td>Data Scientist\\nAffinity Solutions / Marketing...</td>\n",
       "      <td>2.9</td>\n",
       "      <td>Affinity Solutions\\n2.9</td>\n",
       "      <td>New York, NY</td>\n",
       "      <td>New York, NY</td>\n",
       "      <td>51 - 200</td>\n",
       "      <td>1998</td>\n",
       "      <td>...</td>\n",
       "      <td>0</td>\n",
       "      <td>0</td>\n",
       "      <td>0</td>\n",
       "      <td>0</td>\n",
       "      <td>0</td>\n",
       "      <td>0</td>\n",
       "      <td>0</td>\n",
       "      <td>data scientist</td>\n",
       "      <td>na</td>\n",
       "      <td>na</td>\n",
       "    </tr>\n",
       "    <tr>\n",
       "      <th>...</th>\n",
       "      <td>...</td>\n",
       "      <td>...</td>\n",
       "      <td>...</td>\n",
       "      <td>...</td>\n",
       "      <td>...</td>\n",
       "      <td>...</td>\n",
       "      <td>...</td>\n",
       "      <td>...</td>\n",
       "      <td>...</td>\n",
       "      <td>...</td>\n",
       "      <td>...</td>\n",
       "      <td>...</td>\n",
       "      <td>...</td>\n",
       "      <td>...</td>\n",
       "      <td>...</td>\n",
       "      <td>...</td>\n",
       "      <td>...</td>\n",
       "      <td>...</td>\n",
       "      <td>...</td>\n",
       "      <td>...</td>\n",
       "      <td>...</td>\n",
       "    </tr>\n",
       "    <tr>\n",
       "      <th>737</th>\n",
       "      <td>950</td>\n",
       "      <td>Sr Scientist, Immuno-Oncology - Oncology</td>\n",
       "      <td>$58K-$111K (Glassdoor est.)</td>\n",
       "      <td>Site Name: USA - Massachusetts - Cambridge\\nPo...</td>\n",
       "      <td>3.9</td>\n",
       "      <td>GSK\\n3.9</td>\n",
       "      <td>Cambridge, MA</td>\n",
       "      <td>Brentford, United Kingdom</td>\n",
       "      <td>10000+</td>\n",
       "      <td>1830</td>\n",
       "      <td>...</td>\n",
       "      <td>0</td>\n",
       "      <td>0</td>\n",
       "      <td>0</td>\n",
       "      <td>0</td>\n",
       "      <td>0</td>\n",
       "      <td>0</td>\n",
       "      <td>0</td>\n",
       "      <td>other scientist</td>\n",
       "      <td>sr</td>\n",
       "      <td>M</td>\n",
       "    </tr>\n",
       "    <tr>\n",
       "      <th>738</th>\n",
       "      <td>951</td>\n",
       "      <td>Senior Data Engineer</td>\n",
       "      <td>$72K-$133K (Glassdoor est.)</td>\n",
       "      <td>THE CHALLENGE\\nEventbrite has a world-class da...</td>\n",
       "      <td>4.4</td>\n",
       "      <td>Eventbrite\\n4.4</td>\n",
       "      <td>Nashville, TN</td>\n",
       "      <td>San Francisco, CA</td>\n",
       "      <td>1001 - 5000</td>\n",
       "      <td>2006</td>\n",
       "      <td>...</td>\n",
       "      <td>0</td>\n",
       "      <td>1</td>\n",
       "      <td>0</td>\n",
       "      <td>0</td>\n",
       "      <td>0</td>\n",
       "      <td>0</td>\n",
       "      <td>0</td>\n",
       "      <td>data engineer</td>\n",
       "      <td>sr</td>\n",
       "      <td>na</td>\n",
       "    </tr>\n",
       "    <tr>\n",
       "      <th>739</th>\n",
       "      <td>952</td>\n",
       "      <td>Project Scientist - Auton Lab, Robotics Institute</td>\n",
       "      <td>$56K-$91K (Glassdoor est.)</td>\n",
       "      <td>The Auton Lab at Carnegie Mellon University is...</td>\n",
       "      <td>2.6</td>\n",
       "      <td>Software Engineering Institute\\n2.6</td>\n",
       "      <td>Pittsburgh, PA</td>\n",
       "      <td>Pittsburgh, PA</td>\n",
       "      <td>501 - 1000</td>\n",
       "      <td>1984</td>\n",
       "      <td>...</td>\n",
       "      <td>0</td>\n",
       "      <td>0</td>\n",
       "      <td>0</td>\n",
       "      <td>0</td>\n",
       "      <td>0</td>\n",
       "      <td>0</td>\n",
       "      <td>0</td>\n",
       "      <td>other scientist</td>\n",
       "      <td>na</td>\n",
       "      <td>P</td>\n",
       "    </tr>\n",
       "    <tr>\n",
       "      <th>740</th>\n",
       "      <td>953</td>\n",
       "      <td>Data Science Manager</td>\n",
       "      <td>$95K-$160K (Glassdoor est.)</td>\n",
       "      <td>Data Science ManagerResponsibilities:\\n\\nOvers...</td>\n",
       "      <td>3.2</td>\n",
       "      <td>Numeric, LLC\\n3.2</td>\n",
       "      <td>Allentown, PA</td>\n",
       "      <td>Chadds Ford, PA</td>\n",
       "      <td>1 - 50</td>\n",
       "      <td>-1</td>\n",
       "      <td>...</td>\n",
       "      <td>0</td>\n",
       "      <td>0</td>\n",
       "      <td>0</td>\n",
       "      <td>0</td>\n",
       "      <td>0</td>\n",
       "      <td>0</td>\n",
       "      <td>0</td>\n",
       "      <td>data scientist</td>\n",
       "      <td>na</td>\n",
       "      <td>na</td>\n",
       "    </tr>\n",
       "    <tr>\n",
       "      <th>741</th>\n",
       "      <td>955</td>\n",
       "      <td>Research Scientist – Security and Privacy</td>\n",
       "      <td>$61K-$126K (Glassdoor est.)</td>\n",
       "      <td>Returning Candidate? Log back in to the Career...</td>\n",
       "      <td>3.6</td>\n",
       "      <td>Riverside Research Institute\\n3.6</td>\n",
       "      <td>Beavercreek, OH</td>\n",
       "      <td>Arlington, VA</td>\n",
       "      <td>501 - 1000</td>\n",
       "      <td>1967</td>\n",
       "      <td>...</td>\n",
       "      <td>0</td>\n",
       "      <td>0</td>\n",
       "      <td>0</td>\n",
       "      <td>0</td>\n",
       "      <td>0</td>\n",
       "      <td>0</td>\n",
       "      <td>0</td>\n",
       "      <td>other scientist</td>\n",
       "      <td>na</td>\n",
       "      <td>M</td>\n",
       "    </tr>\n",
       "  </tbody>\n",
       "</table>\n",
       "<p>742 rows × 42 columns</p>\n",
       "</div>"
      ],
      "text/plain": [
       "     index                                          Job Title  \\\n",
       "0        0                                     Data Scientist   \n",
       "1        1                          Healthcare Data Scientist   \n",
       "2        2                                     Data Scientist   \n",
       "3        3                                     Data Scientist   \n",
       "4        4                                     Data Scientist   \n",
       "..     ...                                                ...   \n",
       "737    950           Sr Scientist, Immuno-Oncology - Oncology   \n",
       "738    951                               Senior Data Engineer   \n",
       "739    952  Project Scientist - Auton Lab, Robotics Institute   \n",
       "740    953                               Data Science Manager   \n",
       "741    955          Research Scientist – Security and Privacy   \n",
       "\n",
       "                 Salary Estimate  \\\n",
       "0     $53K-$91K (Glassdoor est.)   \n",
       "1    $63K-$112K (Glassdoor est.)   \n",
       "2     $80K-$90K (Glassdoor est.)   \n",
       "3     $56K-$97K (Glassdoor est.)   \n",
       "4    $86K-$143K (Glassdoor est.)   \n",
       "..                           ...   \n",
       "737  $58K-$111K (Glassdoor est.)   \n",
       "738  $72K-$133K (Glassdoor est.)   \n",
       "739   $56K-$91K (Glassdoor est.)   \n",
       "740  $95K-$160K (Glassdoor est.)   \n",
       "741  $61K-$126K (Glassdoor est.)   \n",
       "\n",
       "                                       Job Description  Rating  \\\n",
       "0    Data Scientist\\nLocation: Albuquerque, NM\\nEdu...     3.8   \n",
       "1    What You Will Do:\\n\\nI. General Summary\\n\\nThe...     3.4   \n",
       "2    KnowBe4, Inc. is a high growth information sec...     4.8   \n",
       "3    *Organization and Job ID**\\nJob ID: 310709\\n\\n...     3.8   \n",
       "4    Data Scientist\\nAffinity Solutions / Marketing...     2.9   \n",
       "..                                                 ...     ...   \n",
       "737  Site Name: USA - Massachusetts - Cambridge\\nPo...     3.9   \n",
       "738  THE CHALLENGE\\nEventbrite has a world-class da...     4.4   \n",
       "739  The Auton Lab at Carnegie Mellon University is...     2.6   \n",
       "740  Data Science ManagerResponsibilities:\\n\\nOvers...     3.2   \n",
       "741  Returning Candidate? Log back in to the Career...     3.6   \n",
       "\n",
       "                                   Company Name         Location  \\\n",
       "0                        Tecolote Research\\n3.8  Albuquerque, NM   \n",
       "1    University of Maryland Medical System\\n3.4    Linthicum, MD   \n",
       "2                                  KnowBe4\\n4.8   Clearwater, FL   \n",
       "3                                     PNNL\\n3.8     Richland, WA   \n",
       "4                       Affinity Solutions\\n2.9     New York, NY   \n",
       "..                                          ...              ...   \n",
       "737                                    GSK\\n3.9    Cambridge, MA   \n",
       "738                             Eventbrite\\n4.4    Nashville, TN   \n",
       "739         Software Engineering Institute\\n2.6   Pittsburgh, PA   \n",
       "740                           Numeric, LLC\\n3.2    Allentown, PA   \n",
       "741           Riverside Research Institute\\n3.6  Beavercreek, OH   \n",
       "\n",
       "                  Headquarters          Size  Founded  ... tensor hadoop  \\\n",
       "0                   Goleta, CA   501 - 1000      1973  ...      0      0   \n",
       "1                Baltimore, MD       10000+      1984  ...      0      0   \n",
       "2               Clearwater, FL   501 - 1000      2010  ...      0      0   \n",
       "3                 Richland, WA  1001 - 5000      1965  ...      0      0   \n",
       "4                 New York, NY     51 - 200      1998  ...      0      0   \n",
       "..                         ...           ...      ...  ...    ...    ...   \n",
       "737  Brentford, United Kingdom       10000+      1830  ...      0      0   \n",
       "738          San Francisco, CA  1001 - 5000      2006  ...      0      1   \n",
       "739             Pittsburgh, PA   501 - 1000      1984  ...      0      0   \n",
       "740            Chadds Ford, PA       1 - 50        -1  ...      0      0   \n",
       "741              Arlington, VA   501 - 1000      1967  ...      0      0   \n",
       "\n",
       "    tableau bi flink  mongo  google_an    job_title_sim  seniority_by_title  \\\n",
       "0         1  1     0      0          0   data scientist                  na   \n",
       "1         0  0     0      0          0   data scientist                  na   \n",
       "2         0  0     0      0          0   data scientist                  na   \n",
       "3         0  0     0      0          0   data scientist                  na   \n",
       "4         0  0     0      0          0   data scientist                  na   \n",
       "..      ... ..   ...    ...        ...              ...                 ...   \n",
       "737       0  0     0      0          0  other scientist                  sr   \n",
       "738       0  0     0      0          0    data engineer                  sr   \n",
       "739       0  0     0      0          0  other scientist                  na   \n",
       "740       0  0     0      0          0   data scientist                  na   \n",
       "741       0  0     0      0          0  other scientist                  na   \n",
       "\n",
       "     Degree  \n",
       "0         M  \n",
       "1         M  \n",
       "2         M  \n",
       "3        na  \n",
       "4        na  \n",
       "..      ...  \n",
       "737       M  \n",
       "738      na  \n",
       "739       P  \n",
       "740      na  \n",
       "741       M  \n",
       "\n",
       "[742 rows x 42 columns]"
      ]
     },
     "execution_count": 4,
     "metadata": {},
     "output_type": "execute_result"
    }
   ],
   "source": [
    "data = pd.read_csv('data_cleaned_2021.csv')\n",
    "data"
   ]
  },
  {
   "cell_type": "code",
   "execution_count": 5,
   "id": "a4a80aa3-2797-4fa2-aef2-300901a51915",
   "metadata": {},
   "outputs": [
    {
     "data": {
      "text/html": [
       "<div>\n",
       "<style scoped>\n",
       "    .dataframe tbody tr th:only-of-type {\n",
       "        vertical-align: middle;\n",
       "    }\n",
       "\n",
       "    .dataframe tbody tr th {\n",
       "        vertical-align: top;\n",
       "    }\n",
       "\n",
       "    .dataframe thead th {\n",
       "        text-align: right;\n",
       "    }\n",
       "</style>\n",
       "<table border=\"1\" class=\"dataframe\">\n",
       "  <thead>\n",
       "    <tr style=\"text-align: right;\">\n",
       "      <th></th>\n",
       "      <th>index</th>\n",
       "      <th>Job Title</th>\n",
       "      <th>Salary Estimate</th>\n",
       "      <th>Job Description</th>\n",
       "      <th>Rating</th>\n",
       "      <th>Company Name</th>\n",
       "      <th>Location</th>\n",
       "      <th>Headquarters</th>\n",
       "      <th>Size</th>\n",
       "      <th>Founded</th>\n",
       "      <th>...</th>\n",
       "      <th>tensor</th>\n",
       "      <th>hadoop</th>\n",
       "      <th>tableau</th>\n",
       "      <th>bi</th>\n",
       "      <th>flink</th>\n",
       "      <th>mongo</th>\n",
       "      <th>google_an</th>\n",
       "      <th>job_title_sim</th>\n",
       "      <th>seniority_by_title</th>\n",
       "      <th>Degree</th>\n",
       "    </tr>\n",
       "    <tr>\n",
       "      <th>Job ID</th>\n",
       "      <th></th>\n",
       "      <th></th>\n",
       "      <th></th>\n",
       "      <th></th>\n",
       "      <th></th>\n",
       "      <th></th>\n",
       "      <th></th>\n",
       "      <th></th>\n",
       "      <th></th>\n",
       "      <th></th>\n",
       "      <th></th>\n",
       "      <th></th>\n",
       "      <th></th>\n",
       "      <th></th>\n",
       "      <th></th>\n",
       "      <th></th>\n",
       "      <th></th>\n",
       "      <th></th>\n",
       "      <th></th>\n",
       "      <th></th>\n",
       "      <th></th>\n",
       "    </tr>\n",
       "  </thead>\n",
       "  <tbody>\n",
       "    <tr>\n",
       "      <th>0</th>\n",
       "      <td>0</td>\n",
       "      <td>Data Scientist</td>\n",
       "      <td>$53K-$91K (Glassdoor est.)</td>\n",
       "      <td>Data Scientist\\nLocation: Albuquerque, NM\\nEdu...</td>\n",
       "      <td>3.8</td>\n",
       "      <td>Tecolote Research\\n3.8</td>\n",
       "      <td>Albuquerque, NM</td>\n",
       "      <td>Goleta, CA</td>\n",
       "      <td>501 - 1000</td>\n",
       "      <td>1973</td>\n",
       "      <td>...</td>\n",
       "      <td>0</td>\n",
       "      <td>0</td>\n",
       "      <td>1</td>\n",
       "      <td>1</td>\n",
       "      <td>0</td>\n",
       "      <td>0</td>\n",
       "      <td>0</td>\n",
       "      <td>data scientist</td>\n",
       "      <td>na</td>\n",
       "      <td>M</td>\n",
       "    </tr>\n",
       "    <tr>\n",
       "      <th>1</th>\n",
       "      <td>1</td>\n",
       "      <td>Healthcare Data Scientist</td>\n",
       "      <td>$63K-$112K (Glassdoor est.)</td>\n",
       "      <td>What You Will Do:\\n\\nI. General Summary\\n\\nThe...</td>\n",
       "      <td>3.4</td>\n",
       "      <td>University of Maryland Medical System\\n3.4</td>\n",
       "      <td>Linthicum, MD</td>\n",
       "      <td>Baltimore, MD</td>\n",
       "      <td>10000+</td>\n",
       "      <td>1984</td>\n",
       "      <td>...</td>\n",
       "      <td>0</td>\n",
       "      <td>0</td>\n",
       "      <td>0</td>\n",
       "      <td>0</td>\n",
       "      <td>0</td>\n",
       "      <td>0</td>\n",
       "      <td>0</td>\n",
       "      <td>data scientist</td>\n",
       "      <td>na</td>\n",
       "      <td>M</td>\n",
       "    </tr>\n",
       "    <tr>\n",
       "      <th>2</th>\n",
       "      <td>2</td>\n",
       "      <td>Data Scientist</td>\n",
       "      <td>$80K-$90K (Glassdoor est.)</td>\n",
       "      <td>KnowBe4, Inc. is a high growth information sec...</td>\n",
       "      <td>4.8</td>\n",
       "      <td>KnowBe4\\n4.8</td>\n",
       "      <td>Clearwater, FL</td>\n",
       "      <td>Clearwater, FL</td>\n",
       "      <td>501 - 1000</td>\n",
       "      <td>2010</td>\n",
       "      <td>...</td>\n",
       "      <td>0</td>\n",
       "      <td>0</td>\n",
       "      <td>0</td>\n",
       "      <td>0</td>\n",
       "      <td>0</td>\n",
       "      <td>0</td>\n",
       "      <td>0</td>\n",
       "      <td>data scientist</td>\n",
       "      <td>na</td>\n",
       "      <td>M</td>\n",
       "    </tr>\n",
       "    <tr>\n",
       "      <th>3</th>\n",
       "      <td>3</td>\n",
       "      <td>Data Scientist</td>\n",
       "      <td>$56K-$97K (Glassdoor est.)</td>\n",
       "      <td>*Organization and Job ID**\\nJob ID: 310709\\n\\n...</td>\n",
       "      <td>3.8</td>\n",
       "      <td>PNNL\\n3.8</td>\n",
       "      <td>Richland, WA</td>\n",
       "      <td>Richland, WA</td>\n",
       "      <td>1001 - 5000</td>\n",
       "      <td>1965</td>\n",
       "      <td>...</td>\n",
       "      <td>0</td>\n",
       "      <td>0</td>\n",
       "      <td>0</td>\n",
       "      <td>0</td>\n",
       "      <td>0</td>\n",
       "      <td>0</td>\n",
       "      <td>0</td>\n",
       "      <td>data scientist</td>\n",
       "      <td>na</td>\n",
       "      <td>na</td>\n",
       "    </tr>\n",
       "    <tr>\n",
       "      <th>4</th>\n",
       "      <td>4</td>\n",
       "      <td>Data Scientist</td>\n",
       "      <td>$86K-$143K (Glassdoor est.)</td>\n",
       "      <td>Data Scientist\\nAffinity Solutions / Marketing...</td>\n",
       "      <td>2.9</td>\n",
       "      <td>Affinity Solutions\\n2.9</td>\n",
       "      <td>New York, NY</td>\n",
       "      <td>New York, NY</td>\n",
       "      <td>51 - 200</td>\n",
       "      <td>1998</td>\n",
       "      <td>...</td>\n",
       "      <td>0</td>\n",
       "      <td>0</td>\n",
       "      <td>0</td>\n",
       "      <td>0</td>\n",
       "      <td>0</td>\n",
       "      <td>0</td>\n",
       "      <td>0</td>\n",
       "      <td>data scientist</td>\n",
       "      <td>na</td>\n",
       "      <td>na</td>\n",
       "    </tr>\n",
       "    <tr>\n",
       "      <th>...</th>\n",
       "      <td>...</td>\n",
       "      <td>...</td>\n",
       "      <td>...</td>\n",
       "      <td>...</td>\n",
       "      <td>...</td>\n",
       "      <td>...</td>\n",
       "      <td>...</td>\n",
       "      <td>...</td>\n",
       "      <td>...</td>\n",
       "      <td>...</td>\n",
       "      <td>...</td>\n",
       "      <td>...</td>\n",
       "      <td>...</td>\n",
       "      <td>...</td>\n",
       "      <td>...</td>\n",
       "      <td>...</td>\n",
       "      <td>...</td>\n",
       "      <td>...</td>\n",
       "      <td>...</td>\n",
       "      <td>...</td>\n",
       "      <td>...</td>\n",
       "    </tr>\n",
       "    <tr>\n",
       "      <th>737</th>\n",
       "      <td>950</td>\n",
       "      <td>Sr Scientist, Immuno-Oncology - Oncology</td>\n",
       "      <td>$58K-$111K (Glassdoor est.)</td>\n",
       "      <td>Site Name: USA - Massachusetts - Cambridge\\nPo...</td>\n",
       "      <td>3.9</td>\n",
       "      <td>GSK\\n3.9</td>\n",
       "      <td>Cambridge, MA</td>\n",
       "      <td>Brentford, United Kingdom</td>\n",
       "      <td>10000+</td>\n",
       "      <td>1830</td>\n",
       "      <td>...</td>\n",
       "      <td>0</td>\n",
       "      <td>0</td>\n",
       "      <td>0</td>\n",
       "      <td>0</td>\n",
       "      <td>0</td>\n",
       "      <td>0</td>\n",
       "      <td>0</td>\n",
       "      <td>other scientist</td>\n",
       "      <td>sr</td>\n",
       "      <td>M</td>\n",
       "    </tr>\n",
       "    <tr>\n",
       "      <th>738</th>\n",
       "      <td>951</td>\n",
       "      <td>Senior Data Engineer</td>\n",
       "      <td>$72K-$133K (Glassdoor est.)</td>\n",
       "      <td>THE CHALLENGE\\nEventbrite has a world-class da...</td>\n",
       "      <td>4.4</td>\n",
       "      <td>Eventbrite\\n4.4</td>\n",
       "      <td>Nashville, TN</td>\n",
       "      <td>San Francisco, CA</td>\n",
       "      <td>1001 - 5000</td>\n",
       "      <td>2006</td>\n",
       "      <td>...</td>\n",
       "      <td>0</td>\n",
       "      <td>1</td>\n",
       "      <td>0</td>\n",
       "      <td>0</td>\n",
       "      <td>0</td>\n",
       "      <td>0</td>\n",
       "      <td>0</td>\n",
       "      <td>data engineer</td>\n",
       "      <td>sr</td>\n",
       "      <td>na</td>\n",
       "    </tr>\n",
       "    <tr>\n",
       "      <th>739</th>\n",
       "      <td>952</td>\n",
       "      <td>Project Scientist - Auton Lab, Robotics Institute</td>\n",
       "      <td>$56K-$91K (Glassdoor est.)</td>\n",
       "      <td>The Auton Lab at Carnegie Mellon University is...</td>\n",
       "      <td>2.6</td>\n",
       "      <td>Software Engineering Institute\\n2.6</td>\n",
       "      <td>Pittsburgh, PA</td>\n",
       "      <td>Pittsburgh, PA</td>\n",
       "      <td>501 - 1000</td>\n",
       "      <td>1984</td>\n",
       "      <td>...</td>\n",
       "      <td>0</td>\n",
       "      <td>0</td>\n",
       "      <td>0</td>\n",
       "      <td>0</td>\n",
       "      <td>0</td>\n",
       "      <td>0</td>\n",
       "      <td>0</td>\n",
       "      <td>other scientist</td>\n",
       "      <td>na</td>\n",
       "      <td>P</td>\n",
       "    </tr>\n",
       "    <tr>\n",
       "      <th>740</th>\n",
       "      <td>953</td>\n",
       "      <td>Data Science Manager</td>\n",
       "      <td>$95K-$160K (Glassdoor est.)</td>\n",
       "      <td>Data Science ManagerResponsibilities:\\n\\nOvers...</td>\n",
       "      <td>3.2</td>\n",
       "      <td>Numeric, LLC\\n3.2</td>\n",
       "      <td>Allentown, PA</td>\n",
       "      <td>Chadds Ford, PA</td>\n",
       "      <td>1 - 50</td>\n",
       "      <td>-1</td>\n",
       "      <td>...</td>\n",
       "      <td>0</td>\n",
       "      <td>0</td>\n",
       "      <td>0</td>\n",
       "      <td>0</td>\n",
       "      <td>0</td>\n",
       "      <td>0</td>\n",
       "      <td>0</td>\n",
       "      <td>data scientist</td>\n",
       "      <td>na</td>\n",
       "      <td>na</td>\n",
       "    </tr>\n",
       "    <tr>\n",
       "      <th>741</th>\n",
       "      <td>955</td>\n",
       "      <td>Research Scientist – Security and Privacy</td>\n",
       "      <td>$61K-$126K (Glassdoor est.)</td>\n",
       "      <td>Returning Candidate? Log back in to the Career...</td>\n",
       "      <td>3.6</td>\n",
       "      <td>Riverside Research Institute\\n3.6</td>\n",
       "      <td>Beavercreek, OH</td>\n",
       "      <td>Arlington, VA</td>\n",
       "      <td>501 - 1000</td>\n",
       "      <td>1967</td>\n",
       "      <td>...</td>\n",
       "      <td>0</td>\n",
       "      <td>0</td>\n",
       "      <td>0</td>\n",
       "      <td>0</td>\n",
       "      <td>0</td>\n",
       "      <td>0</td>\n",
       "      <td>0</td>\n",
       "      <td>other scientist</td>\n",
       "      <td>na</td>\n",
       "      <td>M</td>\n",
       "    </tr>\n",
       "  </tbody>\n",
       "</table>\n",
       "<p>742 rows × 42 columns</p>\n",
       "</div>"
      ],
      "text/plain": [
       "        index                                          Job Title  \\\n",
       "Job ID                                                             \n",
       "0           0                                     Data Scientist   \n",
       "1           1                          Healthcare Data Scientist   \n",
       "2           2                                     Data Scientist   \n",
       "3           3                                     Data Scientist   \n",
       "4           4                                     Data Scientist   \n",
       "...       ...                                                ...   \n",
       "737       950           Sr Scientist, Immuno-Oncology - Oncology   \n",
       "738       951                               Senior Data Engineer   \n",
       "739       952  Project Scientist - Auton Lab, Robotics Institute   \n",
       "740       953                               Data Science Manager   \n",
       "741       955          Research Scientist – Security and Privacy   \n",
       "\n",
       "                    Salary Estimate  \\\n",
       "Job ID                                \n",
       "0        $53K-$91K (Glassdoor est.)   \n",
       "1       $63K-$112K (Glassdoor est.)   \n",
       "2        $80K-$90K (Glassdoor est.)   \n",
       "3        $56K-$97K (Glassdoor est.)   \n",
       "4       $86K-$143K (Glassdoor est.)   \n",
       "...                             ...   \n",
       "737     $58K-$111K (Glassdoor est.)   \n",
       "738     $72K-$133K (Glassdoor est.)   \n",
       "739      $56K-$91K (Glassdoor est.)   \n",
       "740     $95K-$160K (Glassdoor est.)   \n",
       "741     $61K-$126K (Glassdoor est.)   \n",
       "\n",
       "                                          Job Description  Rating  \\\n",
       "Job ID                                                              \n",
       "0       Data Scientist\\nLocation: Albuquerque, NM\\nEdu...     3.8   \n",
       "1       What You Will Do:\\n\\nI. General Summary\\n\\nThe...     3.4   \n",
       "2       KnowBe4, Inc. is a high growth information sec...     4.8   \n",
       "3       *Organization and Job ID**\\nJob ID: 310709\\n\\n...     3.8   \n",
       "4       Data Scientist\\nAffinity Solutions / Marketing...     2.9   \n",
       "...                                                   ...     ...   \n",
       "737     Site Name: USA - Massachusetts - Cambridge\\nPo...     3.9   \n",
       "738     THE CHALLENGE\\nEventbrite has a world-class da...     4.4   \n",
       "739     The Auton Lab at Carnegie Mellon University is...     2.6   \n",
       "740     Data Science ManagerResponsibilities:\\n\\nOvers...     3.2   \n",
       "741     Returning Candidate? Log back in to the Career...     3.6   \n",
       "\n",
       "                                      Company Name         Location  \\\n",
       "Job ID                                                                \n",
       "0                           Tecolote Research\\n3.8  Albuquerque, NM   \n",
       "1       University of Maryland Medical System\\n3.4    Linthicum, MD   \n",
       "2                                     KnowBe4\\n4.8   Clearwater, FL   \n",
       "3                                        PNNL\\n3.8     Richland, WA   \n",
       "4                          Affinity Solutions\\n2.9     New York, NY   \n",
       "...                                            ...              ...   \n",
       "737                                       GSK\\n3.9    Cambridge, MA   \n",
       "738                                Eventbrite\\n4.4    Nashville, TN   \n",
       "739            Software Engineering Institute\\n2.6   Pittsburgh, PA   \n",
       "740                              Numeric, LLC\\n3.2    Allentown, PA   \n",
       "741              Riverside Research Institute\\n3.6  Beavercreek, OH   \n",
       "\n",
       "                     Headquarters          Size  Founded  ... tensor hadoop  \\\n",
       "Job ID                                                    ...                 \n",
       "0                      Goleta, CA   501 - 1000      1973  ...      0      0   \n",
       "1                   Baltimore, MD       10000+      1984  ...      0      0   \n",
       "2                  Clearwater, FL   501 - 1000      2010  ...      0      0   \n",
       "3                    Richland, WA  1001 - 5000      1965  ...      0      0   \n",
       "4                    New York, NY     51 - 200      1998  ...      0      0   \n",
       "...                           ...           ...      ...  ...    ...    ...   \n",
       "737     Brentford, United Kingdom       10000+      1830  ...      0      0   \n",
       "738             San Francisco, CA  1001 - 5000      2006  ...      0      1   \n",
       "739                Pittsburgh, PA   501 - 1000      1984  ...      0      0   \n",
       "740               Chadds Ford, PA       1 - 50        -1  ...      0      0   \n",
       "741                 Arlington, VA   501 - 1000      1967  ...      0      0   \n",
       "\n",
       "       tableau bi flink  mongo  google_an    job_title_sim  \\\n",
       "Job ID                                                       \n",
       "0            1  1     0      0          0   data scientist   \n",
       "1            0  0     0      0          0   data scientist   \n",
       "2            0  0     0      0          0   data scientist   \n",
       "3            0  0     0      0          0   data scientist   \n",
       "4            0  0     0      0          0   data scientist   \n",
       "...        ... ..   ...    ...        ...              ...   \n",
       "737          0  0     0      0          0  other scientist   \n",
       "738          0  0     0      0          0    data engineer   \n",
       "739          0  0     0      0          0  other scientist   \n",
       "740          0  0     0      0          0   data scientist   \n",
       "741          0  0     0      0          0  other scientist   \n",
       "\n",
       "        seniority_by_title  Degree  \n",
       "Job ID                              \n",
       "0                       na       M  \n",
       "1                       na       M  \n",
       "2                       na       M  \n",
       "3                       na      na  \n",
       "4                       na      na  \n",
       "...                    ...     ...  \n",
       "737                     sr       M  \n",
       "738                     sr      na  \n",
       "739                     na       P  \n",
       "740                     na      na  \n",
       "741                     na       M  \n",
       "\n",
       "[742 rows x 42 columns]"
      ]
     },
     "execution_count": 5,
     "metadata": {},
     "output_type": "execute_result"
    }
   ],
   "source": [
    "data.index.name=\"Job ID\"\n",
    "data"
   ]
  },
  {
   "cell_type": "code",
   "execution_count": 1,
   "id": "e97dc73b-31cc-49b9-b6c0-c07e082d2ac4",
   "metadata": {},
   "outputs": [],
   "source": [
    "import numpy as np\n",
    "from pandas import DataFrame, Series\n",
    "import pandas as pd"
   ]
  },
  {
   "cell_type": "code",
   "execution_count": 2,
   "id": "3910ff27-6e84-4c41-94c6-9984a02b5e0b",
   "metadata": {},
   "outputs": [
    {
     "data": {
      "text/plain": [
       "Acme Corp              ACMC\n",
       "Anton Computers         ANT\n",
       "Maximo Construction     MCX\n",
       "dtype: object"
      ]
     },
     "execution_count": 2,
     "metadata": {},
     "output_type": "execute_result"
    }
   ],
   "source": [
    "stock_symbols = {\"Acme Corp\":\"ACMC\",\"Anton Computers\":\"ANT\", \"Maximo Construction\":\"MCX\"}\n",
    "stock_prices = {\"ACMC\":29,\"MCX\":15,\"ANT\":48}\n",
    "symbol_series = Series(stock_symbols)\n",
    "prices_series = Series(stock_prices)\n",
    "symbol_series"
   ]
  },
  {
   "cell_type": "code",
   "execution_count": 3,
   "id": "c7635cf3-d3b7-45a4-9fbb-937e9e1238e0",
   "metadata": {},
   "outputs": [
    {
     "data": {
      "text/plain": [
       "ACMC    29\n",
       "MCX     15\n",
       "ANT     48\n",
       "dtype: int64"
      ]
     },
     "execution_count": 3,
     "metadata": {},
     "output_type": "execute_result"
    }
   ],
   "source": [
    "prices_series"
   ]
  },
  {
   "cell_type": "code",
   "execution_count": 4,
   "id": "f7542c62-3130-4c42-b704-6749eb9d7dda",
   "metadata": {},
   "outputs": [
    {
     "data": {
      "text/plain": [
       "Acme Corp              29\n",
       "Anton Computers        48\n",
       "Maximo Construction    15\n",
       "dtype: int64"
      ]
     },
     "execution_count": 4,
     "metadata": {},
     "output_type": "execute_result"
    }
   ],
   "source": [
    "symbol_series.map(prices_series)"
   ]
  },
  {
   "cell_type": "code",
   "execution_count": 5,
   "id": "e264ee0d-5523-4005-be5d-ae6a655a7e28",
   "metadata": {},
   "outputs": [
    {
     "data": {
      "text/html": [
       "<div>\n",
       "<style scoped>\n",
       "    .dataframe tbody tr th:only-of-type {\n",
       "        vertical-align: middle;\n",
       "    }\n",
       "\n",
       "    .dataframe tbody tr th {\n",
       "        vertical-align: top;\n",
       "    }\n",
       "\n",
       "    .dataframe thead th {\n",
       "        text-align: right;\n",
       "    }\n",
       "</style>\n",
       "<table border=\"1\" class=\"dataframe\">\n",
       "  <thead>\n",
       "    <tr style=\"text-align: right;\">\n",
       "      <th></th>\n",
       "      <th>index</th>\n",
       "      <th>Job Title</th>\n",
       "      <th>Salary Estimate</th>\n",
       "      <th>Job Description</th>\n",
       "      <th>Rating</th>\n",
       "      <th>Company Name</th>\n",
       "      <th>Location</th>\n",
       "      <th>Headquarters</th>\n",
       "      <th>Size</th>\n",
       "      <th>Founded</th>\n",
       "      <th>...</th>\n",
       "      <th>tensor</th>\n",
       "      <th>hadoop</th>\n",
       "      <th>tableau</th>\n",
       "      <th>bi</th>\n",
       "      <th>flink</th>\n",
       "      <th>mongo</th>\n",
       "      <th>google_an</th>\n",
       "      <th>job_title_sim</th>\n",
       "      <th>seniority_by_title</th>\n",
       "      <th>Degree</th>\n",
       "    </tr>\n",
       "  </thead>\n",
       "  <tbody>\n",
       "    <tr>\n",
       "      <th>0</th>\n",
       "      <td>0</td>\n",
       "      <td>Data Scientist</td>\n",
       "      <td>$53K-$91K (Glassdoor est.)</td>\n",
       "      <td>Data Scientist\\nLocation: Albuquerque, NM\\nEdu...</td>\n",
       "      <td>3.8</td>\n",
       "      <td>Tecolote Research\\n3.8</td>\n",
       "      <td>Albuquerque, NM</td>\n",
       "      <td>Goleta, CA</td>\n",
       "      <td>501 - 1000</td>\n",
       "      <td>1973</td>\n",
       "      <td>...</td>\n",
       "      <td>0</td>\n",
       "      <td>0</td>\n",
       "      <td>1</td>\n",
       "      <td>1</td>\n",
       "      <td>0</td>\n",
       "      <td>0</td>\n",
       "      <td>0</td>\n",
       "      <td>data scientist</td>\n",
       "      <td>na</td>\n",
       "      <td>M</td>\n",
       "    </tr>\n",
       "    <tr>\n",
       "      <th>1</th>\n",
       "      <td>1</td>\n",
       "      <td>Healthcare Data Scientist</td>\n",
       "      <td>$63K-$112K (Glassdoor est.)</td>\n",
       "      <td>What You Will Do:\\n\\nI. General Summary\\n\\nThe...</td>\n",
       "      <td>3.4</td>\n",
       "      <td>University of Maryland Medical System\\n3.4</td>\n",
       "      <td>Linthicum, MD</td>\n",
       "      <td>Baltimore, MD</td>\n",
       "      <td>10000+</td>\n",
       "      <td>1984</td>\n",
       "      <td>...</td>\n",
       "      <td>0</td>\n",
       "      <td>0</td>\n",
       "      <td>0</td>\n",
       "      <td>0</td>\n",
       "      <td>0</td>\n",
       "      <td>0</td>\n",
       "      <td>0</td>\n",
       "      <td>data scientist</td>\n",
       "      <td>na</td>\n",
       "      <td>M</td>\n",
       "    </tr>\n",
       "    <tr>\n",
       "      <th>2</th>\n",
       "      <td>2</td>\n",
       "      <td>Data Scientist</td>\n",
       "      <td>$80K-$90K (Glassdoor est.)</td>\n",
       "      <td>KnowBe4, Inc. is a high growth information sec...</td>\n",
       "      <td>4.8</td>\n",
       "      <td>KnowBe4\\n4.8</td>\n",
       "      <td>Clearwater, FL</td>\n",
       "      <td>Clearwater, FL</td>\n",
       "      <td>501 - 1000</td>\n",
       "      <td>2010</td>\n",
       "      <td>...</td>\n",
       "      <td>0</td>\n",
       "      <td>0</td>\n",
       "      <td>0</td>\n",
       "      <td>0</td>\n",
       "      <td>0</td>\n",
       "      <td>0</td>\n",
       "      <td>0</td>\n",
       "      <td>data scientist</td>\n",
       "      <td>na</td>\n",
       "      <td>M</td>\n",
       "    </tr>\n",
       "    <tr>\n",
       "      <th>3</th>\n",
       "      <td>3</td>\n",
       "      <td>Data Scientist</td>\n",
       "      <td>$56K-$97K (Glassdoor est.)</td>\n",
       "      <td>*Organization and Job ID**\\nJob ID: 310709\\n\\n...</td>\n",
       "      <td>3.8</td>\n",
       "      <td>PNNL\\n3.8</td>\n",
       "      <td>Richland, WA</td>\n",
       "      <td>Richland, WA</td>\n",
       "      <td>1001 - 5000</td>\n",
       "      <td>1965</td>\n",
       "      <td>...</td>\n",
       "      <td>0</td>\n",
       "      <td>0</td>\n",
       "      <td>0</td>\n",
       "      <td>0</td>\n",
       "      <td>0</td>\n",
       "      <td>0</td>\n",
       "      <td>0</td>\n",
       "      <td>data scientist</td>\n",
       "      <td>na</td>\n",
       "      <td>na</td>\n",
       "    </tr>\n",
       "    <tr>\n",
       "      <th>4</th>\n",
       "      <td>4</td>\n",
       "      <td>Data Scientist</td>\n",
       "      <td>$86K-$143K (Glassdoor est.)</td>\n",
       "      <td>Data Scientist\\nAffinity Solutions / Marketing...</td>\n",
       "      <td>2.9</td>\n",
       "      <td>Affinity Solutions\\n2.9</td>\n",
       "      <td>New York, NY</td>\n",
       "      <td>New York, NY</td>\n",
       "      <td>51 - 200</td>\n",
       "      <td>1998</td>\n",
       "      <td>...</td>\n",
       "      <td>0</td>\n",
       "      <td>0</td>\n",
       "      <td>0</td>\n",
       "      <td>0</td>\n",
       "      <td>0</td>\n",
       "      <td>0</td>\n",
       "      <td>0</td>\n",
       "      <td>data scientist</td>\n",
       "      <td>na</td>\n",
       "      <td>na</td>\n",
       "    </tr>\n",
       "    <tr>\n",
       "      <th>...</th>\n",
       "      <td>...</td>\n",
       "      <td>...</td>\n",
       "      <td>...</td>\n",
       "      <td>...</td>\n",
       "      <td>...</td>\n",
       "      <td>...</td>\n",
       "      <td>...</td>\n",
       "      <td>...</td>\n",
       "      <td>...</td>\n",
       "      <td>...</td>\n",
       "      <td>...</td>\n",
       "      <td>...</td>\n",
       "      <td>...</td>\n",
       "      <td>...</td>\n",
       "      <td>...</td>\n",
       "      <td>...</td>\n",
       "      <td>...</td>\n",
       "      <td>...</td>\n",
       "      <td>...</td>\n",
       "      <td>...</td>\n",
       "      <td>...</td>\n",
       "    </tr>\n",
       "    <tr>\n",
       "      <th>737</th>\n",
       "      <td>950</td>\n",
       "      <td>Sr Scientist, Immuno-Oncology - Oncology</td>\n",
       "      <td>$58K-$111K (Glassdoor est.)</td>\n",
       "      <td>Site Name: USA - Massachusetts - Cambridge\\nPo...</td>\n",
       "      <td>3.9</td>\n",
       "      <td>GSK\\n3.9</td>\n",
       "      <td>Cambridge, MA</td>\n",
       "      <td>Brentford, United Kingdom</td>\n",
       "      <td>10000+</td>\n",
       "      <td>1830</td>\n",
       "      <td>...</td>\n",
       "      <td>0</td>\n",
       "      <td>0</td>\n",
       "      <td>0</td>\n",
       "      <td>0</td>\n",
       "      <td>0</td>\n",
       "      <td>0</td>\n",
       "      <td>0</td>\n",
       "      <td>other scientist</td>\n",
       "      <td>sr</td>\n",
       "      <td>M</td>\n",
       "    </tr>\n",
       "    <tr>\n",
       "      <th>738</th>\n",
       "      <td>951</td>\n",
       "      <td>Senior Data Engineer</td>\n",
       "      <td>$72K-$133K (Glassdoor est.)</td>\n",
       "      <td>THE CHALLENGE\\nEventbrite has a world-class da...</td>\n",
       "      <td>4.4</td>\n",
       "      <td>Eventbrite\\n4.4</td>\n",
       "      <td>Nashville, TN</td>\n",
       "      <td>San Francisco, CA</td>\n",
       "      <td>1001 - 5000</td>\n",
       "      <td>2006</td>\n",
       "      <td>...</td>\n",
       "      <td>0</td>\n",
       "      <td>1</td>\n",
       "      <td>0</td>\n",
       "      <td>0</td>\n",
       "      <td>0</td>\n",
       "      <td>0</td>\n",
       "      <td>0</td>\n",
       "      <td>data engineer</td>\n",
       "      <td>sr</td>\n",
       "      <td>na</td>\n",
       "    </tr>\n",
       "    <tr>\n",
       "      <th>739</th>\n",
       "      <td>952</td>\n",
       "      <td>Project Scientist - Auton Lab, Robotics Institute</td>\n",
       "      <td>$56K-$91K (Glassdoor est.)</td>\n",
       "      <td>The Auton Lab at Carnegie Mellon University is...</td>\n",
       "      <td>2.6</td>\n",
       "      <td>Software Engineering Institute\\n2.6</td>\n",
       "      <td>Pittsburgh, PA</td>\n",
       "      <td>Pittsburgh, PA</td>\n",
       "      <td>501 - 1000</td>\n",
       "      <td>1984</td>\n",
       "      <td>...</td>\n",
       "      <td>0</td>\n",
       "      <td>0</td>\n",
       "      <td>0</td>\n",
       "      <td>0</td>\n",
       "      <td>0</td>\n",
       "      <td>0</td>\n",
       "      <td>0</td>\n",
       "      <td>other scientist</td>\n",
       "      <td>na</td>\n",
       "      <td>P</td>\n",
       "    </tr>\n",
       "    <tr>\n",
       "      <th>740</th>\n",
       "      <td>953</td>\n",
       "      <td>Data Science Manager</td>\n",
       "      <td>$95K-$160K (Glassdoor est.)</td>\n",
       "      <td>Data Science ManagerResponsibilities:\\n\\nOvers...</td>\n",
       "      <td>3.2</td>\n",
       "      <td>Numeric, LLC\\n3.2</td>\n",
       "      <td>Allentown, PA</td>\n",
       "      <td>Chadds Ford, PA</td>\n",
       "      <td>1 - 50</td>\n",
       "      <td>-1</td>\n",
       "      <td>...</td>\n",
       "      <td>0</td>\n",
       "      <td>0</td>\n",
       "      <td>0</td>\n",
       "      <td>0</td>\n",
       "      <td>0</td>\n",
       "      <td>0</td>\n",
       "      <td>0</td>\n",
       "      <td>data scientist</td>\n",
       "      <td>na</td>\n",
       "      <td>na</td>\n",
       "    </tr>\n",
       "    <tr>\n",
       "      <th>741</th>\n",
       "      <td>955</td>\n",
       "      <td>Research Scientist – Security and Privacy</td>\n",
       "      <td>$61K-$126K (Glassdoor est.)</td>\n",
       "      <td>Returning Candidate? Log back in to the Career...</td>\n",
       "      <td>3.6</td>\n",
       "      <td>Riverside Research Institute\\n3.6</td>\n",
       "      <td>Beavercreek, OH</td>\n",
       "      <td>Arlington, VA</td>\n",
       "      <td>501 - 1000</td>\n",
       "      <td>1967</td>\n",
       "      <td>...</td>\n",
       "      <td>0</td>\n",
       "      <td>0</td>\n",
       "      <td>0</td>\n",
       "      <td>0</td>\n",
       "      <td>0</td>\n",
       "      <td>0</td>\n",
       "      <td>0</td>\n",
       "      <td>other scientist</td>\n",
       "      <td>na</td>\n",
       "      <td>M</td>\n",
       "    </tr>\n",
       "  </tbody>\n",
       "</table>\n",
       "<p>742 rows × 42 columns</p>\n",
       "</div>"
      ],
      "text/plain": [
       "     index                                          Job Title  \\\n",
       "0        0                                     Data Scientist   \n",
       "1        1                          Healthcare Data Scientist   \n",
       "2        2                                     Data Scientist   \n",
       "3        3                                     Data Scientist   \n",
       "4        4                                     Data Scientist   \n",
       "..     ...                                                ...   \n",
       "737    950           Sr Scientist, Immuno-Oncology - Oncology   \n",
       "738    951                               Senior Data Engineer   \n",
       "739    952  Project Scientist - Auton Lab, Robotics Institute   \n",
       "740    953                               Data Science Manager   \n",
       "741    955          Research Scientist – Security and Privacy   \n",
       "\n",
       "                 Salary Estimate  \\\n",
       "0     $53K-$91K (Glassdoor est.)   \n",
       "1    $63K-$112K (Glassdoor est.)   \n",
       "2     $80K-$90K (Glassdoor est.)   \n",
       "3     $56K-$97K (Glassdoor est.)   \n",
       "4    $86K-$143K (Glassdoor est.)   \n",
       "..                           ...   \n",
       "737  $58K-$111K (Glassdoor est.)   \n",
       "738  $72K-$133K (Glassdoor est.)   \n",
       "739   $56K-$91K (Glassdoor est.)   \n",
       "740  $95K-$160K (Glassdoor est.)   \n",
       "741  $61K-$126K (Glassdoor est.)   \n",
       "\n",
       "                                       Job Description  Rating  \\\n",
       "0    Data Scientist\\nLocation: Albuquerque, NM\\nEdu...     3.8   \n",
       "1    What You Will Do:\\n\\nI. General Summary\\n\\nThe...     3.4   \n",
       "2    KnowBe4, Inc. is a high growth information sec...     4.8   \n",
       "3    *Organization and Job ID**\\nJob ID: 310709\\n\\n...     3.8   \n",
       "4    Data Scientist\\nAffinity Solutions / Marketing...     2.9   \n",
       "..                                                 ...     ...   \n",
       "737  Site Name: USA - Massachusetts - Cambridge\\nPo...     3.9   \n",
       "738  THE CHALLENGE\\nEventbrite has a world-class da...     4.4   \n",
       "739  The Auton Lab at Carnegie Mellon University is...     2.6   \n",
       "740  Data Science ManagerResponsibilities:\\n\\nOvers...     3.2   \n",
       "741  Returning Candidate? Log back in to the Career...     3.6   \n",
       "\n",
       "                                   Company Name         Location  \\\n",
       "0                        Tecolote Research\\n3.8  Albuquerque, NM   \n",
       "1    University of Maryland Medical System\\n3.4    Linthicum, MD   \n",
       "2                                  KnowBe4\\n4.8   Clearwater, FL   \n",
       "3                                     PNNL\\n3.8     Richland, WA   \n",
       "4                       Affinity Solutions\\n2.9     New York, NY   \n",
       "..                                          ...              ...   \n",
       "737                                    GSK\\n3.9    Cambridge, MA   \n",
       "738                             Eventbrite\\n4.4    Nashville, TN   \n",
       "739         Software Engineering Institute\\n2.6   Pittsburgh, PA   \n",
       "740                           Numeric, LLC\\n3.2    Allentown, PA   \n",
       "741           Riverside Research Institute\\n3.6  Beavercreek, OH   \n",
       "\n",
       "                  Headquarters          Size  Founded  ... tensor hadoop  \\\n",
       "0                   Goleta, CA   501 - 1000      1973  ...      0      0   \n",
       "1                Baltimore, MD       10000+      1984  ...      0      0   \n",
       "2               Clearwater, FL   501 - 1000      2010  ...      0      0   \n",
       "3                 Richland, WA  1001 - 5000      1965  ...      0      0   \n",
       "4                 New York, NY     51 - 200      1998  ...      0      0   \n",
       "..                         ...           ...      ...  ...    ...    ...   \n",
       "737  Brentford, United Kingdom       10000+      1830  ...      0      0   \n",
       "738          San Francisco, CA  1001 - 5000      2006  ...      0      1   \n",
       "739             Pittsburgh, PA   501 - 1000      1984  ...      0      0   \n",
       "740            Chadds Ford, PA       1 - 50        -1  ...      0      0   \n",
       "741              Arlington, VA   501 - 1000      1967  ...      0      0   \n",
       "\n",
       "    tableau bi flink  mongo  google_an    job_title_sim  seniority_by_title  \\\n",
       "0         1  1     0      0          0   data scientist                  na   \n",
       "1         0  0     0      0          0   data scientist                  na   \n",
       "2         0  0     0      0          0   data scientist                  na   \n",
       "3         0  0     0      0          0   data scientist                  na   \n",
       "4         0  0     0      0          0   data scientist                  na   \n",
       "..      ... ..   ...    ...        ...              ...                 ...   \n",
       "737       0  0     0      0          0  other scientist                  sr   \n",
       "738       0  0     0      0          0    data engineer                  sr   \n",
       "739       0  0     0      0          0  other scientist                  na   \n",
       "740       0  0     0      0          0   data scientist                  na   \n",
       "741       0  0     0      0          0  other scientist                  na   \n",
       "\n",
       "     Degree  \n",
       "0         M  \n",
       "1         M  \n",
       "2         M  \n",
       "3        na  \n",
       "4        na  \n",
       "..      ...  \n",
       "737       M  \n",
       "738      na  \n",
       "739       P  \n",
       "740      na  \n",
       "741       M  \n",
       "\n",
       "[742 rows x 42 columns]"
      ]
     },
     "execution_count": 5,
     "metadata": {},
     "output_type": "execute_result"
    }
   ],
   "source": [
    "data = pd.read_csv('data_cleaned_2021.csv')\n",
    "data"
   ]
  },
  {
   "cell_type": "code",
   "execution_count": 6,
   "id": "6d450968-355c-4027-8f62-b75f3084b82e",
   "metadata": {},
   "outputs": [
    {
     "data": {
      "text/html": [
       "<div>\n",
       "<style scoped>\n",
       "    .dataframe tbody tr th:only-of-type {\n",
       "        vertical-align: middle;\n",
       "    }\n",
       "\n",
       "    .dataframe tbody tr th {\n",
       "        vertical-align: top;\n",
       "    }\n",
       "\n",
       "    .dataframe thead th {\n",
       "        text-align: right;\n",
       "    }\n",
       "</style>\n",
       "<table border=\"1\" class=\"dataframe\">\n",
       "  <thead>\n",
       "    <tr style=\"text-align: right;\">\n",
       "      <th></th>\n",
       "      <th>index</th>\n",
       "      <th>Job Title</th>\n",
       "      <th>Salary Estimate</th>\n",
       "      <th>Job Description</th>\n",
       "      <th>Rating</th>\n",
       "      <th>Company Name</th>\n",
       "      <th>Location</th>\n",
       "      <th>Headquarters</th>\n",
       "      <th>Size</th>\n",
       "      <th>Founded</th>\n",
       "      <th>...</th>\n",
       "      <th>tensor</th>\n",
       "      <th>hadoop</th>\n",
       "      <th>tableau</th>\n",
       "      <th>bi</th>\n",
       "      <th>flink</th>\n",
       "      <th>mongo</th>\n",
       "      <th>google_an</th>\n",
       "      <th>job_title_sim</th>\n",
       "      <th>seniority_by_title</th>\n",
       "      <th>Degree</th>\n",
       "    </tr>\n",
       "    <tr>\n",
       "      <th>Job ID</th>\n",
       "      <th></th>\n",
       "      <th></th>\n",
       "      <th></th>\n",
       "      <th></th>\n",
       "      <th></th>\n",
       "      <th></th>\n",
       "      <th></th>\n",
       "      <th></th>\n",
       "      <th></th>\n",
       "      <th></th>\n",
       "      <th></th>\n",
       "      <th></th>\n",
       "      <th></th>\n",
       "      <th></th>\n",
       "      <th></th>\n",
       "      <th></th>\n",
       "      <th></th>\n",
       "      <th></th>\n",
       "      <th></th>\n",
       "      <th></th>\n",
       "      <th></th>\n",
       "    </tr>\n",
       "  </thead>\n",
       "  <tbody>\n",
       "    <tr>\n",
       "      <th>0</th>\n",
       "      <td>0</td>\n",
       "      <td>Data Scientist</td>\n",
       "      <td>$53K-$91K (Glassdoor est.)</td>\n",
       "      <td>Data Scientist\\nLocation: Albuquerque, NM\\nEdu...</td>\n",
       "      <td>3.8</td>\n",
       "      <td>Tecolote Research\\n3.8</td>\n",
       "      <td>Albuquerque, NM</td>\n",
       "      <td>Goleta, CA</td>\n",
       "      <td>501 - 1000</td>\n",
       "      <td>1973</td>\n",
       "      <td>...</td>\n",
       "      <td>0</td>\n",
       "      <td>0</td>\n",
       "      <td>1</td>\n",
       "      <td>1</td>\n",
       "      <td>0</td>\n",
       "      <td>0</td>\n",
       "      <td>0</td>\n",
       "      <td>data scientist</td>\n",
       "      <td>na</td>\n",
       "      <td>M</td>\n",
       "    </tr>\n",
       "    <tr>\n",
       "      <th>1</th>\n",
       "      <td>1</td>\n",
       "      <td>Healthcare Data Scientist</td>\n",
       "      <td>$63K-$112K (Glassdoor est.)</td>\n",
       "      <td>What You Will Do:\\n\\nI. General Summary\\n\\nThe...</td>\n",
       "      <td>3.4</td>\n",
       "      <td>University of Maryland Medical System\\n3.4</td>\n",
       "      <td>Linthicum, MD</td>\n",
       "      <td>Baltimore, MD</td>\n",
       "      <td>10000+</td>\n",
       "      <td>1984</td>\n",
       "      <td>...</td>\n",
       "      <td>0</td>\n",
       "      <td>0</td>\n",
       "      <td>0</td>\n",
       "      <td>0</td>\n",
       "      <td>0</td>\n",
       "      <td>0</td>\n",
       "      <td>0</td>\n",
       "      <td>data scientist</td>\n",
       "      <td>na</td>\n",
       "      <td>M</td>\n",
       "    </tr>\n",
       "    <tr>\n",
       "      <th>2</th>\n",
       "      <td>2</td>\n",
       "      <td>Data Scientist</td>\n",
       "      <td>$80K-$90K (Glassdoor est.)</td>\n",
       "      <td>KnowBe4, Inc. is a high growth information sec...</td>\n",
       "      <td>4.8</td>\n",
       "      <td>KnowBe4\\n4.8</td>\n",
       "      <td>Clearwater, FL</td>\n",
       "      <td>Clearwater, FL</td>\n",
       "      <td>501 - 1000</td>\n",
       "      <td>2010</td>\n",
       "      <td>...</td>\n",
       "      <td>0</td>\n",
       "      <td>0</td>\n",
       "      <td>0</td>\n",
       "      <td>0</td>\n",
       "      <td>0</td>\n",
       "      <td>0</td>\n",
       "      <td>0</td>\n",
       "      <td>data scientist</td>\n",
       "      <td>na</td>\n",
       "      <td>M</td>\n",
       "    </tr>\n",
       "    <tr>\n",
       "      <th>3</th>\n",
       "      <td>3</td>\n",
       "      <td>Data Scientist</td>\n",
       "      <td>$56K-$97K (Glassdoor est.)</td>\n",
       "      <td>*Organization and Job ID**\\nJob ID: 310709\\n\\n...</td>\n",
       "      <td>3.8</td>\n",
       "      <td>PNNL\\n3.8</td>\n",
       "      <td>Richland, WA</td>\n",
       "      <td>Richland, WA</td>\n",
       "      <td>1001 - 5000</td>\n",
       "      <td>1965</td>\n",
       "      <td>...</td>\n",
       "      <td>0</td>\n",
       "      <td>0</td>\n",
       "      <td>0</td>\n",
       "      <td>0</td>\n",
       "      <td>0</td>\n",
       "      <td>0</td>\n",
       "      <td>0</td>\n",
       "      <td>data scientist</td>\n",
       "      <td>na</td>\n",
       "      <td>na</td>\n",
       "    </tr>\n",
       "    <tr>\n",
       "      <th>4</th>\n",
       "      <td>4</td>\n",
       "      <td>Data Scientist</td>\n",
       "      <td>$86K-$143K (Glassdoor est.)</td>\n",
       "      <td>Data Scientist\\nAffinity Solutions / Marketing...</td>\n",
       "      <td>2.9</td>\n",
       "      <td>Affinity Solutions\\n2.9</td>\n",
       "      <td>New York, NY</td>\n",
       "      <td>New York, NY</td>\n",
       "      <td>51 - 200</td>\n",
       "      <td>1998</td>\n",
       "      <td>...</td>\n",
       "      <td>0</td>\n",
       "      <td>0</td>\n",
       "      <td>0</td>\n",
       "      <td>0</td>\n",
       "      <td>0</td>\n",
       "      <td>0</td>\n",
       "      <td>0</td>\n",
       "      <td>data scientist</td>\n",
       "      <td>na</td>\n",
       "      <td>na</td>\n",
       "    </tr>\n",
       "    <tr>\n",
       "      <th>...</th>\n",
       "      <td>...</td>\n",
       "      <td>...</td>\n",
       "      <td>...</td>\n",
       "      <td>...</td>\n",
       "      <td>...</td>\n",
       "      <td>...</td>\n",
       "      <td>...</td>\n",
       "      <td>...</td>\n",
       "      <td>...</td>\n",
       "      <td>...</td>\n",
       "      <td>...</td>\n",
       "      <td>...</td>\n",
       "      <td>...</td>\n",
       "      <td>...</td>\n",
       "      <td>...</td>\n",
       "      <td>...</td>\n",
       "      <td>...</td>\n",
       "      <td>...</td>\n",
       "      <td>...</td>\n",
       "      <td>...</td>\n",
       "      <td>...</td>\n",
       "    </tr>\n",
       "    <tr>\n",
       "      <th>737</th>\n",
       "      <td>950</td>\n",
       "      <td>Sr Scientist, Immuno-Oncology - Oncology</td>\n",
       "      <td>$58K-$111K (Glassdoor est.)</td>\n",
       "      <td>Site Name: USA - Massachusetts - Cambridge\\nPo...</td>\n",
       "      <td>3.9</td>\n",
       "      <td>GSK\\n3.9</td>\n",
       "      <td>Cambridge, MA</td>\n",
       "      <td>Brentford, United Kingdom</td>\n",
       "      <td>10000+</td>\n",
       "      <td>1830</td>\n",
       "      <td>...</td>\n",
       "      <td>0</td>\n",
       "      <td>0</td>\n",
       "      <td>0</td>\n",
       "      <td>0</td>\n",
       "      <td>0</td>\n",
       "      <td>0</td>\n",
       "      <td>0</td>\n",
       "      <td>other scientist</td>\n",
       "      <td>sr</td>\n",
       "      <td>M</td>\n",
       "    </tr>\n",
       "    <tr>\n",
       "      <th>738</th>\n",
       "      <td>951</td>\n",
       "      <td>Senior Data Engineer</td>\n",
       "      <td>$72K-$133K (Glassdoor est.)</td>\n",
       "      <td>THE CHALLENGE\\nEventbrite has a world-class da...</td>\n",
       "      <td>4.4</td>\n",
       "      <td>Eventbrite\\n4.4</td>\n",
       "      <td>Nashville, TN</td>\n",
       "      <td>San Francisco, CA</td>\n",
       "      <td>1001 - 5000</td>\n",
       "      <td>2006</td>\n",
       "      <td>...</td>\n",
       "      <td>0</td>\n",
       "      <td>1</td>\n",
       "      <td>0</td>\n",
       "      <td>0</td>\n",
       "      <td>0</td>\n",
       "      <td>0</td>\n",
       "      <td>0</td>\n",
       "      <td>data engineer</td>\n",
       "      <td>sr</td>\n",
       "      <td>na</td>\n",
       "    </tr>\n",
       "    <tr>\n",
       "      <th>739</th>\n",
       "      <td>952</td>\n",
       "      <td>Project Scientist - Auton Lab, Robotics Institute</td>\n",
       "      <td>$56K-$91K (Glassdoor est.)</td>\n",
       "      <td>The Auton Lab at Carnegie Mellon University is...</td>\n",
       "      <td>2.6</td>\n",
       "      <td>Software Engineering Institute\\n2.6</td>\n",
       "      <td>Pittsburgh, PA</td>\n",
       "      <td>Pittsburgh, PA</td>\n",
       "      <td>501 - 1000</td>\n",
       "      <td>1984</td>\n",
       "      <td>...</td>\n",
       "      <td>0</td>\n",
       "      <td>0</td>\n",
       "      <td>0</td>\n",
       "      <td>0</td>\n",
       "      <td>0</td>\n",
       "      <td>0</td>\n",
       "      <td>0</td>\n",
       "      <td>other scientist</td>\n",
       "      <td>na</td>\n",
       "      <td>P</td>\n",
       "    </tr>\n",
       "    <tr>\n",
       "      <th>740</th>\n",
       "      <td>953</td>\n",
       "      <td>Data Science Manager</td>\n",
       "      <td>$95K-$160K (Glassdoor est.)</td>\n",
       "      <td>Data Science ManagerResponsibilities:\\n\\nOvers...</td>\n",
       "      <td>3.2</td>\n",
       "      <td>Numeric, LLC\\n3.2</td>\n",
       "      <td>Allentown, PA</td>\n",
       "      <td>Chadds Ford, PA</td>\n",
       "      <td>1 - 50</td>\n",
       "      <td>-1</td>\n",
       "      <td>...</td>\n",
       "      <td>0</td>\n",
       "      <td>0</td>\n",
       "      <td>0</td>\n",
       "      <td>0</td>\n",
       "      <td>0</td>\n",
       "      <td>0</td>\n",
       "      <td>0</td>\n",
       "      <td>data scientist</td>\n",
       "      <td>na</td>\n",
       "      <td>na</td>\n",
       "    </tr>\n",
       "    <tr>\n",
       "      <th>741</th>\n",
       "      <td>955</td>\n",
       "      <td>Research Scientist – Security and Privacy</td>\n",
       "      <td>$61K-$126K (Glassdoor est.)</td>\n",
       "      <td>Returning Candidate? Log back in to the Career...</td>\n",
       "      <td>3.6</td>\n",
       "      <td>Riverside Research Institute\\n3.6</td>\n",
       "      <td>Beavercreek, OH</td>\n",
       "      <td>Arlington, VA</td>\n",
       "      <td>501 - 1000</td>\n",
       "      <td>1967</td>\n",
       "      <td>...</td>\n",
       "      <td>0</td>\n",
       "      <td>0</td>\n",
       "      <td>0</td>\n",
       "      <td>0</td>\n",
       "      <td>0</td>\n",
       "      <td>0</td>\n",
       "      <td>0</td>\n",
       "      <td>other scientist</td>\n",
       "      <td>na</td>\n",
       "      <td>M</td>\n",
       "    </tr>\n",
       "  </tbody>\n",
       "</table>\n",
       "<p>742 rows × 42 columns</p>\n",
       "</div>"
      ],
      "text/plain": [
       "        index                                          Job Title  \\\n",
       "Job ID                                                             \n",
       "0           0                                     Data Scientist   \n",
       "1           1                          Healthcare Data Scientist   \n",
       "2           2                                     Data Scientist   \n",
       "3           3                                     Data Scientist   \n",
       "4           4                                     Data Scientist   \n",
       "...       ...                                                ...   \n",
       "737       950           Sr Scientist, Immuno-Oncology - Oncology   \n",
       "738       951                               Senior Data Engineer   \n",
       "739       952  Project Scientist - Auton Lab, Robotics Institute   \n",
       "740       953                               Data Science Manager   \n",
       "741       955          Research Scientist – Security and Privacy   \n",
       "\n",
       "                    Salary Estimate  \\\n",
       "Job ID                                \n",
       "0        $53K-$91K (Glassdoor est.)   \n",
       "1       $63K-$112K (Glassdoor est.)   \n",
       "2        $80K-$90K (Glassdoor est.)   \n",
       "3        $56K-$97K (Glassdoor est.)   \n",
       "4       $86K-$143K (Glassdoor est.)   \n",
       "...                             ...   \n",
       "737     $58K-$111K (Glassdoor est.)   \n",
       "738     $72K-$133K (Glassdoor est.)   \n",
       "739      $56K-$91K (Glassdoor est.)   \n",
       "740     $95K-$160K (Glassdoor est.)   \n",
       "741     $61K-$126K (Glassdoor est.)   \n",
       "\n",
       "                                          Job Description  Rating  \\\n",
       "Job ID                                                              \n",
       "0       Data Scientist\\nLocation: Albuquerque, NM\\nEdu...     3.8   \n",
       "1       What You Will Do:\\n\\nI. General Summary\\n\\nThe...     3.4   \n",
       "2       KnowBe4, Inc. is a high growth information sec...     4.8   \n",
       "3       *Organization and Job ID**\\nJob ID: 310709\\n\\n...     3.8   \n",
       "4       Data Scientist\\nAffinity Solutions / Marketing...     2.9   \n",
       "...                                                   ...     ...   \n",
       "737     Site Name: USA - Massachusetts - Cambridge\\nPo...     3.9   \n",
       "738     THE CHALLENGE\\nEventbrite has a world-class da...     4.4   \n",
       "739     The Auton Lab at Carnegie Mellon University is...     2.6   \n",
       "740     Data Science ManagerResponsibilities:\\n\\nOvers...     3.2   \n",
       "741     Returning Candidate? Log back in to the Career...     3.6   \n",
       "\n",
       "                                      Company Name         Location  \\\n",
       "Job ID                                                                \n",
       "0                           Tecolote Research\\n3.8  Albuquerque, NM   \n",
       "1       University of Maryland Medical System\\n3.4    Linthicum, MD   \n",
       "2                                     KnowBe4\\n4.8   Clearwater, FL   \n",
       "3                                        PNNL\\n3.8     Richland, WA   \n",
       "4                          Affinity Solutions\\n2.9     New York, NY   \n",
       "...                                            ...              ...   \n",
       "737                                       GSK\\n3.9    Cambridge, MA   \n",
       "738                                Eventbrite\\n4.4    Nashville, TN   \n",
       "739            Software Engineering Institute\\n2.6   Pittsburgh, PA   \n",
       "740                              Numeric, LLC\\n3.2    Allentown, PA   \n",
       "741              Riverside Research Institute\\n3.6  Beavercreek, OH   \n",
       "\n",
       "                     Headquarters          Size  Founded  ... tensor hadoop  \\\n",
       "Job ID                                                    ...                 \n",
       "0                      Goleta, CA   501 - 1000      1973  ...      0      0   \n",
       "1                   Baltimore, MD       10000+      1984  ...      0      0   \n",
       "2                  Clearwater, FL   501 - 1000      2010  ...      0      0   \n",
       "3                    Richland, WA  1001 - 5000      1965  ...      0      0   \n",
       "4                    New York, NY     51 - 200      1998  ...      0      0   \n",
       "...                           ...           ...      ...  ...    ...    ...   \n",
       "737     Brentford, United Kingdom       10000+      1830  ...      0      0   \n",
       "738             San Francisco, CA  1001 - 5000      2006  ...      0      1   \n",
       "739                Pittsburgh, PA   501 - 1000      1984  ...      0      0   \n",
       "740               Chadds Ford, PA       1 - 50        -1  ...      0      0   \n",
       "741                 Arlington, VA   501 - 1000      1967  ...      0      0   \n",
       "\n",
       "       tableau bi flink  mongo  google_an    job_title_sim  \\\n",
       "Job ID                                                       \n",
       "0            1  1     0      0          0   data scientist   \n",
       "1            0  0     0      0          0   data scientist   \n",
       "2            0  0     0      0          0   data scientist   \n",
       "3            0  0     0      0          0   data scientist   \n",
       "4            0  0     0      0          0   data scientist   \n",
       "...        ... ..   ...    ...        ...              ...   \n",
       "737          0  0     0      0          0  other scientist   \n",
       "738          0  0     0      0          0    data engineer   \n",
       "739          0  0     0      0          0  other scientist   \n",
       "740          0  0     0      0          0   data scientist   \n",
       "741          0  0     0      0          0  other scientist   \n",
       "\n",
       "        seniority_by_title  Degree  \n",
       "Job ID                              \n",
       "0                       na       M  \n",
       "1                       na       M  \n",
       "2                       na       M  \n",
       "3                       na      na  \n",
       "4                       na      na  \n",
       "...                    ...     ...  \n",
       "737                     sr       M  \n",
       "738                     sr      na  \n",
       "739                     na       P  \n",
       "740                     na      na  \n",
       "741                     na       M  \n",
       "\n",
       "[742 rows x 42 columns]"
      ]
     },
     "execution_count": 6,
     "metadata": {},
     "output_type": "execute_result"
    }
   ],
   "source": [
    "data.index.name=\"Job ID\"\n",
    "data"
   ]
  },
  {
   "cell_type": "code",
   "execution_count": 7,
   "id": "c9b1121b-fb98-4bb0-8210-7f8b15746f68",
   "metadata": {},
   "outputs": [
    {
     "data": {
      "text/html": [
       "<div>\n",
       "<style scoped>\n",
       "    .dataframe tbody tr th:only-of-type {\n",
       "        vertical-align: middle;\n",
       "    }\n",
       "\n",
       "    .dataframe tbody tr th {\n",
       "        vertical-align: top;\n",
       "    }\n",
       "\n",
       "    .dataframe thead th {\n",
       "        text-align: right;\n",
       "    }\n",
       "</style>\n",
       "<table border=\"1\" class=\"dataframe\">\n",
       "  <thead>\n",
       "    <tr style=\"text-align: right;\">\n",
       "      <th></th>\n",
       "      <th>index</th>\n",
       "      <th>Job Title</th>\n",
       "      <th>Salary Estimate</th>\n",
       "      <th>Job Description</th>\n",
       "      <th>Rating</th>\n",
       "      <th>Company Name</th>\n",
       "      <th>Location</th>\n",
       "      <th>Headquarters</th>\n",
       "      <th>Size</th>\n",
       "      <th>Founded</th>\n",
       "      <th>...</th>\n",
       "      <th>tensor</th>\n",
       "      <th>hadoop</th>\n",
       "      <th>tableau</th>\n",
       "      <th>bi</th>\n",
       "      <th>flink</th>\n",
       "      <th>mongo</th>\n",
       "      <th>google_an</th>\n",
       "      <th>job_title_sim</th>\n",
       "      <th>seniority_by_title</th>\n",
       "      <th>Degree</th>\n",
       "    </tr>\n",
       "    <tr>\n",
       "      <th>Job ID</th>\n",
       "      <th></th>\n",
       "      <th></th>\n",
       "      <th></th>\n",
       "      <th></th>\n",
       "      <th></th>\n",
       "      <th></th>\n",
       "      <th></th>\n",
       "      <th></th>\n",
       "      <th></th>\n",
       "      <th></th>\n",
       "      <th></th>\n",
       "      <th></th>\n",
       "      <th></th>\n",
       "      <th></th>\n",
       "      <th></th>\n",
       "      <th></th>\n",
       "      <th></th>\n",
       "      <th></th>\n",
       "      <th></th>\n",
       "      <th></th>\n",
       "      <th></th>\n",
       "    </tr>\n",
       "  </thead>\n",
       "  <tbody>\n",
       "    <tr>\n",
       "      <th>0</th>\n",
       "      <td>0</td>\n",
       "      <td>Data Scientist</td>\n",
       "      <td>$53K-$91K (Glassdoor est.)</td>\n",
       "      <td>Data Scientist\\nLocation: Albuquerque, NM\\nEdu...</td>\n",
       "      <td>3.8</td>\n",
       "      <td>Tecolote Research\\n3.8</td>\n",
       "      <td>Albuquerque, NM</td>\n",
       "      <td>Goleta, CA</td>\n",
       "      <td>501 - 1000</td>\n",
       "      <td>1973</td>\n",
       "      <td>...</td>\n",
       "      <td>0</td>\n",
       "      <td>0</td>\n",
       "      <td>1</td>\n",
       "      <td>1</td>\n",
       "      <td>0</td>\n",
       "      <td>0</td>\n",
       "      <td>0</td>\n",
       "      <td>data scientist</td>\n",
       "      <td>na</td>\n",
       "      <td>M</td>\n",
       "    </tr>\n",
       "    <tr>\n",
       "      <th>1</th>\n",
       "      <td>1</td>\n",
       "      <td>Healthcare Data Scientist</td>\n",
       "      <td>$63K-$112K (Glassdoor est.)</td>\n",
       "      <td>What You Will Do:\\n\\nI. General Summary\\n\\nThe...</td>\n",
       "      <td>3.4</td>\n",
       "      <td>University of Maryland Medical System\\n3.4</td>\n",
       "      <td>Linthicum, MD</td>\n",
       "      <td>Baltimore, MD</td>\n",
       "      <td>10000+</td>\n",
       "      <td>1984</td>\n",
       "      <td>...</td>\n",
       "      <td>0</td>\n",
       "      <td>0</td>\n",
       "      <td>0</td>\n",
       "      <td>0</td>\n",
       "      <td>0</td>\n",
       "      <td>0</td>\n",
       "      <td>0</td>\n",
       "      <td>data scientist</td>\n",
       "      <td>na</td>\n",
       "      <td>M</td>\n",
       "    </tr>\n",
       "    <tr>\n",
       "      <th>2</th>\n",
       "      <td>2</td>\n",
       "      <td>Data Scientist</td>\n",
       "      <td>$80K-$90K (Glassdoor est.)</td>\n",
       "      <td>KnowBe4, Inc. is a high growth information sec...</td>\n",
       "      <td>4.8</td>\n",
       "      <td>KnowBe4\\n4.8</td>\n",
       "      <td>Clearwater, FL</td>\n",
       "      <td>Clearwater, FL</td>\n",
       "      <td>501 - 1000</td>\n",
       "      <td>2010</td>\n",
       "      <td>...</td>\n",
       "      <td>0</td>\n",
       "      <td>0</td>\n",
       "      <td>0</td>\n",
       "      <td>0</td>\n",
       "      <td>0</td>\n",
       "      <td>0</td>\n",
       "      <td>0</td>\n",
       "      <td>data scientist</td>\n",
       "      <td>na</td>\n",
       "      <td>M</td>\n",
       "    </tr>\n",
       "    <tr>\n",
       "      <th>3</th>\n",
       "      <td>3</td>\n",
       "      <td>Data Scientist</td>\n",
       "      <td>$56K-$97K (Glassdoor est.)</td>\n",
       "      <td>*Organization and Job ID**\\nJob ID: 310709\\n\\n...</td>\n",
       "      <td>3.8</td>\n",
       "      <td>PNNL\\n3.8</td>\n",
       "      <td>Richland, WA</td>\n",
       "      <td>Richland, WA</td>\n",
       "      <td>1001 - 5000</td>\n",
       "      <td>1965</td>\n",
       "      <td>...</td>\n",
       "      <td>0</td>\n",
       "      <td>0</td>\n",
       "      <td>0</td>\n",
       "      <td>0</td>\n",
       "      <td>0</td>\n",
       "      <td>0</td>\n",
       "      <td>0</td>\n",
       "      <td>data scientist</td>\n",
       "      <td>na</td>\n",
       "      <td>na</td>\n",
       "    </tr>\n",
       "    <tr>\n",
       "      <th>4</th>\n",
       "      <td>4</td>\n",
       "      <td>Data Scientist</td>\n",
       "      <td>$86K-$143K (Glassdoor est.)</td>\n",
       "      <td>Data Scientist\\nAffinity Solutions / Marketing...</td>\n",
       "      <td>2.9</td>\n",
       "      <td>Affinity Solutions\\n2.9</td>\n",
       "      <td>New York, NY</td>\n",
       "      <td>New York, NY</td>\n",
       "      <td>51 - 200</td>\n",
       "      <td>1998</td>\n",
       "      <td>...</td>\n",
       "      <td>0</td>\n",
       "      <td>0</td>\n",
       "      <td>0</td>\n",
       "      <td>0</td>\n",
       "      <td>0</td>\n",
       "      <td>0</td>\n",
       "      <td>0</td>\n",
       "      <td>data scientist</td>\n",
       "      <td>na</td>\n",
       "      <td>na</td>\n",
       "    </tr>\n",
       "    <tr>\n",
       "      <th>5</th>\n",
       "      <td>5</td>\n",
       "      <td>Data Scientist</td>\n",
       "      <td>$71K-$119K (Glassdoor est.)</td>\n",
       "      <td>CyrusOne is seeking a talented Data Scientist ...</td>\n",
       "      <td>3.4</td>\n",
       "      <td>CyrusOne\\n3.4</td>\n",
       "      <td>Dallas, TX</td>\n",
       "      <td>Dallas, TX</td>\n",
       "      <td>201 - 500</td>\n",
       "      <td>2000</td>\n",
       "      <td>...</td>\n",
       "      <td>0</td>\n",
       "      <td>0</td>\n",
       "      <td>0</td>\n",
       "      <td>1</td>\n",
       "      <td>0</td>\n",
       "      <td>1</td>\n",
       "      <td>0</td>\n",
       "      <td>data scientist</td>\n",
       "      <td>na</td>\n",
       "      <td>na</td>\n",
       "    </tr>\n",
       "    <tr>\n",
       "      <th>6</th>\n",
       "      <td>6</td>\n",
       "      <td>Data Scientist</td>\n",
       "      <td>$54K-$93K (Glassdoor est.)</td>\n",
       "      <td>Job Description\\n\\n**Please only local candida...</td>\n",
       "      <td>4.1</td>\n",
       "      <td>ClearOne Advantage\\n4.1</td>\n",
       "      <td>Baltimore, MD</td>\n",
       "      <td>Baltimore, MD</td>\n",
       "      <td>501 - 1000</td>\n",
       "      <td>2008</td>\n",
       "      <td>...</td>\n",
       "      <td>0</td>\n",
       "      <td>0</td>\n",
       "      <td>0</td>\n",
       "      <td>0</td>\n",
       "      <td>0</td>\n",
       "      <td>0</td>\n",
       "      <td>0</td>\n",
       "      <td>data scientist</td>\n",
       "      <td>na</td>\n",
       "      <td>na</td>\n",
       "    </tr>\n",
       "    <tr>\n",
       "      <th>7</th>\n",
       "      <td>7</td>\n",
       "      <td>Data Scientist</td>\n",
       "      <td>$86K-$142K (Glassdoor est.)</td>\n",
       "      <td>Advanced Analytics – Lead Data Scientist\\nOver...</td>\n",
       "      <td>3.8</td>\n",
       "      <td>Logic20/20\\n3.8</td>\n",
       "      <td>San Jose, CA</td>\n",
       "      <td>Seattle, WA</td>\n",
       "      <td>201 - 500</td>\n",
       "      <td>2005</td>\n",
       "      <td>...</td>\n",
       "      <td>1</td>\n",
       "      <td>0</td>\n",
       "      <td>0</td>\n",
       "      <td>0</td>\n",
       "      <td>0</td>\n",
       "      <td>0</td>\n",
       "      <td>0</td>\n",
       "      <td>data scientist</td>\n",
       "      <td>na</td>\n",
       "      <td>M</td>\n",
       "    </tr>\n",
       "    <tr>\n",
       "      <th>8</th>\n",
       "      <td>8</td>\n",
       "      <td>Research Scientist</td>\n",
       "      <td>$38K-$84K (Glassdoor est.)</td>\n",
       "      <td>SUMMARY\\n\\nThe Research Scientist I will be ta...</td>\n",
       "      <td>3.3</td>\n",
       "      <td>Rochester Regional Health\\n3.3</td>\n",
       "      <td>Rochester, NY</td>\n",
       "      <td>Rochester, NY</td>\n",
       "      <td>10000+</td>\n",
       "      <td>2014</td>\n",
       "      <td>...</td>\n",
       "      <td>0</td>\n",
       "      <td>0</td>\n",
       "      <td>0</td>\n",
       "      <td>0</td>\n",
       "      <td>0</td>\n",
       "      <td>0</td>\n",
       "      <td>0</td>\n",
       "      <td>other scientist</td>\n",
       "      <td>na</td>\n",
       "      <td>P</td>\n",
       "    </tr>\n",
       "    <tr>\n",
       "      <th>9</th>\n",
       "      <td>9</td>\n",
       "      <td>Data Scientist</td>\n",
       "      <td>$120K-$160K (Glassdoor est.)</td>\n",
       "      <td>isn’t your usual company. Our work is powered ...</td>\n",
       "      <td>4.6</td>\n",
       "      <td>&lt;intent&gt;\\n4.6</td>\n",
       "      <td>New York, NY</td>\n",
       "      <td>New York, NY</td>\n",
       "      <td>51 - 200</td>\n",
       "      <td>2009</td>\n",
       "      <td>...</td>\n",
       "      <td>0</td>\n",
       "      <td>0</td>\n",
       "      <td>0</td>\n",
       "      <td>0</td>\n",
       "      <td>0</td>\n",
       "      <td>0</td>\n",
       "      <td>0</td>\n",
       "      <td>data scientist</td>\n",
       "      <td>na</td>\n",
       "      <td>na</td>\n",
       "    </tr>\n",
       "  </tbody>\n",
       "</table>\n",
       "<p>10 rows × 42 columns</p>\n",
       "</div>"
      ],
      "text/plain": [
       "        index                  Job Title               Salary Estimate  \\\n",
       "Job ID                                                                   \n",
       "0           0             Data Scientist    $53K-$91K (Glassdoor est.)   \n",
       "1           1  Healthcare Data Scientist   $63K-$112K (Glassdoor est.)   \n",
       "2           2             Data Scientist    $80K-$90K (Glassdoor est.)   \n",
       "3           3             Data Scientist    $56K-$97K (Glassdoor est.)   \n",
       "4           4             Data Scientist   $86K-$143K (Glassdoor est.)   \n",
       "5           5             Data Scientist   $71K-$119K (Glassdoor est.)   \n",
       "6           6             Data Scientist    $54K-$93K (Glassdoor est.)   \n",
       "7           7             Data Scientist   $86K-$142K (Glassdoor est.)   \n",
       "8           8         Research Scientist    $38K-$84K (Glassdoor est.)   \n",
       "9           9             Data Scientist  $120K-$160K (Glassdoor est.)   \n",
       "\n",
       "                                          Job Description  Rating  \\\n",
       "Job ID                                                              \n",
       "0       Data Scientist\\nLocation: Albuquerque, NM\\nEdu...     3.8   \n",
       "1       What You Will Do:\\n\\nI. General Summary\\n\\nThe...     3.4   \n",
       "2       KnowBe4, Inc. is a high growth information sec...     4.8   \n",
       "3       *Organization and Job ID**\\nJob ID: 310709\\n\\n...     3.8   \n",
       "4       Data Scientist\\nAffinity Solutions / Marketing...     2.9   \n",
       "5       CyrusOne is seeking a talented Data Scientist ...     3.4   \n",
       "6       Job Description\\n\\n**Please only local candida...     4.1   \n",
       "7       Advanced Analytics – Lead Data Scientist\\nOver...     3.8   \n",
       "8       SUMMARY\\n\\nThe Research Scientist I will be ta...     3.3   \n",
       "9       isn’t your usual company. Our work is powered ...     4.6   \n",
       "\n",
       "                                      Company Name         Location  \\\n",
       "Job ID                                                                \n",
       "0                           Tecolote Research\\n3.8  Albuquerque, NM   \n",
       "1       University of Maryland Medical System\\n3.4    Linthicum, MD   \n",
       "2                                     KnowBe4\\n4.8   Clearwater, FL   \n",
       "3                                        PNNL\\n3.8     Richland, WA   \n",
       "4                          Affinity Solutions\\n2.9     New York, NY   \n",
       "5                                    CyrusOne\\n3.4       Dallas, TX   \n",
       "6                          ClearOne Advantage\\n4.1    Baltimore, MD   \n",
       "7                                  Logic20/20\\n3.8     San Jose, CA   \n",
       "8                   Rochester Regional Health\\n3.3    Rochester, NY   \n",
       "9                                    <intent>\\n4.6     New York, NY   \n",
       "\n",
       "          Headquarters          Size  Founded  ... tensor hadoop tableau bi  \\\n",
       "Job ID                                         ...                            \n",
       "0           Goleta, CA   501 - 1000      1973  ...      0      0       1  1   \n",
       "1        Baltimore, MD       10000+      1984  ...      0      0       0  0   \n",
       "2       Clearwater, FL   501 - 1000      2010  ...      0      0       0  0   \n",
       "3         Richland, WA  1001 - 5000      1965  ...      0      0       0  0   \n",
       "4         New York, NY     51 - 200      1998  ...      0      0       0  0   \n",
       "5           Dallas, TX    201 - 500      2000  ...      0      0       0  1   \n",
       "6        Baltimore, MD   501 - 1000      2008  ...      0      0       0  0   \n",
       "7          Seattle, WA    201 - 500      2005  ...      1      0       0  0   \n",
       "8        Rochester, NY       10000+      2014  ...      0      0       0  0   \n",
       "9         New York, NY     51 - 200      2009  ...      0      0       0  0   \n",
       "\n",
       "       flink  mongo  google_an    job_title_sim  seniority_by_title  Degree  \n",
       "Job ID                                                                       \n",
       "0          0      0          0   data scientist                  na       M  \n",
       "1          0      0          0   data scientist                  na       M  \n",
       "2          0      0          0   data scientist                  na       M  \n",
       "3          0      0          0   data scientist                  na      na  \n",
       "4          0      0          0   data scientist                  na      na  \n",
       "5          0      1          0   data scientist                  na      na  \n",
       "6          0      0          0   data scientist                  na      na  \n",
       "7          0      0          0   data scientist                  na       M  \n",
       "8          0      0          0  other scientist                  na       P  \n",
       "9          0      0          0   data scientist                  na      na  \n",
       "\n",
       "[10 rows x 42 columns]"
      ]
     },
     "execution_count": 7,
     "metadata": {},
     "output_type": "execute_result"
    }
   ],
   "source": [
    "data.head(10)"
   ]
  },
  {
   "cell_type": "code",
   "execution_count": 8,
   "id": "fc8efbce-af64-486d-a891-182d123bf020",
   "metadata": {},
   "outputs": [
    {
     "data": {
      "text/html": [
       "<div>\n",
       "<style scoped>\n",
       "    .dataframe tbody tr th:only-of-type {\n",
       "        vertical-align: middle;\n",
       "    }\n",
       "\n",
       "    .dataframe tbody tr th {\n",
       "        vertical-align: top;\n",
       "    }\n",
       "\n",
       "    .dataframe thead th {\n",
       "        text-align: right;\n",
       "    }\n",
       "</style>\n",
       "<table border=\"1\" class=\"dataframe\">\n",
       "  <thead>\n",
       "    <tr style=\"text-align: right;\">\n",
       "      <th></th>\n",
       "      <th>index</th>\n",
       "      <th>Job Title</th>\n",
       "      <th>Salary Estimate</th>\n",
       "      <th>Job Description</th>\n",
       "      <th>Rating</th>\n",
       "      <th>Company Name</th>\n",
       "      <th>Location</th>\n",
       "      <th>Headquarters</th>\n",
       "      <th>Size</th>\n",
       "      <th>Founded</th>\n",
       "      <th>...</th>\n",
       "      <th>tensor</th>\n",
       "      <th>hadoop</th>\n",
       "      <th>tableau</th>\n",
       "      <th>bi</th>\n",
       "      <th>flink</th>\n",
       "      <th>mongo</th>\n",
       "      <th>google_an</th>\n",
       "      <th>job_title_sim</th>\n",
       "      <th>seniority_by_title</th>\n",
       "      <th>Degree</th>\n",
       "    </tr>\n",
       "    <tr>\n",
       "      <th>Job ID</th>\n",
       "      <th></th>\n",
       "      <th></th>\n",
       "      <th></th>\n",
       "      <th></th>\n",
       "      <th></th>\n",
       "      <th></th>\n",
       "      <th></th>\n",
       "      <th></th>\n",
       "      <th></th>\n",
       "      <th></th>\n",
       "      <th></th>\n",
       "      <th></th>\n",
       "      <th></th>\n",
       "      <th></th>\n",
       "      <th></th>\n",
       "      <th></th>\n",
       "      <th></th>\n",
       "      <th></th>\n",
       "      <th></th>\n",
       "      <th></th>\n",
       "      <th></th>\n",
       "    </tr>\n",
       "  </thead>\n",
       "  <tbody>\n",
       "    <tr>\n",
       "      <th>737</th>\n",
       "      <td>950</td>\n",
       "      <td>Sr Scientist, Immuno-Oncology - Oncology</td>\n",
       "      <td>$58K-$111K (Glassdoor est.)</td>\n",
       "      <td>Site Name: USA - Massachusetts - Cambridge\\nPo...</td>\n",
       "      <td>3.9</td>\n",
       "      <td>GSK\\n3.9</td>\n",
       "      <td>Cambridge, MA</td>\n",
       "      <td>Brentford, United Kingdom</td>\n",
       "      <td>10000+</td>\n",
       "      <td>1830</td>\n",
       "      <td>...</td>\n",
       "      <td>0</td>\n",
       "      <td>0</td>\n",
       "      <td>0</td>\n",
       "      <td>0</td>\n",
       "      <td>0</td>\n",
       "      <td>0</td>\n",
       "      <td>0</td>\n",
       "      <td>other scientist</td>\n",
       "      <td>sr</td>\n",
       "      <td>M</td>\n",
       "    </tr>\n",
       "    <tr>\n",
       "      <th>738</th>\n",
       "      <td>951</td>\n",
       "      <td>Senior Data Engineer</td>\n",
       "      <td>$72K-$133K (Glassdoor est.)</td>\n",
       "      <td>THE CHALLENGE\\nEventbrite has a world-class da...</td>\n",
       "      <td>4.4</td>\n",
       "      <td>Eventbrite\\n4.4</td>\n",
       "      <td>Nashville, TN</td>\n",
       "      <td>San Francisco, CA</td>\n",
       "      <td>1001 - 5000</td>\n",
       "      <td>2006</td>\n",
       "      <td>...</td>\n",
       "      <td>0</td>\n",
       "      <td>1</td>\n",
       "      <td>0</td>\n",
       "      <td>0</td>\n",
       "      <td>0</td>\n",
       "      <td>0</td>\n",
       "      <td>0</td>\n",
       "      <td>data engineer</td>\n",
       "      <td>sr</td>\n",
       "      <td>na</td>\n",
       "    </tr>\n",
       "    <tr>\n",
       "      <th>739</th>\n",
       "      <td>952</td>\n",
       "      <td>Project Scientist - Auton Lab, Robotics Institute</td>\n",
       "      <td>$56K-$91K (Glassdoor est.)</td>\n",
       "      <td>The Auton Lab at Carnegie Mellon University is...</td>\n",
       "      <td>2.6</td>\n",
       "      <td>Software Engineering Institute\\n2.6</td>\n",
       "      <td>Pittsburgh, PA</td>\n",
       "      <td>Pittsburgh, PA</td>\n",
       "      <td>501 - 1000</td>\n",
       "      <td>1984</td>\n",
       "      <td>...</td>\n",
       "      <td>0</td>\n",
       "      <td>0</td>\n",
       "      <td>0</td>\n",
       "      <td>0</td>\n",
       "      <td>0</td>\n",
       "      <td>0</td>\n",
       "      <td>0</td>\n",
       "      <td>other scientist</td>\n",
       "      <td>na</td>\n",
       "      <td>P</td>\n",
       "    </tr>\n",
       "    <tr>\n",
       "      <th>740</th>\n",
       "      <td>953</td>\n",
       "      <td>Data Science Manager</td>\n",
       "      <td>$95K-$160K (Glassdoor est.)</td>\n",
       "      <td>Data Science ManagerResponsibilities:\\n\\nOvers...</td>\n",
       "      <td>3.2</td>\n",
       "      <td>Numeric, LLC\\n3.2</td>\n",
       "      <td>Allentown, PA</td>\n",
       "      <td>Chadds Ford, PA</td>\n",
       "      <td>1 - 50</td>\n",
       "      <td>-1</td>\n",
       "      <td>...</td>\n",
       "      <td>0</td>\n",
       "      <td>0</td>\n",
       "      <td>0</td>\n",
       "      <td>0</td>\n",
       "      <td>0</td>\n",
       "      <td>0</td>\n",
       "      <td>0</td>\n",
       "      <td>data scientist</td>\n",
       "      <td>na</td>\n",
       "      <td>na</td>\n",
       "    </tr>\n",
       "    <tr>\n",
       "      <th>741</th>\n",
       "      <td>955</td>\n",
       "      <td>Research Scientist – Security and Privacy</td>\n",
       "      <td>$61K-$126K (Glassdoor est.)</td>\n",
       "      <td>Returning Candidate? Log back in to the Career...</td>\n",
       "      <td>3.6</td>\n",
       "      <td>Riverside Research Institute\\n3.6</td>\n",
       "      <td>Beavercreek, OH</td>\n",
       "      <td>Arlington, VA</td>\n",
       "      <td>501 - 1000</td>\n",
       "      <td>1967</td>\n",
       "      <td>...</td>\n",
       "      <td>0</td>\n",
       "      <td>0</td>\n",
       "      <td>0</td>\n",
       "      <td>0</td>\n",
       "      <td>0</td>\n",
       "      <td>0</td>\n",
       "      <td>0</td>\n",
       "      <td>other scientist</td>\n",
       "      <td>na</td>\n",
       "      <td>M</td>\n",
       "    </tr>\n",
       "  </tbody>\n",
       "</table>\n",
       "<p>5 rows × 42 columns</p>\n",
       "</div>"
      ],
      "text/plain": [
       "        index                                          Job Title  \\\n",
       "Job ID                                                             \n",
       "737       950           Sr Scientist, Immuno-Oncology - Oncology   \n",
       "738       951                               Senior Data Engineer   \n",
       "739       952  Project Scientist - Auton Lab, Robotics Institute   \n",
       "740       953                               Data Science Manager   \n",
       "741       955          Research Scientist – Security and Privacy   \n",
       "\n",
       "                    Salary Estimate  \\\n",
       "Job ID                                \n",
       "737     $58K-$111K (Glassdoor est.)   \n",
       "738     $72K-$133K (Glassdoor est.)   \n",
       "739      $56K-$91K (Glassdoor est.)   \n",
       "740     $95K-$160K (Glassdoor est.)   \n",
       "741     $61K-$126K (Glassdoor est.)   \n",
       "\n",
       "                                          Job Description  Rating  \\\n",
       "Job ID                                                              \n",
       "737     Site Name: USA - Massachusetts - Cambridge\\nPo...     3.9   \n",
       "738     THE CHALLENGE\\nEventbrite has a world-class da...     4.4   \n",
       "739     The Auton Lab at Carnegie Mellon University is...     2.6   \n",
       "740     Data Science ManagerResponsibilities:\\n\\nOvers...     3.2   \n",
       "741     Returning Candidate? Log back in to the Career...     3.6   \n",
       "\n",
       "                               Company Name         Location  \\\n",
       "Job ID                                                         \n",
       "737                                GSK\\n3.9    Cambridge, MA   \n",
       "738                         Eventbrite\\n4.4    Nashville, TN   \n",
       "739     Software Engineering Institute\\n2.6   Pittsburgh, PA   \n",
       "740                       Numeric, LLC\\n3.2    Allentown, PA   \n",
       "741       Riverside Research Institute\\n3.6  Beavercreek, OH   \n",
       "\n",
       "                     Headquarters          Size  Founded  ... tensor hadoop  \\\n",
       "Job ID                                                    ...                 \n",
       "737     Brentford, United Kingdom       10000+      1830  ...      0      0   \n",
       "738             San Francisco, CA  1001 - 5000      2006  ...      0      1   \n",
       "739                Pittsburgh, PA   501 - 1000      1984  ...      0      0   \n",
       "740               Chadds Ford, PA       1 - 50        -1  ...      0      0   \n",
       "741                 Arlington, VA   501 - 1000      1967  ...      0      0   \n",
       "\n",
       "       tableau bi flink  mongo  google_an    job_title_sim  \\\n",
       "Job ID                                                       \n",
       "737          0  0     0      0          0  other scientist   \n",
       "738          0  0     0      0          0    data engineer   \n",
       "739          0  0     0      0          0  other scientist   \n",
       "740          0  0     0      0          0   data scientist   \n",
       "741          0  0     0      0          0  other scientist   \n",
       "\n",
       "        seniority_by_title  Degree  \n",
       "Job ID                              \n",
       "737                     sr       M  \n",
       "738                     sr      na  \n",
       "739                     na       P  \n",
       "740                     na      na  \n",
       "741                     na       M  \n",
       "\n",
       "[5 rows x 42 columns]"
      ]
     },
     "execution_count": 8,
     "metadata": {},
     "output_type": "execute_result"
    }
   ],
   "source": [
    "data.tail()"
   ]
  },
  {
   "cell_type": "code",
   "execution_count": 1,
   "id": "f49fe25e-fb36-4f3c-a79b-034bb9074393",
   "metadata": {},
   "outputs": [],
   "source": [
    "import numpy as np\n",
    "from pandas import DataFrame, Series\n",
    "import pandas as pd"
   ]
  },
  {
   "cell_type": "code",
   "execution_count": 2,
   "id": "9ec4491e-bead-4a4e-aa5a-baa8ea64585e",
   "metadata": {},
   "outputs": [
    {
     "data": {
      "text/plain": [
       "Acme Corp              ACMC\n",
       "Anton Computers         ANT\n",
       "Maximo Construction     MCX\n",
       "dtype: object"
      ]
     },
     "execution_count": 2,
     "metadata": {},
     "output_type": "execute_result"
    }
   ],
   "source": [
    "stock_symbols = {\"Acme Corp\":\"ACMC\",\"Anton Computers\":\"ANT\", \"Maximo Construction\":\"MCX\"}\n",
    "stock_prices = {\"ACMC\":29,\"MCX\":15,\"ANT\":48}\n",
    "symbol_series = Series(stock_symbols)\n",
    "prices_series = Series(stock_prices)\n",
    "symbol_series"
   ]
  },
  {
   "cell_type": "code",
   "execution_count": 3,
   "id": "bc797777-2ea8-4d93-a25b-221a8d766e6a",
   "metadata": {},
   "outputs": [
    {
     "data": {
      "text/plain": [
       "ACMC    29\n",
       "MCX     15\n",
       "ANT     48\n",
       "dtype: int64"
      ]
     },
     "execution_count": 3,
     "metadata": {},
     "output_type": "execute_result"
    }
   ],
   "source": [
    "prices_series"
   ]
  },
  {
   "cell_type": "code",
   "execution_count": 4,
   "id": "cebfc718-8061-41d9-9749-402d4e12cae6",
   "metadata": {},
   "outputs": [
    {
     "data": {
      "text/plain": [
       "Acme Corp              29\n",
       "Anton Computers        48\n",
       "Maximo Construction    15\n",
       "dtype: int64"
      ]
     },
     "execution_count": 4,
     "metadata": {},
     "output_type": "execute_result"
    }
   ],
   "source": [
    "symbol_series.map(prices_series)"
   ]
  },
  {
   "cell_type": "code",
   "execution_count": 5,
   "id": "74738738-2de6-4348-8443-6c0d20b95444",
   "metadata": {},
   "outputs": [
    {
     "data": {
      "text/html": [
       "<div>\n",
       "<style scoped>\n",
       "    .dataframe tbody tr th:only-of-type {\n",
       "        vertical-align: middle;\n",
       "    }\n",
       "\n",
       "    .dataframe tbody tr th {\n",
       "        vertical-align: top;\n",
       "    }\n",
       "\n",
       "    .dataframe thead th {\n",
       "        text-align: right;\n",
       "    }\n",
       "</style>\n",
       "<table border=\"1\" class=\"dataframe\">\n",
       "  <thead>\n",
       "    <tr style=\"text-align: right;\">\n",
       "      <th></th>\n",
       "      <th>index</th>\n",
       "      <th>Job Title</th>\n",
       "      <th>Salary Estimate</th>\n",
       "      <th>Job Description</th>\n",
       "      <th>Rating</th>\n",
       "      <th>Company Name</th>\n",
       "      <th>Location</th>\n",
       "      <th>Headquarters</th>\n",
       "      <th>Size</th>\n",
       "      <th>Founded</th>\n",
       "      <th>...</th>\n",
       "      <th>tensor</th>\n",
       "      <th>hadoop</th>\n",
       "      <th>tableau</th>\n",
       "      <th>bi</th>\n",
       "      <th>flink</th>\n",
       "      <th>mongo</th>\n",
       "      <th>google_an</th>\n",
       "      <th>job_title_sim</th>\n",
       "      <th>seniority_by_title</th>\n",
       "      <th>Degree</th>\n",
       "    </tr>\n",
       "  </thead>\n",
       "  <tbody>\n",
       "    <tr>\n",
       "      <th>0</th>\n",
       "      <td>0</td>\n",
       "      <td>Data Scientist</td>\n",
       "      <td>$53K-$91K (Glassdoor est.)</td>\n",
       "      <td>Data Scientist\\nLocation: Albuquerque, NM\\nEdu...</td>\n",
       "      <td>3.8</td>\n",
       "      <td>Tecolote Research\\n3.8</td>\n",
       "      <td>Albuquerque, NM</td>\n",
       "      <td>Goleta, CA</td>\n",
       "      <td>501 - 1000</td>\n",
       "      <td>1973</td>\n",
       "      <td>...</td>\n",
       "      <td>0</td>\n",
       "      <td>0</td>\n",
       "      <td>1</td>\n",
       "      <td>1</td>\n",
       "      <td>0</td>\n",
       "      <td>0</td>\n",
       "      <td>0</td>\n",
       "      <td>data scientist</td>\n",
       "      <td>na</td>\n",
       "      <td>M</td>\n",
       "    </tr>\n",
       "    <tr>\n",
       "      <th>1</th>\n",
       "      <td>1</td>\n",
       "      <td>Healthcare Data Scientist</td>\n",
       "      <td>$63K-$112K (Glassdoor est.)</td>\n",
       "      <td>What You Will Do:\\n\\nI. General Summary\\n\\nThe...</td>\n",
       "      <td>3.4</td>\n",
       "      <td>University of Maryland Medical System\\n3.4</td>\n",
       "      <td>Linthicum, MD</td>\n",
       "      <td>Baltimore, MD</td>\n",
       "      <td>10000+</td>\n",
       "      <td>1984</td>\n",
       "      <td>...</td>\n",
       "      <td>0</td>\n",
       "      <td>0</td>\n",
       "      <td>0</td>\n",
       "      <td>0</td>\n",
       "      <td>0</td>\n",
       "      <td>0</td>\n",
       "      <td>0</td>\n",
       "      <td>data scientist</td>\n",
       "      <td>na</td>\n",
       "      <td>M</td>\n",
       "    </tr>\n",
       "    <tr>\n",
       "      <th>2</th>\n",
       "      <td>2</td>\n",
       "      <td>Data Scientist</td>\n",
       "      <td>$80K-$90K (Glassdoor est.)</td>\n",
       "      <td>KnowBe4, Inc. is a high growth information sec...</td>\n",
       "      <td>4.8</td>\n",
       "      <td>KnowBe4\\n4.8</td>\n",
       "      <td>Clearwater, FL</td>\n",
       "      <td>Clearwater, FL</td>\n",
       "      <td>501 - 1000</td>\n",
       "      <td>2010</td>\n",
       "      <td>...</td>\n",
       "      <td>0</td>\n",
       "      <td>0</td>\n",
       "      <td>0</td>\n",
       "      <td>0</td>\n",
       "      <td>0</td>\n",
       "      <td>0</td>\n",
       "      <td>0</td>\n",
       "      <td>data scientist</td>\n",
       "      <td>na</td>\n",
       "      <td>M</td>\n",
       "    </tr>\n",
       "    <tr>\n",
       "      <th>3</th>\n",
       "      <td>3</td>\n",
       "      <td>Data Scientist</td>\n",
       "      <td>$56K-$97K (Glassdoor est.)</td>\n",
       "      <td>*Organization and Job ID**\\nJob ID: 310709\\n\\n...</td>\n",
       "      <td>3.8</td>\n",
       "      <td>PNNL\\n3.8</td>\n",
       "      <td>Richland, WA</td>\n",
       "      <td>Richland, WA</td>\n",
       "      <td>1001 - 5000</td>\n",
       "      <td>1965</td>\n",
       "      <td>...</td>\n",
       "      <td>0</td>\n",
       "      <td>0</td>\n",
       "      <td>0</td>\n",
       "      <td>0</td>\n",
       "      <td>0</td>\n",
       "      <td>0</td>\n",
       "      <td>0</td>\n",
       "      <td>data scientist</td>\n",
       "      <td>na</td>\n",
       "      <td>na</td>\n",
       "    </tr>\n",
       "    <tr>\n",
       "      <th>4</th>\n",
       "      <td>4</td>\n",
       "      <td>Data Scientist</td>\n",
       "      <td>$86K-$143K (Glassdoor est.)</td>\n",
       "      <td>Data Scientist\\nAffinity Solutions / Marketing...</td>\n",
       "      <td>2.9</td>\n",
       "      <td>Affinity Solutions\\n2.9</td>\n",
       "      <td>New York, NY</td>\n",
       "      <td>New York, NY</td>\n",
       "      <td>51 - 200</td>\n",
       "      <td>1998</td>\n",
       "      <td>...</td>\n",
       "      <td>0</td>\n",
       "      <td>0</td>\n",
       "      <td>0</td>\n",
       "      <td>0</td>\n",
       "      <td>0</td>\n",
       "      <td>0</td>\n",
       "      <td>0</td>\n",
       "      <td>data scientist</td>\n",
       "      <td>na</td>\n",
       "      <td>na</td>\n",
       "    </tr>\n",
       "    <tr>\n",
       "      <th>...</th>\n",
       "      <td>...</td>\n",
       "      <td>...</td>\n",
       "      <td>...</td>\n",
       "      <td>...</td>\n",
       "      <td>...</td>\n",
       "      <td>...</td>\n",
       "      <td>...</td>\n",
       "      <td>...</td>\n",
       "      <td>...</td>\n",
       "      <td>...</td>\n",
       "      <td>...</td>\n",
       "      <td>...</td>\n",
       "      <td>...</td>\n",
       "      <td>...</td>\n",
       "      <td>...</td>\n",
       "      <td>...</td>\n",
       "      <td>...</td>\n",
       "      <td>...</td>\n",
       "      <td>...</td>\n",
       "      <td>...</td>\n",
       "      <td>...</td>\n",
       "    </tr>\n",
       "    <tr>\n",
       "      <th>737</th>\n",
       "      <td>950</td>\n",
       "      <td>Sr Scientist, Immuno-Oncology - Oncology</td>\n",
       "      <td>$58K-$111K (Glassdoor est.)</td>\n",
       "      <td>Site Name: USA - Massachusetts - Cambridge\\nPo...</td>\n",
       "      <td>3.9</td>\n",
       "      <td>GSK\\n3.9</td>\n",
       "      <td>Cambridge, MA</td>\n",
       "      <td>Brentford, United Kingdom</td>\n",
       "      <td>10000+</td>\n",
       "      <td>1830</td>\n",
       "      <td>...</td>\n",
       "      <td>0</td>\n",
       "      <td>0</td>\n",
       "      <td>0</td>\n",
       "      <td>0</td>\n",
       "      <td>0</td>\n",
       "      <td>0</td>\n",
       "      <td>0</td>\n",
       "      <td>other scientist</td>\n",
       "      <td>sr</td>\n",
       "      <td>M</td>\n",
       "    </tr>\n",
       "    <tr>\n",
       "      <th>738</th>\n",
       "      <td>951</td>\n",
       "      <td>Senior Data Engineer</td>\n",
       "      <td>$72K-$133K (Glassdoor est.)</td>\n",
       "      <td>THE CHALLENGE\\nEventbrite has a world-class da...</td>\n",
       "      <td>4.4</td>\n",
       "      <td>Eventbrite\\n4.4</td>\n",
       "      <td>Nashville, TN</td>\n",
       "      <td>San Francisco, CA</td>\n",
       "      <td>1001 - 5000</td>\n",
       "      <td>2006</td>\n",
       "      <td>...</td>\n",
       "      <td>0</td>\n",
       "      <td>1</td>\n",
       "      <td>0</td>\n",
       "      <td>0</td>\n",
       "      <td>0</td>\n",
       "      <td>0</td>\n",
       "      <td>0</td>\n",
       "      <td>data engineer</td>\n",
       "      <td>sr</td>\n",
       "      <td>na</td>\n",
       "    </tr>\n",
       "    <tr>\n",
       "      <th>739</th>\n",
       "      <td>952</td>\n",
       "      <td>Project Scientist - Auton Lab, Robotics Institute</td>\n",
       "      <td>$56K-$91K (Glassdoor est.)</td>\n",
       "      <td>The Auton Lab at Carnegie Mellon University is...</td>\n",
       "      <td>2.6</td>\n",
       "      <td>Software Engineering Institute\\n2.6</td>\n",
       "      <td>Pittsburgh, PA</td>\n",
       "      <td>Pittsburgh, PA</td>\n",
       "      <td>501 - 1000</td>\n",
       "      <td>1984</td>\n",
       "      <td>...</td>\n",
       "      <td>0</td>\n",
       "      <td>0</td>\n",
       "      <td>0</td>\n",
       "      <td>0</td>\n",
       "      <td>0</td>\n",
       "      <td>0</td>\n",
       "      <td>0</td>\n",
       "      <td>other scientist</td>\n",
       "      <td>na</td>\n",
       "      <td>P</td>\n",
       "    </tr>\n",
       "    <tr>\n",
       "      <th>740</th>\n",
       "      <td>953</td>\n",
       "      <td>Data Science Manager</td>\n",
       "      <td>$95K-$160K (Glassdoor est.)</td>\n",
       "      <td>Data Science ManagerResponsibilities:\\n\\nOvers...</td>\n",
       "      <td>3.2</td>\n",
       "      <td>Numeric, LLC\\n3.2</td>\n",
       "      <td>Allentown, PA</td>\n",
       "      <td>Chadds Ford, PA</td>\n",
       "      <td>1 - 50</td>\n",
       "      <td>-1</td>\n",
       "      <td>...</td>\n",
       "      <td>0</td>\n",
       "      <td>0</td>\n",
       "      <td>0</td>\n",
       "      <td>0</td>\n",
       "      <td>0</td>\n",
       "      <td>0</td>\n",
       "      <td>0</td>\n",
       "      <td>data scientist</td>\n",
       "      <td>na</td>\n",
       "      <td>na</td>\n",
       "    </tr>\n",
       "    <tr>\n",
       "      <th>741</th>\n",
       "      <td>955</td>\n",
       "      <td>Research Scientist – Security and Privacy</td>\n",
       "      <td>$61K-$126K (Glassdoor est.)</td>\n",
       "      <td>Returning Candidate? Log back in to the Career...</td>\n",
       "      <td>3.6</td>\n",
       "      <td>Riverside Research Institute\\n3.6</td>\n",
       "      <td>Beavercreek, OH</td>\n",
       "      <td>Arlington, VA</td>\n",
       "      <td>501 - 1000</td>\n",
       "      <td>1967</td>\n",
       "      <td>...</td>\n",
       "      <td>0</td>\n",
       "      <td>0</td>\n",
       "      <td>0</td>\n",
       "      <td>0</td>\n",
       "      <td>0</td>\n",
       "      <td>0</td>\n",
       "      <td>0</td>\n",
       "      <td>other scientist</td>\n",
       "      <td>na</td>\n",
       "      <td>M</td>\n",
       "    </tr>\n",
       "  </tbody>\n",
       "</table>\n",
       "<p>742 rows × 42 columns</p>\n",
       "</div>"
      ],
      "text/plain": [
       "     index                                          Job Title  \\\n",
       "0        0                                     Data Scientist   \n",
       "1        1                          Healthcare Data Scientist   \n",
       "2        2                                     Data Scientist   \n",
       "3        3                                     Data Scientist   \n",
       "4        4                                     Data Scientist   \n",
       "..     ...                                                ...   \n",
       "737    950           Sr Scientist, Immuno-Oncology - Oncology   \n",
       "738    951                               Senior Data Engineer   \n",
       "739    952  Project Scientist - Auton Lab, Robotics Institute   \n",
       "740    953                               Data Science Manager   \n",
       "741    955          Research Scientist – Security and Privacy   \n",
       "\n",
       "                 Salary Estimate  \\\n",
       "0     $53K-$91K (Glassdoor est.)   \n",
       "1    $63K-$112K (Glassdoor est.)   \n",
       "2     $80K-$90K (Glassdoor est.)   \n",
       "3     $56K-$97K (Glassdoor est.)   \n",
       "4    $86K-$143K (Glassdoor est.)   \n",
       "..                           ...   \n",
       "737  $58K-$111K (Glassdoor est.)   \n",
       "738  $72K-$133K (Glassdoor est.)   \n",
       "739   $56K-$91K (Glassdoor est.)   \n",
       "740  $95K-$160K (Glassdoor est.)   \n",
       "741  $61K-$126K (Glassdoor est.)   \n",
       "\n",
       "                                       Job Description  Rating  \\\n",
       "0    Data Scientist\\nLocation: Albuquerque, NM\\nEdu...     3.8   \n",
       "1    What You Will Do:\\n\\nI. General Summary\\n\\nThe...     3.4   \n",
       "2    KnowBe4, Inc. is a high growth information sec...     4.8   \n",
       "3    *Organization and Job ID**\\nJob ID: 310709\\n\\n...     3.8   \n",
       "4    Data Scientist\\nAffinity Solutions / Marketing...     2.9   \n",
       "..                                                 ...     ...   \n",
       "737  Site Name: USA - Massachusetts - Cambridge\\nPo...     3.9   \n",
       "738  THE CHALLENGE\\nEventbrite has a world-class da...     4.4   \n",
       "739  The Auton Lab at Carnegie Mellon University is...     2.6   \n",
       "740  Data Science ManagerResponsibilities:\\n\\nOvers...     3.2   \n",
       "741  Returning Candidate? Log back in to the Career...     3.6   \n",
       "\n",
       "                                   Company Name         Location  \\\n",
       "0                        Tecolote Research\\n3.8  Albuquerque, NM   \n",
       "1    University of Maryland Medical System\\n3.4    Linthicum, MD   \n",
       "2                                  KnowBe4\\n4.8   Clearwater, FL   \n",
       "3                                     PNNL\\n3.8     Richland, WA   \n",
       "4                       Affinity Solutions\\n2.9     New York, NY   \n",
       "..                                          ...              ...   \n",
       "737                                    GSK\\n3.9    Cambridge, MA   \n",
       "738                             Eventbrite\\n4.4    Nashville, TN   \n",
       "739         Software Engineering Institute\\n2.6   Pittsburgh, PA   \n",
       "740                           Numeric, LLC\\n3.2    Allentown, PA   \n",
       "741           Riverside Research Institute\\n3.6  Beavercreek, OH   \n",
       "\n",
       "                  Headquarters          Size  Founded  ... tensor hadoop  \\\n",
       "0                   Goleta, CA   501 - 1000      1973  ...      0      0   \n",
       "1                Baltimore, MD       10000+      1984  ...      0      0   \n",
       "2               Clearwater, FL   501 - 1000      2010  ...      0      0   \n",
       "3                 Richland, WA  1001 - 5000      1965  ...      0      0   \n",
       "4                 New York, NY     51 - 200      1998  ...      0      0   \n",
       "..                         ...           ...      ...  ...    ...    ...   \n",
       "737  Brentford, United Kingdom       10000+      1830  ...      0      0   \n",
       "738          San Francisco, CA  1001 - 5000      2006  ...      0      1   \n",
       "739             Pittsburgh, PA   501 - 1000      1984  ...      0      0   \n",
       "740            Chadds Ford, PA       1 - 50        -1  ...      0      0   \n",
       "741              Arlington, VA   501 - 1000      1967  ...      0      0   \n",
       "\n",
       "    tableau bi flink  mongo  google_an    job_title_sim  seniority_by_title  \\\n",
       "0         1  1     0      0          0   data scientist                  na   \n",
       "1         0  0     0      0          0   data scientist                  na   \n",
       "2         0  0     0      0          0   data scientist                  na   \n",
       "3         0  0     0      0          0   data scientist                  na   \n",
       "4         0  0     0      0          0   data scientist                  na   \n",
       "..      ... ..   ...    ...        ...              ...                 ...   \n",
       "737       0  0     0      0          0  other scientist                  sr   \n",
       "738       0  0     0      0          0    data engineer                  sr   \n",
       "739       0  0     0      0          0  other scientist                  na   \n",
       "740       0  0     0      0          0   data scientist                  na   \n",
       "741       0  0     0      0          0  other scientist                  na   \n",
       "\n",
       "     Degree  \n",
       "0         M  \n",
       "1         M  \n",
       "2         M  \n",
       "3        na  \n",
       "4        na  \n",
       "..      ...  \n",
       "737       M  \n",
       "738      na  \n",
       "739       P  \n",
       "740      na  \n",
       "741       M  \n",
       "\n",
       "[742 rows x 42 columns]"
      ]
     },
     "execution_count": 5,
     "metadata": {},
     "output_type": "execute_result"
    }
   ],
   "source": [
    "data = pd.read_csv('data_cleaned_2021.csv')\n",
    "data"
   ]
  },
  {
   "cell_type": "code",
   "execution_count": 6,
   "id": "1cf628fc-fac8-4d36-b6f8-42a0664bdabf",
   "metadata": {},
   "outputs": [
    {
     "data": {
      "text/html": [
       "<div>\n",
       "<style scoped>\n",
       "    .dataframe tbody tr th:only-of-type {\n",
       "        vertical-align: middle;\n",
       "    }\n",
       "\n",
       "    .dataframe tbody tr th {\n",
       "        vertical-align: top;\n",
       "    }\n",
       "\n",
       "    .dataframe thead th {\n",
       "        text-align: right;\n",
       "    }\n",
       "</style>\n",
       "<table border=\"1\" class=\"dataframe\">\n",
       "  <thead>\n",
       "    <tr style=\"text-align: right;\">\n",
       "      <th></th>\n",
       "      <th>index</th>\n",
       "      <th>Job Title</th>\n",
       "      <th>Salary Estimate</th>\n",
       "      <th>Job Description</th>\n",
       "      <th>Rating</th>\n",
       "      <th>Company Name</th>\n",
       "      <th>Location</th>\n",
       "      <th>Headquarters</th>\n",
       "      <th>Size</th>\n",
       "      <th>Founded</th>\n",
       "      <th>...</th>\n",
       "      <th>tensor</th>\n",
       "      <th>hadoop</th>\n",
       "      <th>tableau</th>\n",
       "      <th>bi</th>\n",
       "      <th>flink</th>\n",
       "      <th>mongo</th>\n",
       "      <th>google_an</th>\n",
       "      <th>job_title_sim</th>\n",
       "      <th>seniority_by_title</th>\n",
       "      <th>Degree</th>\n",
       "    </tr>\n",
       "    <tr>\n",
       "      <th>Job ID</th>\n",
       "      <th></th>\n",
       "      <th></th>\n",
       "      <th></th>\n",
       "      <th></th>\n",
       "      <th></th>\n",
       "      <th></th>\n",
       "      <th></th>\n",
       "      <th></th>\n",
       "      <th></th>\n",
       "      <th></th>\n",
       "      <th></th>\n",
       "      <th></th>\n",
       "      <th></th>\n",
       "      <th></th>\n",
       "      <th></th>\n",
       "      <th></th>\n",
       "      <th></th>\n",
       "      <th></th>\n",
       "      <th></th>\n",
       "      <th></th>\n",
       "      <th></th>\n",
       "    </tr>\n",
       "  </thead>\n",
       "  <tbody>\n",
       "    <tr>\n",
       "      <th>0</th>\n",
       "      <td>0</td>\n",
       "      <td>Data Scientist</td>\n",
       "      <td>$53K-$91K (Glassdoor est.)</td>\n",
       "      <td>Data Scientist\\nLocation: Albuquerque, NM\\nEdu...</td>\n",
       "      <td>3.8</td>\n",
       "      <td>Tecolote Research\\n3.8</td>\n",
       "      <td>Albuquerque, NM</td>\n",
       "      <td>Goleta, CA</td>\n",
       "      <td>501 - 1000</td>\n",
       "      <td>1973</td>\n",
       "      <td>...</td>\n",
       "      <td>0</td>\n",
       "      <td>0</td>\n",
       "      <td>1</td>\n",
       "      <td>1</td>\n",
       "      <td>0</td>\n",
       "      <td>0</td>\n",
       "      <td>0</td>\n",
       "      <td>data scientist</td>\n",
       "      <td>na</td>\n",
       "      <td>M</td>\n",
       "    </tr>\n",
       "    <tr>\n",
       "      <th>1</th>\n",
       "      <td>1</td>\n",
       "      <td>Healthcare Data Scientist</td>\n",
       "      <td>$63K-$112K (Glassdoor est.)</td>\n",
       "      <td>What You Will Do:\\n\\nI. General Summary\\n\\nThe...</td>\n",
       "      <td>3.4</td>\n",
       "      <td>University of Maryland Medical System\\n3.4</td>\n",
       "      <td>Linthicum, MD</td>\n",
       "      <td>Baltimore, MD</td>\n",
       "      <td>10000+</td>\n",
       "      <td>1984</td>\n",
       "      <td>...</td>\n",
       "      <td>0</td>\n",
       "      <td>0</td>\n",
       "      <td>0</td>\n",
       "      <td>0</td>\n",
       "      <td>0</td>\n",
       "      <td>0</td>\n",
       "      <td>0</td>\n",
       "      <td>data scientist</td>\n",
       "      <td>na</td>\n",
       "      <td>M</td>\n",
       "    </tr>\n",
       "    <tr>\n",
       "      <th>2</th>\n",
       "      <td>2</td>\n",
       "      <td>Data Scientist</td>\n",
       "      <td>$80K-$90K (Glassdoor est.)</td>\n",
       "      <td>KnowBe4, Inc. is a high growth information sec...</td>\n",
       "      <td>4.8</td>\n",
       "      <td>KnowBe4\\n4.8</td>\n",
       "      <td>Clearwater, FL</td>\n",
       "      <td>Clearwater, FL</td>\n",
       "      <td>501 - 1000</td>\n",
       "      <td>2010</td>\n",
       "      <td>...</td>\n",
       "      <td>0</td>\n",
       "      <td>0</td>\n",
       "      <td>0</td>\n",
       "      <td>0</td>\n",
       "      <td>0</td>\n",
       "      <td>0</td>\n",
       "      <td>0</td>\n",
       "      <td>data scientist</td>\n",
       "      <td>na</td>\n",
       "      <td>M</td>\n",
       "    </tr>\n",
       "    <tr>\n",
       "      <th>3</th>\n",
       "      <td>3</td>\n",
       "      <td>Data Scientist</td>\n",
       "      <td>$56K-$97K (Glassdoor est.)</td>\n",
       "      <td>*Organization and Job ID**\\nJob ID: 310709\\n\\n...</td>\n",
       "      <td>3.8</td>\n",
       "      <td>PNNL\\n3.8</td>\n",
       "      <td>Richland, WA</td>\n",
       "      <td>Richland, WA</td>\n",
       "      <td>1001 - 5000</td>\n",
       "      <td>1965</td>\n",
       "      <td>...</td>\n",
       "      <td>0</td>\n",
       "      <td>0</td>\n",
       "      <td>0</td>\n",
       "      <td>0</td>\n",
       "      <td>0</td>\n",
       "      <td>0</td>\n",
       "      <td>0</td>\n",
       "      <td>data scientist</td>\n",
       "      <td>na</td>\n",
       "      <td>na</td>\n",
       "    </tr>\n",
       "    <tr>\n",
       "      <th>4</th>\n",
       "      <td>4</td>\n",
       "      <td>Data Scientist</td>\n",
       "      <td>$86K-$143K (Glassdoor est.)</td>\n",
       "      <td>Data Scientist\\nAffinity Solutions / Marketing...</td>\n",
       "      <td>2.9</td>\n",
       "      <td>Affinity Solutions\\n2.9</td>\n",
       "      <td>New York, NY</td>\n",
       "      <td>New York, NY</td>\n",
       "      <td>51 - 200</td>\n",
       "      <td>1998</td>\n",
       "      <td>...</td>\n",
       "      <td>0</td>\n",
       "      <td>0</td>\n",
       "      <td>0</td>\n",
       "      <td>0</td>\n",
       "      <td>0</td>\n",
       "      <td>0</td>\n",
       "      <td>0</td>\n",
       "      <td>data scientist</td>\n",
       "      <td>na</td>\n",
       "      <td>na</td>\n",
       "    </tr>\n",
       "    <tr>\n",
       "      <th>...</th>\n",
       "      <td>...</td>\n",
       "      <td>...</td>\n",
       "      <td>...</td>\n",
       "      <td>...</td>\n",
       "      <td>...</td>\n",
       "      <td>...</td>\n",
       "      <td>...</td>\n",
       "      <td>...</td>\n",
       "      <td>...</td>\n",
       "      <td>...</td>\n",
       "      <td>...</td>\n",
       "      <td>...</td>\n",
       "      <td>...</td>\n",
       "      <td>...</td>\n",
       "      <td>...</td>\n",
       "      <td>...</td>\n",
       "      <td>...</td>\n",
       "      <td>...</td>\n",
       "      <td>...</td>\n",
       "      <td>...</td>\n",
       "      <td>...</td>\n",
       "    </tr>\n",
       "    <tr>\n",
       "      <th>737</th>\n",
       "      <td>950</td>\n",
       "      <td>Sr Scientist, Immuno-Oncology - Oncology</td>\n",
       "      <td>$58K-$111K (Glassdoor est.)</td>\n",
       "      <td>Site Name: USA - Massachusetts - Cambridge\\nPo...</td>\n",
       "      <td>3.9</td>\n",
       "      <td>GSK\\n3.9</td>\n",
       "      <td>Cambridge, MA</td>\n",
       "      <td>Brentford, United Kingdom</td>\n",
       "      <td>10000+</td>\n",
       "      <td>1830</td>\n",
       "      <td>...</td>\n",
       "      <td>0</td>\n",
       "      <td>0</td>\n",
       "      <td>0</td>\n",
       "      <td>0</td>\n",
       "      <td>0</td>\n",
       "      <td>0</td>\n",
       "      <td>0</td>\n",
       "      <td>other scientist</td>\n",
       "      <td>sr</td>\n",
       "      <td>M</td>\n",
       "    </tr>\n",
       "    <tr>\n",
       "      <th>738</th>\n",
       "      <td>951</td>\n",
       "      <td>Senior Data Engineer</td>\n",
       "      <td>$72K-$133K (Glassdoor est.)</td>\n",
       "      <td>THE CHALLENGE\\nEventbrite has a world-class da...</td>\n",
       "      <td>4.4</td>\n",
       "      <td>Eventbrite\\n4.4</td>\n",
       "      <td>Nashville, TN</td>\n",
       "      <td>San Francisco, CA</td>\n",
       "      <td>1001 - 5000</td>\n",
       "      <td>2006</td>\n",
       "      <td>...</td>\n",
       "      <td>0</td>\n",
       "      <td>1</td>\n",
       "      <td>0</td>\n",
       "      <td>0</td>\n",
       "      <td>0</td>\n",
       "      <td>0</td>\n",
       "      <td>0</td>\n",
       "      <td>data engineer</td>\n",
       "      <td>sr</td>\n",
       "      <td>na</td>\n",
       "    </tr>\n",
       "    <tr>\n",
       "      <th>739</th>\n",
       "      <td>952</td>\n",
       "      <td>Project Scientist - Auton Lab, Robotics Institute</td>\n",
       "      <td>$56K-$91K (Glassdoor est.)</td>\n",
       "      <td>The Auton Lab at Carnegie Mellon University is...</td>\n",
       "      <td>2.6</td>\n",
       "      <td>Software Engineering Institute\\n2.6</td>\n",
       "      <td>Pittsburgh, PA</td>\n",
       "      <td>Pittsburgh, PA</td>\n",
       "      <td>501 - 1000</td>\n",
       "      <td>1984</td>\n",
       "      <td>...</td>\n",
       "      <td>0</td>\n",
       "      <td>0</td>\n",
       "      <td>0</td>\n",
       "      <td>0</td>\n",
       "      <td>0</td>\n",
       "      <td>0</td>\n",
       "      <td>0</td>\n",
       "      <td>other scientist</td>\n",
       "      <td>na</td>\n",
       "      <td>P</td>\n",
       "    </tr>\n",
       "    <tr>\n",
       "      <th>740</th>\n",
       "      <td>953</td>\n",
       "      <td>Data Science Manager</td>\n",
       "      <td>$95K-$160K (Glassdoor est.)</td>\n",
       "      <td>Data Science ManagerResponsibilities:\\n\\nOvers...</td>\n",
       "      <td>3.2</td>\n",
       "      <td>Numeric, LLC\\n3.2</td>\n",
       "      <td>Allentown, PA</td>\n",
       "      <td>Chadds Ford, PA</td>\n",
       "      <td>1 - 50</td>\n",
       "      <td>-1</td>\n",
       "      <td>...</td>\n",
       "      <td>0</td>\n",
       "      <td>0</td>\n",
       "      <td>0</td>\n",
       "      <td>0</td>\n",
       "      <td>0</td>\n",
       "      <td>0</td>\n",
       "      <td>0</td>\n",
       "      <td>data scientist</td>\n",
       "      <td>na</td>\n",
       "      <td>na</td>\n",
       "    </tr>\n",
       "    <tr>\n",
       "      <th>741</th>\n",
       "      <td>955</td>\n",
       "      <td>Research Scientist – Security and Privacy</td>\n",
       "      <td>$61K-$126K (Glassdoor est.)</td>\n",
       "      <td>Returning Candidate? Log back in to the Career...</td>\n",
       "      <td>3.6</td>\n",
       "      <td>Riverside Research Institute\\n3.6</td>\n",
       "      <td>Beavercreek, OH</td>\n",
       "      <td>Arlington, VA</td>\n",
       "      <td>501 - 1000</td>\n",
       "      <td>1967</td>\n",
       "      <td>...</td>\n",
       "      <td>0</td>\n",
       "      <td>0</td>\n",
       "      <td>0</td>\n",
       "      <td>0</td>\n",
       "      <td>0</td>\n",
       "      <td>0</td>\n",
       "      <td>0</td>\n",
       "      <td>other scientist</td>\n",
       "      <td>na</td>\n",
       "      <td>M</td>\n",
       "    </tr>\n",
       "  </tbody>\n",
       "</table>\n",
       "<p>742 rows × 42 columns</p>\n",
       "</div>"
      ],
      "text/plain": [
       "        index                                          Job Title  \\\n",
       "Job ID                                                             \n",
       "0           0                                     Data Scientist   \n",
       "1           1                          Healthcare Data Scientist   \n",
       "2           2                                     Data Scientist   \n",
       "3           3                                     Data Scientist   \n",
       "4           4                                     Data Scientist   \n",
       "...       ...                                                ...   \n",
       "737       950           Sr Scientist, Immuno-Oncology - Oncology   \n",
       "738       951                               Senior Data Engineer   \n",
       "739       952  Project Scientist - Auton Lab, Robotics Institute   \n",
       "740       953                               Data Science Manager   \n",
       "741       955          Research Scientist – Security and Privacy   \n",
       "\n",
       "                    Salary Estimate  \\\n",
       "Job ID                                \n",
       "0        $53K-$91K (Glassdoor est.)   \n",
       "1       $63K-$112K (Glassdoor est.)   \n",
       "2        $80K-$90K (Glassdoor est.)   \n",
       "3        $56K-$97K (Glassdoor est.)   \n",
       "4       $86K-$143K (Glassdoor est.)   \n",
       "...                             ...   \n",
       "737     $58K-$111K (Glassdoor est.)   \n",
       "738     $72K-$133K (Glassdoor est.)   \n",
       "739      $56K-$91K (Glassdoor est.)   \n",
       "740     $95K-$160K (Glassdoor est.)   \n",
       "741     $61K-$126K (Glassdoor est.)   \n",
       "\n",
       "                                          Job Description  Rating  \\\n",
       "Job ID                                                              \n",
       "0       Data Scientist\\nLocation: Albuquerque, NM\\nEdu...     3.8   \n",
       "1       What You Will Do:\\n\\nI. General Summary\\n\\nThe...     3.4   \n",
       "2       KnowBe4, Inc. is a high growth information sec...     4.8   \n",
       "3       *Organization and Job ID**\\nJob ID: 310709\\n\\n...     3.8   \n",
       "4       Data Scientist\\nAffinity Solutions / Marketing...     2.9   \n",
       "...                                                   ...     ...   \n",
       "737     Site Name: USA - Massachusetts - Cambridge\\nPo...     3.9   \n",
       "738     THE CHALLENGE\\nEventbrite has a world-class da...     4.4   \n",
       "739     The Auton Lab at Carnegie Mellon University is...     2.6   \n",
       "740     Data Science ManagerResponsibilities:\\n\\nOvers...     3.2   \n",
       "741     Returning Candidate? Log back in to the Career...     3.6   \n",
       "\n",
       "                                      Company Name         Location  \\\n",
       "Job ID                                                                \n",
       "0                           Tecolote Research\\n3.8  Albuquerque, NM   \n",
       "1       University of Maryland Medical System\\n3.4    Linthicum, MD   \n",
       "2                                     KnowBe4\\n4.8   Clearwater, FL   \n",
       "3                                        PNNL\\n3.8     Richland, WA   \n",
       "4                          Affinity Solutions\\n2.9     New York, NY   \n",
       "...                                            ...              ...   \n",
       "737                                       GSK\\n3.9    Cambridge, MA   \n",
       "738                                Eventbrite\\n4.4    Nashville, TN   \n",
       "739            Software Engineering Institute\\n2.6   Pittsburgh, PA   \n",
       "740                              Numeric, LLC\\n3.2    Allentown, PA   \n",
       "741              Riverside Research Institute\\n3.6  Beavercreek, OH   \n",
       "\n",
       "                     Headquarters          Size  Founded  ... tensor hadoop  \\\n",
       "Job ID                                                    ...                 \n",
       "0                      Goleta, CA   501 - 1000      1973  ...      0      0   \n",
       "1                   Baltimore, MD       10000+      1984  ...      0      0   \n",
       "2                  Clearwater, FL   501 - 1000      2010  ...      0      0   \n",
       "3                    Richland, WA  1001 - 5000      1965  ...      0      0   \n",
       "4                    New York, NY     51 - 200      1998  ...      0      0   \n",
       "...                           ...           ...      ...  ...    ...    ...   \n",
       "737     Brentford, United Kingdom       10000+      1830  ...      0      0   \n",
       "738             San Francisco, CA  1001 - 5000      2006  ...      0      1   \n",
       "739                Pittsburgh, PA   501 - 1000      1984  ...      0      0   \n",
       "740               Chadds Ford, PA       1 - 50        -1  ...      0      0   \n",
       "741                 Arlington, VA   501 - 1000      1967  ...      0      0   \n",
       "\n",
       "       tableau bi flink  mongo  google_an    job_title_sim  \\\n",
       "Job ID                                                       \n",
       "0            1  1     0      0          0   data scientist   \n",
       "1            0  0     0      0          0   data scientist   \n",
       "2            0  0     0      0          0   data scientist   \n",
       "3            0  0     0      0          0   data scientist   \n",
       "4            0  0     0      0          0   data scientist   \n",
       "...        ... ..   ...    ...        ...              ...   \n",
       "737          0  0     0      0          0  other scientist   \n",
       "738          0  0     0      0          0    data engineer   \n",
       "739          0  0     0      0          0  other scientist   \n",
       "740          0  0     0      0          0   data scientist   \n",
       "741          0  0     0      0          0  other scientist   \n",
       "\n",
       "        seniority_by_title  Degree  \n",
       "Job ID                              \n",
       "0                       na       M  \n",
       "1                       na       M  \n",
       "2                       na       M  \n",
       "3                       na      na  \n",
       "4                       na      na  \n",
       "...                    ...     ...  \n",
       "737                     sr       M  \n",
       "738                     sr      na  \n",
       "739                     na       P  \n",
       "740                     na      na  \n",
       "741                     na       M  \n",
       "\n",
       "[742 rows x 42 columns]"
      ]
     },
     "execution_count": 6,
     "metadata": {},
     "output_type": "execute_result"
    }
   ],
   "source": [
    "data.index.name=\"Job ID\"\n",
    "data"
   ]
  },
  {
   "cell_type": "code",
   "execution_count": 7,
   "id": "49507c81-3548-4d9a-bcae-52abd7fe3344",
   "metadata": {},
   "outputs": [
    {
     "data": {
      "text/plain": [
       "RangeIndex(start=0, stop=742, step=1, name='Job ID')"
      ]
     },
     "execution_count": 7,
     "metadata": {},
     "output_type": "execute_result"
    }
   ],
   "source": [
    "data.index"
   ]
  },
  {
   "cell_type": "code",
   "execution_count": 8,
   "id": "6f1f349a-28a6-4df6-a89a-1ecb52a40b02",
   "metadata": {},
   "outputs": [
    {
     "data": {
      "text/plain": [
       "array([[0, 'Data Scientist', '$53K-$91K (Glassdoor est.)', ...,\n",
       "        'data scientist', 'na', 'M'],\n",
       "       [1, 'Healthcare Data Scientist', '$63K-$112K (Glassdoor est.)',\n",
       "        ..., 'data scientist', 'na', 'M'],\n",
       "       [2, 'Data Scientist', '$80K-$90K (Glassdoor est.)', ...,\n",
       "        'data scientist', 'na', 'M'],\n",
       "       ...,\n",
       "       [952, 'Project Scientist - Auton Lab, Robotics Institute',\n",
       "        '$56K-$91K (Glassdoor est.)', ..., 'other scientist', 'na', 'P'],\n",
       "       [953, 'Data Science Manager', '$95K-$160K (Glassdoor est.)', ...,\n",
       "        'data scientist', 'na', 'na'],\n",
       "       [955, 'Research Scientist – Security and Privacy',\n",
       "        '$61K-$126K (Glassdoor est.)', ..., 'other scientist', 'na', 'M']],\n",
       "      dtype=object)"
      ]
     },
     "execution_count": 8,
     "metadata": {},
     "output_type": "execute_result"
    }
   ],
   "source": [
    "data.values"
   ]
  },
  {
   "cell_type": "code",
   "execution_count": 9,
   "id": "d2b338a8-0a76-4b03-9363-743bbfcbb70b",
   "metadata": {},
   "outputs": [
    {
     "data": {
      "text/plain": [
       "(742, 42)"
      ]
     },
     "execution_count": 9,
     "metadata": {},
     "output_type": "execute_result"
    }
   ],
   "source": [
    "data.shape"
   ]
  },
  {
   "cell_type": "code",
   "execution_count": null,
   "id": "bf1cbadd-8cae-496b-9e58-c855492257c0",
   "metadata": {},
   "outputs": [],
   "source": []
  }
 ],
 "metadata": {
  "kernelspec": {
   "display_name": "Python 3 (ipykernel)",
   "language": "python",
   "name": "python3"
  },
  "language_info": {
   "codemirror_mode": {
    "name": "ipython",
    "version": 3
   },
   "file_extension": ".py",
   "mimetype": "text/x-python",
   "name": "python",
   "nbconvert_exporter": "python",
   "pygments_lexer": "ipython3",
   "version": "3.10.9"
  }
 },
 "nbformat": 4,
 "nbformat_minor": 5
}
